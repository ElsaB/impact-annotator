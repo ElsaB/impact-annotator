{
 "cells": [
  {
   "cell_type": "markdown",
   "metadata": {},
   "source": [
    "# Annotating the data\n",
    "\n",
    "Created: **19/07/18**  \n",
    "Last modified: **02/08/18**\n",
    "\n",
    "**Goal:** enrich the cleaned data `cleaned_IMPACT_mutations_180508.txt` by adding some features:\n",
    "* `Kaviar_AF`\n",
    "* `cosmic_count`\n",
    "* `is_a_hotspot`\n",
    "* `is_a_3d_hotspot`\n",
    "* `oncogenic`\n",
    "* `gene_type`\n",
    "\n",
    "This notebook is divided in four parts:\n",
    "* **1. `Kaviar_AF` and `cosmic_count`**: get the `KAVIAR_AF` and `cosmic_count` features, basic study of the features\n",
    "* **2. OncoKB annotations**: get the `is_a_hotspot`, `is_a_3d_hotspot` and `oncogenic` features\n",
    "* **3. CancerGenesList**: get the `gene_type` feature\n",
    "* **4. Resume of the operations needed to get the additional features**\n",
    "\n",
    "The process to add some features from `another_dataframe` will always be the same and each section will be divided in the following subsections:\n",
    "1. Get the raw dataframe `another_dataframe`\n",
    "2. Create keys to join the dataframe `impact` and `another_dataframe`. Two verifications to do:\n",
    "    1. every key in `another_dataframe` has unique values for the features we want to add (we are going to do a left join)\n",
    "    2. every key in `impact` has an analoguous key in `another_dataframe` (otherwise some `NA` values will appear and need to be handled)\n",
    "3. Process the new features (parse, change format, shape...)\n",
    "\n",
    "**Refs:**\n",
    "* [annation.ipynb [Dominik]](\n",
    "https://github.com/ElsaB/impact-annotator/blob/master/analysis/description/180515_dominik/annotation.ipynb)\n",
    "* [parseCosmic.R [Dominik]](\n",
    "https://github.com/ElsaB/impact-annotator/blob/master/analysis/description/180515_dominik/parseCosmic.R)"
   ]
  },
  {
   "cell_type": "markdown",
   "metadata": {
    "toc": true
   },
   "source": [
    "<h1>Table of Contents<span class=\"tocSkip\"></span></h1>\n",
    "<div class=\"toc\"><ul class=\"toc-item\"><li><span><a href=\"#Kaviar_AF-and-cosmic_count\" data-toc-modified-id=\"Kaviar_AF-and-cosmic_count-1\"><span class=\"toc-item-num\">1&nbsp;&nbsp;</span><code>Kaviar_AF</code> and <code>cosmic_count</code></a></span><ul class=\"toc-item\"><li><span><a href=\"#Get-the-raw-data\" data-toc-modified-id=\"Get-the-raw-data-1.1\"><span class=\"toc-item-num\">1.1&nbsp;&nbsp;</span>Get the raw data</a></span></li><li><span><a href=\"#Create-keys-to-join-the-two-dataframes-and-extract-the-features\" data-toc-modified-id=\"Create-keys-to-join-the-two-dataframes-and-extract-the-features-1.2\"><span class=\"toc-item-num\">1.2&nbsp;&nbsp;</span>Create keys to join the two dataframes and extract the features</a></span></li><li><span><a href=\"#Kaviar_AF\" data-toc-modified-id=\"Kaviar_AF-1.3\"><span class=\"toc-item-num\">1.3&nbsp;&nbsp;</span><code>Kaviar_AF</code></a></span></li><li><span><a href=\"#cosmic70\" data-toc-modified-id=\"cosmic70-1.4\"><span class=\"toc-item-num\">1.4&nbsp;&nbsp;</span><code>cosmic70</code></a></span></li></ul></li><li><span><a href=\"#OncoKB-annotations\" data-toc-modified-id=\"OncoKB-annotations-2\"><span class=\"toc-item-num\">2&nbsp;&nbsp;</span>OncoKB annotations</a></span><ul class=\"toc-item\"><li><span><a href=\"#Get-the-raw-data\" data-toc-modified-id=\"Get-the-raw-data-2.1\"><span class=\"toc-item-num\">2.1&nbsp;&nbsp;</span>Get the raw data</a></span></li><li><span><a href=\"#Create-keys-to-join-the-two-dataframes-and-extract-the-features\" data-toc-modified-id=\"Create-keys-to-join-the-two-dataframes-and-extract-the-features-2.2\"><span class=\"toc-item-num\">2.2&nbsp;&nbsp;</span>Create keys to join the two dataframes and extract the features</a></span></li><li><span><a href=\"#is_a_hotspot\" data-toc-modified-id=\"is_a_hotspot-2.3\"><span class=\"toc-item-num\">2.3&nbsp;&nbsp;</span><code>is_a_hotspot</code></a></span></li><li><span><a href=\"#is_a_3d_hotspot\" data-toc-modified-id=\"is_a_3d_hotspot-2.4\"><span class=\"toc-item-num\">2.4&nbsp;&nbsp;</span><code>is_a_3d_hotspot</code></a></span></li><li><span><a href=\"#oncogenic\" data-toc-modified-id=\"oncogenic-2.5\"><span class=\"toc-item-num\">2.5&nbsp;&nbsp;</span><code>oncogenic</code></a></span></li></ul></li><li><span><a href=\"#CancerGenesList\" data-toc-modified-id=\"CancerGenesList-3\"><span class=\"toc-item-num\">3&nbsp;&nbsp;</span>CancerGenesList</a></span><ul class=\"toc-item\"><li><span><a href=\"#Get-the-raw-data\" data-toc-modified-id=\"Get-the-raw-data-3.1\"><span class=\"toc-item-num\">3.1&nbsp;&nbsp;</span>Get the raw data</a></span></li><li><span><a href=\"#Create-keys-to-join-the-two-dataframes-and-extract-the-features\" data-toc-modified-id=\"Create-keys-to-join-the-two-dataframes-and-extract-the-features-3.2\"><span class=\"toc-item-num\">3.2&nbsp;&nbsp;</span>Create keys to join the two dataframes and extract the features</a></span></li><li><span><a href=\"#gene_type\" data-toc-modified-id=\"gene_type-3.3\"><span class=\"toc-item-num\">3.3&nbsp;&nbsp;</span><code>gene_type</code></a></span></li></ul></li><li><span><a href=\"#Resume-of-the-operations-needed-to-get-the-additional-features\" data-toc-modified-id=\"Resume-of-the-operations-needed-to-get-the-additional-features-4\"><span class=\"toc-item-num\">4&nbsp;&nbsp;</span>Resume of the operations needed to get the additional features</a></span></li></ul></div>"
   ]
  },
  {
   "cell_type": "markdown",
   "metadata": {},
   "source": [
    "***"
   ]
  },
  {
   "cell_type": "code",
   "execution_count": 36,
   "metadata": {},
   "outputs": [],
   "source": [
    "source(\"../../../src/utils/custom_tools.R\")\n",
    "setup_environment(\"../../../src/utils\")"
   ]
  },
  {
   "cell_type": "code",
   "execution_count": 37,
   "metadata": {},
   "outputs": [],
   "source": [
    "impact <- read.table(\"../../../data/cleaned_IMPACT_mutations_180508.txt\", sep = \"\\t\", stringsAsFactors = FALSE, header = TRUE)"
   ]
  },
  {
   "cell_type": "markdown",
   "metadata": {},
   "source": [
    "## `Kaviar_AF` and `cosmic_count`"
   ]
  },
  {
   "cell_type": "markdown",
   "metadata": {},
   "source": [
    "Get the `Kaviar_AF` and `cosmic_count` features from `all_IMPACT_mutations_180508.simple.hg19_multianno.txt` (impact annotated by Dominik)."
   ]
  },
  {
   "cell_type": "markdown",
   "metadata": {},
   "source": [
    "### Get the raw data"
   ]
  },
  {
   "cell_type": "code",
   "execution_count": 38,
   "metadata": {},
   "outputs": [],
   "source": [
    "impact_annotated <- read.table(\"../../../data/dominik/all_IMPACT_mutations_180508.simple.hg19_multianno.txt\",\n",
    "                               sep = \"\\t\", stringsAsFactors = FALSE, header = TRUE)"
   ]
  },
  {
   "cell_type": "code",
   "execution_count": 39,
   "metadata": {},
   "outputs": [
    {
     "data": {
      "text/html": [
       "44"
      ],
      "text/latex": [
       "44"
      ],
      "text/markdown": [
       "44"
      ],
      "text/plain": [
       "[1] 44"
      ]
     },
     "metadata": {},
     "output_type": "display_data"
    },
    {
     "data": {
      "text/html": [
       "588547"
      ],
      "text/latex": [
       "588547"
      ],
      "text/markdown": [
       "588547"
      ],
      "text/plain": [
       "[1] 588547"
      ]
     },
     "metadata": {},
     "output_type": "display_data"
    },
    {
     "data": {
      "text/html": [
       "<table>\n",
       "<thead><tr><th scope=col>Chr</th><th scope=col>Start</th><th scope=col>End</th><th scope=col>Ref</th><th scope=col>Alt</th><th scope=col>SIFT_score</th><th scope=col>SIFT_pred</th><th scope=col>Polyphen2_HDIV_score</th><th scope=col>Polyphen2_HDIV_pred</th><th scope=col>Polyphen2_HVAR_score</th><th scope=col>⋯</th><th scope=col>phyloP7way_vertebrate</th><th scope=col>phyloP20way_mammalian</th><th scope=col>phastCons7way_vertebrate</th><th scope=col>phastCons20way_mammalian</th><th scope=col>SiPhy_29way_logOdds</th><th scope=col>X1000g2015aug_all</th><th scope=col>Kaviar_AF</th><th scope=col>Kaviar_AC</th><th scope=col>Kaviar_AN</th><th scope=col>cosmic70</th></tr></thead>\n",
       "<tbody>\n",
       "\t<tr><td>1                                          </td><td> 16265908                                  </td><td> 16265908                                  </td><td>A                                          </td><td>T                                          </td><td>0.0                                        </td><td>D                                          </td><td>0.999                                      </td><td>D                                          </td><td>0.982                                      </td><td>⋯                                          </td><td>1.062                                      </td><td>1.199                                      </td><td>1.000                                      </td><td>1.000                                      </td><td>12.000                                     </td><td>.                                          </td><td>.                                          </td><td>.                                          </td><td>.                                          </td><td>.                                          </td></tr>\n",
       "\t<tr><td>2                                          </td><td> 29543736                                  </td><td> 29543736                                  </td><td>A                                          </td><td>G                                          </td><td>0.539                                      </td><td>T                                          </td><td>0.0                                        </td><td>B                                          </td><td>0.0                                        </td><td>⋯                                          </td><td>-0.056                                     </td><td>0.117                                      </td><td>0.186                                      </td><td>0.336                                      </td><td>6.380                                      </td><td>0.0159744                                  </td><td>0.0300125                                  </td><td>4640                                       </td><td>154602                                     </td><td>ID=COSM3758202;OCCURENCE=1(large_intestine)</td></tr>\n",
       "\t<tr><td>2                                          </td><td>242793433                                  </td><td>242793433                                  </td><td>G                                          </td><td>A                                          </td><td>0.019                                      </td><td>D                                          </td><td>0.816                                      </td><td>P                                          </td><td>0.261                                      </td><td>⋯                                          </td><td>0.868                                      </td><td>0.782                                      </td><td>0.013                                      </td><td>0.002                                      </td><td>7.501                                      </td><td>0.136781                                   </td><td>0.0760792                                  </td><td>11762                                      </td><td>154602                                     </td><td>.                                          </td></tr>\n",
       "\t<tr><td>5                                          </td><td> 56177843                                  </td><td> 56177843                                  </td><td>C                                          </td><td>G                                          </td><td>0.002                                      </td><td>D                                          </td><td>0.102                                      </td><td>B                                          </td><td>0.078                                      </td><td>⋯                                          </td><td>0.871                                      </td><td>0.935                                      </td><td>0.982                                      </td><td>0.984                                      </td><td>13.098                                     </td><td>0.00738818                                 </td><td>0.0141072                                  </td><td>2181                                       </td><td>154602                                     </td><td>.                                          </td></tr>\n",
       "\t<tr><td>5                                          </td><td>180030313                                  </td><td>180030313                                  </td><td>C                                          </td><td>A                                          </td><td>0.65                                       </td><td>T                                          </td><td>0.0                                        </td><td>B                                          </td><td>0.001                                      </td><td>⋯                                          </td><td>0.021                                      </td><td>-1.521                                     </td><td>0.004                                      </td><td>0.001                                      </td><td>2.012                                      </td><td>.                                          </td><td>0.0789964                                  </td><td>12213                                      </td><td>154602                                     </td><td>.                                          </td></tr>\n",
       "\t<tr><td>5                                          </td><td>180051003                                  </td><td>180051003                                  </td><td>T                                          </td><td>C                                          </td><td>0.225                                      </td><td>T                                          </td><td>0.029                                      </td><td>B                                          </td><td>0.015                                      </td><td>⋯                                          </td><td>0.079                                      </td><td>0.888                                      </td><td>0.897                                      </td><td>0.281                                      </td><td>5.808                                      </td><td>0.0529153                                  </td><td>0.0911566                                  </td><td>14093                                      </td><td>154602                                     </td><td>.                                          </td></tr>\n",
       "</tbody>\n",
       "</table>\n"
      ],
      "text/latex": [
       "\\begin{tabular}{r|llllllllllllllllllllllllllllllllllllllllllll}\n",
       " Chr & Start & End & Ref & Alt & SIFT\\_score & SIFT\\_pred & Polyphen2\\_HDIV\\_score & Polyphen2\\_HDIV\\_pred & Polyphen2\\_HVAR\\_score & ⋯ & phyloP7way\\_vertebrate & phyloP20way\\_mammalian & phastCons7way\\_vertebrate & phastCons20way\\_mammalian & SiPhy\\_29way\\_logOdds & X1000g2015aug\\_all & Kaviar\\_AF & Kaviar\\_AC & Kaviar\\_AN & cosmic70\\\\\n",
       "\\hline\n",
       "\t 1                                           &  16265908                                   &  16265908                                   & A                                           & T                                           & 0.0                                         & D                                           & 0.999                                       & D                                           & 0.982                                       & ⋯                                           & 1.062                                       & 1.199                                       & 1.000                                       & 1.000                                       & 12.000                                      & .                                           & .                                           & .                                           & .                                           & .                                          \\\\\n",
       "\t 2                                             &  29543736                                     &  29543736                                     & A                                             & G                                             & 0.539                                         & T                                             & 0.0                                           & B                                             & 0.0                                           & ⋯                                             & -0.056                                        & 0.117                                         & 0.186                                         & 0.336                                         & 6.380                                         & 0.0159744                                     & 0.0300125                                     & 4640                                          & 154602                                        & ID=COSM3758202;OCCURENCE=1(large\\_intestine)\\\\\n",
       "\t 2                                           & 242793433                                   & 242793433                                   & G                                           & A                                           & 0.019                                       & D                                           & 0.816                                       & P                                           & 0.261                                       & ⋯                                           & 0.868                                       & 0.782                                       & 0.013                                       & 0.002                                       & 7.501                                       & 0.136781                                    & 0.0760792                                   & 11762                                       & 154602                                      & .                                          \\\\\n",
       "\t 5                                           &  56177843                                   &  56177843                                   & C                                           & G                                           & 0.002                                       & D                                           & 0.102                                       & B                                           & 0.078                                       & ⋯                                           & 0.871                                       & 0.935                                       & 0.982                                       & 0.984                                       & 13.098                                      & 0.00738818                                  & 0.0141072                                   & 2181                                        & 154602                                      & .                                          \\\\\n",
       "\t 5                                           & 180030313                                   & 180030313                                   & C                                           & A                                           & 0.65                                        & T                                           & 0.0                                         & B                                           & 0.001                                       & ⋯                                           & 0.021                                       & -1.521                                      & 0.004                                       & 0.001                                       & 2.012                                       & .                                           & 0.0789964                                   & 12213                                       & 154602                                      & .                                          \\\\\n",
       "\t 5                                           & 180051003                                   & 180051003                                   & T                                           & C                                           & 0.225                                       & T                                           & 0.029                                       & B                                           & 0.015                                       & ⋯                                           & 0.079                                       & 0.888                                       & 0.897                                       & 0.281                                       & 5.808                                       & 0.0529153                                   & 0.0911566                                   & 14093                                       & 154602                                      & .                                          \\\\\n",
       "\\end{tabular}\n"
      ],
      "text/markdown": [
       "\n",
       "Chr | Start | End | Ref | Alt | SIFT_score | SIFT_pred | Polyphen2_HDIV_score | Polyphen2_HDIV_pred | Polyphen2_HVAR_score | ⋯ | phyloP7way_vertebrate | phyloP20way_mammalian | phastCons7way_vertebrate | phastCons20way_mammalian | SiPhy_29way_logOdds | X1000g2015aug_all | Kaviar_AF | Kaviar_AC | Kaviar_AN | cosmic70 | \n",
       "|---|---|---|---|---|---|\n",
       "| 1                                           |  16265908                                   |  16265908                                   | A                                           | T                                           | 0.0                                         | D                                           | 0.999                                       | D                                           | 0.982                                       | ⋯                                           | 1.062                                       | 1.199                                       | 1.000                                       | 1.000                                       | 12.000                                      | .                                           | .                                           | .                                           | .                                           | .                                           | \n",
       "| 2                                           |  29543736                                   |  29543736                                   | A                                           | G                                           | 0.539                                       | T                                           | 0.0                                         | B                                           | 0.0                                         | ⋯                                           | -0.056                                      | 0.117                                       | 0.186                                       | 0.336                                       | 6.380                                       | 0.0159744                                   | 0.0300125                                   | 4640                                        | 154602                                      | ID=COSM3758202;OCCURENCE=1(large_intestine) | \n",
       "| 2                                           | 242793433                                   | 242793433                                   | G                                           | A                                           | 0.019                                       | D                                           | 0.816                                       | P                                           | 0.261                                       | ⋯                                           | 0.868                                       | 0.782                                       | 0.013                                       | 0.002                                       | 7.501                                       | 0.136781                                    | 0.0760792                                   | 11762                                       | 154602                                      | .                                           | \n",
       "| 5                                           |  56177843                                   |  56177843                                   | C                                           | G                                           | 0.002                                       | D                                           | 0.102                                       | B                                           | 0.078                                       | ⋯                                           | 0.871                                       | 0.935                                       | 0.982                                       | 0.984                                       | 13.098                                      | 0.00738818                                  | 0.0141072                                   | 2181                                        | 154602                                      | .                                           | \n",
       "| 5                                           | 180030313                                   | 180030313                                   | C                                           | A                                           | 0.65                                        | T                                           | 0.0                                         | B                                           | 0.001                                       | ⋯                                           | 0.021                                       | -1.521                                      | 0.004                                       | 0.001                                       | 2.012                                       | .                                           | 0.0789964                                   | 12213                                       | 154602                                      | .                                           | \n",
       "| 5                                           | 180051003                                   | 180051003                                   | T                                           | C                                           | 0.225                                       | T                                           | 0.029                                       | B                                           | 0.015                                       | ⋯                                           | 0.079                                       | 0.888                                       | 0.897                                       | 0.281                                       | 5.808                                       | 0.0529153                                   | 0.0911566                                   | 14093                                       | 154602                                      | .                                           | \n",
       "\n",
       "\n"
      ],
      "text/plain": [
       "  Chr Start     End       Ref Alt SIFT_score SIFT_pred Polyphen2_HDIV_score\n",
       "1 1    16265908  16265908 A   T   0.0        D         0.999               \n",
       "2 2    29543736  29543736 A   G   0.539      T         0.0                 \n",
       "3 2   242793433 242793433 G   A   0.019      D         0.816               \n",
       "4 5    56177843  56177843 C   G   0.002      D         0.102               \n",
       "5 5   180030313 180030313 C   A   0.65       T         0.0                 \n",
       "6 5   180051003 180051003 T   C   0.225      T         0.029               \n",
       "  Polyphen2_HDIV_pred Polyphen2_HVAR_score ⋯ phyloP7way_vertebrate\n",
       "1 D                   0.982                ⋯ 1.062                \n",
       "2 B                   0.0                  ⋯ -0.056               \n",
       "3 P                   0.261                ⋯ 0.868                \n",
       "4 B                   0.078                ⋯ 0.871                \n",
       "5 B                   0.001                ⋯ 0.021                \n",
       "6 B                   0.015                ⋯ 0.079                \n",
       "  phyloP20way_mammalian phastCons7way_vertebrate phastCons20way_mammalian\n",
       "1 1.199                 1.000                    1.000                   \n",
       "2 0.117                 0.186                    0.336                   \n",
       "3 0.782                 0.013                    0.002                   \n",
       "4 0.935                 0.982                    0.984                   \n",
       "5 -1.521                0.004                    0.001                   \n",
       "6 0.888                 0.897                    0.281                   \n",
       "  SiPhy_29way_logOdds X1000g2015aug_all Kaviar_AF Kaviar_AC Kaviar_AN\n",
       "1 12.000              .                 .         .         .        \n",
       "2 6.380               0.0159744         0.0300125 4640      154602   \n",
       "3 7.501               0.136781          0.0760792 11762     154602   \n",
       "4 13.098              0.00738818        0.0141072 2181      154602   \n",
       "5 2.012               .                 0.0789964 12213     154602   \n",
       "6 5.808               0.0529153         0.0911566 14093     154602   \n",
       "  cosmic70                                   \n",
       "1 .                                          \n",
       "2 ID=COSM3758202;OCCURENCE=1(large_intestine)\n",
       "3 .                                          \n",
       "4 .                                          \n",
       "5 .                                          \n",
       "6 .                                          "
      ]
     },
     "metadata": {},
     "output_type": "display_data"
    }
   ],
   "source": [
    "ncol(impact_annotated)\n",
    "nrow(impact_annotated)\n",
    "head(impact_annotated)"
   ]
  },
  {
   "cell_type": "markdown",
   "metadata": {},
   "source": [
    "### Create keys to join the two dataframes and extract the features"
   ]
  },
  {
   "cell_type": "markdown",
   "metadata": {},
   "source": [
    "We are going to identify each mutation with a key in both dataframes, allowing us to link each mutation from `impact` to its corresponding mutation in `impact_annotated`. The keys will be: \n",
    "* `mut_key` for `impact`\n",
    "* `Chr`\\_`Start`\\_`Red`_`Alt` for `impact_annotated`"
   ]
  },
  {
   "cell_type": "code",
   "execution_count": 40,
   "metadata": {},
   "outputs": [],
   "source": [
    "# create the impact_annotated join_key\n",
    "impact_annotated$join_key <- paste(impact_annotated$Chr,\n",
    "                                   impact_annotated$Start,\n",
    "                                   impact_annotated$Ref,\n",
    "                                   impact_annotated$Alt,\n",
    "                                   sep = '_')"
   ]
  },
  {
   "cell_type": "markdown",
   "metadata": {},
   "source": [
    "**Verification 1** The features `Kaviar_AF` and `cosmic70` are unique for each `join_key`:"
   ]
  },
  {
   "cell_type": "code",
   "execution_count": 41,
   "metadata": {},
   "outputs": [
    {
     "data": {
      "text/html": [
       "0"
      ],
      "text/latex": [
       "0"
      ],
      "text/markdown": [
       "0"
      ],
      "text/plain": [
       "[1] 0"
      ]
     },
     "metadata": {},
     "output_type": "display_data"
    },
    {
     "data": {
      "text/html": [
       "<table>\n",
       "<thead><tr><th scope=col>join_key</th><th scope=col>Kaviar_AF</th><th scope=col>cosmic70</th></tr></thead>\n",
       "<tbody>\n",
       "\t<tr><td>1_16265908_A_T                             </td><td>.                                          </td><td>.                                          </td></tr>\n",
       "\t<tr><td>2_29543736_A_G                             </td><td>0.0300125                                  </td><td>ID=COSM3758202;OCCURENCE=1(large_intestine)</td></tr>\n",
       "\t<tr><td>2_242793433_G_A                            </td><td>0.0760792                                  </td><td>.                                          </td></tr>\n",
       "\t<tr><td>5_56177843_C_G                             </td><td>0.0141072                                  </td><td>.                                          </td></tr>\n",
       "</tbody>\n",
       "</table>\n"
      ],
      "text/latex": [
       "\\begin{tabular}{r|lll}\n",
       " join\\_key & Kaviar\\_AF & cosmic70\\\\\n",
       "\\hline\n",
       "\t 1\\_16265908\\_A\\_T                        & .                                           & .                                          \\\\\n",
       "\t 2\\_29543736\\_A\\_G                          & 0.0300125                                     & ID=COSM3758202;OCCURENCE=1(large\\_intestine)\\\\\n",
       "\t 2\\_242793433\\_G\\_A                       & 0.0760792                                   & .                                          \\\\\n",
       "\t 5\\_56177843\\_C\\_G                        & 0.0141072                                   & .                                          \\\\\n",
       "\\end{tabular}\n"
      ],
      "text/markdown": [
       "\n",
       "join_key | Kaviar_AF | cosmic70 | \n",
       "|---|---|---|---|\n",
       "| 1_16265908_A_T                              | .                                           | .                                           | \n",
       "| 2_29543736_A_G                              | 0.0300125                                   | ID=COSM3758202;OCCURENCE=1(large_intestine) | \n",
       "| 2_242793433_G_A                             | 0.0760792                                   | .                                           | \n",
       "| 5_56177843_C_G                              | 0.0141072                                   | .                                           | \n",
       "\n",
       "\n"
      ],
      "text/plain": [
       "  join_key        Kaviar_AF cosmic70                                   \n",
       "1 1_16265908_A_T  .         .                                          \n",
       "2 2_29543736_A_G  0.0300125 ID=COSM3758202;OCCURENCE=1(large_intestine)\n",
       "3 2_242793433_G_A 0.0760792 .                                          \n",
       "4 5_56177843_C_G  0.0141072 .                                          "
      ]
     },
     "metadata": {},
     "output_type": "display_data"
    }
   ],
   "source": [
    "nrow(impact_annotated %>% group_by(join_key) %>% filter(length(unique(Kaviar_AF)) > 1 |\n",
    "                                                        length(unique(cosmic70)) > 1))\n",
    "impact_annotated <- unique(impact_annotated[, c(\"join_key\", \"Kaviar_AF\", \"cosmic70\")])\n",
    "head(impact_annotated, 4)"
   ]
  },
  {
   "cell_type": "markdown",
   "metadata": {},
   "source": [
    "**Verification 2** Every impact `mut_key` has an analoguous `join_key` in `impact_annotated`:"
   ]
  },
  {
   "cell_type": "code",
   "execution_count": 42,
   "metadata": {
    "scrolled": true
   },
   "outputs": [
    {
     "data": {
      "text/html": [
       "0"
      ],
      "text/latex": [
       "0"
      ],
      "text/markdown": [
       "0"
      ],
      "text/plain": [
       "[1] 0"
      ]
     },
     "metadata": {},
     "output_type": "display_data"
    }
   ],
   "source": [
    "nrow(impact[! impact$mut_key %in% impact_annotated$join_key,])"
   ]
  },
  {
   "cell_type": "code",
   "execution_count": 43,
   "metadata": {},
   "outputs": [],
   "source": [
    "impact[, c(\"Kaviar_AF\", \"cosmic70\")] <- left_join(impact,\n",
    "                                                  impact_annotated,\n",
    "                                                  by = c(\"mut_key\" = \"join_key\"))[, c(\"Kaviar_AF\", \"cosmic70\")]"
   ]
  },
  {
   "cell_type": "markdown",
   "metadata": {},
   "source": [
    "### `Kaviar_AF`"
   ]
  },
  {
   "cell_type": "markdown",
   "metadata": {},
   "source": [
    "We assume every value `'.'` of the `Kaviar_AF` feature is 0 (ie `'0'`). We convert every `Kaviar_AF` string to a double, to obtain the final feature."
   ]
  },
  {
   "cell_type": "code",
   "execution_count": 44,
   "metadata": {},
   "outputs": [
    {
     "data": {
      "text/html": [
       "<ol class=list-inline>\n",
       "\t<li>'.'</li>\n",
       "\t<li>'6.5e-06'</li>\n",
       "\t<li>'1.29e-05'</li>\n",
       "\t<li>'5.17e-05'</li>\n",
       "\t<li>'1.94e-05'</li>\n",
       "\t<li>'0.0006404'</li>\n",
       "</ol>\n"
      ],
      "text/latex": [
       "\\begin{enumerate*}\n",
       "\\item '.'\n",
       "\\item '6.5e-06'\n",
       "\\item '1.29e-05'\n",
       "\\item '5.17e-05'\n",
       "\\item '1.94e-05'\n",
       "\\item '0.0006404'\n",
       "\\end{enumerate*}\n"
      ],
      "text/markdown": [
       "1. '.'\n",
       "2. '6.5e-06'\n",
       "3. '1.29e-05'\n",
       "4. '5.17e-05'\n",
       "5. '1.94e-05'\n",
       "6. '0.0006404'\n",
       "\n",
       "\n"
      ],
      "text/plain": [
       "[1] \".\"         \"6.5e-06\"   \"1.29e-05\"  \"5.17e-05\"  \"1.94e-05\"  \"0.0006404\""
      ]
     },
     "metadata": {},
     "output_type": "display_data"
    },
    {
     "data": {
      "text/html": [
       "<ol class=list-inline>\n",
       "\t<li>0</li>\n",
       "\t<li>6.5e-06</li>\n",
       "\t<li>1.29e-05</li>\n",
       "\t<li>5.17e-05</li>\n",
       "\t<li>1.94e-05</li>\n",
       "\t<li>0.0006404</li>\n",
       "</ol>\n"
      ],
      "text/latex": [
       "\\begin{enumerate*}\n",
       "\\item 0\n",
       "\\item 6.5e-06\n",
       "\\item 1.29e-05\n",
       "\\item 5.17e-05\n",
       "\\item 1.94e-05\n",
       "\\item 0.0006404\n",
       "\\end{enumerate*}\n"
      ],
      "text/markdown": [
       "1. 0\n",
       "2. 6.5e-06\n",
       "3. 1.29e-05\n",
       "4. 5.17e-05\n",
       "5. 1.94e-05\n",
       "6. 0.0006404\n",
       "\n",
       "\n"
      ],
      "text/plain": [
       "[1] 0.0000000 0.0000065 0.0000129 0.0000517 0.0000194 0.0006404"
      ]
     },
     "metadata": {},
     "output_type": "display_data"
    }
   ],
   "source": [
    "head(unique(impact$Kaviar_AF))\n",
    "impact$Kaviar_AF[(impact$Kaviar_AF == '.')] <- list('0')\n",
    "impact$Kaviar_AF <- sapply(impact$Kaviar_AF, function(s) as.double(s))\n",
    "head(unique(impact$Kaviar_AF))"
   ]
  },
  {
   "cell_type": "markdown",
   "metadata": {},
   "source": [
    "(warning, sqrt x and y scale)"
   ]
  },
  {
   "cell_type": "code",
   "execution_count": 45,
   "metadata": {},
   "outputs": [
    {
     "data": {
      "text/plain": [
       "     Min.   1st Qu.    Median      Mean   3rd Qu.      Max. \n",
       "0.0000000 0.0000000 0.0000000 0.0002679 0.0000065 0.3192330 "
      ]
     },
     "metadata": {},
     "output_type": "display_data"
    },
    {
     "data": {},
     "metadata": {},
     "output_type": "display_data"
    },
    {
     "data": {
      "image/png": "[encoded data removed]",
      "text/plain": [
       "plot without title"
      ]
     },
     "metadata": {},
     "output_type": "display_data"
    }
   ],
   "source": [
    "summary(impact$Kaviar_AF)\n",
    "plot_density(impact, \"Kaviar_AF\") + scale_x_sqrt() + scale_y_sqrt()"
   ]
  },
  {
   "cell_type": "markdown",
   "metadata": {},
   "source": [
    "### `cosmic70`"
   ]
  },
  {
   "cell_type": "markdown",
   "metadata": {},
   "source": [
    "We assume every value `'.'` of the `cosmic70` feature means an occurence of 0 (ie `'OCCURENCE=0'`):"
   ]
  },
  {
   "cell_type": "code",
   "execution_count": 46,
   "metadata": {},
   "outputs": [
    {
     "data": {
      "text/html": [
       "<ol class=list-inline>\n",
       "\t<li>'ID=COSM45830;OCCURENCE=1(ovary)'</li>\n",
       "\t<li>'.'</li>\n",
       "\t<li>'ID=COSM3782300,COSM3782297,COSM3782296,COSM3782298,COSM3782301,COSM3782299;OCCURENCE=1(pancreas)'</li>\n",
       "\t<li>'ID=COSM3693022;OCCURENCE=1(large_intestine)'</li>\n",
       "\t<li>'ID=COSM5666;OCCURENCE=5(stomach),10(central_nervous_system),1(ovary),1(soft_tissue),2(endometrium),1(breast),4(skin),10(liver),3(pancreas)'</li>\n",
       "</ol>\n"
      ],
      "text/latex": [
       "\\begin{enumerate*}\n",
       "\\item 'ID=COSM45830;OCCURENCE=1(ovary)'\n",
       "\\item '.'\n",
       "\\item 'ID=COSM3782300,COSM3782297,COSM3782296,COSM3782298,COSM3782301,COSM3782299;OCCURENCE=1(pancreas)'\n",
       "\\item 'ID=COSM3693022;OCCURENCE=1(large\\_intestine)'\n",
       "\\item 'ID=COSM5666;OCCURENCE=5(stomach),10(central\\_nervous\\_system),1(ovary),1(soft\\_tissue),2(endometrium),1(breast),4(skin),10(liver),3(pancreas)'\n",
       "\\end{enumerate*}\n"
      ],
      "text/markdown": [
       "1. 'ID=COSM45830;OCCURENCE=1(ovary)'\n",
       "2. '.'\n",
       "3. 'ID=COSM3782300,COSM3782297,COSM3782296,COSM3782298,COSM3782301,COSM3782299;OCCURENCE=1(pancreas)'\n",
       "4. 'ID=COSM3693022;OCCURENCE=1(large_intestine)'\n",
       "5. 'ID=COSM5666;OCCURENCE=5(stomach),10(central_nervous_system),1(ovary),1(soft_tissue),2(endometrium),1(breast),4(skin),10(liver),3(pancreas)'\n",
       "\n",
       "\n"
      ],
      "text/plain": [
       "[1] \"ID=COSM45830;OCCURENCE=1(ovary)\"                                                                                                           \n",
       "[2] \".\"                                                                                                                                         \n",
       "[3] \"ID=COSM3782300,COSM3782297,COSM3782296,COSM3782298,COSM3782301,COSM3782299;OCCURENCE=1(pancreas)\"                                          \n",
       "[4] \"ID=COSM3693022;OCCURENCE=1(large_intestine)\"                                                                                               \n",
       "[5] \"ID=COSM5666;OCCURENCE=5(stomach),10(central_nervous_system),1(ovary),1(soft_tissue),2(endometrium),1(breast),4(skin),10(liver),3(pancreas)\""
      ]
     },
     "metadata": {},
     "output_type": "display_data"
    },
    {
     "data": {
      "text/html": [
       "<ol>\n",
       "\t<li>'ID=COSM45830;OCCURENCE=1(ovary)'</li>\n",
       "\t<li>'OCCURENCE=0'</li>\n",
       "\t<li>'ID=COSM3782300,COSM3782297,COSM3782296,COSM3782298,COSM3782301,COSM3782299;OCCURENCE=1(pancreas)'</li>\n",
       "\t<li>'ID=COSM3693022;OCCURENCE=1(large_intestine)'</li>\n",
       "\t<li>'ID=COSM5666;OCCURENCE=5(stomach),10(central_nervous_system),1(ovary),1(soft_tissue),2(endometrium),1(breast),4(skin),10(liver),3(pancreas)'</li>\n",
       "</ol>\n"
      ],
      "text/latex": [
       "\\begin{enumerate}\n",
       "\\item 'ID=COSM45830;OCCURENCE=1(ovary)'\n",
       "\\item 'OCCURENCE=0'\n",
       "\\item 'ID=COSM3782300,COSM3782297,COSM3782296,COSM3782298,COSM3782301,COSM3782299;OCCURENCE=1(pancreas)'\n",
       "\\item 'ID=COSM3693022;OCCURENCE=1(large\\_intestine)'\n",
       "\\item 'ID=COSM5666;OCCURENCE=5(stomach),10(central\\_nervous\\_system),1(ovary),1(soft\\_tissue),2(endometrium),1(breast),4(skin),10(liver),3(pancreas)'\n",
       "\\end{enumerate}\n"
      ],
      "text/markdown": [
       "1. 'ID=COSM45830;OCCURENCE=1(ovary)'\n",
       "2. 'OCCURENCE=0'\n",
       "3. 'ID=COSM3782300,COSM3782297,COSM3782296,COSM3782298,COSM3782301,COSM3782299;OCCURENCE=1(pancreas)'\n",
       "4. 'ID=COSM3693022;OCCURENCE=1(large_intestine)'\n",
       "5. 'ID=COSM5666;OCCURENCE=5(stomach),10(central_nervous_system),1(ovary),1(soft_tissue),2(endometrium),1(breast),4(skin),10(liver),3(pancreas)'\n",
       "\n",
       "\n"
      ],
      "text/plain": [
       "[[1]]\n",
       "[1] \"ID=COSM45830;OCCURENCE=1(ovary)\"\n",
       "\n",
       "[[2]]\n",
       "[1] \"OCCURENCE=0\"\n",
       "\n",
       "[[3]]\n",
       "[1] \"ID=COSM3782300,COSM3782297,COSM3782296,COSM3782298,COSM3782301,COSM3782299;OCCURENCE=1(pancreas)\"\n",
       "\n",
       "[[4]]\n",
       "[1] \"ID=COSM3693022;OCCURENCE=1(large_intestine)\"\n",
       "\n",
       "[[5]]\n",
       "[1] \"ID=COSM5666;OCCURENCE=5(stomach),10(central_nervous_system),1(ovary),1(soft_tissue),2(endometrium),1(breast),4(skin),10(liver),3(pancreas)\"\n"
      ]
     },
     "metadata": {},
     "output_type": "display_data"
    }
   ],
   "source": [
    "head(unique(impact$cosmic70), 5)\n",
    "impact$cosmic70[(impact$cosmic70 == '.')] <- list('OCCURENCE=0')\n",
    "head(unique(impact$cosmic70), 5)"
   ]
  },
  {
   "cell_type": "markdown",
   "metadata": {},
   "source": [
    "The following function, `get_cosmic_count()` returns the sum of the occurence found in the cosmic string, ie the cosmic count. The cells after shows an exemple explaining how it works."
   ]
  },
  {
   "cell_type": "code",
   "execution_count": 47,
   "metadata": {},
   "outputs": [],
   "source": [
    "get_cosmic_count <- function(cosmic_string) {\n",
    "    cosmic_string <- strsplit(cosmic_string, \"OCCURENCE=\")[[1]][2]\n",
    "    cosmic_string <- strsplit(cosmic_string, ',')[[1]]\n",
    "    cosmic_string <- sapply(cosmic_string, function(element) as.integer(strsplit(element, '\\\\(')[[1]][1]))\n",
    "                \n",
    "    return (sum(cosmic_string))\n",
    "}"
   ]
  },
  {
   "cell_type": "code",
   "execution_count": 48,
   "metadata": {},
   "outputs": [
    {
     "name": "stdout",
     "output_type": "stream",
     "text": [
      "[1] 1\n",
      "[1] 0\n",
      "[1] 107\n"
     ]
    }
   ],
   "source": [
    "print(get_cosmic_count(\"ID=COSM3693022;OCCURENCE=1(large_intestine)\"))\n",
    "print(get_cosmic_count(\"ID=;OCCURENCE=0\"))\n",
    "print(get_cosmic_count(\"ID=COSM5219;OCCURENCE=3(lung),5(central_nervous_system),3(ovary),96(endometrium)\"))"
   ]
  },
  {
   "cell_type": "code",
   "execution_count": 49,
   "metadata": {},
   "outputs": [
    {
     "name": "stdout",
     "output_type": "stream",
     "text": [
      "[1] \"######## STEP 1 ########\"\n",
      "[1] \"3(lung),5(central_nervous_system),3(ovary),96(endometrium)\"\n",
      "[1] \"######## STEP 2 ########\"\n",
      "[1] \"3(lung)\"                   \"5(central_nervous_system)\"\n",
      "[3] \"3(ovary)\"                  \"96(endometrium)\"          \n",
      "[1] \"######## STEP 3 ########\"\n",
      "                  3(lung) 5(central_nervous_system)                  3(ovary) \n",
      "                        3                         5                         3 \n",
      "          96(endometrium) \n",
      "                       96 \n"
     ]
    },
    {
     "data": {
      "text/html": [
       "107"
      ],
      "text/latex": [
       "107"
      ],
      "text/markdown": [
       "107"
      ],
      "text/plain": [
       "[1] 107"
      ]
     },
     "metadata": {},
     "output_type": "display_data"
    }
   ],
   "source": [
    "cosmic_string <- \"ID=COSM5219;OCCURENCE=3(lung),5(central_nervous_system),3(ovary),96(endometrium)\"\n",
    "\n",
    "print(\"######## STEP 1 ########\")\n",
    "print(cosmic_string <- strsplit(cosmic_string, \"OCCURENCE=\")[[1]][2])\n",
    "\n",
    "print(\"######## STEP 2 ########\")\n",
    "print(cosmic_string <- strsplit(cosmic_string, ',')[[1]])\n",
    "\n",
    "print(\"######## STEP 3 ########\")\n",
    "print(cosmic_string <- sapply(cosmic_string, function(element) as.integer(strsplit(element, '\\\\(')[[1]][1])))\n",
    "                  \n",
    "sum(cosmic_string)"
   ]
  },
  {
   "cell_type": "markdown",
   "metadata": {},
   "source": [
    "We convert every `cosmic70` string to a integer, the cosmic count given by the `get_cosmic_count()`, and replace the `cosmic70` feature by the `cosmic_count` feature."
   ]
  },
  {
   "cell_type": "code",
   "execution_count": 50,
   "metadata": {},
   "outputs": [],
   "source": [
    "impact$cosmic_count <- sapply(impact$cosmic70, get_cosmic_count)\n",
    "impact$cosmic70 <- NULL"
   ]
  },
  {
   "cell_type": "code",
   "execution_count": 51,
   "metadata": {
    "scrolled": false
   },
   "outputs": [
    {
     "data": {
      "text/plain": [
       "   Min. 1st Qu.  Median    Mean 3rd Qu.    Max. \n",
       "    0.0     0.0     0.0   171.6     0.0 33328.0 "
      ]
     },
     "metadata": {},
     "output_type": "display_data"
    },
    {
     "data": {},
     "metadata": {},
     "output_type": "display_data"
    },
    {
     "data": {
      "image/png": "[encoded data removed]",
      "text/plain": [
       "plot without title"
      ]
     },
     "metadata": {},
     "output_type": "display_data"
    }
   ],
   "source": [
    "summary(impact$cosmic_count)\n",
    "plot_density(impact, \"cosmic_count\") + scale_x_sqrt() + scale_y_sqrt()"
   ]
  },
  {
   "cell_type": "markdown",
   "metadata": {},
   "source": [
    "## OncoKB annotations"
   ]
  },
  {
   "cell_type": "markdown",
   "metadata": {},
   "source": [
    "Get the `is_a_hotspot`,`is_a_3d_hotspot` and `oncogenic` features from `oncokb_annotated_cleaned_IMPACT_mutations_180508.txt` (impact annotated by Pierre with oncokb-annotator, see ...)."
   ]
  },
  {
   "cell_type": "markdown",
   "metadata": {},
   "source": [
    "### Get the raw data"
   ]
  },
  {
   "cell_type": "code",
   "execution_count": 52,
   "metadata": {},
   "outputs": [],
   "source": [
    "impact_oncokb <- read.table(\"../../../data/oncokb_annotate/oncokb_annotated_cleaned_IMPACT_mutations_180508.txt\",\n",
    "                             sep = \"\\t\", stringsAsFactors = FALSE, header = TRUE)"
   ]
  },
  {
   "cell_type": "code",
   "execution_count": 53,
   "metadata": {},
   "outputs": [
    {
     "data": {
      "text/html": [
       "38"
      ],
      "text/latex": [
       "38"
      ],
      "text/markdown": [
       "38"
      ],
      "text/plain": [
       "[1] 38"
      ]
     },
     "metadata": {},
     "output_type": "display_data"
    },
    {
     "data": {
      "text/html": [
       "248293"
      ],
      "text/latex": [
       "248293"
      ],
      "text/markdown": [
       "248293"
      ],
      "text/plain": [
       "[1] 248293"
      ]
     },
     "metadata": {},
     "output_type": "display_data"
    },
    {
     "data": {
      "text/html": [
       "<table>\n",
       "<thead><tr><th scope=col>Hugo_Symbol</th><th scope=col>Chromosome</th><th scope=col>Start_Position</th><th scope=col>End_Position</th><th scope=col>Consequence</th><th scope=col>Variant_Type</th><th scope=col>Reference_Allele</th><th scope=col>Tumor_Seq_Allele2</th><th scope=col>Tumor_Sample_Barcode</th><th scope=col>cDNA_change</th><th scope=col>⋯</th><th scope=col>is.a.3d.hotspot</th><th scope=col>oncogenic</th><th scope=col>LEVEL_1</th><th scope=col>LEVEL_2A</th><th scope=col>LEVEL_2B</th><th scope=col>LEVEL_3A</th><th scope=col>LEVEL_3B</th><th scope=col>LEVEL_4</th><th scope=col>LEVEL_R1</th><th scope=col>Highest_level</th></tr></thead>\n",
       "<tbody>\n",
       "\t<tr><td><span style=white-space:pre-wrap>TP53  </span>   </td><td>17                                               </td><td><span style=white-space:pre-wrap>  7577515</span></td><td><span style=white-space:pre-wrap>  7577515</span></td><td>nonsynonymous_SNV                                </td><td>SNP                                              </td><td>T                                                </td><td>G                                                </td><td>P-0000012-T02-IM3                                </td><td>c.766A&gt;C                                      </td><td>⋯                                                </td><td>                                                 </td><td>Oncogenic                                        </td><td>NA                                               </td><td>NA                                               </td><td>                                                 </td><td>NA                                               </td><td>                                                 </td><td>                                                 </td><td>NA                                               </td><td>                                                 </td></tr>\n",
       "\t<tr><td>ARID1A                                                   </td><td>1                                                        </td><td> 27101572                                                </td><td> 27101572                                                </td><td><span style=white-space:pre-wrap>synonymous_SNV   </span></td><td>SNP                                                      </td><td>C                                                        </td><td>G                                                        </td><td>P-0000012-T02-IM3                                        </td><td>c.4854C&gt;G                                             </td><td>⋯                                                        </td><td>                                                         </td><td><span style=white-space:pre-wrap>         </span>        </td><td>NA                                                       </td><td>NA                                                       </td><td>                                                         </td><td>NA                                                       </td><td>                                                         </td><td>                                                         </td><td>NA                                                       </td><td>                                                         </td></tr>\n",
       "\t<tr><td>PTPRS                                                    </td><td>19                                                       </td><td><span style=white-space:pre-wrap>  5244030</span>        </td><td><span style=white-space:pre-wrap>  5244030</span>        </td><td><span style=white-space:pre-wrap>synonymous_SNV   </span></td><td>SNP                                                      </td><td>C                                                        </td><td>G                                                        </td><td>P-0000012-T02-IM3                                        </td><td>c.1452G&gt;C                                             </td><td>⋯                                                        </td><td>                                                         </td><td><span style=white-space:pre-wrap>         </span>        </td><td>NA                                                       </td><td>NA                                                       </td><td>                                                         </td><td>NA                                                       </td><td>                                                         </td><td>                                                         </td><td>NA                                                       </td><td>                                                         </td></tr>\n",
       "\t<tr><td>PIK3R3                                           </td><td>1                                                </td><td> 46521514                                        </td><td> 46521514                                        </td><td>nonsynonymous_SNV                                </td><td>SNP                                              </td><td>G                                                </td><td>C                                                </td><td>P-0000012-T03-IM3                                </td><td>c.894C&gt;G                                      </td><td>⋯                                                </td><td>                                                 </td><td><span style=white-space:pre-wrap>         </span></td><td>NA                                               </td><td>NA                                               </td><td>                                                 </td><td>NA                                               </td><td>                                                 </td><td>                                                 </td><td>NA                                               </td><td>                                                 </td></tr>\n",
       "\t<tr><td><span style=white-space:pre-wrap>ATR   </span>   </td><td>3                                                </td><td>142178126                                        </td><td>142178126                                        </td><td>nonsynonymous_SNV                                </td><td>SNP                                              </td><td>C                                                </td><td>A                                                </td><td>P-0000012-T03-IM3                                </td><td>c.7292G&gt;T                                     </td><td>⋯                                                </td><td>                                                 </td><td><span style=white-space:pre-wrap>         </span></td><td>NA                                               </td><td>NA                                               </td><td>                                                 </td><td>NA                                               </td><td>                                                 </td><td>                                                 </td><td>NA                                               </td><td>                                                 </td></tr>\n",
       "\t<tr><td>PDGFRA                                           </td><td>4                                                </td><td> 55139732                                        </td><td> 55139732                                        </td><td>nonsynonymous_SNV                                </td><td>SNP                                              </td><td>T                                                </td><td>A                                                </td><td>P-0000012-T03-IM3                                </td><td>c.1393T&gt;A                                     </td><td>⋯                                                </td><td>                                                 </td><td><span style=white-space:pre-wrap>         </span></td><td>NA                                               </td><td>NA                                               </td><td>                                                 </td><td>NA                                               </td><td>                                                 </td><td>                                                 </td><td>NA                                               </td><td>                                                 </td></tr>\n",
       "</tbody>\n",
       "</table>\n"
      ],
      "text/latex": [
       "\\begin{tabular}{r|llllllllllllllllllllllllllllllllllllll}\n",
       " Hugo\\_Symbol & Chromosome & Start\\_Position & End\\_Position & Consequence & Variant\\_Type & Reference\\_Allele & Tumor\\_Seq\\_Allele2 & Tumor\\_Sample\\_Barcode & cDNA\\_change & ⋯ & is.a.3d.hotspot & oncogenic & LEVEL\\_1 & LEVEL\\_2A & LEVEL\\_2B & LEVEL\\_3A & LEVEL\\_3B & LEVEL\\_4 & LEVEL\\_R1 & Highest\\_level\\\\\n",
       "\\hline\n",
       "\t TP53                & 17                  &   7577515           &   7577515           & nonsynonymous\\_SNV & SNP                 & T                   & G                   & P-0000012-T02-IM3   & c.766A>C            & ⋯                   &                     & Oncogenic           & NA                  & NA                  &                     & NA                  &                     &                     & NA                  &                    \\\\\n",
       "\t ARID1A              & 1                   &  27101572           &  27101572           & synonymous\\_SNV    & SNP                 & C                   & G                   & P-0000012-T02-IM3   & c.4854C>G           & ⋯                   &                     &                     & NA                  & NA                  &                     & NA                  &                     &                     & NA                  &                    \\\\\n",
       "\t PTPRS               & 19                  &   5244030           &   5244030           & synonymous\\_SNV    & SNP                 & C                   & G                   & P-0000012-T02-IM3   & c.1452G>C           & ⋯                   &                     &                     & NA                  & NA                  &                     & NA                  &                     &                     & NA                  &                    \\\\\n",
       "\t PIK3R3              & 1                   &  46521514           &  46521514           & nonsynonymous\\_SNV & SNP                 & G                   & C                   & P-0000012-T03-IM3   & c.894C>G            & ⋯                   &                     &                     & NA                  & NA                  &                     & NA                  &                     &                     & NA                  &                    \\\\\n",
       "\t ATR                 & 3                   & 142178126           & 142178126           & nonsynonymous\\_SNV & SNP                 & C                   & A                   & P-0000012-T03-IM3   & c.7292G>T           & ⋯                   &                     &                     & NA                  & NA                  &                     & NA                  &                     &                     & NA                  &                    \\\\\n",
       "\t PDGFRA              & 4                   &  55139732           &  55139732           & nonsynonymous\\_SNV & SNP                 & T                   & A                   & P-0000012-T03-IM3   & c.1393T>A           & ⋯                   &                     &                     & NA                  & NA                  &                     & NA                  &                     &                     & NA                  &                    \\\\\n",
       "\\end{tabular}\n"
      ],
      "text/markdown": [
       "\n",
       "Hugo_Symbol | Chromosome | Start_Position | End_Position | Consequence | Variant_Type | Reference_Allele | Tumor_Seq_Allele2 | Tumor_Sample_Barcode | cDNA_change | ⋯ | is.a.3d.hotspot | oncogenic | LEVEL_1 | LEVEL_2A | LEVEL_2B | LEVEL_3A | LEVEL_3B | LEVEL_4 | LEVEL_R1 | Highest_level | \n",
       "|---|---|---|---|---|---|\n",
       "| TP53              | 17                |   7577515         |   7577515         | nonsynonymous_SNV | SNP               | T                 | G                 | P-0000012-T02-IM3 | c.766A>C          | ⋯                 |                   | Oncogenic         | NA                | NA                |                   | NA                |                   |                   | NA                |                   | \n",
       "| ARID1A            | 1                 |  27101572         |  27101572         | synonymous_SNV    | SNP               | C                 | G                 | P-0000012-T02-IM3 | c.4854C>G         | ⋯                 |                   |                   | NA                | NA                |                   | NA                |                   |                   | NA                |                   | \n",
       "| PTPRS             | 19                |   5244030         |   5244030         | synonymous_SNV    | SNP               | C                 | G                 | P-0000012-T02-IM3 | c.1452G>C         | ⋯                 |                   |                   | NA                | NA                |                   | NA                |                   |                   | NA                |                   | \n",
       "| PIK3R3            | 1                 |  46521514         |  46521514         | nonsynonymous_SNV | SNP               | G                 | C                 | P-0000012-T03-IM3 | c.894C>G          | ⋯                 |                   |                   | NA                | NA                |                   | NA                |                   |                   | NA                |                   | \n",
       "| ATR               | 3                 | 142178126         | 142178126         | nonsynonymous_SNV | SNP               | C                 | A                 | P-0000012-T03-IM3 | c.7292G>T         | ⋯                 |                   |                   | NA                | NA                |                   | NA                |                   |                   | NA                |                   | \n",
       "| PDGFRA            | 4                 |  55139732         |  55139732         | nonsynonymous_SNV | SNP               | T                 | A                 | P-0000012-T03-IM3 | c.1393T>A         | ⋯                 |                   |                   | NA                | NA                |                   | NA                |                   |                   | NA                |                   | \n",
       "\n",
       "\n"
      ],
      "text/plain": [
       "  Hugo_Symbol Chromosome Start_Position End_Position Consequence      \n",
       "1 TP53        17           7577515        7577515    nonsynonymous_SNV\n",
       "2 ARID1A      1           27101572       27101572    synonymous_SNV   \n",
       "3 PTPRS       19           5244030        5244030    synonymous_SNV   \n",
       "4 PIK3R3      1           46521514       46521514    nonsynonymous_SNV\n",
       "5 ATR         3          142178126      142178126    nonsynonymous_SNV\n",
       "6 PDGFRA      4           55139732       55139732    nonsynonymous_SNV\n",
       "  Variant_Type Reference_Allele Tumor_Seq_Allele2 Tumor_Sample_Barcode\n",
       "1 SNP          T                G                 P-0000012-T02-IM3   \n",
       "2 SNP          C                G                 P-0000012-T02-IM3   \n",
       "3 SNP          C                G                 P-0000012-T02-IM3   \n",
       "4 SNP          G                C                 P-0000012-T03-IM3   \n",
       "5 SNP          C                A                 P-0000012-T03-IM3   \n",
       "6 SNP          T                A                 P-0000012-T03-IM3   \n",
       "  cDNA_change ⋯ is.a.3d.hotspot oncogenic LEVEL_1 LEVEL_2A LEVEL_2B LEVEL_3A\n",
       "1 c.766A>C    ⋯                 Oncogenic NA      NA                NA      \n",
       "2 c.4854C>G   ⋯                           NA      NA                NA      \n",
       "3 c.1452G>C   ⋯                           NA      NA                NA      \n",
       "4 c.894C>G    ⋯                           NA      NA                NA      \n",
       "5 c.7292G>T   ⋯                           NA      NA                NA      \n",
       "6 c.1393T>A   ⋯                           NA      NA                NA      \n",
       "  LEVEL_3B LEVEL_4 LEVEL_R1 Highest_level\n",
       "1                  NA                    \n",
       "2                  NA                    \n",
       "3                  NA                    \n",
       "4                  NA                    \n",
       "5                  NA                    \n",
       "6                  NA                    "
      ]
     },
     "metadata": {},
     "output_type": "display_data"
    }
   ],
   "source": [
    "ncol(impact_oncokb)\n",
    "nrow(impact_oncokb)\n",
    "head(impact_oncokb)"
   ]
  },
  {
   "cell_type": "markdown",
   "metadata": {},
   "source": [
    "### Create keys to join the two dataframes and extract the features"
   ]
  },
  {
   "cell_type": "markdown",
   "metadata": {},
   "source": [
    "We are going to identify each mutation with a key in both dataframes, allowing us to link each mutation from `impact` to its corresponding mutation in `impact_oncokb`. The keys will be `mut_key` for both dataset, and are already created."
   ]
  },
  {
   "cell_type": "markdown",
   "metadata": {},
   "source": [
    "**Verification 1** The features `oncogenic`, `is.a.hotspot`, and `is.a.3d.hotspot` are unique for each `mut_key`:"
   ]
  },
  {
   "cell_type": "code",
   "execution_count": 54,
   "metadata": {},
   "outputs": [
    {
     "data": {
      "text/html": [
       "0"
      ],
      "text/latex": [
       "0"
      ],
      "text/markdown": [
       "0"
      ],
      "text/plain": [
       "[1] 0"
      ]
     },
     "metadata": {},
     "output_type": "display_data"
    },
    {
     "data": {
      "text/html": [
       "<table>\n",
       "<thead><tr><th scope=col>mut_key</th><th scope=col>is.a.hotspot</th><th scope=col>is.a.3d.hotspot</th><th scope=col>oncogenic</th></tr></thead>\n",
       "<tbody>\n",
       "\t<tr><td>17_7577515_T_G</td><td>              </td><td>              </td><td>Oncogenic     </td></tr>\n",
       "\t<tr><td>1_27101572_C_G</td><td>              </td><td>              </td><td>              </td></tr>\n",
       "\t<tr><td>19_5244030_C_G</td><td>              </td><td>              </td><td>              </td></tr>\n",
       "\t<tr><td>1_46521514_G_C</td><td>              </td><td>              </td><td>              </td></tr>\n",
       "</tbody>\n",
       "</table>\n"
      ],
      "text/latex": [
       "\\begin{tabular}{r|llll}\n",
       " mut\\_key & is.a.hotspot & is.a.3d.hotspot & oncogenic\\\\\n",
       "\\hline\n",
       "\t 17\\_7577515\\_T\\_G &                      &                      & Oncogenic           \\\\\n",
       "\t 1\\_27101572\\_C\\_G &                      &                      &                     \\\\\n",
       "\t 19\\_5244030\\_C\\_G &                      &                      &                     \\\\\n",
       "\t 1\\_46521514\\_G\\_C &                      &                      &                     \\\\\n",
       "\\end{tabular}\n"
      ],
      "text/markdown": [
       "\n",
       "mut_key | is.a.hotspot | is.a.3d.hotspot | oncogenic | \n",
       "|---|---|---|---|\n",
       "| 17_7577515_T_G |                |                | Oncogenic      | \n",
       "| 1_27101572_C_G |                |                |                | \n",
       "| 19_5244030_C_G |                |                |                | \n",
       "| 1_46521514_G_C |                |                |                | \n",
       "\n",
       "\n"
      ],
      "text/plain": [
       "  mut_key        is.a.hotspot is.a.3d.hotspot oncogenic\n",
       "1 17_7577515_T_G                              Oncogenic\n",
       "2 1_27101572_C_G                                       \n",
       "3 19_5244030_C_G                                       \n",
       "4 1_46521514_G_C                                       "
      ]
     },
     "metadata": {},
     "output_type": "display_data"
    }
   ],
   "source": [
    "nrow(impact_oncokb %>% group_by(mut_key) %>%\n",
    "                       filter(length(unique(is.a.hotspot)) > 1 |\n",
    "                              length(unique(is.a.3d.hotspot)) > 1 |\n",
    "                              length(unique(oncogenic)) > 1))\n",
    "impact_oncokb <- unique(impact_oncokb[, c(\"mut_key\", \"is.a.hotspot\", \"is.a.3d.hotspot\", \"oncogenic\")])\n",
    "head(impact_oncokb, 4)"
   ]
  },
  {
   "cell_type": "markdown",
   "metadata": {},
   "source": [
    "**Verification 2** Every impact `mut_key` has an analoguous `join_key` in `impact_annotated`:"
   ]
  },
  {
   "cell_type": "code",
   "execution_count": 55,
   "metadata": {
    "scrolled": true
   },
   "outputs": [
    {
     "data": {
      "text/html": [
       "0"
      ],
      "text/latex": [
       "0"
      ],
      "text/markdown": [
       "0"
      ],
      "text/plain": [
       "[1] 0"
      ]
     },
     "metadata": {},
     "output_type": "display_data"
    }
   ],
   "source": [
    "nrow(impact[! impact$mut_key %in% impact_oncokb$mut_key,])"
   ]
  },
  {
   "cell_type": "code",
   "execution_count": 56,
   "metadata": {},
   "outputs": [],
   "source": [
    "impact[, c(\"is_a_hotspot\",\n",
    "           \"is_a_3d_hotspot\",\n",
    "           \"oncogenic\")] <- left_join(impact, impact_oncokb,\n",
    "                                      by = c(\"mut_key\" = \"mut_key\"))[, c(\"is.a.hotspot\",\n",
    "                                                                         \"is.a.3d.hotspot\",\n",
    "                                                                         \"oncogenic\")]"
   ]
  },
  {
   "cell_type": "markdown",
   "metadata": {},
   "source": [
    "### `is_a_hotspot`"
   ]
  },
  {
   "cell_type": "code",
   "execution_count": 57,
   "metadata": {},
   "outputs": [
    {
     "data": {
      "text/plain": [
       "\n",
       "unknown     yes \n",
       " 222661   25632 "
      ]
     },
     "metadata": {},
     "output_type": "display_data"
    }
   ],
   "source": [
    "impact$is_a_hotspot[impact$is_a_hotspot == \"Y\"  ] <- \"yes\"\n",
    "impact$is_a_hotspot[impact$is_a_hotspot != \"yes\"] <- \"unknown\"\n",
    "table(impact$is_a_hotspot)"
   ]
  },
  {
   "cell_type": "markdown",
   "metadata": {},
   "source": [
    "### `is_a_3d_hotspot`"
   ]
  },
  {
   "cell_type": "code",
   "execution_count": 58,
   "metadata": {},
   "outputs": [
    {
     "data": {
      "text/plain": [
       "\n",
       "unknown     yes \n",
       " 233138   15155 "
      ]
     },
     "metadata": {},
     "output_type": "display_data"
    }
   ],
   "source": [
    "impact$is_a_3d_hotspot[impact$is_a_3d_hotspot == \"Y\"  ] <- \"yes\"\n",
    "impact$is_a_3d_hotspot[impact$is_a_3d_hotspot != \"yes\"] <- \"unknown\"\n",
    "table(impact$is_a_3d_hotspot)"
   ]
  },
  {
   "cell_type": "markdown",
   "metadata": {},
   "source": [
    "### `oncogenic`"
   ]
  },
  {
   "cell_type": "code",
   "execution_count": 59,
   "metadata": {
    "scrolled": true
   },
   "outputs": [
    {
     "data": {
      "text/plain": [
       "\n",
       "       Inconclusive      Likely Neutral    Likely Oncogenic           Oncogenic \n",
       "                523                 385               47127               16367 \n",
       "Predicted Oncogenic             Unknown \n",
       "               2900              180991 "
      ]
     },
     "metadata": {},
     "output_type": "display_data"
    }
   ],
   "source": [
    "impact$oncogenic[impact$oncogenic == \"\"] <- \"Unknown\"\n",
    "table(impact$oncogenic)"
   ]
  },
  {
   "cell_type": "markdown",
   "metadata": {},
   "source": [
    "## CancerGenesList"
   ]
  },
  {
   "cell_type": "markdown",
   "metadata": {},
   "source": [
    "Get the `gene_type` feature from `CancerGenesList.txt` (downloaded from http://oncokb.org/#/cancerGenes, the upper right button \"CANCER GENE LIST\")."
   ]
  },
  {
   "cell_type": "markdown",
   "metadata": {},
   "source": [
    "### Get the raw data"
   ]
  },
  {
   "cell_type": "code",
   "execution_count": 60,
   "metadata": {},
   "outputs": [],
   "source": [
    "cancer_genes_list <- read.table(\"../../../data/other_databases/CancerGenesList.txt\",\n",
    "                                sep = \"\\t\", stringsAsFactors = FALSE, header = TRUE, comment.char = '')"
   ]
  },
  {
   "cell_type": "code",
   "execution_count": 61,
   "metadata": {},
   "outputs": [
    {
     "data": {
      "text/html": [
       "11"
      ],
      "text/latex": [
       "11"
      ],
      "text/markdown": [
       "11"
      ],
      "text/plain": [
       "[1] 11"
      ]
     },
     "metadata": {},
     "output_type": "display_data"
    },
    {
     "data": {
      "text/html": [
       "1019"
      ],
      "text/latex": [
       "1019"
      ],
      "text/markdown": [
       "1019"
      ],
      "text/plain": [
       "[1] 1019"
      ]
     },
     "metadata": {},
     "output_type": "display_data"
    },
    {
     "data": {
      "text/html": [
       "<table>\n",
       "<thead><tr><th scope=col>Hugo.Symbol</th><th scope=col>X..of.occurence.within.resources</th><th scope=col>OncoKB.Annotated</th><th scope=col>OncoKB.Oncogene</th><th scope=col>OncoKB.TSG</th><th scope=col>MSK.IMPACT</th><th scope=col>MSK.HEME</th><th scope=col>Foundation.One</th><th scope=col>Foundation.One.Heme</th><th scope=col>Vogelstein</th><th scope=col>Sanger.CGC</th></tr></thead>\n",
       "<tbody>\n",
       "\t<tr><td>ABL1  </td><td>7     </td><td>Yes   </td><td>Yes   </td><td>      </td><td>Yes   </td><td>Yes   </td><td>Yes   </td><td>Yes   </td><td>Yes   </td><td>Yes   </td></tr>\n",
       "\t<tr><td>ABL2  </td><td>3     </td><td>No    </td><td>      </td><td>      </td><td>No    </td><td>No    </td><td>Yes   </td><td>Yes   </td><td>No    </td><td>Yes   </td></tr>\n",
       "\t<tr><td>ACTB  </td><td>1     </td><td>No    </td><td>      </td><td>      </td><td>No    </td><td>No    </td><td>No    </td><td>Yes   </td><td>No    </td><td>No    </td></tr>\n",
       "\t<tr><td>ACTG1 </td><td>1     </td><td>No    </td><td>      </td><td>      </td><td>No    </td><td>Yes   </td><td>No    </td><td>No    </td><td>No    </td><td>No    </td></tr>\n",
       "\t<tr><td>ACVR1 </td><td>3     </td><td>Yes   </td><td>Yes   </td><td>      </td><td>Yes   </td><td>No    </td><td>No    </td><td>No    </td><td>No    </td><td>Yes   </td></tr>\n",
       "\t<tr><td>ACVR1B</td><td>2     </td><td>No    </td><td>      </td><td>      </td><td>No    </td><td>No    </td><td>Yes   </td><td>No    </td><td>Yes   </td><td>No    </td></tr>\n",
       "</tbody>\n",
       "</table>\n"
      ],
      "text/latex": [
       "\\begin{tabular}{r|lllllllllll}\n",
       " Hugo.Symbol & X..of.occurence.within.resources & OncoKB.Annotated & OncoKB.Oncogene & OncoKB.TSG & MSK.IMPACT & MSK.HEME & Foundation.One & Foundation.One.Heme & Vogelstein & Sanger.CGC\\\\\n",
       "\\hline\n",
       "\t ABL1   & 7      & Yes    & Yes    &        & Yes    & Yes    & Yes    & Yes    & Yes    & Yes   \\\\\n",
       "\t ABL2   & 3      & No     &        &        & No     & No     & Yes    & Yes    & No     & Yes   \\\\\n",
       "\t ACTB   & 1      & No     &        &        & No     & No     & No     & Yes    & No     & No    \\\\\n",
       "\t ACTG1  & 1      & No     &        &        & No     & Yes    & No     & No     & No     & No    \\\\\n",
       "\t ACVR1  & 3      & Yes    & Yes    &        & Yes    & No     & No     & No     & No     & Yes   \\\\\n",
       "\t ACVR1B & 2      & No     &        &        & No     & No     & Yes    & No     & Yes    & No    \\\\\n",
       "\\end{tabular}\n"
      ],
      "text/markdown": [
       "\n",
       "Hugo.Symbol | X..of.occurence.within.resources | OncoKB.Annotated | OncoKB.Oncogene | OncoKB.TSG | MSK.IMPACT | MSK.HEME | Foundation.One | Foundation.One.Heme | Vogelstein | Sanger.CGC | \n",
       "|---|---|---|---|---|---|\n",
       "| ABL1   | 7      | Yes    | Yes    |        | Yes    | Yes    | Yes    | Yes    | Yes    | Yes    | \n",
       "| ABL2   | 3      | No     |        |        | No     | No     | Yes    | Yes    | No     | Yes    | \n",
       "| ACTB   | 1      | No     |        |        | No     | No     | No     | Yes    | No     | No     | \n",
       "| ACTG1  | 1      | No     |        |        | No     | Yes    | No     | No     | No     | No     | \n",
       "| ACVR1  | 3      | Yes    | Yes    |        | Yes    | No     | No     | No     | No     | Yes    | \n",
       "| ACVR1B | 2      | No     |        |        | No     | No     | Yes    | No     | Yes    | No     | \n",
       "\n",
       "\n"
      ],
      "text/plain": [
       "  Hugo.Symbol X..of.occurence.within.resources OncoKB.Annotated OncoKB.Oncogene\n",
       "1 ABL1        7                                Yes              Yes            \n",
       "2 ABL2        3                                No                              \n",
       "3 ACTB        1                                No                              \n",
       "4 ACTG1       1                                No                              \n",
       "5 ACVR1       3                                Yes              Yes            \n",
       "6 ACVR1B      2                                No                              \n",
       "  OncoKB.TSG MSK.IMPACT MSK.HEME Foundation.One Foundation.One.Heme Vogelstein\n",
       "1            Yes        Yes      Yes            Yes                 Yes       \n",
       "2            No         No       Yes            Yes                 No        \n",
       "3            No         No       No             Yes                 No        \n",
       "4            No         Yes      No             No                  No        \n",
       "5            Yes        No       No             No                  No        \n",
       "6            No         No       Yes            No                  Yes       \n",
       "  Sanger.CGC\n",
       "1 Yes       \n",
       "2 Yes       \n",
       "3 No        \n",
       "4 No        \n",
       "5 Yes       \n",
       "6 No        "
      ]
     },
     "metadata": {},
     "output_type": "display_data"
    }
   ],
   "source": [
    "ncol(cancer_genes_list)\n",
    "nrow(cancer_genes_list)\n",
    "head(cancer_genes_list)"
   ]
  },
  {
   "cell_type": "markdown",
   "metadata": {},
   "source": [
    "### Create keys to join the two dataframes and extract the features"
   ]
  },
  {
   "cell_type": "markdown",
   "metadata": {},
   "source": [
    "We are going to identify each mutation with a key in both dataframes, allowing us to link each mutation from `impact` to its corresponding mutation in `cancer_genes_list`. The keys will be: \n",
    "* `Hugo_Symbol` for `impact`\n",
    "* `Hugo.Symbol` for `impact_annotated`"
   ]
  },
  {
   "cell_type": "markdown",
   "metadata": {},
   "source": [
    "**Verification 1** The feature `OncoKB.Oncogene` and `OncoKB.TSG` are unique for each key:"
   ]
  },
  {
   "cell_type": "code",
   "execution_count": 62,
   "metadata": {},
   "outputs": [
    {
     "data": {
      "text/html": [
       "0"
      ],
      "text/latex": [
       "0"
      ],
      "text/markdown": [
       "0"
      ],
      "text/plain": [
       "[1] 0"
      ]
     },
     "metadata": {},
     "output_type": "display_data"
    },
    {
     "data": {
      "text/html": [
       "<table>\n",
       "<thead><tr><th scope=col>Hugo.Symbol</th><th scope=col>OncoKB.Oncogene</th><th scope=col>OncoKB.TSG</th></tr></thead>\n",
       "<tbody>\n",
       "\t<tr><td>ABL1 </td><td>Yes  </td><td>     </td></tr>\n",
       "\t<tr><td>ABL2 </td><td>     </td><td>     </td></tr>\n",
       "\t<tr><td>ACTB </td><td>     </td><td>     </td></tr>\n",
       "\t<tr><td>ACTG1</td><td>     </td><td>     </td></tr>\n",
       "</tbody>\n",
       "</table>\n"
      ],
      "text/latex": [
       "\\begin{tabular}{r|lll}\n",
       " Hugo.Symbol & OncoKB.Oncogene & OncoKB.TSG\\\\\n",
       "\\hline\n",
       "\t ABL1  & Yes   &      \\\\\n",
       "\t ABL2  &       &      \\\\\n",
       "\t ACTB  &       &      \\\\\n",
       "\t ACTG1 &       &      \\\\\n",
       "\\end{tabular}\n"
      ],
      "text/markdown": [
       "\n",
       "Hugo.Symbol | OncoKB.Oncogene | OncoKB.TSG | \n",
       "|---|---|---|---|\n",
       "| ABL1  | Yes   |       | \n",
       "| ABL2  |       |       | \n",
       "| ACTB  |       |       | \n",
       "| ACTG1 |       |       | \n",
       "\n",
       "\n"
      ],
      "text/plain": [
       "  Hugo.Symbol OncoKB.Oncogene OncoKB.TSG\n",
       "1 ABL1        Yes                       \n",
       "2 ABL2                                  \n",
       "3 ACTB                                  \n",
       "4 ACTG1                                 "
      ]
     },
     "metadata": {},
     "output_type": "display_data"
    }
   ],
   "source": [
    "nrow(cancer_genes_list %>% group_by(Hugo.Symbol) %>% filter(length(unique(OncoKB.Oncogene)) > 1 |\n",
    "                                                            length(unique(OncoKB.TSG)) > 1))\n",
    "cancer_genes_list <- unique(cancer_genes_list[, c(\"Hugo.Symbol\", \"OncoKB.Oncogene\", \"OncoKB.TSG\")])\n",
    "head(cancer_genes_list, 4)"
   ]
  },
  {
   "cell_type": "markdown",
   "metadata": {},
   "source": [
    "**Verification 2** Some impact `Hugo_Symbol` don't have an analoguous `Hugo.Symbol` in `impact_annotated`, some `NA` values will appear and need to be handled:"
   ]
  },
  {
   "cell_type": "code",
   "execution_count": 63,
   "metadata": {
    "scrolled": true
   },
   "outputs": [
    {
     "data": {
      "text/html": [
       "16"
      ],
      "text/latex": [
       "16"
      ],
      "text/markdown": [
       "16"
      ],
      "text/plain": [
       "[1] 16"
      ]
     },
     "metadata": {},
     "output_type": "display_data"
    },
    {
     "data": {
      "text/html": [
       "<ol class=list-inline>\n",
       "\t<li>'PAK5'</li>\n",
       "\t<li>'COP1'</li>\n",
       "\t<li>'TENT5C'</li>\n",
       "\t<li>'MRE11'</li>\n",
       "\t<li>'CDKN2Ap14ARF'</li>\n",
       "\t<li>'PRKN'</li>\n",
       "\t<li>'ABRAXAS1'</li>\n",
       "\t<li>'RFFL'</li>\n",
       "\t<li>'INSRR'</li>\n",
       "\t<li>'TIMM8B'</li>\n",
       "\t<li>'OBSL1'</li>\n",
       "\t<li>'ELOC'</li>\n",
       "\t<li>'SDCCAG8'</li>\n",
       "\t<li>'NSD2'</li>\n",
       "\t<li>'NSD3'</li>\n",
       "\t<li>'CCNQ'</li>\n",
       "</ol>\n"
      ],
      "text/latex": [
       "\\begin{enumerate*}\n",
       "\\item 'PAK5'\n",
       "\\item 'COP1'\n",
       "\\item 'TENT5C'\n",
       "\\item 'MRE11'\n",
       "\\item 'CDKN2Ap14ARF'\n",
       "\\item 'PRKN'\n",
       "\\item 'ABRAXAS1'\n",
       "\\item 'RFFL'\n",
       "\\item 'INSRR'\n",
       "\\item 'TIMM8B'\n",
       "\\item 'OBSL1'\n",
       "\\item 'ELOC'\n",
       "\\item 'SDCCAG8'\n",
       "\\item 'NSD2'\n",
       "\\item 'NSD3'\n",
       "\\item 'CCNQ'\n",
       "\\end{enumerate*}\n"
      ],
      "text/markdown": [
       "1. 'PAK5'\n",
       "2. 'COP1'\n",
       "3. 'TENT5C'\n",
       "4. 'MRE11'\n",
       "5. 'CDKN2Ap14ARF'\n",
       "6. 'PRKN'\n",
       "7. 'ABRAXAS1'\n",
       "8. 'RFFL'\n",
       "9. 'INSRR'\n",
       "10. 'TIMM8B'\n",
       "11. 'OBSL1'\n",
       "12. 'ELOC'\n",
       "13. 'SDCCAG8'\n",
       "14. 'NSD2'\n",
       "15. 'NSD3'\n",
       "16. 'CCNQ'\n",
       "\n",
       "\n"
      ],
      "text/plain": [
       " [1] \"PAK5\"         \"COP1\"         \"TENT5C\"       \"MRE11\"        \"CDKN2Ap14ARF\"\n",
       " [6] \"PRKN\"         \"ABRAXAS1\"     \"RFFL\"         \"INSRR\"        \"TIMM8B\"      \n",
       "[11] \"OBSL1\"        \"ELOC\"         \"SDCCAG8\"      \"NSD2\"         \"NSD3\"        \n",
       "[16] \"CCNQ\"        "
      ]
     },
     "metadata": {},
     "output_type": "display_data"
    }
   ],
   "source": [
    "length(unique(impact$Hugo_Symbol[! impact$Hugo_Symbol %in% cancer_genes_list$Hugo.Symbol]))\n",
    "unique(impact$Hugo_Symbol[! impact$Hugo_Symbol %in% cancer_genes_list$Hugo.Symbol])"
   ]
  },
  {
   "cell_type": "code",
   "execution_count": 64,
   "metadata": {},
   "outputs": [],
   "source": [
    "impact[, c(\"OncoKB.Oncogene\", \"OncoKB.TSG\")] <- left_join(impact, cancer_genes_list,\n",
    "                                                          by = c(\"Hugo_Symbol\" = \"Hugo.Symbol\"))[,c(\"OncoKB.Oncogene\", \"OncoKB.TSG\")]"
   ]
  },
  {
   "cell_type": "code",
   "execution_count": 65,
   "metadata": {},
   "outputs": [
    {
     "data": {
      "text/html": [
       "<table>\n",
       "<thead><tr><th scope=col>Hugo_Symbol</th><th scope=col>Chromosome</th><th scope=col>Start_Position</th><th scope=col>End_Position</th><th scope=col>Consequence</th><th scope=col>Variant_Type</th><th scope=col>Reference_Allele</th><th scope=col>Tumor_Seq_Allele2</th><th scope=col>Tumor_Sample_Barcode</th><th scope=col>cDNA_change</th><th scope=col>⋯</th><th scope=col>mut_key</th><th scope=col>sample_mut_key</th><th scope=col>frequency_in_normals</th><th scope=col>Kaviar_AF</th><th scope=col>cosmic_count</th><th scope=col>is_a_hotspot</th><th scope=col>is_a_3d_hotspot</th><th scope=col>oncogenic</th><th scope=col>OncoKB.Oncogene</th><th scope=col>OncoKB.TSG</th></tr></thead>\n",
       "<tbody>\n",
       "\t<tr><td><span style=white-space:pre-wrap>TP53  </span>   </td><td>17                                               </td><td><span style=white-space:pre-wrap>  7577515</span></td><td><span style=white-space:pre-wrap>  7577515</span></td><td>nonsynonymous_SNV                                </td><td>SNP                                              </td><td>T                                                </td><td>G                                                </td><td>P-0000012-T02-IM3                                </td><td>c.766A&gt;C                                      </td><td>⋯                                                </td><td>17_7577515_T_G                                   </td><td>P-0000012-T02-IM3_17_7577515_T_G                 </td><td>0                                                </td><td>0.0e+00                                          </td><td>1                                                </td><td>unknown                                          </td><td>unknown                                          </td><td>Oncogenic                                        </td><td><span style=white-space:pre-wrap>   </span>      </td><td>Yes                                              </td></tr>\n",
       "\t<tr><td>ARID1A                                                   </td><td>1                                                        </td><td> 27101572                                                </td><td> 27101572                                                </td><td><span style=white-space:pre-wrap>synonymous_SNV   </span></td><td>SNP                                                      </td><td>C                                                        </td><td>G                                                        </td><td>P-0000012-T02-IM3                                        </td><td>c.4854C&gt;G                                             </td><td>⋯                                                        </td><td>1_27101572_C_G                                           </td><td>P-0000012-T02-IM3_1_27101572_C_G                         </td><td>0                                                        </td><td>0.0e+00                                                  </td><td>0                                                        </td><td>unknown                                                  </td><td>unknown                                                  </td><td><span style=white-space:pre-wrap>Unknown  </span>        </td><td><span style=white-space:pre-wrap>   </span>              </td><td>Yes                                                      </td></tr>\n",
       "\t<tr><td>PTPRS                                                    </td><td>19                                                       </td><td><span style=white-space:pre-wrap>  5244030</span>        </td><td><span style=white-space:pre-wrap>  5244030</span>        </td><td><span style=white-space:pre-wrap>synonymous_SNV   </span></td><td>SNP                                                      </td><td>C                                                        </td><td>G                                                        </td><td>P-0000012-T02-IM3                                        </td><td>c.1452G&gt;C                                             </td><td>⋯                                                        </td><td>19_5244030_C_G                                           </td><td>P-0000012-T02-IM3_19_5244030_C_G                         </td><td>0                                                        </td><td>0.0e+00                                                  </td><td>0                                                        </td><td>unknown                                                  </td><td>unknown                                                  </td><td><span style=white-space:pre-wrap>Unknown  </span>        </td><td><span style=white-space:pre-wrap>   </span>              </td><td><span style=white-space:pre-wrap>   </span>              </td></tr>\n",
       "\t<tr><td>PIK3R3                                           </td><td>1                                                </td><td> 46521514                                        </td><td> 46521514                                        </td><td>nonsynonymous_SNV                                </td><td>SNP                                              </td><td>G                                                </td><td>C                                                </td><td>P-0000012-T03-IM3                                </td><td>c.894C&gt;G                                      </td><td>⋯                                                </td><td>1_46521514_G_C                                   </td><td>P-0000012-T03-IM3_1_46521514_G_C                 </td><td>0                                                </td><td>0.0e+00                                          </td><td>0                                                </td><td>unknown                                          </td><td>unknown                                          </td><td><span style=white-space:pre-wrap>Unknown  </span></td><td><span style=white-space:pre-wrap>   </span>      </td><td>Yes                                              </td></tr>\n",
       "\t<tr><td><span style=white-space:pre-wrap>ATR   </span>   </td><td>3                                                </td><td>142178126                                        </td><td>142178126                                        </td><td>nonsynonymous_SNV                                </td><td>SNP                                              </td><td>C                                                </td><td>A                                                </td><td>P-0000012-T03-IM3                                </td><td>c.7292G&gt;T                                     </td><td>⋯                                                </td><td>3_142178126_C_A                                  </td><td>P-0000012-T03-IM3_3_142178126_C_A                </td><td>0                                                </td><td>6.5e-06                                          </td><td>0                                                </td><td>unknown                                          </td><td>unknown                                          </td><td><span style=white-space:pre-wrap>Unknown  </span></td><td><span style=white-space:pre-wrap>   </span>      </td><td>Yes                                              </td></tr>\n",
       "\t<tr><td>PDGFRA                                           </td><td>4                                                </td><td> 55139732                                        </td><td> 55139732                                        </td><td>nonsynonymous_SNV                                </td><td>SNP                                              </td><td>T                                                </td><td>A                                                </td><td>P-0000012-T03-IM3                                </td><td>c.1393T&gt;A                                     </td><td>⋯                                                </td><td>4_55139732_T_A                                   </td><td>P-0000012-T03-IM3_4_55139732_T_A                 </td><td>0                                                </td><td>0.0e+00                                          </td><td>0                                                </td><td>unknown                                          </td><td>unknown                                          </td><td><span style=white-space:pre-wrap>Unknown  </span></td><td>Yes                                              </td><td><span style=white-space:pre-wrap>   </span>      </td></tr>\n",
       "</tbody>\n",
       "</table>\n"
      ],
      "text/latex": [
       "\\begin{tabular}{r|lllllllllllllllllllllllllllllllll}\n",
       " Hugo\\_Symbol & Chromosome & Start\\_Position & End\\_Position & Consequence & Variant\\_Type & Reference\\_Allele & Tumor\\_Seq\\_Allele2 & Tumor\\_Sample\\_Barcode & cDNA\\_change & ⋯ & mut\\_key & sample\\_mut\\_key & frequency\\_in\\_normals & Kaviar\\_AF & cosmic\\_count & is\\_a\\_hotspot & is\\_a\\_3d\\_hotspot & oncogenic & OncoKB.Oncogene & OncoKB.TSG\\\\\n",
       "\\hline\n",
       "\t TP53                                      & 17                                        &   7577515                                 &   7577515                                 & nonsynonymous\\_SNV                       & SNP                                       & T                                         & G                                         & P-0000012-T02-IM3                         & c.766A>C                                  & ⋯                                         & 17\\_7577515\\_T\\_G                      & P-0000012-T02-IM3\\_17\\_7577515\\_T\\_G  & 0                                         & 0.0e+00                                   & 1                                         & unknown                                   & unknown                                   & Oncogenic                                 &                                           & Yes                                      \\\\\n",
       "\t ARID1A                                    & 1                                         &  27101572                                 &  27101572                                 & synonymous\\_SNV                          & SNP                                       & C                                         & G                                         & P-0000012-T02-IM3                         & c.4854C>G                                 & ⋯                                         & 1\\_27101572\\_C\\_G                      & P-0000012-T02-IM3\\_1\\_27101572\\_C\\_G  & 0                                         & 0.0e+00                                   & 0                                         & unknown                                   & unknown                                   & Unknown                                   &                                           & Yes                                      \\\\\n",
       "\t PTPRS                                     & 19                                        &   5244030                                 &   5244030                                 & synonymous\\_SNV                          & SNP                                       & C                                         & G                                         & P-0000012-T02-IM3                         & c.1452G>C                                 & ⋯                                         & 19\\_5244030\\_C\\_G                      & P-0000012-T02-IM3\\_19\\_5244030\\_C\\_G  & 0                                         & 0.0e+00                                   & 0                                         & unknown                                   & unknown                                   & Unknown                                   &                                           &                                          \\\\\n",
       "\t PIK3R3                                    & 1                                         &  46521514                                 &  46521514                                 & nonsynonymous\\_SNV                       & SNP                                       & G                                         & C                                         & P-0000012-T03-IM3                         & c.894C>G                                  & ⋯                                         & 1\\_46521514\\_G\\_C                      & P-0000012-T03-IM3\\_1\\_46521514\\_G\\_C  & 0                                         & 0.0e+00                                   & 0                                         & unknown                                   & unknown                                   & Unknown                                   &                                           & Yes                                      \\\\\n",
       "\t ATR                                       & 3                                         & 142178126                                 & 142178126                                 & nonsynonymous\\_SNV                       & SNP                                       & C                                         & A                                         & P-0000012-T03-IM3                         & c.7292G>T                                 & ⋯                                         & 3\\_142178126\\_C\\_A                     & P-0000012-T03-IM3\\_3\\_142178126\\_C\\_A & 0                                         & 6.5e-06                                   & 0                                         & unknown                                   & unknown                                   & Unknown                                   &                                           & Yes                                      \\\\\n",
       "\t PDGFRA                                    & 4                                         &  55139732                                 &  55139732                                 & nonsynonymous\\_SNV                       & SNP                                       & T                                         & A                                         & P-0000012-T03-IM3                         & c.1393T>A                                 & ⋯                                         & 4\\_55139732\\_T\\_A                      & P-0000012-T03-IM3\\_4\\_55139732\\_T\\_A  & 0                                         & 0.0e+00                                   & 0                                         & unknown                                   & unknown                                   & Unknown                                   & Yes                                       &                                          \\\\\n",
       "\\end{tabular}\n"
      ],
      "text/markdown": [
       "\n",
       "Hugo_Symbol | Chromosome | Start_Position | End_Position | Consequence | Variant_Type | Reference_Allele | Tumor_Seq_Allele2 | Tumor_Sample_Barcode | cDNA_change | ⋯ | mut_key | sample_mut_key | frequency_in_normals | Kaviar_AF | cosmic_count | is_a_hotspot | is_a_3d_hotspot | oncogenic | OncoKB.Oncogene | OncoKB.TSG | \n",
       "|---|---|---|---|---|---|\n",
       "| TP53                              | 17                                |   7577515                         |   7577515                         | nonsynonymous_SNV                 | SNP                               | T                                 | G                                 | P-0000012-T02-IM3                 | c.766A>C                          | ⋯                                 | 17_7577515_T_G                    | P-0000012-T02-IM3_17_7577515_T_G  | 0                                 | 0.0e+00                           | 1                                 | unknown                           | unknown                           | Oncogenic                         |                                   | Yes                               | \n",
       "| ARID1A                            | 1                                 |  27101572                         |  27101572                         | synonymous_SNV                    | SNP                               | C                                 | G                                 | P-0000012-T02-IM3                 | c.4854C>G                         | ⋯                                 | 1_27101572_C_G                    | P-0000012-T02-IM3_1_27101572_C_G  | 0                                 | 0.0e+00                           | 0                                 | unknown                           | unknown                           | Unknown                           |                                   | Yes                               | \n",
       "| PTPRS                             | 19                                |   5244030                         |   5244030                         | synonymous_SNV                    | SNP                               | C                                 | G                                 | P-0000012-T02-IM3                 | c.1452G>C                         | ⋯                                 | 19_5244030_C_G                    | P-0000012-T02-IM3_19_5244030_C_G  | 0                                 | 0.0e+00                           | 0                                 | unknown                           | unknown                           | Unknown                           |                                   |                                   | \n",
       "| PIK3R3                            | 1                                 |  46521514                         |  46521514                         | nonsynonymous_SNV                 | SNP                               | G                                 | C                                 | P-0000012-T03-IM3                 | c.894C>G                          | ⋯                                 | 1_46521514_G_C                    | P-0000012-T03-IM3_1_46521514_G_C  | 0                                 | 0.0e+00                           | 0                                 | unknown                           | unknown                           | Unknown                           |                                   | Yes                               | \n",
       "| ATR                               | 3                                 | 142178126                         | 142178126                         | nonsynonymous_SNV                 | SNP                               | C                                 | A                                 | P-0000012-T03-IM3                 | c.7292G>T                         | ⋯                                 | 3_142178126_C_A                   | P-0000012-T03-IM3_3_142178126_C_A | 0                                 | 6.5e-06                           | 0                                 | unknown                           | unknown                           | Unknown                           |                                   | Yes                               | \n",
       "| PDGFRA                            | 4                                 |  55139732                         |  55139732                         | nonsynonymous_SNV                 | SNP                               | T                                 | A                                 | P-0000012-T03-IM3                 | c.1393T>A                         | ⋯                                 | 4_55139732_T_A                    | P-0000012-T03-IM3_4_55139732_T_A  | 0                                 | 0.0e+00                           | 0                                 | unknown                           | unknown                           | Unknown                           | Yes                               |                                   | \n",
       "\n",
       "\n"
      ],
      "text/plain": [
       "  Hugo_Symbol Chromosome Start_Position End_Position Consequence      \n",
       "1 TP53        17           7577515        7577515    nonsynonymous_SNV\n",
       "2 ARID1A      1           27101572       27101572    synonymous_SNV   \n",
       "3 PTPRS       19           5244030        5244030    synonymous_SNV   \n",
       "4 PIK3R3      1           46521514       46521514    nonsynonymous_SNV\n",
       "5 ATR         3          142178126      142178126    nonsynonymous_SNV\n",
       "6 PDGFRA      4           55139732       55139732    nonsynonymous_SNV\n",
       "  Variant_Type Reference_Allele Tumor_Seq_Allele2 Tumor_Sample_Barcode\n",
       "1 SNP          T                G                 P-0000012-T02-IM3   \n",
       "2 SNP          C                G                 P-0000012-T02-IM3   \n",
       "3 SNP          C                G                 P-0000012-T02-IM3   \n",
       "4 SNP          G                C                 P-0000012-T03-IM3   \n",
       "5 SNP          C                A                 P-0000012-T03-IM3   \n",
       "6 SNP          T                A                 P-0000012-T03-IM3   \n",
       "  cDNA_change ⋯ mut_key         sample_mut_key                   \n",
       "1 c.766A>C    ⋯ 17_7577515_T_G  P-0000012-T02-IM3_17_7577515_T_G \n",
       "2 c.4854C>G   ⋯ 1_27101572_C_G  P-0000012-T02-IM3_1_27101572_C_G \n",
       "3 c.1452G>C   ⋯ 19_5244030_C_G  P-0000012-T02-IM3_19_5244030_C_G \n",
       "4 c.894C>G    ⋯ 1_46521514_G_C  P-0000012-T03-IM3_1_46521514_G_C \n",
       "5 c.7292G>T   ⋯ 3_142178126_C_A P-0000012-T03-IM3_3_142178126_C_A\n",
       "6 c.1393T>A   ⋯ 4_55139732_T_A  P-0000012-T03-IM3_4_55139732_T_A \n",
       "  frequency_in_normals Kaviar_AF cosmic_count is_a_hotspot is_a_3d_hotspot\n",
       "1 0                    0.0e+00   1            unknown      unknown        \n",
       "2 0                    0.0e+00   0            unknown      unknown        \n",
       "3 0                    0.0e+00   0            unknown      unknown        \n",
       "4 0                    0.0e+00   0            unknown      unknown        \n",
       "5 0                    6.5e-06   0            unknown      unknown        \n",
       "6 0                    0.0e+00   0            unknown      unknown        \n",
       "  oncogenic OncoKB.Oncogene OncoKB.TSG\n",
       "1 Oncogenic                 Yes       \n",
       "2 Unknown                   Yes       \n",
       "3 Unknown                             \n",
       "4 Unknown                   Yes       \n",
       "5 Unknown                   Yes       \n",
       "6 Unknown   Yes                       "
      ]
     },
     "metadata": {},
     "output_type": "display_data"
    }
   ],
   "source": [
    "head(impact)"
   ]
  },
  {
   "cell_type": "markdown",
   "metadata": {},
   "source": [
    "### `gene_type`"
   ]
  },
  {
   "cell_type": "code",
   "execution_count": 66,
   "metadata": {},
   "outputs": [
    {
     "data": {
      "text/html": [
       "<ol class=list-inline>\n",
       "\t<li>''</li>\n",
       "\t<li>'Yes'</li>\n",
       "\t<li>NA</li>\n",
       "</ol>\n"
      ],
      "text/latex": [
       "\\begin{enumerate*}\n",
       "\\item ''\n",
       "\\item 'Yes'\n",
       "\\item NA\n",
       "\\end{enumerate*}\n"
      ],
      "text/markdown": [
       "1. ''\n",
       "2. 'Yes'\n",
       "3. NA\n",
       "\n",
       "\n"
      ],
      "text/plain": [
       "[1] \"\"    \"Yes\" NA   "
      ]
     },
     "metadata": {},
     "output_type": "display_data"
    },
    {
     "data": {
      "text/html": [
       "<ol class=list-inline>\n",
       "\t<li>'Yes'</li>\n",
       "\t<li>''</li>\n",
       "\t<li>NA</li>\n",
       "</ol>\n"
      ],
      "text/latex": [
       "\\begin{enumerate*}\n",
       "\\item 'Yes'\n",
       "\\item ''\n",
       "\\item NA\n",
       "\\end{enumerate*}\n"
      ],
      "text/markdown": [
       "1. 'Yes'\n",
       "2. ''\n",
       "3. NA\n",
       "\n",
       "\n"
      ],
      "text/plain": [
       "[1] \"Yes\" \"\"    NA   "
      ]
     },
     "metadata": {},
     "output_type": "display_data"
    }
   ],
   "source": [
    "head(unique(impact$OncoKB.Oncogene))\n",
    "head(unique(impact$OncoKB.TSG))"
   ]
  },
  {
   "cell_type": "code",
   "execution_count": 67,
   "metadata": {},
   "outputs": [],
   "source": [
    "impact$gene_type <- \"unknown\"\n",
    "impact$gene_type[impact$OncoKB.Oncogene == \"Yes\"] <- \"oncogene\"\n",
    "impact$gene_type[impact$OncoKB.TSG == \"Yes\"] <- \"tsg\"\n",
    "impact$gene_type[impact$OncoKB.Oncogene == \"Yes\" & impact$OncoKB.TSG == \"Yes\"] <- \"oncogene_and_tsg\"\n",
    "\n",
    "impact$OncoKB.Oncogene <- NULL\n",
    "impact$OncoKB.TSG      <- NULL"
   ]
  },
  {
   "cell_type": "code",
   "execution_count": 68,
   "metadata": {},
   "outputs": [
    {
     "data": {
      "text/plain": [
       "\n",
       "        oncogene oncogene_and_tsg              tsg          unknown \n",
       "           61945             6235           116097            64016 "
      ]
     },
     "metadata": {},
     "output_type": "display_data"
    }
   ],
   "source": [
    "table(impact$gene_type)"
   ]
  },
  {
   "cell_type": "markdown",
   "metadata": {},
   "source": [
    "## Resume of the operations needed to get the additional features"
   ]
  },
  {
   "cell_type": "markdown",
   "metadata": {},
   "source": [
    "The following function `add_features()` adds the wanted feature to `impact` as done it the precedent sections, it will be added to `custom_tools.R`, as well as the `get_cosmic_count()` function created to parse `cosmic70`."
   ]
  },
  {
   "cell_type": "code",
   "execution_count": 69,
   "metadata": {},
   "outputs": [],
   "source": [
    "add_features <- function(data_folder_name, impact, annotations = FALSE, oncokb = FALSE, gene_type = FALSE) {\n",
    "    \n",
    "    if (annotations) {\n",
    "      # 1. Get the raw data\n",
    "      impact_annotated <- read.table(paste0(data_folder_name, \"/dominik/all_IMPACT_mutations_180508.simple.hg19_multianno.txt\"),\n",
    "                                     sep = \"\\t\", stringsAsFactors = FALSE, header = TRUE)\n",
    "\n",
    "\n",
    "      # 2. Create keys to join the two dataframes and extract the features\n",
    "      impact_annotated$join_key <- paste(impact_annotated$Chr,\n",
    "                                         impact_annotated$Start,\n",
    "                                         impact_annotated$Ref,\n",
    "                                         impact_annotated$Alt,\n",
    "                                         sep = '_')\n",
    "      impact_annotated <- unique(impact_annotated[, c(\"join_key\", \"Kaviar_AF\", \"cosmic70\")])\n",
    "      impact[, c(\"Kaviar_AF\", \"cosmic70\")] <- left_join(impact, impact_annotated,\n",
    "                                                        by = c(\"mut_key\" = \"join_key\"))[, c(\"Kaviar_AF\", \"cosmic70\")]\n",
    "\n",
    "\n",
    "      # 3. Process the raw features\n",
    "      ## Kaviar_AF\n",
    "      impact$Kaviar_AF[(impact$Kaviar_AF == '.')] <- list('0')\n",
    "      impact$Kaviar_AF <- sapply(impact$Kaviar_AF, function(s) as.double(s))\n",
    "\n",
    "      ## cosmic_count\n",
    "      impact$cosmic70[(impact$cosmic70 == '.')] <- list('OCCURENCE=0')\n",
    "      impact$cosmic_count <- sapply(impact$cosmic70, get_cosmic_count)\n",
    "      impact$cosmic70 <- NULL\n",
    "    }\n",
    "    \n",
    "                                   \n",
    "    if(oncokb) {\n",
    "      # 1. Get the raw data\n",
    "      impact_oncokb <- read.table(paste0(data_folder_name, \"/oncokb_annotate/oncokb_annotated_cleaned_IMPACT_mutations_180508.txt\"),\n",
    "                                  sep = \"\\t\", stringsAsFactors = FALSE, header = TRUE)\n",
    "\n",
    "\n",
    "      # 2. Create keys to join the two dataframes and extract the features\n",
    "      impact_oncokb <- unique(impact_oncokb[, c(\"mut_key\", \"is.a.hotspot\", \"is.a.3d.hotspot\", \"oncogenic\")])\n",
    "      impact[, c(\"is_a_hotspot\", \"is_a_3d_hotspot\", \"oncogenic\")] <- left_join(impact, impact_oncokb,\n",
    "                                                                               by = c(\"mut_key\" = \"mut_key\"))[, c(\"is.a.hotspot\",\n",
    "                                                                                                                  \"is.a.3d.hotspot\",\n",
    "                                                                                                                  \"oncogenic\")]\n",
    "\n",
    "\n",
    "      # 3. Process the raw features\n",
    "      ## is_a_hostpot\n",
    "      impact$is_a_hotspot[impact$is_a_hotspot == \"Y\"  ] <- \"yes\"\n",
    "      impact$is_a_hotspot[impact$is_a_hotspot != \"yes\"] <- \"unknown\"\n",
    "\n",
    "      ## is_a_3d_hostpot\n",
    "      impact$is_a_3d_hotspot[impact$is_a_3d_hotspot == \"Y\"  ] <- \"yes\"\n",
    "      impact$is_a_3d_hotspot[impact$is_a_3d_hotspot != \"yes\"] <- \"unknown\"\n",
    "\n",
    "      ## oncogenic\n",
    "      impact$oncogenic[impact$oncogenic == \"\"] <- \"Unknown\"\n",
    "    }\n",
    "\n",
    "\n",
    "    if(gene_type) {\n",
    "      # 1. Get the raw data\n",
    "      cancer_genes_list <- read.table(paste0(data_folder_name, \"/other_databases/CancerGenesList.txt\"),\n",
    "                                      sep = \"\\t\", stringsAsFactors = FALSE, header = TRUE, comment.char = '')\n",
    "\n",
    "\n",
    "      # 2. Create keys to join the two dataframes and extract the features\n",
    "      impact[, c(\"OncoKB.Oncogene\", \"OncoKB.TSG\")] <- left_join(impact, cancer_genes_list,\n",
    "                                                                by = c(\"Hugo_Symbol\" = \"Hugo.Symbol\"))[,c(\"OncoKB.Oncogene\", \"OncoKB.TSG\")]\n",
    "\n",
    "\n",
    "      # 3. Process the raw features\n",
    "      ## gene_type\n",
    "      impact$gene_type <- \"unknown\"\n",
    "      impact$gene_type[impact$OncoKB.Oncogene == \"Yes\"] <- \"oncogene\"\n",
    "      impact$gene_type[impact$OncoKB.TSG == \"Yes\"]      <- \"tsg\"\n",
    "      impact$gene_type[impact$OncoKB.Oncogene == \"Yes\" & impact$OncoKB.TSG == \"Yes\"] <- \"oncogene_and_tsg\"\n",
    "\n",
    "      impact$OncoKB.Oncogene <- NULL\n",
    "      impact$OncoKB.TSG      <- NULL\n",
    "    }\n",
    "                               \n",
    "    return (impact)\n",
    "}"
   ]
  },
  {
   "cell_type": "code",
   "execution_count": 70,
   "metadata": {},
   "outputs": [
    {
     "data": {
      "text/html": [
       "32"
      ],
      "text/latex": [
       "32"
      ],
      "text/markdown": [
       "32"
      ],
      "text/plain": [
       "[1] 32"
      ]
     },
     "metadata": {},
     "output_type": "display_data"
    },
    {
     "data": {
      "text/html": [
       "248293"
      ],
      "text/latex": [
       "248293"
      ],
      "text/markdown": [
       "248293"
      ],
      "text/plain": [
       "[1] 248293"
      ]
     },
     "metadata": {},
     "output_type": "display_data"
    }
   ],
   "source": [
    "impact <- get_cleaned_impact(\"../../../data\")\n",
    "impact <- add_features(\"../../../data\", impact, annotations = TRUE, oncokb = TRUE, gene_type = TRUE)\n",
    "ncol(impact) # 6 new columns : Kaviar_AF, cosmic_count, is_a_hotspot, is_a_3D_hotspot, oncogenic, gene_type\n",
    "nrow(impact)"
   ]
  }
 ],
 "metadata": {
  "kernelspec": {
   "display_name": "R",
   "language": "R",
   "name": "ir"
  },
  "language_info": {
   "codemirror_mode": "r",
   "file_extension": ".r",
   "mimetype": "text/x-r-source",
   "name": "R",
   "pygments_lexer": "r",
   "version": "3.5.1"
  },
  "notify_time": "10",
  "toc": {
   "base_numbering": 1,
   "nav_menu": {},
   "number_sections": true,
   "sideBar": false,
   "skip_h1_title": true,
   "title_cell": "Table of Contents",
   "title_sidebar": "Contents",
   "toc_cell": true,
   "toc_position": {},
   "toc_section_display": true,
   "toc_window_display": false
  }
 },
 "nbformat": 4,
 "nbformat_minor": 2
}
