{
 "cells": [
  {
   "cell_type": "markdown",
   "metadata": {
    "heading_collapsed": true
   },
   "source": [
    "# Venn diagramm"
   ]
  },
  {
   "cell_type": "code",
   "execution_count": null,
   "metadata": {
    "hidden": true
   },
   "outputs": [],
   "source": [
    "install.packages('VennDiagram')\n",
    "library(VennDiagram)"
   ]
  },
  {
   "cell_type": "code",
   "execution_count": null,
   "metadata": {
    "hidden": true
   },
   "outputs": [],
   "source": [
    "plot_Venn_diagramm <- function(a, b, name_a, name_b) {\n",
    "    options(repr.plot.res = 100) # set a high-definition resolution for the jupyter notebooks plots (DPI)\n",
    "    notebook_plot_size(2, 2)\n",
    "    \n",
    "    return (draw.pairwise.venn(\n",
    "    length(a),\n",
    "    length(b),\n",
    "    sum(a %in% b),\n",
    "    category = c(name_a, name_b),\n",
    "    fill = c(\"blue\", \"red\"),\n",
    "    alpha = c(0.5, 0.5),\n",
    "    cat.pos = c(0, 0),\n",
    "    scaled = TRUE))\n",
    "}\n",
    "\n",
    "plot_Venn_diagramm(oncokb_genes, candl_genes, \"oncokb\", \"candl\")"
   ]
  },
  {
   "cell_type": "code",
   "execution_count": null,
   "metadata": {
    "hidden": true
   },
   "outputs": [],
   "source": [
    "notebook_plot_size(6, 6)\n",
    "draw.triple.venn(\n",
    "length(oncokb_genes),\n",
    "length(cgi_genes),\n",
    "length(civic_genes),\n",
    "sum(oncokb_genes %in% cgi_genes),\n",
    "sum(cgi_genes %in% civic_genes),\n",
    "sum(civic_genes %in% oncokb_genes),\n",
    "sum(cgi_genes %in% oncokb_genes & cgi_genes %in% civic_genes),\n",
    "category = c(\"oncokb\", \"cgi\", \"civic\"),\n",
    "lty = rep(\"blank\", 3),\n",
    "fill = c(\"light blue\", \"pink\", \"green\"),\n",
    "alpha = rep(0.5, 3),\n",
    "cat.pos = rep(0, 3),\n",
    "cat.dist = rep(0.025, 3),\n",
    "scaled = TRUE)"
   ]
  },
  {
   "cell_type": "markdown",
   "metadata": {
    "heading_collapsed": true
   },
   "source": [
    "# ggballoonplot"
   ]
  },
  {
   "cell_type": "code",
   "execution_count": null,
   "metadata": {
    "hidden": true
   },
   "outputs": [],
   "source": [
    "install.packages(\"ggpubr\")\n",
    "library(ggpubr)\n",
    "theme_set(theme_pubr())\n",
    "\n",
    "impact <- read.table(\"../../../data/cleaned_IMPACT_mutations_180508.txt\", sep = \"\\t\", stringsAsFactors = FALSE, header = TRUE)\n",
    "\n",
    "ggballoonplot(as.data.frame(table(impact$Hugo_Symbol,\n",
    "                                  impact$Variant_Type)),\n",
    "              fill = \"value\") + scale_fill_viridis_c(option = \"C\")"
   ]
  },
  {
   "cell_type": "code",
   "execution_count": null,
   "metadata": {
    "hidden": true
   },
   "outputs": [],
   "source": [
    "# install.packages(\"ggpubr\")\n",
    "# library(ggpubr)\n",
    "# theme_set(theme_pubr())\n",
    "\n",
    "colnames = c(\"is_in_oncokb\", \"is_in_civic\", \"is_in_cgi\", \"is_in_candl\")\n",
    "\n",
    "r <- data.frame()\n",
    "\n",
    "for (col in colnames) {\n",
    "    r <- rbind(r, impact %>% filter(!! sym(col) == \"yes\") %>%\n",
    "                summarise(colnames = substr(col, 7, nchar(col)),\n",
    "                          oncokb = sum(is_in_oncokb == \"yes\"),\n",
    "                          civic  = sum(is_in_civic == \"yes\"),\n",
    "                          cgi    = sum(is_in_cgi == \"yes\"),\n",
    "                          candl  = sum(is_in_candl == \"yes\")))\n",
    "}\n",
    "r\n",
    "ggballoonplot(r[,c(\"oncokb\", \"civic\", \"cgi\", \"candl\")], fill = \"value\") + scale_fill_viridis_c(option = \"C\")"
   ]
  },
  {
   "cell_type": "code",
   "execution_count": 22,
   "metadata": {
    "hidden": true
   },
   "outputs": [],
   "source": [
    "source(\"../src/utils/custom_tools.R\")\n",
    "setup_environment(\"../src/utils\")"
   ]
  },
  {
   "cell_type": "code",
   "execution_count": 3,
   "metadata": {
    "hidden": true
   },
   "outputs": [],
   "source": [
    "impact <- read.table(\"../data/cleaned_IMPACT_mutations_180508.txt\", sep = \"\\t\", stringsAsFactors = FALSE, header = TRUE)\n",
    "#impact <- add_features(\"../data/\", impact, annotations = TRUE)"
   ]
  },
  {
   "cell_type": "markdown",
   "metadata": {},
   "source": [
    "# mutation distances checker"
   ]
  },
  {
   "cell_type": "code",
   "execution_count": null,
   "metadata": {},
   "outputs": [],
   "source": [
    "check_distance <- function(starts, ends, mut_key, result) {\n",
    "    if (length(starts) <= 1)\n",
    "        return (result)\n",
    "    \n",
    "    for (i in 2:length(starts)) {\n",
    "        if (starts[[i]] <= starts[[1]] & ends[[i]] >= starts[[1]] | starts[[i]] >= starts[[1]] & starts[[i]] <= ends[[1]]) {\n",
    "            r1 <- data.frame(paste(starts[[1]], ends[[1]], sep = '_'), mut_key[[1]])\n",
    "            r2 <- data.frame(paste(starts[[i]], ends[[i]], sep = '_'), mut_key[[i]])\n",
    "            colnames(r1) <- c(\"v1\", \"v2\")\n",
    "            colnames(r2) <- c(\"v1\", \"v2\")\n",
    "            \n",
    "            \n",
    "            result <- rbind(result, r1)\n",
    "            result <- rbind(result, r2)\n",
    "            \n",
    "            starts <- starts[-1]\n",
    "            starts <- starts[-i]\n",
    "            \n",
    "            ends <- ends[-1]\n",
    "            ends <- ends[-i]\n",
    "            \n",
    "            mut_key <- mut_key[-1]\n",
    "            mut_key <- mut_key[-i]\n",
    "            \n",
    "            break\n",
    "        }\n",
    "    }\n",
    "    \n",
    "    if (length(starts) <= 1)\n",
    "        return (result)\n",
    "    \n",
    "    return (check_distance(starts[2:length(starts)], ends[2:length(starts)], mut_key[2:length(starts)], result))\n",
    "}\n",
    "\n",
    "get_pos <- function(result) {\n",
    "    if (nrow(result) == 0)\n",
    "        return (\"\")\n",
    "    else\n",
    "        return (toString(result$v1))\n",
    "}\n",
    "\n",
    "get_mut <- function(result) {\n",
    "    if (nrow(result) == 0)\n",
    "        return (\"\")\n",
    "    else\n",
    "        return (toString(result$v2))\n",
    "}\n",
    "\n",
    "\n",
    "\n",
    "\n",
    "dd2 <- dd %>% group_by(Tumor_Sample_Barcode, Hugo_Symbol) %>% summarise(count = n(),\n",
    "                                                                       pos = get_pos(check_distance(Start_Position, End_Position, mut_key, data.frame())),\n",
    "                                                                       mut_key = get_mut(check_distance(Start_Position, End_Position, mut_key, data.frame()))) %>%\n",
    "                                                             filter(pos != \"\")\n",
    "nrow(dd2)\n",
    "head(dd2, 10)"
   ]
  },
  {
   "cell_type": "markdown",
   "metadata": {},
   "source": [
    "# Test cbioportal"
   ]
  },
  {
   "cell_type": "code",
   "execution_count": 32,
   "metadata": {},
   "outputs": [
    {
     "name": "stdout",
     "output_type": "stream",
     "text": [
      "[1] \"🚧​ work in progress 🚧​\"\n"
     ]
    }
   ],
   "source": [
    "utf8::utf8_print('\\U0001f6a7 work in progress \\U0001f6a7')"
   ]
  },
  {
   "cell_type": "markdown",
   "metadata": {},
   "source": [
    "```shell\n",
    "$ curl \"http://www.cbioportal.org/webservice.do?cmd=getClinicalData&case_set_id=msk_impact_2017_all\" --output cbioportal.txt```"
   ]
  },
  {
   "cell_type": "code",
   "execution_count": 21,
   "metadata": {},
   "outputs": [],
   "source": [
    "cbioportal <- read.table(\"../../../data/other_databases/cbioportal.txt\",\n",
    "                         sep = \"\\t\", stringsAsFactors = FALSE, header = TRUE, fill = TRUE)"
   ]
  },
  {
   "cell_type": "code",
   "execution_count": 22,
   "metadata": {
    "scrolled": false
   },
   "outputs": [
    {
     "data": {
      "text/html": [
       "<table>\n",
       "<thead><tr><th scope=col>CASE_ID</th><th scope=col>CANCER_TYPE</th><th scope=col>CANCER_TYPE_DETAILED</th><th scope=col>DNA_INPUT</th><th scope=col>MATCHED_STATUS</th><th scope=col>METASTATIC_SITE</th><th scope=col>ONCOTREE_CODE</th><th scope=col>OS_MONTHS</th><th scope=col>OS_STATUS</th><th scope=col>PRIMARY_SITE</th><th scope=col>SAMPLE_CLASS</th><th scope=col>SAMPLE_COLLECTION_SOURCE</th><th scope=col>SAMPLE_COVERAGE</th><th scope=col>SAMPLE_TYPE</th><th scope=col>SEX</th><th scope=col>SMOKING_HISTORY</th><th scope=col>SPECIMEN_PRESERVATION_TYPE</th><th scope=col>SPECIMEN_TYPE</th><th scope=col>TUMOR_PURITY</th><th scope=col>VITAL_STATUS</th></tr></thead>\n",
       "<tbody>\n",
       "\t<tr><td>P-0005947-T01-IM5                </td><td>Bladder Cancer                   </td><td>Upper Tract Urothelial Carcinoma </td><td>250                              </td><td>Matched                          </td><td>                                 </td><td>UTUC                             </td><td>19.00                            </td><td>LIVING                           </td><td>Upper Tract                      </td><td>Tumor                            </td><td>In-House                         </td><td> 648                             </td><td>Primary                          </td><td>Female                           </td><td>Unknown                          </td><td>DNA                              </td><td>Resection                        </td><td>80                               </td><td>ALIVE                            </td></tr>\n",
       "\t<tr><td>P-0009180-T01-IM5                </td><td>Melanoma                         </td><td>Cutaneous Melanoma               </td><td>250                              </td><td>Matched                          </td><td>Lymph Node, Regional             </td><td>SKCM                             </td><td>   NA                            </td><td>DECEASED                         </td><td>Skin                             </td><td>Tumor                            </td><td>In-House                         </td><td> 750                             </td><td>Metastasis                       </td><td>Female                           </td><td>Never                            </td><td>FFPE                             </td><td>Resection                        </td><td>10                               </td><td>DECEASED                         </td></tr>\n",
       "\t<tr><td>P-0008840-T01-IM5                </td><td>Non-Small Cell Lung Cancer       </td><td>Lung Adenocarcinoma              </td><td>250                              </td><td>Matched                          </td><td>Lymph Node                       </td><td>LUAD                             </td><td> 1.78                            </td><td>LIVING                           </td><td>Lung                             </td><td>Tumor                            </td><td>In-House                         </td><td> 978                             </td><td>Metastasis                       </td><td>Female                           </td><td>Prev/Curr Smoker                 </td><td>FFPE                             </td><td>Resection                        </td><td>30                               </td><td>ALIVE                            </td></tr>\n",
       "\t<tr><td>P-0009304-T01-IM5                </td><td>Glioma                           </td><td>Glioblastoma Multiforme          </td><td>250                              </td><td>Matched                          </td><td>                                 </td><td>GBM                              </td><td> 1.22                            </td><td>LIVING                           </td><td>Brain                            </td><td>Tumor                            </td><td>Outside                          </td><td>1124                             </td><td>Primary                          </td><td>Female                           </td><td>Unknown                          </td><td>FFPE                             </td><td>Biopsy                           </td><td>50                               </td><td>ALIVE                            </td></tr>\n",
       "\t<tr><td>P-0002010-T02-IM5                </td><td>Ovarian Cancer                   </td><td>Clear Cell Ovarian Cancer        </td><td>250                              </td><td>Matched                          </td><td>Liver                            </td><td>CCOV                             </td><td> 6.28                            </td><td>DECEASED                         </td><td>Ovary                            </td><td>Tumor                            </td><td>In-House                         </td><td> 862                             </td><td>Metastasis                       </td><td>Female                           </td><td>Never                            </td><td>FFPE                             </td><td>Resection                        </td><td>70                               </td><td>DECEASED                         </td></tr>\n",
       "\t<tr><td>P-0004434-T01-IM5                </td><td>Breast Cancer                    </td><td>Breast Invasive Lobular Carcinoma</td><td>250                              </td><td>Matched                          </td><td>Ipsilateral Breast               </td><td>ILC                              </td><td>17.85                            </td><td>LIVING                           </td><td>Breast                           </td><td>Tumor                            </td><td>Outside                          </td><td> 718                             </td><td>Metastasis                       </td><td>Female                           </td><td>Prev/Curr Smoker                 </td><td>DNA                              </td><td>Biopsy                           </td><td>50                               </td><td>ALIVE                            </td></tr>\n",
       "</tbody>\n",
       "</table>\n"
      ],
      "text/latex": [
       "\\begin{tabular}{r|llllllllllllllllllll}\n",
       " CASE\\_ID & CANCER\\_TYPE & CANCER\\_TYPE\\_DETAILED & DNA\\_INPUT & MATCHED\\_STATUS & METASTATIC\\_SITE & ONCOTREE\\_CODE & OS\\_MONTHS & OS\\_STATUS & PRIMARY\\_SITE & SAMPLE\\_CLASS & SAMPLE\\_COLLECTION\\_SOURCE & SAMPLE\\_COVERAGE & SAMPLE\\_TYPE & SEX & SMOKING\\_HISTORY & SPECIMEN\\_PRESERVATION\\_TYPE & SPECIMEN\\_TYPE & TUMOR\\_PURITY & VITAL\\_STATUS\\\\\n",
       "\\hline\n",
       "\t P-0005947-T01-IM5                 & Bladder Cancer                    & Upper Tract Urothelial Carcinoma  & 250                               & Matched                           &                                   & UTUC                              & 19.00                             & LIVING                            & Upper Tract                       & Tumor                             & In-House                          &  648                              & Primary                           & Female                            & Unknown                           & DNA                               & Resection                         & 80                                & ALIVE                            \\\\\n",
       "\t P-0009180-T01-IM5                 & Melanoma                          & Cutaneous Melanoma                & 250                               & Matched                           & Lymph Node, Regional              & SKCM                              &    NA                             & DECEASED                          & Skin                              & Tumor                             & In-House                          &  750                              & Metastasis                        & Female                            & Never                             & FFPE                              & Resection                         & 10                                & DECEASED                         \\\\\n",
       "\t P-0008840-T01-IM5                 & Non-Small Cell Lung Cancer        & Lung Adenocarcinoma               & 250                               & Matched                           & Lymph Node                        & LUAD                              &  1.78                             & LIVING                            & Lung                              & Tumor                             & In-House                          &  978                              & Metastasis                        & Female                            & Prev/Curr Smoker                  & FFPE                              & Resection                         & 30                                & ALIVE                            \\\\\n",
       "\t P-0009304-T01-IM5                 & Glioma                            & Glioblastoma Multiforme           & 250                               & Matched                           &                                   & GBM                               &  1.22                             & LIVING                            & Brain                             & Tumor                             & Outside                           & 1124                              & Primary                           & Female                            & Unknown                           & FFPE                              & Biopsy                            & 50                                & ALIVE                            \\\\\n",
       "\t P-0002010-T02-IM5                 & Ovarian Cancer                    & Clear Cell Ovarian Cancer         & 250                               & Matched                           & Liver                             & CCOV                              &  6.28                             & DECEASED                          & Ovary                             & Tumor                             & In-House                          &  862                              & Metastasis                        & Female                            & Never                             & FFPE                              & Resection                         & 70                                & DECEASED                         \\\\\n",
       "\t P-0004434-T01-IM5                 & Breast Cancer                     & Breast Invasive Lobular Carcinoma & 250                               & Matched                           & Ipsilateral Breast                & ILC                               & 17.85                             & LIVING                            & Breast                            & Tumor                             & Outside                           &  718                              & Metastasis                        & Female                            & Prev/Curr Smoker                  & DNA                               & Biopsy                            & 50                                & ALIVE                            \\\\\n",
       "\\end{tabular}\n"
      ],
      "text/markdown": [
       "\n",
       "CASE_ID | CANCER_TYPE | CANCER_TYPE_DETAILED | DNA_INPUT | MATCHED_STATUS | METASTATIC_SITE | ONCOTREE_CODE | OS_MONTHS | OS_STATUS | PRIMARY_SITE | SAMPLE_CLASS | SAMPLE_COLLECTION_SOURCE | SAMPLE_COVERAGE | SAMPLE_TYPE | SEX | SMOKING_HISTORY | SPECIMEN_PRESERVATION_TYPE | SPECIMEN_TYPE | TUMOR_PURITY | VITAL_STATUS | \n",
       "|---|---|---|---|---|---|\n",
       "| P-0005947-T01-IM5                 | Bladder Cancer                    | Upper Tract Urothelial Carcinoma  | 250                               | Matched                           |                                   | UTUC                              | 19.00                             | LIVING                            | Upper Tract                       | Tumor                             | In-House                          |  648                              | Primary                           | Female                            | Unknown                           | DNA                               | Resection                         | 80                                | ALIVE                             | \n",
       "| P-0009180-T01-IM5                 | Melanoma                          | Cutaneous Melanoma                | 250                               | Matched                           | Lymph Node, Regional              | SKCM                              |    NA                             | DECEASED                          | Skin                              | Tumor                             | In-House                          |  750                              | Metastasis                        | Female                            | Never                             | FFPE                              | Resection                         | 10                                | DECEASED                          | \n",
       "| P-0008840-T01-IM5                 | Non-Small Cell Lung Cancer        | Lung Adenocarcinoma               | 250                               | Matched                           | Lymph Node                        | LUAD                              |  1.78                             | LIVING                            | Lung                              | Tumor                             | In-House                          |  978                              | Metastasis                        | Female                            | Prev/Curr Smoker                  | FFPE                              | Resection                         | 30                                | ALIVE                             | \n",
       "| P-0009304-T01-IM5                 | Glioma                            | Glioblastoma Multiforme           | 250                               | Matched                           |                                   | GBM                               |  1.22                             | LIVING                            | Brain                             | Tumor                             | Outside                           | 1124                              | Primary                           | Female                            | Unknown                           | FFPE                              | Biopsy                            | 50                                | ALIVE                             | \n",
       "| P-0002010-T02-IM5                 | Ovarian Cancer                    | Clear Cell Ovarian Cancer         | 250                               | Matched                           | Liver                             | CCOV                              |  6.28                             | DECEASED                          | Ovary                             | Tumor                             | In-House                          |  862                              | Metastasis                        | Female                            | Never                             | FFPE                              | Resection                         | 70                                | DECEASED                          | \n",
       "| P-0004434-T01-IM5                 | Breast Cancer                     | Breast Invasive Lobular Carcinoma | 250                               | Matched                           | Ipsilateral Breast                | ILC                               | 17.85                             | LIVING                            | Breast                            | Tumor                             | Outside                           |  718                              | Metastasis                        | Female                            | Prev/Curr Smoker                  | DNA                               | Biopsy                            | 50                                | ALIVE                             | \n",
       "\n",
       "\n"
      ],
      "text/plain": [
       "  CASE_ID           CANCER_TYPE               \n",
       "1 P-0005947-T01-IM5 Bladder Cancer            \n",
       "2 P-0009180-T01-IM5 Melanoma                  \n",
       "3 P-0008840-T01-IM5 Non-Small Cell Lung Cancer\n",
       "4 P-0009304-T01-IM5 Glioma                    \n",
       "5 P-0002010-T02-IM5 Ovarian Cancer            \n",
       "6 P-0004434-T01-IM5 Breast Cancer             \n",
       "  CANCER_TYPE_DETAILED              DNA_INPUT MATCHED_STATUS\n",
       "1 Upper Tract Urothelial Carcinoma  250       Matched       \n",
       "2 Cutaneous Melanoma                250       Matched       \n",
       "3 Lung Adenocarcinoma               250       Matched       \n",
       "4 Glioblastoma Multiforme           250       Matched       \n",
       "5 Clear Cell Ovarian Cancer         250       Matched       \n",
       "6 Breast Invasive Lobular Carcinoma 250       Matched       \n",
       "  METASTATIC_SITE      ONCOTREE_CODE OS_MONTHS OS_STATUS PRIMARY_SITE\n",
       "1                      UTUC          19.00     LIVING    Upper Tract \n",
       "2 Lymph Node, Regional SKCM             NA     DECEASED  Skin        \n",
       "3 Lymph Node           LUAD           1.78     LIVING    Lung        \n",
       "4                      GBM            1.22     LIVING    Brain       \n",
       "5 Liver                CCOV           6.28     DECEASED  Ovary       \n",
       "6 Ipsilateral Breast   ILC           17.85     LIVING    Breast      \n",
       "  SAMPLE_CLASS SAMPLE_COLLECTION_SOURCE SAMPLE_COVERAGE SAMPLE_TYPE SEX   \n",
       "1 Tumor        In-House                  648            Primary     Female\n",
       "2 Tumor        In-House                  750            Metastasis  Female\n",
       "3 Tumor        In-House                  978            Metastasis  Female\n",
       "4 Tumor        Outside                  1124            Primary     Female\n",
       "5 Tumor        In-House                  862            Metastasis  Female\n",
       "6 Tumor        Outside                   718            Metastasis  Female\n",
       "  SMOKING_HISTORY  SPECIMEN_PRESERVATION_TYPE SPECIMEN_TYPE TUMOR_PURITY\n",
       "1 Unknown          DNA                        Resection     80          \n",
       "2 Never            FFPE                       Resection     10          \n",
       "3 Prev/Curr Smoker FFPE                       Resection     30          \n",
       "4 Unknown          FFPE                       Biopsy        50          \n",
       "5 Never            FFPE                       Resection     70          \n",
       "6 Prev/Curr Smoker DNA                        Biopsy        50          \n",
       "  VITAL_STATUS\n",
       "1 ALIVE       \n",
       "2 DECEASED    \n",
       "3 ALIVE       \n",
       "4 ALIVE       \n",
       "5 DECEASED    \n",
       "6 ALIVE       "
      ]
     },
     "metadata": {},
     "output_type": "display_data"
    }
   ],
   "source": [
    "head(cbioportal)"
   ]
  },
  {
   "cell_type": "code",
   "execution_count": 35,
   "metadata": {
    "scrolled": true
   },
   "outputs": [
    {
     "data": {
      "text/html": [
       "<table>\n",
       "<thead><tr><th scope=col>values</th><th scope=col>count</th><th scope=col>freq</th></tr></thead>\n",
       "<tbody>\n",
       "\t<tr><td>TRUE       </td><td>20040      </td><td>87.2%      </td></tr>\n",
       "\t<tr><td>FALSE      </td><td> 2950      </td><td>12.8%      </td></tr>\n",
       "\t<tr><td>-- total --</td><td>22990      </td><td>100%       </td></tr>\n",
       "</tbody>\n",
       "</table>\n"
      ],
      "text/latex": [
       "\\begin{tabular}{r|lll}\n",
       " values & count & freq\\\\\n",
       "\\hline\n",
       "\t TRUE        & 20040       & 87.2\\%    \\\\\n",
       "\t FALSE       &  2950       & 12.8\\%    \\\\\n",
       "\t -- total -- & 22990       & 100\\%     \\\\\n",
       "\\end{tabular}\n"
      ],
      "text/markdown": [
       "\n",
       "values | count | freq | \n",
       "|---|---|---|\n",
       "| TRUE        | 20040       | 87.2%       | \n",
       "| FALSE       |  2950       | 12.8%       | \n",
       "| -- total -- | 22990       | 100%        | \n",
       "\n",
       "\n"
      ],
      "text/plain": [
       "  values      count freq \n",
       "1 TRUE        20040 87.2%\n",
       "2 FALSE        2950 12.8%\n",
       "3 -- total -- 22990 100% "
      ]
     },
     "metadata": {},
     "output_type": "display_data"
    },
    {
     "data": {
      "text/html": [
       "<table>\n",
       "<thead><tr><th scope=col>values</th><th scope=col>count</th><th scope=col>freq</th></tr></thead>\n",
       "<tbody>\n",
       "\t<tr><td>FALSE      </td><td>16283      </td><td>70.8%      </td></tr>\n",
       "\t<tr><td>TRUE       </td><td> 6707      </td><td>29.2%      </td></tr>\n",
       "\t<tr><td>-- total --</td><td>22990      </td><td>100%       </td></tr>\n",
       "</tbody>\n",
       "</table>\n"
      ],
      "text/latex": [
       "\\begin{tabular}{r|lll}\n",
       " values & count & freq\\\\\n",
       "\\hline\n",
       "\t FALSE       & 16283       & 70.8\\%    \\\\\n",
       "\t TRUE        &  6707       & 29.2\\%    \\\\\n",
       "\t -- total -- & 22990       & 100\\%     \\\\\n",
       "\\end{tabular}\n"
      ],
      "text/markdown": [
       "\n",
       "values | count | freq | \n",
       "|---|---|---|\n",
       "| FALSE       | 16283       | 70.8%       | \n",
       "| TRUE        |  6707       | 29.2%       | \n",
       "| -- total -- | 22990       | 100%        | \n",
       "\n",
       "\n"
      ],
      "text/plain": [
       "  values      count freq \n",
       "1 FALSE       16283 70.8%\n",
       "2 TRUE         6707 29.2%\n",
       "3 -- total -- 22990 100% "
      ]
     },
     "metadata": {},
     "output_type": "display_data"
    },
    {
     "data": {
      "text/html": [
       "<table>\n",
       "<thead><tr><th scope=col>values</th><th scope=col>count</th><th scope=col>freq</th></tr></thead>\n",
       "<tbody>\n",
       "\t<tr><td>FALSE      </td><td>2064       </td><td>70%        </td></tr>\n",
       "\t<tr><td>TRUE       </td><td> 886       </td><td>30%        </td></tr>\n",
       "\t<tr><td>-- total --</td><td>2950       </td><td>100%       </td></tr>\n",
       "</tbody>\n",
       "</table>\n"
      ],
      "text/latex": [
       "\\begin{tabular}{r|lll}\n",
       " values & count & freq\\\\\n",
       "\\hline\n",
       "\t FALSE       & 2064        & 70\\%      \\\\\n",
       "\t TRUE        &  886        & 30\\%      \\\\\n",
       "\t -- total -- & 2950        & 100\\%     \\\\\n",
       "\\end{tabular}\n"
      ],
      "text/markdown": [
       "\n",
       "values | count | freq | \n",
       "|---|---|---|\n",
       "| FALSE       | 2064        | 70%         | \n",
       "| TRUE        |  886        | 30%         | \n",
       "| -- total -- | 2950        | 100%        | \n",
       "\n",
       "\n"
      ],
      "text/plain": [
       "  values      count freq\n",
       "1 FALSE       2064  70% \n",
       "2 TRUE         886  30% \n",
       "3 -- total -- 2950  100%"
      ]
     },
     "metadata": {},
     "output_type": "display_data"
    }
   ],
   "source": [
    "get_table(unique(impact$Tumor_Sample_Barcode) %in% keys$Tumor_Sample_Barcode)\n",
    "get_table(unique(impact$Tumor_Sample_Barcode) %in% cbioportal$CASE_ID)\n",
    "\n",
    "unmatched_keys <- impact[! impact$Tumor_Sample_Barcode %in% keys$Tumor_Sample_Barcode,]\n",
    "unmatched_cbio <- impact[! impact$Tumor_Sample_Barcode %in% cbioportal$CASE_ID,]\n",
    "\n",
    "get_table(unique(unmatched_keys$Tumor_Sample_Barcode) %in% cbioportal$CASE_ID)"
   ]
  },
  {
   "cell_type": "markdown",
   "metadata": {},
   "source": [
    "# Rename `Hugo_Symbol` in the final dataset"
   ]
  },
  {
   "cell_type": "markdown",
   "metadata": {
    "toc-hr-collapsed": true
   },
   "source": [
    "### [Modify] wrong or synonymous `Hugo_Symbol`"
   ]
  },
  {
   "cell_type": "markdown",
   "metadata": {},
   "source": [
    "Unfortunately there are some wrong/synonymous `Hugo_Symbol`. We use the [symbol checker tool](https://www.genenames.org/cgi-bin/symbol_checker) of the website HGNC (HUGO Gene Nomenclature Committee) to correct the errors, we give the result of `unique(impact$Hugo_Symbol)` to the symbol checker tool, and check which symbols are wrong/synonymous. Any incertitude was double ckecked with [OncoKB](http://oncokb.org/#/). Based on the results, the following 18 symbols were found to be unofficial:\n",
    "\n",
    "| Old Hugo Symbol  | New Hugo symbol | HGNC reason     |\n",
    "| ---------------- | --------------- | --------------- |\n",
    "| MLL3             | KMT2C           | Previous symbol |\n",
    "| PAK7             | PAK5            | Previous symbol |\n",
    "| RFWD2            | COP1            | Previous symbol |\n",
    "| MYCL1            | MYCL            | Previous symbol |\n",
    "| MLL2             | KMT2D           | Previous symbol |\n",
    "| MLL              | KMT2A           | Previous symbol |\n",
    "| FAM46C           | TENT5C          | Previous symbol |\n",
    "| MRE11A           | MRE11           | Previous symbol |\n",
    "| PARK2            | PRKN            | Previous symbol |\n",
    "| FAM175A          | ABRAXAS1        | Previous symbol |\n",
    "| TCEB1            | ELOC            | Previous symbol |\n",
    "| WHSC1            | NSD2            | Previous symbol |\n",
    "| WHSC1L1          | NSD3            | Previous symbol |\n",
    "| FAM58A           | CCNQ            | Previous symbol |\n",
    "| SETD8            | KMT5A           | Previous symbol |\n",
    "| MLL4             | KMT2B           | Synonyms        |\n",
    "| CDKN2Ap16INK4A   | CDKN2A          | Unmatched       |\n",
    "| CDKN2Ap14ARF     | CDKN2Ap14ARF    | Unmatched       |\n",
    "*The symbols `TCF3`, `TRAF2`and `ERF` are marked as \"Previous symbol\" and \"Approved symbol\" by HGNC, and are still considered official by OncoKB, so we kept them.\n",
    "\n",
    "We decided to rename every symbols that are classified as \"Previous Symbol\" and \"Synonyms\" (see next header). The processus applied to rename `CDKN2Ap16INK4A` and `CDKN2Ap14ARF` is detailed just after (see second header)."
   ]
  },
  {
   "cell_type": "markdown",
   "metadata": {},
   "source": [
    "#### Renaming the \"Previous Symbol\" and \"Synonyms\""
   ]
  },
  {
   "cell_type": "code",
   "execution_count": 48,
   "metadata": {},
   "outputs": [
    {
     "data": {
      "text/html": [
       "5696"
      ],
      "text/latex": [
       "5696"
      ],
      "text/markdown": [
       "5696"
      ],
      "text/plain": [
       "[1] 5696"
      ]
     },
     "metadata": {},
     "output_type": "display_data"
    }
   ],
   "source": [
    "old_Hugo_Symbol = c('MLL3', 'PAK7', 'RFWD2', 'MYCL1', 'MLL2', 'MLL', 'FAM46C', 'MRE11A', 'PARK2', 'FAM175A',\n",
    "                    'TCEB1', 'WHSC1', 'WHSC1L1', 'FAM58A', 'SETD8', 'MLL4')\n",
    "new_Hugo_Symbol = c('KMT2C', 'PAK5', 'COP1', 'MYCL', 'KMT2D', 'KMT2A', 'TENT5C', 'MRE11', 'PRKN', 'ABRAXAS1',\n",
    "                    'ELOC', 'NSD2', 'NSD3', 'CCNQ', 'KMT5A', 'KMT2B')\n",
    "\n",
    "has_old_symbol <- which(impact$Hugo_Symbol %in% old_Hugo_Symbol)\n",
    "length(impact$Hugo_Symbol[has_old_symbol]) # 5696 previous/synonyms symbols!"
   ]
  },
  {
   "cell_type": "code",
   "execution_count": 49,
   "metadata": {},
   "outputs": [
    {
     "data": {
      "text/html": [
       "<table>\n",
       "<thead><tr><th scope=col>old</th><th scope=col>new</th></tr></thead>\n",
       "<tbody>\n",
       "\t<tr><td>MLL3    </td><td>KMT2C   </td></tr>\n",
       "\t<tr><td>MYCL1   </td><td>MYCL    </td></tr>\n",
       "\t<tr><td>MLL2    </td><td>KMT2D   </td></tr>\n",
       "\t<tr><td>PAK7    </td><td>PAK5    </td></tr>\n",
       "\t<tr><td>MLL     </td><td>KMT2A   </td></tr>\n",
       "\t<tr><td>FAM46C  </td><td>TENT5C  </td></tr>\n",
       "\t<tr><td>MRE11A  </td><td>MRE11   </td></tr>\n",
       "\t<tr><td>PARK2   </td><td>PRKN    </td></tr>\n",
       "\t<tr><td>FAM175A </td><td>ABRAXAS1</td></tr>\n",
       "\t<tr><td>RFWD2   </td><td>COP1    </td></tr>\n",
       "</tbody>\n",
       "</table>\n"
      ],
      "text/latex": [
       "\\begin{tabular}{r|ll}\n",
       " old & new\\\\\n",
       "\\hline\n",
       "\t MLL3     & KMT2C   \\\\\n",
       "\t MYCL1    & MYCL    \\\\\n",
       "\t MLL2     & KMT2D   \\\\\n",
       "\t PAK7     & PAK5    \\\\\n",
       "\t MLL      & KMT2A   \\\\\n",
       "\t FAM46C   & TENT5C  \\\\\n",
       "\t MRE11A   & MRE11   \\\\\n",
       "\t PARK2    & PRKN    \\\\\n",
       "\t FAM175A  & ABRAXAS1\\\\\n",
       "\t RFWD2    & COP1    \\\\\n",
       "\\end{tabular}\n"
      ],
      "text/markdown": [
       "\n",
       "old | new | \n",
       "|---|---|---|---|---|---|---|---|---|---|\n",
       "| MLL3     | KMT2C    | \n",
       "| MYCL1    | MYCL     | \n",
       "| MLL2     | KMT2D    | \n",
       "| PAK7     | PAK5     | \n",
       "| MLL      | KMT2A    | \n",
       "| FAM46C   | TENT5C   | \n",
       "| MRE11A   | MRE11    | \n",
       "| PARK2    | PRKN     | \n",
       "| FAM175A  | ABRAXAS1 | \n",
       "| RFWD2    | COP1     | \n",
       "\n",
       "\n"
      ],
      "text/plain": [
       "   old     new     \n",
       "1  MLL3    KMT2C   \n",
       "2  MYCL1   MYCL    \n",
       "3  MLL2    KMT2D   \n",
       "4  PAK7    PAK5    \n",
       "5  MLL     KMT2A   \n",
       "6  FAM46C  TENT5C  \n",
       "7  MRE11A  MRE11   \n",
       "8  PARK2   PRKN    \n",
       "9  FAM175A ABRAXAS1\n",
       "10 RFWD2   COP1    "
      ]
     },
     "metadata": {},
     "output_type": "display_data"
    }
   ],
   "source": [
    "dd <- head(unique(impact$Hugo_Symbol[has_old_symbol]), 10)\n",
    "dd <- data.frame(dd, new_Hugo_Symbol[match(dd, old_Hugo_Symbol)], row.names = NULL)\n",
    "colnames(dd) <- c(\"old\", \"new\")\n",
    "dd"
   ]
  },
  {
   "cell_type": "code",
   "execution_count": 50,
   "metadata": {},
   "outputs": [],
   "source": [
    "# [~5696 rows] modify wrong/synonymous Hugo_Symbol\n",
    "impact$Hugo_Symbol[has_old_symbol] <- new_Hugo_Symbol[match(impact$Hugo_Symbol[has_old_symbol], old_Hugo_Symbol)]"
   ]
  },
  {
   "cell_type": "markdown",
   "metadata": {},
   "source": [
    "#### Renaming`CDKN2Ap16INK4A` and `CDKN2Ap14ARF`"
   ]
  },
  {
   "cell_type": "markdown",
   "metadata": {},
   "source": [
    "The symbole checker tool detected two symbols as \"Unmatched\", `CDKN2Ap16INK4A` and `CDKN2Ap14ARF`. These two symbols correspond to two different reading frame of the gene `CDKN2A`:\n",
    "* `CDKN2Ap16INK4A` is the \"classic\" reading frame for `CDKN2A`, the one used by OncoKB (see [OncoKB CDKN2A](http://oncokb.org/#/gene/CDKN2A))  \n",
    "   → RefSeq. NM_000077.4  \n",
    "   → [Homo sapiens cyclin dependent kinase inhibitor 2A (CDKN2A), transcript variant 1, mRNA](https://www.ncbi.nlm.nih.gov/nuccore/NM_000077.4)  \n",
    "   → [Wikipedia article p16](https://en.wikipedia.org/wiki/P16)\n",
    "* `CDKN2Ap14ARF` is an Alternative Reading Frame (ARF, as said in its name) for `CDKN2A`, not used by OncoKB  \n",
    "  → RefSeq. NM_058195.3  \n",
    "  → [Homo sapiens cyclin dependent kinase inhibitor 2A (CDKN2A), transcript variant 4, mRNA](https://www.ncbi.nlm.nih.gov/nuccore/NM_058195)  \n",
    "  → [Wikipedia article p14arf](https://en.wikipedia.org/wiki/P14arf)\n",
    "  \n",
    "We decided to replace every `CDKN2Ap16INK4A` by `CDKN2A`. We also decided to keep the name `CDKN2Ap14ARF` for the alternative reading frame, except when the mutation was already included, for this tumor sample, in the classic reading frame (in `CDKN2Ap16INK4A`), then we delete the mutation because it has already been read."
   ]
  },
  {
   "cell_type": "code",
   "execution_count": 51,
   "metadata": {},
   "outputs": [
    {
     "data": {
      "text/html": [
       "1270"
      ],
      "text/latex": [
       "1270"
      ],
      "text/markdown": [
       "1270"
      ],
      "text/plain": [
       "[1] 1270"
      ]
     },
     "metadata": {},
     "output_type": "display_data"
    }
   ],
   "source": [
    "nrow(impact[impact$Hugo_Symbol == \"CDKN2Ap16INK4A\",])"
   ]
  },
  {
   "cell_type": "code",
   "execution_count": 52,
   "metadata": {},
   "outputs": [],
   "source": [
    "# [~1270 rows] Hugo_Symbol = CDKN2Ap16INK4A -> CDKN2A\n",
    "impact$Hugo_Symbol[impact$Hugo_Symbol == \"CDKN2Ap16INK4A\"] <- \"CDKN2A\""
   ]
  },
  {
   "cell_type": "code",
   "execution_count": 53,
   "metadata": {},
   "outputs": [
    {
     "data": {
      "text/html": [
       "758"
      ],
      "text/latex": [
       "758"
      ],
      "text/markdown": [
       "758"
      ],
      "text/plain": [
       "[1] 758"
      ]
     },
     "metadata": {},
     "output_type": "display_data"
    },
    {
     "data": {
      "text/html": [
       "713"
      ],
      "text/latex": [
       "713"
      ],
      "text/markdown": [
       "713"
      ],
      "text/plain": [
       "[1] 713"
      ]
     },
     "metadata": {},
     "output_type": "display_data"
    }
   ],
   "source": [
    "nrow(impact[impact$Hugo_Symbol == \"CDKN2Ap14ARF\",]) # mutations having the alternative reading data frame\n",
    "dd <- impact %>% group_by(Tumor_Sample_Barcode) %>% summarise(has_both_reading_frame = sum(Hugo_Symbol == \"CDKN2Ap14ARF\") > 0 & sum(Hugo_Symbol == \"CDKN2A\") > 0) %>% filter(has_both_reading_frame)\n",
    "nrow(impact[impact$Hugo_Symbol == \"CDKN2Ap14ARF\" & impact$Tumor_Sample_Barcode %in% dd$Tumor_Sample_Barcode,]) # mutations having the alternative reading data frame and the classic reading data frame for this tumor sample"
   ]
  },
  {
   "cell_type": "markdown",
   "metadata": {},
   "source": [
    "We delete from `impact` the rows that are `CDKN2Ap14ARF` and have already been read in the classic reading frame:"
   ]
  },
  {
   "cell_type": "code",
   "execution_count": 54,
   "metadata": {},
   "outputs": [],
   "source": [
    "# [-713 rows] Hugo_Symbol = CDKN2Ap14ARF and CDKN2A in the tumor sample\n",
    "impact <- impact[! (impact$Hugo_Symbol == \"CDKN2Ap14ARF\" & impact$Tumor_Sample_Barcode %in% dd$Tumor_Sample_Barcode),]"
   ]
  },
  {
   "cell_type": "markdown",
   "metadata": {},
   "source": [
    "# Old cross_validate and other ml stuffs"
   ]
  },
  {
   "cell_type": "code",
   "execution_count": null,
   "metadata": {},
   "outputs": [],
   "source": [
    "from sklearn.model_selection import cross_validate\n",
    "\n",
    "def print_train_test_metrics(metrics, fold_number):\n",
    "    print(\"Fold #: [fit_time | score_time]\\n\",\n",
    "          \"  → accuracy: [test_accuracy | train_accuracy]\\n\",\n",
    "          \"  → ROC AUC : [test_roc_auc  | train_roc_auc]\\n\")\n",
    "    \n",
    "    for i in range(fold_number):\n",
    "        print(\"Fold %d: [%.2fs | %.2fs]\\n\"    % (i, metrics['fit_time'][i], metrics['score_time'][i]) +\n",
    "              \"  → accuracy: [%.3f | %.3f]\\n\" % (metrics['test_accuracy'][i], metrics['train_accuracy'][i]) +\n",
    "              \"  → ROC AUC : [%.3f | %.3f]\"   % (metrics['test_roc_auc'][i]  , metrics['train_roc_auc'][i]))\n",
    "        \n",
    "    print()\n",
    "\n",
    "def run(model, X, y, cv_strategy, print_fold_metrics = False, plot_roc = False, ax = None):\n",
    "    scoring_metrics = ['accuracy', 'roc_auc']\n",
    "    \n",
    "    metrics = cross_validate(model, X, y, cv = cv_strategy, scoring = scoring_metrics, return_train_score = True)\n",
    "    \n",
    "    if print_fold_metrics:\n",
    "        print_train_test_metrics(metrics, cv_strategy.get_n_splits())\n",
    "    \n",
    "    # mean metrics and 95% confidence interval on the metrics estimate (= 1.96 x standard_deviation)\n",
    "    print(\"## Accuracy: %0.2f ± %0.2f\\n\" % (np.mean(metrics['test_accuracy']),\n",
    "                                                1.96 * np.std(metrics['test_accuracy'])) +\n",
    "          \"## ROC AUC : %0.2f ± %0.2f\" % (np.mean(metrics['test_roc_auc']),\n",
    "                                              1.96 * np.std(metrics['test_roc_auc'])))\n",
    "    \n",
    "    if plot_roc:\n",
    "        run_roc(model, X, y, cv_strategy, ax)\n",
    "\n",
    "# strongly inspired by http://scikit-learn.org/stable/auto_examples/model_selection/plot_roc_crossval.html\n",
    "def run_roc(model, X, y, cv_strategy, ax):\n",
    "    from scipy import interp\n",
    "    from sklearn.metrics import roc_curve, auc\n",
    "    \n",
    "    mean_fpr = np.linspace(0, 1, 100) # [0, 0.01, 0.02, ..., 0.09]\n",
    "    tprs = [] # True Positive Rate for each fold\n",
    "    aucs = [] # ROC AUC for each fold\n",
    "            \n",
    "    i = 0\n",
    "    for train_index, test_index in cv_strategy.split(X, y):\n",
    "        model.fit(X.iloc[train_index], y.iloc[train_index])\n",
    "        y_pred = model.predict_proba(X.iloc[test_index])\n",
    "        # y_pred: 1st column = proba of 0 (y_pred[:, 0]), 2nd column = proba of 1 (y_pred[:, 1])\n",
    "        \n",
    "        # fpr: false positive rate\n",
    "        # tpr: true positive rate\n",
    "        fpr, tpr, thresholds = roc_curve(y.iloc[test_index], y_pred[:, 1])\n",
    "                \n",
    "        # because the length of fpr and tpr vary with the fold (size of thersholds  = nunique(y_pred[:, 1]) + 1), we can't just do\n",
    "        # fprs.append(fpr) and tprs.append(tpr)\n",
    "        tprs.append(interp(mean_fpr, fpr, tpr)) # linear interpolation to find the values for a 100 tpr\n",
    "        tprs[-1][0] = 0.0 # threshold > 1 for the first point\n",
    "        \n",
    "        roc_auc = auc(fpr, tpr)\n",
    "        aucs.append(roc_auc)\n",
    "        \n",
    "        ax.plot(fpr, tpr, linewidth = 0.7, alpha = 0.5,\n",
    "                label = 'ROC fold %d (AUC = %0.2f)' % (i, roc_auc))\n",
    "        i += 1\n",
    "        \n",
    "    ax.plot([0, 1], [0, 1], '--r', linewidth = 0.5, alpha = 0.8, label = 'random')\n",
    "    \n",
    "    ##############\n",
    "    ## mean ROC ##\n",
    "    ##############\n",
    "    mean_tpr = np.mean(tprs, axis = 0)\n",
    "    ax.plot(mean_fpr, mean_tpr, 'b', linewidth = 1,\n",
    "            label = 'mean ROC (AUC = %0.2f $\\pm$ %0.2f)' % (np.mean(aucs), 1.96 * np.std(aucs)))\n",
    "\n",
    "    ##################\n",
    "    ## mean ROC std ##\n",
    "    ##################\n",
    "    std_tprs = np.std(tprs, axis = 0)\n",
    "    ax.fill_between(mean_fpr, mean_tpr - std_tprs, mean_tpr + std_tprs, color = 'blue', alpha = 0.2,\n",
    "                     label='$\\pm$ 1 std. dev.')\n",
    "\n",
    "    \n",
    "    #####################\n",
    "    ## plot parameters ##\n",
    "    #####################\n",
    "    ax.set_xlim([-0.05, 1.05])\n",
    "    ax.set_ylim([-0.05, 1.05])\n",
    "    ax.set_xlabel('False Positive Rate')\n",
    "    ax.set_ylabel('True Positive Rate')\n",
    "    ax.legend(loc = \"lower right\", prop = {'size': 10})"
   ]
  },
  {
   "cell_type": "code",
   "execution_count": null,
   "metadata": {},
   "outputs": [],
   "source": [
    "from sklearn.model_selection import GridSearchCV\n",
    "\n",
    "def print_parameters_search_recap(grid_search_model):\n",
    "    print(\"Best parameters (see accuracy scores below): %s\" % str(grid_search_model.best_params_))\n",
    "    \n",
    "    for mean, std, parameters in zip(grid_search_model.cv_results_['mean_test_score'],\n",
    "                                     grid_search_model.cv_results_['std_test_score'],\n",
    "                                     grid_search_model.cv_results_['params']):\n",
    "        print(\"%0.2f ± %0.2f for %r\" % (mean, 1.96 * std, parameters))\n",
    "\n",
    "\n",
    "def run_grid_search(model, X, y, inner_cv_strategy, parameters_grid):\n",
    "    grid_search_model = GridSearchCV(model, parameters_grid, cv = inner_cv_strategy, scoring = 'accuracy', return_train_score = True, refit = True)\n",
    "    grid_search_model.fit(X, y)\n",
    "    \n",
    "    print_parameters_search_recap(grid_search_model)\n",
    "    \n",
    "    return (GridSearchCV(model, parameters_grid, cv = inner_cv_strategy, scoring = 'accuracy', return_train_score = True, refit = True))"
   ]
  },
  {
   "cell_type": "code",
   "execution_count": null,
   "metadata": {},
   "outputs": [],
   "source": [
    "from sklearn.preprocessing import StandardScaler\n",
    "scaler = StandardScaler()\n",
    "scaler.fit(X_train)\n",
    "X_train = scaler.transform(X_train)\n",
    "X_test  = scaler.transform(X_test)"
   ]
  },
  {
   "cell_type": "code",
   "execution_count": null,
   "metadata": {},
   "outputs": [],
   "source": []
  },
  {
   "cell_type": "code",
   "execution_count": null,
   "metadata": {},
   "outputs": [
    {
     "ename": "ERROR",
     "evalue": "Error in parse(text = x, srcfile = src): <text>:1:6: unexpected symbol\n1: from sklearn.model_selection\n         ^\n",
     "execution_count": 1,
     "output_type": "error",
     "traceback": [
      "Error in parse(text = x, srcfile = src): <text>:1:6: unexpected symbol\n1: from sklearn.model_selection\n         ^\nTraceback:\n"
     ]
    }
   ],
   "source": [
    "from sklearn.model_selection import StratifiedShuffleSplit\n",
    "\n",
    "# returns stratified randomized folds. The folds are made by preserving the percentage of samples for each class.\n",
    "cv_strategy = StratifiedShuffleSplit(n_splits = 5, test_size = 0.2, random_state = 1)"
   ]
  },
  {
   "cell_type": "code",
   "execution_count": 9,
   "metadata": {},
   "outputs": [],
   "source": [
    "from sklearn.model_selection import GridSearchCV\n",
    "\n",
    "# inner cross validation on hyperparameters\n",
    "inner_cv_strategy = StratifiedShuffleSplit(n_splits = 3, test_size = 0.2, random_state = 1)"
   ]
  },
  {
   "cell_type": "code",
   "execution_count": 10,
   "metadata": {},
   "outputs": [
    {
     "name": "stdout",
     "output_type": "stream",
     "text": [
      "Fold 0 :\n",
      "   → train_index (21759 elements) [22384  9014  2951 ... 12325  1992 23421]\n",
      "   → test_index  ( 5440 elements) [25681   326  3615 ...  8464 16587 15818]\n",
      "Fold 1 :\n",
      "   → train_index (21759 elements) [ 8628 18579  1037 ... 20352  6647 17410]\n",
      "   → test_index  ( 5440 elements) [20063 12561 14191 ...  4164   710 20468]\n",
      "Fold 2 :\n",
      "   → train_index (21759 elements) [ 1441 21283 25746 ... 17064 10776  1673]\n",
      "   → test_index  ( 5440 elements) [ 7412 17231 19251 ... 23327 12897  1196]\n",
      "Fold 3 :\n",
      "   → train_index (21759 elements) [16914 18024 19701 ...  7224 10318 20742]\n",
      "   → test_index  ( 5440 elements) [  480  6279 17232 ...  6841 17050  9946]\n",
      "Fold 4 :\n",
      "   → train_index (21759 elements) [  141  3724  7643 ...  9259 10806 12796]\n",
      "   → test_index  ( 5440 elements) [23573 25413 16572 ... 21823  5713  2985]\n"
     ]
    }
   ],
   "source": [
    "i = 0\n",
    "for train_index, test_index in cv_strategy.split(X, y):\n",
    "    print(\"Fold %d :\\n\" % i,\n",
    "          \"  → train_index (%5d elements) %s\\n\" % (len(train_index), str(train_index)),\n",
    "          \"  → test_index  (%5d elements) %s\"   % (len(test_index), str(test_index)))\n",
    "    i += 1"
   ]
  },
  {
   "cell_type": "code",
   "execution_count": null,
   "metadata": {},
   "outputs": [],
   "source": [
    "#import sys\n",
    "#sys.path.append('/Users/pierreguilmin/anaconda3/envs/impact-annotator_env/lib/python3.6/site-packages')\n",
    "#sys.path"
   ]
  },
  {
   "cell_type": "code",
   "execution_count": null,
   "metadata": {},
   "outputs": [],
   "source": [
    "from sklearn.tree import DecisionTreeClassifier, export_graphviz\n",
    "import graphviz\n",
    "\n",
    "model_DecisionTreeClassifier = DecisionTreeClassifier(random_state = 1)\n",
    "run_model(model_DecisionTreeClassifier, X, y, cv_strategy)\n",
    "\n",
    "model_DecisionTreeClassifier.fit(X, y)\n",
    "dot_data = export_graphviz(model_DecisionTreeClassifier, out_file = None, max_depth = 3, feature_names = X.columns.tolist(), class_names = ['non-somatic', 'somatic'], label = 'root', filled = True, proportion = True, rounded = True, special_characters = True, precision = 2) \n",
    "graph = graphviz.Source(dot_data) \n",
    "graph"
   ]
  },
  {
   "cell_type": "markdown",
   "metadata": {},
   "source": [
    "## Manual run_model"
   ]
  },
  {
   "cell_type": "code",
   "execution_count": null,
   "metadata": {},
   "outputs": [],
   "source": [
    "def run_model(model, X, y, cv_strategy, grid_search = False):\n",
    "    print('Run model')\n",
    "\n",
    "    metrics = pd.DataFrame(index = range(cv_strategy.get_n_splits()),\n",
    "                           columns = ['fit_time', 'score_time',\n",
    "                                      'train_accuracy', 'test_accuracy',\n",
    "                                      'train_roc_auc', 'test_roc_auc',\n",
    "                                      'test_fpr', 'test_tpr',\n",
    "                                      'gs_best_parameters', 'gs_cv_results'])\n",
    "    metrics.index.name = 'fold_number'\n",
    "    \n",
    "    i = 0\n",
    "    \n",
    "    # for each fold\n",
    "    for train_index, test_index in cv_strategy.split(X, y):\n",
    "        print('  - fold %d/%d...' % (i + 1, cv_strategy.get_n_splits()), end = '')\n",
    "        (X_train, X_test) = (X.iloc[train_index], X.iloc[test_index])\n",
    "        (y_train, y_test) = (y.iloc[train_index], y.iloc[test_index])\n",
    "\n",
    "        \n",
    "        # Fit model\n",
    "        start = time.time()\n",
    "        model.fit(X_train, y_train)\n",
    "        y_train_pred = model.predict_proba(X_train)[:, 1]\n",
    "        y_test_pred  = model.predict_proba(X_test) [:, 1]        \n",
    "        metrics.iloc[i].fit_time = time.time() - start\n",
    "        \n",
    "        # Get scores\n",
    "        start = time.time()\n",
    "        \n",
    "        # accuracy\n",
    "        metrics.iloc[i].train_accuracy = np.mean(model.predict(X_train) == y_train)\n",
    "        metrics.iloc[i].test_accuracy  = np.mean(model.predict(X_test)  == y_test)\n",
    "\n",
    "        # auc\n",
    "        fpr, tpr, thresholds = roc_curve(y_train, y_train_pred) # fpr: false positive rate, tpr: true positive rate\n",
    "        metrics.iloc[i].train_roc_auc = auc(fpr, tpr)\n",
    "\n",
    "        fpr, tpr, thresholds = roc_curve(y_test , y_test_pred)\n",
    "        metrics.iloc[i].test_roc_auc = auc(fpr, tpr)\n",
    "        metrics.iloc[i].test_fpr = fpr\n",
    "        metrics.iloc[i].test_tpr = tpr\n",
    "    \n",
    "        if grid_search:\n",
    "            metrics.iloc[i].gs_best_parameters = model.best_params_\n",
    "            metrics.iloc[i].gs_cv_results = model.cv_results_\n",
    "\n",
    "        metrics.iloc[i].score_time = time.time() - start\n",
    "\n",
    "        print(' done! (%.2fs)' % (metrics.iloc[i].fit_time + metrics.iloc[i].score_time))\n",
    "\n",
    "        i += 1\n",
    "        \n",
    "    return metrics"
   ]
  },
  {
   "cell_type": "markdown",
   "metadata": {},
   "source": [
    "# Old `Selene_Job.ipy`"
   ]
  },
  {
   "cell_type": "code",
   "execution_count": null,
   "metadata": {},
   "outputs": [],
   "source": [
    "from custom_tools import *\n",
    "from IPython import get_ipython\n",
    "from subprocess import check_output\n",
    "from subprocess import Popen, PIPE, STDOUT\n",
    "\n",
    "class Selene_Job:\n",
    "    def __init__(self, job_id):\n",
    "        self.job_id = job_id\n",
    "        self.local_job_directory_path = 'ssh_remote_jobs/job_' + str(job_id)\n",
    "        self.selene_ssh_remote_jobs_path = 'guilminp@selene.mskcc.org:/home/guilminp/impact-annotator/analysis/prediction/ssh_remote_jobs'\n",
    "        self.selene_job_directory_path = self.selene_ssh_remote_jobs_path + '/job_' + str(job_id)\n",
    "        \n",
    "        self.make_local_job_directory_()\n",
    "        \n",
    "\n",
    "    def make_local_job_directory_(self):\n",
    "        print('➞ mkdir ' + self.local_job_directory_path)\n",
    "\n",
    "        #p = Popen('mkdir ' + self.local_job_directory_path, shell = True, stdin = PIPE, stdout = PIPE, stderr = STDOUT)\n",
    "        #print(p.stdout.read())\n",
    "        #check_output('mkdir ' + self.local_job_directory_path, shell = True)\n",
    "        #get_ipython().run_line_magic('mkdir', '{self.local_job_directory_path}')\n",
    "        ! mkdir {self.local_job_directory_path}\n",
    "    \n",
    "\n",
    "    def run(self):\n",
    "        print('➞ scp ' + self.local_job_directory_path + ' to ' + self.selene_ssh_remote_jobs_path)\n",
    "        \n",
    "        #p = Popen('scp -r ' +  self.local_job_directory_path + ' ' + self.selene_ssh_remote_jobs_path, shell = True, stdin = PIPE, stdout = PIPE, stderr = STDOUT)\n",
    "        #print(p.stdout.read())\n",
    "        #check_output('scp -r ' +  self.local_job_directory_path + ' ' + self.selene_ssh_remote_jobs_path, shell = True)\n",
    "        #get_ipython().run_line_magic('system', 'scp -r {self.local_job_directory_path} {self.selene_ssh_remote_jobs_path}')\n",
    "        ! scp -r {self.local_job_directory_path} {self.selene_ssh_remote_jobs_path}\n",
    "\n",
    "        test = 'echo \"➞ Logged in $PWD on $HOSTNAME\"; \\\n",
    "                \\\n",
    "                echo \"➞ Load ~/.bash_profile\"; \\\n",
    "                source ~/.bash_profile; \\\n",
    "                export LSF_ENVDIR=/common/lsf/conf; export LSF_SERVERDIR=/common/lsf/9.1/linux2.6-glibc2.3-x86_64/etc; \\\n",
    "                \\\n",
    "                echo \"➞ Work on impact-annotator_env python virtualenv\"; \\\n",
    "                workon impact-annotator_env; \\\n",
    "                \\\n",
    "                cd ~/impact-annotator/analysis/prediction/ssh_remote_jobs/job_' + str(self.job_id) + '; \\\n",
    "                echo \"➞ Launch job in $PWD\"; \\\n",
    "                bsub -o job_output.txt -We 20 \"python script.py\"'\n",
    "\n",
    "        #p = Popen('ssh guilminp@selene.mskcc.org ' + test, shell = True, stdin = PIPE, stdout = PIPE, stderr = STDOUT)\n",
    "        #print(p.stdout.read())\n",
    "        #check_output('ssh guilminp@selene.mskcc.org ' + test, shell = True)\n",
    "        #get_ipython().run_line_magic('system', 'ssh guilminp@selene.mskcc.org \\'{test}\\'')\n",
    "        !ssh guilminp@selene.mskcc.org '{test}'\n",
    "\n",
    "    def get_results(self):        \n",
    "        test = 'cd ~/impact-annotator/analysis/prediction/ssh_remote_jobs/job_' + str(self.job_id) + '; \\\n",
    "               [ -e metrics.pkl ] && echo \"yes\" || echo \"no\"'\n",
    "            \n",
    "        #file_found = get_ipython().run_line_magic('ssh', 'guilminp@selene.mskcc.org \\'{test}\\'')\n",
    "        file_found = ! ssh guilminp@selene.mskcc.org '{test}'\n",
    "        file_found = file_found[0]\n",
    "\n",
    "        if file_found == \"yes\":\n",
    "            print_md(\"✅ <span style='color:green'>Job \\< \" + str(self.job_id) + \" \\> finished !</span>\\n\")\n",
    "            print('➞ scp ' + self.selene_job_directory_path + ' documents to ' + self.local_job_directory_path)\n",
    "            #get_ipython().run_line_magic('scp', '-r {self.selene_job_directory_path}/metrics.pkl {self.local_job_directory_path}')\n",
    "            ! scp -r {self.selene_job_directory_path}/metrics.pkl {self.local_job_directory_path}\n",
    "            #get_ipython().run_line_magic('scp', '-r {self.selene_job_directory_path}/job_output.txt {self.local_job_directory_path}')\n",
    "            ! scp -r {self.selene_job_directory_path}/job_output.txt {self.local_job_directory_path}\n",
    "\n",
    "            print('➞ Load metrics.pkl in pandas dataframe')\n",
    "            self.metrics = pd.read_pickle(self.local_job_directory_path + '/metrics.pkl')\n",
    "            \n",
    "            return(self.metrics)\n",
    "        else:\n",
    "            print_md(\"⚠️ <span style='color:red'>Job \\< \" + str(self.job_id) + \" \\> doesn't exist or is not done yet.</span>\\n\")"
   ]
  }
 ],
 "metadata": {
  "kernelspec": {
   "display_name": "Python 3",
   "language": "python",
   "name": "python3"
  },
  "language_info": {
   "codemirror_mode": {
    "name": "ipython",
    "version": 3
   },
   "file_extension": ".py",
   "mimetype": "text/x-python",
   "name": "python",
   "nbconvert_exporter": "python",
   "pygments_lexer": "ipython3",
   "version": "3.6.6"
  }
 },
 "nbformat": 4,
 "nbformat_minor": 2
}
