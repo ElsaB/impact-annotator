{
 "cells": [
  {
   "cell_type": "markdown",
   "metadata": {},
   "source": [
    "# Cluster job tutorial\n",
    "\n",
    "**Goal:** example of how to use the `Selene_Job` class to send a job to the cluster directly from the local notebook.\n",
    "  \n",
    "This notebook is divided in two parts:\n",
    "* **1. A classic machine learning task example**\n",
    "* **2. How to send it on the cluster**\n",
    "* **3. More computationally expensive example**"
   ]
  },
  {
   "cell_type": "code",
   "execution_count": 1,
   "metadata": {},
   "outputs": [
    {
     "name": "stdout",
     "output_type": "stream",
     "text": [
      "Setup environment... done!\n"
     ]
    },
    {
     "data": {
      "text/markdown": [
       "✅ <span style='color:green'>Working on **impact-annotator_env** conda environment.</span>"
      ],
      "text/plain": [
       "<IPython.core.display.Markdown object>"
      ]
     },
     "metadata": {},
     "output_type": "display_data"
    }
   ],
   "source": [
    "%run setup_environment.py\n",
    "%run ml_tools.py\n",
    "%run custom_tools.py\n",
    "%run Selene_Job.ipy\n",
    "\n",
    "current_conda_env = !echo $CONDA_DEFAULT_ENV\n",
    "check_conda_env(current_conda_env[0])"
   ]
  },
  {
   "cell_type": "markdown",
   "metadata": {},
   "source": [
    "## A classic machine learning task example"
   ]
  },
  {
   "cell_type": "code",
   "execution_count": 3,
   "metadata": {},
   "outputs": [],
   "source": [
    "# get raw data\n",
    "impact = pd.read_csv('../../data/annotated_final_IMPACT_mutations_180508.txt', sep = '\\t', low_memory = False)\n",
    "\n",
    "# shuffle data\n",
    "rng = np.random.RandomState(0)\n",
    "permutation = rng.permutation(len(impact))\n",
    "impact = impact.iloc[permutation]\n",
    "\n",
    "# create the is_somatic class\n",
    "impact['is_somatic'] = impact.confidence_class != \"UNLIKELY\"\n",
    "label_feature_name = 'is_somatic'\n",
    "\n",
    "# select data\n",
    "impact_selected = pd.concat([impact[~impact.is_somatic],\n",
    "                             impact[impact.is_somatic].iloc[0:20000]], ignore_index = True)\n",
    "    \n",
    "# choose features\n",
    "feature_names = ['t_depth', 't_vaf', 't_alt_count', 'n_depth', 'n_vaf', 'n_alt_count', 'sample_coverage', 'frequency_in_normals',\n",
    "                 'VEP_Consequence', 'VEP_VARIANT_CLASS', 'VEP_IMPACT', 'VEP_CLIN_SIG', 'VEP_COSMIC_CNT', 'VEP_gnomAD_AF', 'VEP_in_dbSNP',\n",
    "                 'VEP_gnomAD_total_AF_AFR', 'VEP_gnomAD_total_AF_AMR', 'VEP_gnomAD_total_AF_ASJ', 'VEP_gnomAD_total_AF_EAS', 'VEP_gnomAD_total_AF_FIN',\n",
    "                 'VEP_gnomAD_total_AF_NFE', 'VEP_gnomAD_total_AF_OTH', 'VEP_gnomAD_total_AF_max', 'VEP_gnomAD_total_AF', 'Kaviar_AF',\n",
    "                 'gene_type', label_feature_name]\n",
    "impact_selected = impact_selected[feature_names].dropna()\n",
    "    \n",
    "# transform categorical features\n",
    "categorical_features_names = [ 'VEP_Consequence', 'VEP_VARIANT_CLASS', 'VEP_IMPACT', 'VEP_CLIN_SIG', 'VEP_in_dbSNP', 'gene_type']\n",
    "impact_selected = pd.get_dummies(impact_selected, columns = categorical_features_names, sparse = True)\n",
    "\n",
    "# create features matrix and target array\n",
    "X = impact_selected.drop(label_feature_name, axis = 1)\n",
    "y = impact_selected[label_feature_name]"
   ]
  },
  {
   "cell_type": "code",
   "execution_count": 4,
   "metadata": {},
   "outputs": [
    {
     "name": "stdout",
     "output_type": "stream",
     "text": [
      "\n",
      "## Mean accuracy: 0.80 ± 0.01\n",
      "## Mean ROC AUC : 0.80 ± 0.02\n"
     ]
    }
   ],
   "source": [
    "# choose a cross-validation strategy\n",
    "from sklearn.model_selection import StratifiedShuffleSplit\n",
    "cv_strategy = StratifiedShuffleSplit(n_splits = 5, test_size = 0.2, random_state = 1)\n",
    "\n",
    "# choose a model\n",
    "from sklearn.naive_bayes import GaussianNB\n",
    "model_GaussianNB = GaussianNB()\n",
    "\n",
    "# run the model\n",
    "metrics = run_model(model_GaussianNB, X, y, cv_strategy)"
   ]
  },
  {
   "cell_type": "code",
   "execution_count": 5,
   "metadata": {},
   "outputs": [
    {
     "data": {
      "text/html": [
       "<div>\n",
       "<style scoped>\n",
       "    .dataframe tbody tr th:only-of-type {\n",
       "        vertical-align: middle;\n",
       "    }\n",
       "\n",
       "    .dataframe tbody tr th {\n",
       "        vertical-align: top;\n",
       "    }\n",
       "\n",
       "    .dataframe thead th {\n",
       "        text-align: right;\n",
       "    }\n",
       "</style>\n",
       "<table border=\"1\" class=\"dataframe\">\n",
       "  <thead>\n",
       "    <tr style=\"text-align: right;\">\n",
       "      <th></th>\n",
       "      <th>fit_time</th>\n",
       "      <th>score_time</th>\n",
       "      <th>train_accuracy</th>\n",
       "      <th>test_accuracy</th>\n",
       "      <th>train_roc_auc</th>\n",
       "      <th>test_roc_auc</th>\n",
       "      <th>best_parameters</th>\n",
       "    </tr>\n",
       "    <tr>\n",
       "      <th>fold_number</th>\n",
       "      <th></th>\n",
       "      <th></th>\n",
       "      <th></th>\n",
       "      <th></th>\n",
       "      <th></th>\n",
       "      <th></th>\n",
       "      <th></th>\n",
       "    </tr>\n",
       "  </thead>\n",
       "  <tbody>\n",
       "    <tr>\n",
       "      <th>0</th>\n",
       "      <td>0.0757122</td>\n",
       "      <td>0.040864</td>\n",
       "      <td>0.797739</td>\n",
       "      <td>0.799816</td>\n",
       "      <td>0.79922</td>\n",
       "      <td>0.788132</td>\n",
       "      <td>NaN</td>\n",
       "    </tr>\n",
       "    <tr>\n",
       "      <th>1</th>\n",
       "      <td>0.0666418</td>\n",
       "      <td>0.0434372</td>\n",
       "      <td>0.795119</td>\n",
       "      <td>0.795404</td>\n",
       "      <td>0.798381</td>\n",
       "      <td>0.806598</td>\n",
       "      <td>NaN</td>\n",
       "    </tr>\n",
       "    <tr>\n",
       "      <th>2</th>\n",
       "      <td>0.078414</td>\n",
       "      <td>0.0408421</td>\n",
       "      <td>0.793511</td>\n",
       "      <td>0.79761</td>\n",
       "      <td>0.79502</td>\n",
       "      <td>0.799848</td>\n",
       "      <td>NaN</td>\n",
       "    </tr>\n",
       "    <tr>\n",
       "      <th>3</th>\n",
       "      <td>0.067306</td>\n",
       "      <td>0.0402989</td>\n",
       "      <td>0.796498</td>\n",
       "      <td>0.800735</td>\n",
       "      <td>0.796747</td>\n",
       "      <td>0.793025</td>\n",
       "      <td>NaN</td>\n",
       "    </tr>\n",
       "    <tr>\n",
       "      <th>4</th>\n",
       "      <td>0.068732</td>\n",
       "      <td>0.0416908</td>\n",
       "      <td>0.79875</td>\n",
       "      <td>0.807169</td>\n",
       "      <td>0.798306</td>\n",
       "      <td>0.80942</td>\n",
       "      <td>NaN</td>\n",
       "    </tr>\n",
       "  </tbody>\n",
       "</table>\n",
       "</div>"
      ],
      "text/plain": [
       "              fit_time score_time train_accuracy test_accuracy train_roc_auc  \\\n",
       "fold_number                                                                    \n",
       "0            0.0757122   0.040864       0.797739      0.799816       0.79922   \n",
       "1            0.0666418  0.0434372       0.795119      0.795404      0.798381   \n",
       "2             0.078414  0.0408421       0.793511       0.79761       0.79502   \n",
       "3             0.067306  0.0402989       0.796498      0.800735      0.796747   \n",
       "4             0.068732  0.0416908        0.79875      0.807169      0.798306   \n",
       "\n",
       "            test_roc_auc best_parameters  \n",
       "fold_number                               \n",
       "0               0.788132             NaN  \n",
       "1               0.806598             NaN  \n",
       "2               0.799848             NaN  \n",
       "3               0.793025             NaN  \n",
       "4                0.80942             NaN  "
      ]
     },
     "execution_count": 5,
     "metadata": {},
     "output_type": "execute_result"
    }
   ],
   "source": [
    "# print the metrics\n",
    "metrics[['fit_time', 'score_time', 'train_accuracy', 'test_accuracy', 'train_roc_auc', 'test_roc_auc', 'best_parameters']]"
   ]
  },
  {
   "cell_type": "code",
   "execution_count": 6,
   "metadata": {},
   "outputs": [
    {
     "data": {
      "image/png": "[encoded data removed]",
      "text/plain": [
       "<Figure size 432x432 with 1 Axes>"
      ]
     },
     "metadata": {
      "needs_background": "light"
     },
     "output_type": "display_data"
    }
   ],
   "source": [
    "fig, ax = plt.subplots(1, 1, figsize = (6, 6))\n",
    "plot_roc(cv_strategy.get_n_splits(), metrics, ax)"
   ]
  },
  {
   "cell_type": "markdown",
   "metadata": {},
   "source": [
    "## How to send it on the cluster"
   ]
  },
  {
   "cell_type": "markdown",
   "metadata": {},
   "source": [
    "### Create a job"
   ]
  },
  {
   "cell_type": "markdown",
   "metadata": {},
   "source": [
    "We create a job, identified by its job id `cluster_tutorial_Gaussian_NB`, and by providing the user cluster username. This creates a directory on the local computer, in the project `ssh_remote_jobs/` folder, named `job_cluster_tutorial_Gaussian_NB`."
   ]
  },
  {
   "cell_type": "code",
   "execution_count": 7,
   "metadata": {},
   "outputs": [
    {
     "name": "stdout",
     "output_type": "stream",
     "text": [
      "➞ mkdir on local computer ssh_remote_jobs/job_cluster_tutorial_Gaussian_NB\n"
     ]
    },
    {
     "data": {
      "text/markdown": [
       "<span style='color:green'>Job < cluster_tutorial_Gaussian_NB >: </span>✅ created<br>"
      ],
      "text/plain": [
       "<IPython.core.display.Markdown object>"
      ]
     },
     "metadata": {},
     "output_type": "display_data"
    }
   ],
   "source": [
    "job = Selene_Job('cluster_tutorial_Gaussian_NB', 'guilminp')"
   ]
  },
  {
   "cell_type": "markdown",
   "metadata": {},
   "source": [
    "### Load the data used by the job"
   ]
  },
  {
   "cell_type": "markdown",
   "metadata": {},
   "source": [
    "The following saves `X` and `y` objects as pickle objects in the job directory (`ssh_remote_jobs/job_cluster_tutorial_Gaussian_NB`). This allows to separate the creation of the dataset (feature selection, formatting, etc...) from the run of the machine learning algorithm."
   ]
  },
  {
   "cell_type": "code",
   "execution_count": 8,
   "metadata": {},
   "outputs": [
    {
     "name": "stdout",
     "output_type": "stream",
     "text": [
      "➞ save X.pkl & y.pkl in ssh_remote_jobs/job_cluster_tutorial_Gaussian_NB\n"
     ]
    },
    {
     "data": {
      "text/markdown": [
       "<span style='color:green'>Job < cluster_tutorial_Gaussian_NB >: </span>✅ data loaded<br>"
      ],
      "text/plain": [
       "<IPython.core.display.Markdown object>"
      ]
     },
     "metadata": {},
     "output_type": "display_data"
    }
   ],
   "source": [
    "job.load_data(X, y)"
   ]
  },
  {
   "cell_type": "markdown",
   "metadata": {},
   "source": [
    "### Write the job python script"
   ]
  },
  {
   "cell_type": "markdown",
   "metadata": {},
   "source": [
    "Here we write the python script that will be run in the cluster, it is stored in the `script.py` file in the local `ssh_remote_jobs/job_cluster_tutorial_Gaussian_NB` folder:"
   ]
  },
  {
   "cell_type": "code",
   "execution_count": 9,
   "metadata": {},
   "outputs": [
    {
     "name": "stdout",
     "output_type": "stream",
     "text": [
      "Writing ssh_remote_jobs/job_cluster_tutorial_Gaussian_NB/script.py\n"
     ]
    }
   ],
   "source": [
    "%%writefile {job.local_job_directory_path}/script.py\n",
    "\n",
    "# load the ml_tools functions\n",
    "print(\"Setup environment...\", end = \"\")\n",
    "import sys\n",
    "sys.path.append(\"../../\")\n",
    "\n",
    "from ml_tools import *\n",
    "print(\" done!\")\n",
    "\n",
    "\n",
    "print(\"Run model...\")\n",
    "# load the features matrix and target array\n",
    "X = pd.read_pickle('X.pkl')\n",
    "y = pd.read_pickle('y.pkl')\n",
    "\n",
    "# choose a cross-validation strategy\n",
    "from sklearn.model_selection import StratifiedShuffleSplit\n",
    "cv_strategy = StratifiedShuffleSplit(n_splits = 5, test_size = 0.2, random_state = 1)\n",
    "\n",
    "# choose a model\n",
    "from sklearn.naive_bayes import GaussianNB\n",
    "model_GaussianNB = GaussianNB()\n",
    "\n",
    "# run the model\n",
    "metrics = run_model(model_GaussianNB, X, y, cv_strategy, print_fold_metrics = True)\n",
    "print(\" done!\")\n",
    "\n",
    "\n",
    "print(\"Save metrics...\", end = \"\")\n",
    "metrics.to_pickle(\"metrics.pkl\")\n",
    "print(\" done!\")"
   ]
  },
  {
   "cell_type": "markdown",
   "metadata": {},
   "source": [
    "### Run the job in the cluster"
   ]
  },
  {
   "cell_type": "markdown",
   "metadata": {},
   "source": [
    "The following command copy the job directory on the cluster, setup the cluster environment and then bsub the job."
   ]
  },
  {
   "cell_type": "code",
   "execution_count": 10,
   "metadata": {},
   "outputs": [
    {
     "name": "stdout",
     "output_type": "stream",
     "text": [
      "➞ scp ssh_remote_jobs/job_cluster_tutorial_Gaussian_NB to guilminp@selene.mskcc.org:/home/guilminp/impact-annotator/analysis/prediction/ssh_remote_jobs\n",
      "X.pkl                                         100% 5266KB  11.6MB/s   00:00    \n",
      "y.pkl                                         100%  452KB   6.6MB/s   00:00    \n",
      "script.py                                     100%  719    79.2KB/s   00:00    \n",
      "➞ logged in /home/guilminp on selene.cbio.private\n",
      "➞ load ~/.bash_profile\n",
      "Hi Pierre!\n",
      "➞ work on impact-annotator_env python virtualenv\n",
      "➞ launch job in /home/guilminp/impact-annotator/analysis/prediction/ssh_remote_jobs/job_cluster_tutorial_Gaussian_NB\n",
      "Job <28112624> is submitted to default queue <sol>.\n"
     ]
    },
    {
     "data": {
      "text/markdown": [
       "<span style='color:green'>Job < cluster_tutorial_Gaussian_NB >: </span>✅ submitted<br>"
      ],
      "text/plain": [
       "<IPython.core.display.Markdown object>"
      ]
     },
     "metadata": {},
     "output_type": "display_data"
    }
   ],
   "source": [
    "job.run()"
   ]
  },
  {
   "cell_type": "markdown",
   "metadata": {},
   "source": [
    "### Get the results of the job"
   ]
  },
  {
   "cell_type": "markdown",
   "metadata": {},
   "source": [
    "If the job is not done yet we get this result:"
   ]
  },
  {
   "cell_type": "code",
   "execution_count": 11,
   "metadata": {},
   "outputs": [
    {
     "data": {
      "text/markdown": [
       "<span style='color:red'>Job < cluster_tutorial_Gaussian_NB >: </span>⚠️ does not exist, is not done yet or an error occured before the creation of metrics.pkl<br>"
      ],
      "text/plain": [
       "<IPython.core.display.Markdown object>"
      ]
     },
     "metadata": {},
     "output_type": "display_data"
    }
   ],
   "source": [
    "job.get_results()"
   ]
  },
  {
   "cell_type": "markdown",
   "metadata": {},
   "source": [
    "If it's done, we get this result:"
   ]
  },
  {
   "cell_type": "code",
   "execution_count": 12,
   "metadata": {},
   "outputs": [
    {
     "data": {
      "text/markdown": [
       "<span style='color:green'>Job < cluster_tutorial_Gaussian_NB >: </span>✅ finished<br>"
      ],
      "text/plain": [
       "<IPython.core.display.Markdown object>"
      ]
     },
     "metadata": {},
     "output_type": "display_data"
    },
    {
     "name": "stdout",
     "output_type": "stream",
     "text": [
      "➞ scp metrics.pkl & job_output.txt from guilminp@selene.mskcc.org:/home/guilminp/impact-annotator/analysis/prediction/ssh_remote_jobs/job_cluster_tutorial_Gaussian_NB to ssh_remote_jobs/job_cluster_tutorial_Gaussian_NB\n",
      "metrics.pkl                                   100%  118KB   3.7MB/s   00:00    \n",
      "job_output.txt                                100% 1866   312.6KB/s   00:00    \n",
      "➞ load metrics.pkl in pandas dataframe self.metrics\n",
      "➞ print main results\n",
      "## Mean accuracy: 0.80 ± 0.01\n",
      "## Mean ROC AUC : 0.80 ± 0.02\n"
     ]
    }
   ],
   "source": [
    "job.get_results()"
   ]
  },
  {
   "cell_type": "code",
   "execution_count": 13,
   "metadata": {},
   "outputs": [
    {
     "data": {
      "text/html": [
       "<div>\n",
       "<style scoped>\n",
       "    .dataframe tbody tr th:only-of-type {\n",
       "        vertical-align: middle;\n",
       "    }\n",
       "\n",
       "    .dataframe tbody tr th {\n",
       "        vertical-align: top;\n",
       "    }\n",
       "\n",
       "    .dataframe thead th {\n",
       "        text-align: right;\n",
       "    }\n",
       "</style>\n",
       "<table border=\"1\" class=\"dataframe\">\n",
       "  <thead>\n",
       "    <tr style=\"text-align: right;\">\n",
       "      <th></th>\n",
       "      <th>fit_time</th>\n",
       "      <th>score_time</th>\n",
       "      <th>train_accuracy</th>\n",
       "      <th>test_accuracy</th>\n",
       "      <th>train_roc_auc</th>\n",
       "      <th>test_roc_auc</th>\n",
       "      <th>best_parameters</th>\n",
       "    </tr>\n",
       "    <tr>\n",
       "      <th>fold_number</th>\n",
       "      <th></th>\n",
       "      <th></th>\n",
       "      <th></th>\n",
       "      <th></th>\n",
       "      <th></th>\n",
       "      <th></th>\n",
       "      <th></th>\n",
       "    </tr>\n",
       "  </thead>\n",
       "  <tbody>\n",
       "    <tr>\n",
       "      <th>0</th>\n",
       "      <td>0.0683992</td>\n",
       "      <td>0.0406296</td>\n",
       "      <td>0.797739</td>\n",
       "      <td>0.799816</td>\n",
       "      <td>0.79922</td>\n",
       "      <td>0.788132</td>\n",
       "      <td>NaN</td>\n",
       "    </tr>\n",
       "    <tr>\n",
       "      <th>1</th>\n",
       "      <td>0.0715322</td>\n",
       "      <td>0.0450728</td>\n",
       "      <td>0.795119</td>\n",
       "      <td>0.795404</td>\n",
       "      <td>0.798381</td>\n",
       "      <td>0.806598</td>\n",
       "      <td>NaN</td>\n",
       "    </tr>\n",
       "    <tr>\n",
       "      <th>2</th>\n",
       "      <td>0.0720205</td>\n",
       "      <td>0.0402582</td>\n",
       "      <td>0.793511</td>\n",
       "      <td>0.79761</td>\n",
       "      <td>0.79502</td>\n",
       "      <td>0.799848</td>\n",
       "      <td>NaN</td>\n",
       "    </tr>\n",
       "    <tr>\n",
       "      <th>3</th>\n",
       "      <td>0.0658691</td>\n",
       "      <td>0.0408382</td>\n",
       "      <td>0.796498</td>\n",
       "      <td>0.800735</td>\n",
       "      <td>0.796747</td>\n",
       "      <td>0.793025</td>\n",
       "      <td>NaN</td>\n",
       "    </tr>\n",
       "    <tr>\n",
       "      <th>4</th>\n",
       "      <td>0.065918</td>\n",
       "      <td>0.0377717</td>\n",
       "      <td>0.79875</td>\n",
       "      <td>0.807169</td>\n",
       "      <td>0.798306</td>\n",
       "      <td>0.80942</td>\n",
       "      <td>NaN</td>\n",
       "    </tr>\n",
       "  </tbody>\n",
       "</table>\n",
       "</div>"
      ],
      "text/plain": [
       "              fit_time score_time train_accuracy test_accuracy train_roc_auc  \\\n",
       "fold_number                                                                    \n",
       "0            0.0683992  0.0406296       0.797739      0.799816       0.79922   \n",
       "1            0.0715322  0.0450728       0.795119      0.795404      0.798381   \n",
       "2            0.0720205  0.0402582       0.793511       0.79761       0.79502   \n",
       "3            0.0658691  0.0408382       0.796498      0.800735      0.796747   \n",
       "4             0.065918  0.0377717        0.79875      0.807169      0.798306   \n",
       "\n",
       "            test_roc_auc best_parameters  \n",
       "fold_number                               \n",
       "0               0.788132             NaN  \n",
       "1               0.806598             NaN  \n",
       "2               0.799848             NaN  \n",
       "3               0.793025             NaN  \n",
       "4                0.80942             NaN  "
      ]
     },
     "execution_count": 13,
     "metadata": {},
     "output_type": "execute_result"
    }
   ],
   "source": [
    "# print the metrics\n",
    "job.metrics[['fit_time', 'score_time', 'train_accuracy', 'test_accuracy', 'train_roc_auc', 'test_roc_auc', 'best_parameters']]"
   ]
  },
  {
   "cell_type": "code",
   "execution_count": 14,
   "metadata": {},
   "outputs": [
    {
     "data": {
      "image/png": "[encoded data removed]",
      "text/plain": [
       "<Figure size 432x432 with 1 Axes>"
      ]
     },
     "metadata": {
      "needs_background": "light"
     },
     "output_type": "display_data"
    }
   ],
   "source": [
    "# plot the roc curve\n",
    "fig, ax = plt.subplots(1, 1, figsize = (6, 6))\n",
    "plot_roc(cv_strategy.get_n_splits(), metrics, ax)"
   ]
  },
  {
   "cell_type": "markdown",
   "metadata": {},
   "source": [
    "We can remove the job with the following command (it will delete the job directory in the cluster and on the local computer):"
   ]
  },
  {
   "cell_type": "code",
   "execution_count": 15,
   "metadata": {},
   "outputs": [
    {
     "name": "stdout",
     "output_type": "stream",
     "text": [
      "➞ rm on local computer ssh_remote_jobs/job_cluster_tutorial_Gaussian_NB\n",
      "➞ rm on cluster guilminp@selene.mskcc.org:/home/guilminp/impact-annotator/analysis/prediction/ssh_remote_jobs/job_cluster_tutorial_Gaussian_NB\n"
     ]
    },
    {
     "data": {
      "text/markdown": [
       "<span style='color:green'>Job < cluster_tutorial_Gaussian_NB >: </span>✅ removed from local computer and cluster<br>"
      ],
      "text/plain": [
       "<IPython.core.display.Markdown object>"
      ]
     },
     "metadata": {},
     "output_type": "display_data"
    }
   ],
   "source": [
    "job.remove()"
   ]
  },
  {
   "cell_type": "markdown",
   "metadata": {},
   "source": [
    "## More computationally expensive example"
   ]
  },
  {
   "cell_type": "code",
   "execution_count": 16,
   "metadata": {},
   "outputs": [
    {
     "name": "stdout",
     "output_type": "stream",
     "text": [
      "➞ mkdir on local computer ssh_remote_jobs/job_cluster_tutorial_GS_Random_Forest\n"
     ]
    },
    {
     "data": {
      "text/markdown": [
       "<span style='color:green'>Job < cluster_tutorial_GS_Random_Forest >: </span>✅ created<br>"
      ],
      "text/plain": [
       "<IPython.core.display.Markdown object>"
      ]
     },
     "metadata": {},
     "output_type": "display_data"
    },
    {
     "name": "stdout",
     "output_type": "stream",
     "text": [
      "➞ save X.pkl & y.pkl in ssh_remote_jobs/job_cluster_tutorial_GS_Random_Forest\n"
     ]
    },
    {
     "data": {
      "text/markdown": [
       "<span style='color:green'>Job < cluster_tutorial_GS_Random_Forest >: </span>✅ data loaded<br>"
      ],
      "text/plain": [
       "<IPython.core.display.Markdown object>"
      ]
     },
     "metadata": {},
     "output_type": "display_data"
    }
   ],
   "source": [
    "job = Selene_Job('cluster_tutorial_GS_Random_Forest', 'guilminp')\n",
    "job.load_data(X, y)"
   ]
  },
  {
   "cell_type": "code",
   "execution_count": 17,
   "metadata": {},
   "outputs": [
    {
     "name": "stdout",
     "output_type": "stream",
     "text": [
      "Writing ssh_remote_jobs/job_cluster_tutorial_GS_Random_Forest/script.py\n"
     ]
    }
   ],
   "source": [
    "%%writefile {job.local_job_directory_path}/script.py\n",
    "\n",
    "# load the ml_tools functions\n",
    "print(\"Setup environment...\", end = \"\")\n",
    "import sys\n",
    "sys.path.append(\"../../\")\n",
    "\n",
    "from ml_tools import *\n",
    "print(\" done!\")\n",
    "\n",
    "\n",
    "print(\"Run model...\")\n",
    "# load the features matrix and target array\n",
    "X = pd.read_pickle('X.pkl')\n",
    "y = pd.read_pickle('y.pkl')\n",
    "\n",
    "# choose a cross-validation strategy\n",
    "from sklearn.model_selection import StratifiedShuffleSplit\n",
    "cv_strategy = StratifiedShuffleSplit(n_splits = 5, test_size = 0.2, random_state = 1)\n",
    "\n",
    "# choose an inner cross-validation strategy for the grid search\n",
    "from sklearn.model_selection import GridSearchCV\n",
    "inner_cv_strategy = StratifiedShuffleSplit(n_splits = 3, test_size = 0.2, random_state = 1)\n",
    "\n",
    "# choose a model\n",
    "from sklearn.ensemble import RandomForestClassifier\n",
    "parameters_grid = [\n",
    "    {'n_estimators': [10, 100, 1000], 'max_depth': [5, 20, 50]}\n",
    "]\n",
    "model_GS_RandomForestClassifier = GridSearchCV(RandomForestClassifier(), parameters_grid, cv = inner_cv_strategy, scoring = 'roc_auc', refit = True)\n",
    "\n",
    "# run the model\n",
    "metrics = run_model(model_GS_RandomForestClassifier, X, y, cv_strategy, grid_search = True, print_fold_metrics = True, print_grid_search_metrics = True)\n",
    "print(\" done!\")\n",
    "\n",
    "\n",
    "print(\"Save metrics...\", end = \"\")\n",
    "metrics.to_pickle(\"metrics.pkl\")\n",
    "print(\" done!\")"
   ]
  },
  {
   "cell_type": "code",
   "execution_count": 18,
   "metadata": {},
   "outputs": [
    {
     "name": "stdout",
     "output_type": "stream",
     "text": [
      "➞ scp ssh_remote_jobs/job_cluster_tutorial_GS_Random_Forest to guilminp@selene.mskcc.org:/home/guilminp/impact-annotator/analysis/prediction/ssh_remote_jobs\n",
      "X.pkl                                         100% 5266KB   8.4MB/s   00:00    \n",
      "y.pkl                                         100%  452KB   3.7MB/s   00:00    \n",
      "script.py                                     100% 1237    28.7KB/s   00:00    \n",
      "➞ logged in /home/guilminp on selene.cbio.private\n",
      "➞ load ~/.bash_profile\n",
      "Hi Pierre!\n",
      "➞ work on impact-annotator_env python virtualenv\n",
      "➞ launch job in /home/guilminp/impact-annotator/analysis/prediction/ssh_remote_jobs/job_cluster_tutorial_GS_Random_Forest\n",
      "Job <28112884> is submitted to default queue <sol>.\n"
     ]
    },
    {
     "data": {
      "text/markdown": [
       "<span style='color:green'>Job < cluster_tutorial_GS_Random_Forest >: </span>✅ submitted<br>"
      ],
      "text/plain": [
       "<IPython.core.display.Markdown object>"
      ]
     },
     "metadata": {},
     "output_type": "display_data"
    }
   ],
   "source": [
    "job.run()"
   ]
  },
  {
   "cell_type": "code",
   "execution_count": 20,
   "metadata": {},
   "outputs": [
    {
     "data": {
      "text/markdown": [
       "<span style='color:red'>Job < cluster_tutorial_GS_Random_Forest >: </span>⚠️ does not exist, is not done yet or an error occured before the creation of metrics.pkl<br>"
      ],
      "text/plain": [
       "<IPython.core.display.Markdown object>"
      ]
     },
     "metadata": {},
     "output_type": "display_data"
    }
   ],
   "source": [
    "job.get_results()"
   ]
  },
  {
   "cell_type": "code",
   "execution_count": 21,
   "metadata": {},
   "outputs": [
    {
     "data": {
      "text/markdown": [
       "<span style='color:red'>Job < cluster_tutorial_GS_Random_Forest >: </span>⚠️ does not exist, is not done yet or an error occured before the creation of metrics.pkl<br>"
      ],
      "text/plain": [
       "<IPython.core.display.Markdown object>"
      ]
     },
     "metadata": {},
     "output_type": "display_data"
    }
   ],
   "source": [
    "job.get_results()"
   ]
  },
  {
   "cell_type": "code",
   "execution_count": 247,
   "metadata": {},
   "outputs": [
    {
     "data": {
      "text/html": [
       "<div>\n",
       "<style scoped>\n",
       "    .dataframe tbody tr th:only-of-type {\n",
       "        vertical-align: middle;\n",
       "    }\n",
       "\n",
       "    .dataframe tbody tr th {\n",
       "        vertical-align: top;\n",
       "    }\n",
       "\n",
       "    .dataframe thead th {\n",
       "        text-align: right;\n",
       "    }\n",
       "</style>\n",
       "<table border=\"1\" class=\"dataframe\">\n",
       "  <thead>\n",
       "    <tr style=\"text-align: right;\">\n",
       "      <th></th>\n",
       "      <th>fit_time</th>\n",
       "      <th>score_time</th>\n",
       "      <th>train_accuracy</th>\n",
       "      <th>test_accuracy</th>\n",
       "      <th>train_roc_auc</th>\n",
       "      <th>test_roc_auc</th>\n",
       "      <th>best_parameters</th>\n",
       "    </tr>\n",
       "    <tr>\n",
       "      <th>fold_number</th>\n",
       "      <th></th>\n",
       "      <th></th>\n",
       "      <th></th>\n",
       "      <th></th>\n",
       "      <th></th>\n",
       "      <th></th>\n",
       "      <th></th>\n",
       "    </tr>\n",
       "  </thead>\n",
       "  <tbody>\n",
       "    <tr>\n",
       "      <th>0</th>\n",
       "      <td>0.070148</td>\n",
       "      <td>0.0409954</td>\n",
       "      <td>0.797739</td>\n",
       "      <td>0.799816</td>\n",
       "      <td>0.79922</td>\n",
       "      <td>0.788132</td>\n",
       "      <td>NaN</td>\n",
       "    </tr>\n",
       "    <tr>\n",
       "      <th>1</th>\n",
       "      <td>0.0760477</td>\n",
       "      <td>0.0473623</td>\n",
       "      <td>0.795119</td>\n",
       "      <td>0.795404</td>\n",
       "      <td>0.798381</td>\n",
       "      <td>0.806598</td>\n",
       "      <td>NaN</td>\n",
       "    </tr>\n",
       "    <tr>\n",
       "      <th>2</th>\n",
       "      <td>0.100566</td>\n",
       "      <td>1.3374</td>\n",
       "      <td>0.793511</td>\n",
       "      <td>0.79761</td>\n",
       "      <td>0.79502</td>\n",
       "      <td>0.799848</td>\n",
       "      <td>NaN</td>\n",
       "    </tr>\n",
       "    <tr>\n",
       "      <th>3</th>\n",
       "      <td>0.0768514</td>\n",
       "      <td>0.0473201</td>\n",
       "      <td>0.796498</td>\n",
       "      <td>0.800735</td>\n",
       "      <td>0.796747</td>\n",
       "      <td>0.793025</td>\n",
       "      <td>NaN</td>\n",
       "    </tr>\n",
       "    <tr>\n",
       "      <th>4</th>\n",
       "      <td>0.0713477</td>\n",
       "      <td>0.477618</td>\n",
       "      <td>0.79875</td>\n",
       "      <td>0.807169</td>\n",
       "      <td>0.798306</td>\n",
       "      <td>0.80942</td>\n",
       "      <td>NaN</td>\n",
       "    </tr>\n",
       "  </tbody>\n",
       "</table>\n",
       "</div>"
      ],
      "text/plain": [
       "              fit_time score_time train_accuracy test_accuracy train_roc_auc  \\\n",
       "fold_number                                                                    \n",
       "0             0.070148  0.0409954       0.797739      0.799816       0.79922   \n",
       "1            0.0760477  0.0473623       0.795119      0.795404      0.798381   \n",
       "2             0.100566     1.3374       0.793511       0.79761       0.79502   \n",
       "3            0.0768514  0.0473201       0.796498      0.800735      0.796747   \n",
       "4            0.0713477   0.477618        0.79875      0.807169      0.798306   \n",
       "\n",
       "            test_roc_auc best_parameters  \n",
       "fold_number                               \n",
       "0               0.788132             NaN  \n",
       "1               0.806598             NaN  \n",
       "2               0.799848             NaN  \n",
       "3               0.793025             NaN  \n",
       "4                0.80942             NaN  "
      ]
     },
     "execution_count": 247,
     "metadata": {},
     "output_type": "execute_result"
    }
   ],
   "source": [
    "job.metrics[['fit_time', 'score_time', 'train_accuracy', 'test_accuracy', 'train_roc_auc', 'test_roc_auc', 'best_parameters']]"
   ]
  },
  {
   "cell_type": "code",
   "execution_count": 50,
   "metadata": {},
   "outputs": [
    {
     "data": {
      "text/markdown": [
       "✅ <span style='color:green'>Job \\< random_forest_gs \\> finished !</span><br>"
      ],
      "text/plain": [
       "<IPython.core.display.Markdown object>"
      ]
     },
     "metadata": {},
     "output_type": "display_data"
    },
    {
     "name": "stdout",
     "output_type": "stream",
     "text": [
      "➞ scp guilminp@selene.mskcc.org:/home/guilminp/impact-annotator/analysis/prediction/ssh_remote_jobs/job_random_forest_gs documents to ssh_remote_jobs/job_random_forest_gs\n",
      "metrics.csv                                   100% 1441    70.6KB/s   00:00    \n",
      "job_output.txt                                100% 6640   369.8KB/s   00:00    \n",
      "➞ Load metrics.csv in pandas dataframe\n"
     ]
    },
    {
     "data": {
      "text/html": [
       "<div>\n",
       "<style scoped>\n",
       "    .dataframe tbody tr th:only-of-type {\n",
       "        vertical-align: middle;\n",
       "    }\n",
       "\n",
       "    .dataframe tbody tr th {\n",
       "        vertical-align: top;\n",
       "    }\n",
       "\n",
       "    .dataframe thead th {\n",
       "        text-align: right;\n",
       "    }\n",
       "</style>\n",
       "<table border=\"1\" class=\"dataframe\">\n",
       "  <thead>\n",
       "    <tr style=\"text-align: right;\">\n",
       "      <th></th>\n",
       "      <th>fold_number</th>\n",
       "      <th>fit_time</th>\n",
       "      <th>score_time</th>\n",
       "      <th>train_accuracy</th>\n",
       "      <th>test_accuracy</th>\n",
       "      <th>train_roc_auc</th>\n",
       "      <th>test_roc_auc</th>\n",
       "      <th>test_fpr</th>\n",
       "      <th>test_tpr</th>\n",
       "      <th>best_parameters</th>\n",
       "    </tr>\n",
       "  </thead>\n",
       "  <tbody>\n",
       "    <tr>\n",
       "      <th>0</th>\n",
       "      <td>0</td>\n",
       "      <td>245.967178</td>\n",
       "      <td>5.125430</td>\n",
       "      <td>1.000000</td>\n",
       "      <td>0.887684</td>\n",
       "      <td>1.000000</td>\n",
       "      <td>0.894227</td>\n",
       "      <td>[0.         0.         0.         ... 0.945138...</td>\n",
       "      <td>[0.      0.00575 0.006   ... 1.      1.      1...</td>\n",
       "      <td>{'max_depth': 50, 'n_estimators': 1000}</td>\n",
       "    </tr>\n",
       "    <tr>\n",
       "      <th>1</th>\n",
       "      <td>1</td>\n",
       "      <td>234.818180</td>\n",
       "      <td>3.475672</td>\n",
       "      <td>0.929041</td>\n",
       "      <td>0.880331</td>\n",
       "      <td>0.965213</td>\n",
       "      <td>0.902384</td>\n",
       "      <td>[0.         0.         0.         ... 0.965972...</td>\n",
       "      <td>[0.00e+00 2.50e-04 4.35e-02 ... 1.00e+00 1.00e...</td>\n",
       "      <td>{'max_depth': 20, 'n_estimators': 1000}</td>\n",
       "    </tr>\n",
       "    <tr>\n",
       "      <th>2</th>\n",
       "      <td>2</td>\n",
       "      <td>226.128261</td>\n",
       "      <td>3.532764</td>\n",
       "      <td>0.928443</td>\n",
       "      <td>0.879779</td>\n",
       "      <td>0.966058</td>\n",
       "      <td>0.891810</td>\n",
       "      <td>[0.         0.         0.         ... 0.977083...</td>\n",
       "      <td>[0.0e+00 2.5e-04 3.5e-02 ... 1.0e+00 1.0e+00 1...</td>\n",
       "      <td>{'max_depth': 20, 'n_estimators': 1000}</td>\n",
       "    </tr>\n",
       "    <tr>\n",
       "      <th>3</th>\n",
       "      <td>3</td>\n",
       "      <td>294.917571</td>\n",
       "      <td>7.385947</td>\n",
       "      <td>1.000000</td>\n",
       "      <td>0.884375</td>\n",
       "      <td>1.000000</td>\n",
       "      <td>0.892617</td>\n",
       "      <td>[0.         0.         0.         ... 0.916666...</td>\n",
       "      <td>[0.      0.00875 0.009   ... 0.99975 0.99975 1...</td>\n",
       "      <td>{'max_depth': 50, 'n_estimators': 1000}</td>\n",
       "    </tr>\n",
       "    <tr>\n",
       "      <th>4</th>\n",
       "      <td>4</td>\n",
       "      <td>289.754549</td>\n",
       "      <td>5.210357</td>\n",
       "      <td>1.000000</td>\n",
       "      <td>0.885662</td>\n",
       "      <td>1.000000</td>\n",
       "      <td>0.896756</td>\n",
       "      <td>[0.         0.         0.         ... 0.947222...</td>\n",
       "      <td>[0.      0.00625 0.0065  ... 1.      1.      1...</td>\n",
       "      <td>{'max_depth': 50, 'n_estimators': 1000}</td>\n",
       "    </tr>\n",
       "  </tbody>\n",
       "</table>\n",
       "</div>"
      ],
      "text/plain": [
       "   fold_number    fit_time  score_time  train_accuracy  test_accuracy  \\\n",
       "0            0  245.967178    5.125430        1.000000       0.887684   \n",
       "1            1  234.818180    3.475672        0.929041       0.880331   \n",
       "2            2  226.128261    3.532764        0.928443       0.879779   \n",
       "3            3  294.917571    7.385947        1.000000       0.884375   \n",
       "4            4  289.754549    5.210357        1.000000       0.885662   \n",
       "\n",
       "   train_roc_auc  test_roc_auc  \\\n",
       "0       1.000000      0.894227   \n",
       "1       0.965213      0.902384   \n",
       "2       0.966058      0.891810   \n",
       "3       1.000000      0.892617   \n",
       "4       1.000000      0.896756   \n",
       "\n",
       "                                            test_fpr  \\\n",
       "0  [0.         0.         0.         ... 0.945138...   \n",
       "1  [0.         0.         0.         ... 0.965972...   \n",
       "2  [0.         0.         0.         ... 0.977083...   \n",
       "3  [0.         0.         0.         ... 0.916666...   \n",
       "4  [0.         0.         0.         ... 0.947222...   \n",
       "\n",
       "                                            test_tpr  \\\n",
       "0  [0.      0.00575 0.006   ... 1.      1.      1...   \n",
       "1  [0.00e+00 2.50e-04 4.35e-02 ... 1.00e+00 1.00e...   \n",
       "2  [0.0e+00 2.5e-04 3.5e-02 ... 1.0e+00 1.0e+00 1...   \n",
       "3  [0.      0.00875 0.009   ... 0.99975 0.99975 1...   \n",
       "4  [0.      0.00625 0.0065  ... 1.      1.      1...   \n",
       "\n",
       "                           best_parameters  \n",
       "0  {'max_depth': 50, 'n_estimators': 1000}  \n",
       "1  {'max_depth': 20, 'n_estimators': 1000}  \n",
       "2  {'max_depth': 20, 'n_estimators': 1000}  \n",
       "3  {'max_depth': 50, 'n_estimators': 1000}  \n",
       "4  {'max_depth': 50, 'n_estimators': 1000}  "
      ]
     },
     "execution_count": 50,
     "metadata": {},
     "output_type": "execute_result"
    }
   ],
   "source": [
    "#job_random_forest_gs.get_results()"
   ]
  },
  {
   "cell_type": "code",
   "execution_count": 248,
   "metadata": {},
   "outputs": [
    {
     "data": {
      "image/png": "[encoded data removed]",
      "text/plain": [
       "<Figure size 432x432 with 1 Axes>"
      ]
     },
     "metadata": {
      "needs_background": "light"
     },
     "output_type": "display_data"
    }
   ],
   "source": [
    "fig, ax = plt.subplots(1, 1, figsize = (6, 6))\n",
    "plot_roc(cv_strategy.get_n_splits(), metrics, ax)"
   ]
  },
  {
   "cell_type": "code",
   "execution_count": 249,
   "metadata": {},
   "outputs": [
    {
     "name": "stdout",
     "output_type": "stream",
     "text": [
      "➞ rm on local computer ssh_remote_jobs/job_cluster_tutorial_Gaussian_NB\n",
      "➞ rm on cluster guilminp@selene.mskcc.org:/home/guilminp/impact-annotator/analysis/prediction/ssh_remote_jobs/job_cluster_tutorial_Gaussian_NB\n"
     ]
    },
    {
     "data": {
      "text/markdown": [
       "<span style='color:green'>Job < cluster_tutorial_Gaussian_NB >: </span>✅ removed from local computer and cluster<br>"
      ],
      "text/plain": [
       "<IPython.core.display.Markdown object>"
      ]
     },
     "metadata": {},
     "output_type": "display_data"
    }
   ],
   "source": [
    "job.remove()"
   ]
  }
 ],
 "metadata": {
  "kernelspec": {
   "display_name": "Python 3",
   "language": "python",
   "name": "python3"
  },
  "language_info": {
   "codemirror_mode": {
    "name": "ipython",
    "version": 3
   },
   "file_extension": ".py",
   "mimetype": "text/x-python",
   "name": "python",
   "nbconvert_exporter": "python",
   "pygments_lexer": "ipython3",
   "version": "3.6.6"
  }
 },
 "nbformat": 4,
 "nbformat_minor": 2
}
