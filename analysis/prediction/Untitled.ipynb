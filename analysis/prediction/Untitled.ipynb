{
 "cells": [
  {
   "cell_type": "code",
   "execution_count": 11,
   "metadata": {},
   "outputs": [],
   "source": [
    "import pandas as pd\n",
    "%run custom_tools.py"
   ]
  },
  {
   "cell_type": "code",
   "execution_count": 5,
   "metadata": {},
   "outputs": [],
   "source": [
    "class Selene_Job:\n",
    "    def __init__(self, job_id):\n",
    "        self.job_id = job_id\n",
    "        self.local_job_directory_path = 'ssh_remote_jobs/job_' + str(job_id)\n",
    "        self.selene_ssh_remote_jobs_path = 'guilminp@selene.mskcc.org:/home/guilminp/impact-annotator/analysis/prediction/ssh_remote_jobs'\n",
    "        self.selene_job_directory_path = self.selene_ssh_remote_jobs_path + '/job_' + str(job_id)\n",
    "        \n",
    "        self.make_local_job_directory_()\n",
    "        \n",
    "    def make_local_job_directory_(self):\n",
    "        print('➞ mkdir ' + self.local_job_directory_path)\n",
    "        ! mkdir {self.local_job_directory_path}\n",
    "    \n",
    "    def run(self):\n",
    "        print('➞ scp ' + self.local_job_directory_path + ' to ' + self.selene_ssh_remote_jobs_path)\n",
    "        ! scp -r {self.local_job_directory_path} {self.selene_ssh_remote_jobs_path}\n",
    "\n",
    "        test = 'echo \"➞ Logged in $PWD on $HOSTNAME\"; \\\n",
    "                \\\n",
    "                echo \"➞ Load ~/.bash_profile\"; \\\n",
    "                source ~/.bash_profile; \\\n",
    "                export LSF_ENVDIR=/common/lsf/conf; export LSF_SERVERDIR=/common/lsf/9.1/linux2.6-glibc2.3-x86_64/etc; \\\n",
    "                \\\n",
    "                echo \"➞ Work on impact-annotator_env python virtualenv\"; \\\n",
    "                workon impact-annotator_env; \\\n",
    "                \\\n",
    "                cd ~/impact-annotator/analysis/prediction/ssh_remote_jobs/job_' + str(self.job_id) + '; \\\n",
    "                echo \"➞ Launch job in $PWD\"; \\\n",
    "                bsub -o job_output.txt -We 2 \"python script.py\"'\n",
    "\n",
    "        ! ssh guilminp@selene.mskcc.org '{test}'\n",
    "    \n",
    "    def get_results(self):        \n",
    "        test = 'cd ~/impact-annotator/analysis/prediction/ssh_remote_jobs/job_' + str(self.job_id) + '; \\\n",
    "               [ -e metrics.csv ] && echo \"yes\" || echo \"no\"'\n",
    "            \n",
    "        file_found = ! ssh guilminp@selene.mskcc.org '{test}'\n",
    "        file_found = file_found[0]\n",
    "\n",
    "        if file_found == \"yes\":\n",
    "            print_md(\"✅ <span style='color:green'>Job \\< \" + str(self.job_id) + \" \\> finished !</span>\\n\")\n",
    "            print('➞ scp ' + self.selene_job_directory_path + ' documents to ' + self.local_job_directory_path)\n",
    "            ! scp -r {self.selene_job_directory_path}/metrics.csv {self.local_job_directory_path}\n",
    "            ! scp -r {self.selene_job_directory_path}/job_output.txt {self.local_job_directory_path}\n",
    "            print('➞ Load metrics.csv in pandas dataframe')\n",
    "            self.metrics = pd.read_csv(self.local_job_directory_path + '/metrics.csv', sep = ',', low_memory = False)\n",
    "            \n",
    "            return(self.metrics)\n",
    "        else:\n",
    "            print_md(\"⚠️ <span style='color:red'>Job \\< \" + str(self.job_id) + \" \\> doesn't exist or is not done yet.</span>\\n\")"
   ]
  },
  {
   "cell_type": "code",
   "execution_count": 6,
   "metadata": {},
   "outputs": [
    {
     "name": "stdout",
     "output_type": "stream",
     "text": [
      "➞ mkdir ssh_remote_jobs/job_test\n"
     ]
    }
   ],
   "source": [
    "job_test = Selene_Job(\"test\")"
   ]
  },
  {
   "cell_type": "code",
   "execution_count": 8,
   "metadata": {},
   "outputs": [
    {
     "name": "stdout",
     "output_type": "stream",
     "text": [
      "Writing ssh_remote_jobs/job_test/script.py\n"
     ]
    }
   ],
   "source": [
    "%%writefile {job_test.local_job_directory_path}/script.py\n",
    "print(\"Setup environment...\", end = \"\")\n",
    "import sys\n",
    "sys.path.append(\"../../\")\n",
    "\n",
    "from ml_tools import *\n",
    "from sklearn.naive_bayes import GaussianNB\n",
    "print(\" done!\")\n",
    "\n",
    "print(\"Run model...\")\n",
    "model_GaussianNB = GaussianNB()\n",
    "X, y, cv_strategy = load_dataset(\"../../../../data\")\n",
    "metrics = run_model(model_GaussianNB, X, y, cv_strategy, print_fold_metrics = True, in_cluster = True)\n",
    "\n",
    "print(\"Save metrics...\", end = \"\")\n",
    "metrics.to_csv(\"metrics.csv\")\n",
    "print(\" done!\")"
   ]
  },
  {
   "cell_type": "code",
   "execution_count": 9,
   "metadata": {},
   "outputs": [
    {
     "name": "stdout",
     "output_type": "stream",
     "text": [
      "➞ scp ssh_remote_jobs/job_test to guilminp@selene.mskcc.org:/home/guilminp/impact-annotator/analysis/prediction/ssh_remote_jobs\n",
      "script.py                                     100%  452     6.3KB/s   00:00    \n",
      "➞ Logged in /home/guilminp on selene.cbio.private\n",
      "➞ Load ~/.bash_profile\n",
      "Hi Pierre!\n",
      "➞ Work on impact-annotator_env python virtualenv\n",
      "➞ Launch job in /home/guilminp/impact-annotator/analysis/prediction/ssh_remote_jobs/job_test\n",
      "Job <28053920> is submitted to default queue <sol>.\n"
     ]
    }
   ],
   "source": [
    "job_test.run()"
   ]
  },
  {
   "cell_type": "code",
   "execution_count": 13,
   "metadata": {},
   "outputs": [
    {
     "data": {
      "text/markdown": [
       "⚠️ <span style='color:red'>Job \\< test \\> doesn't exist or not done yet.</span><br>"
      ],
      "text/plain": [
       "<IPython.core.display.Markdown object>"
      ]
     },
     "metadata": {},
     "output_type": "display_data"
    }
   ],
   "source": [
    "job_test.get_results()"
   ]
  },
  {
   "cell_type": "code",
   "execution_count": null,
   "metadata": {},
   "outputs": [],
   "source": []
  }
 ],
 "metadata": {
  "kernelspec": {
   "display_name": "Python 3",
   "language": "python",
   "name": "python3"
  },
  "language_info": {
   "codemirror_mode": {
    "name": "ipython",
    "version": 3
   },
   "file_extension": ".py",
   "mimetype": "text/x-python",
   "name": "python",
   "nbconvert_exporter": "python",
   "pygments_lexer": "ipython3",
   "version": "3.6.6"
  }
 },
 "nbformat": 4,
 "nbformat_minor": 2
}
