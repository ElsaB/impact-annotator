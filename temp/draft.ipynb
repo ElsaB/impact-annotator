{
 "cells": [
  {
   "cell_type": "code",
   "execution_count": 1,
   "metadata": {},
   "outputs": [
    {
     "name": "stderr",
     "output_type": "stream",
     "text": [
      "Warning message:\n",
      "“package ‘dplyr’ was built under R version 3.5.1”"
     ]
    }
   ],
   "source": [
    "source(\"../src/utils/custom_tools.R\")\n",
    "setup_environment(\"../src/utils\")"
   ]
  },
  {
   "cell_type": "code",
   "execution_count": 21,
   "metadata": {},
   "outputs": [],
   "source": [
    "impact <- read.table(\"../data/annotated_final_IMPACT_mutations_180508.txt\",\n",
    "                     sep = \"\\t\", stringsAsFactors = FALSE, header = TRUE)"
   ]
  },
  {
   "cell_type": "code",
   "execution_count": 1,
   "metadata": {
    "hidden": true
   },
   "outputs": [],
   "source": [
    "impact_annotated <- read.table(\"../data/annotate_with_click_annotvcf/click_annotvcf_IMPACT_mutations_180508.txt\",\n",
    "                               sep = \"\\t\", stringsAsFactors = FALSE, header = TRUE, comment = \"#\")"
   ]
  },
  {
   "cell_type": "code",
   "execution_count": null,
   "metadata": {},
   "outputs": [],
   "source": []
  },
  {
   "cell_type": "code",
   "execution_count": null,
   "metadata": {},
   "outputs": [],
   "source": []
  },
  {
   "cell_type": "code",
   "execution_count": 28,
   "metadata": {},
   "outputs": [
    {
     "name": "stdout",
     "output_type": "stream",
     "text": [
      "impact-annotator\n",
      "R\n",
      "synonymous_mutations_analysis_extra\n",
      "synonymous_mutations_analysis_extra_TP53\n",
      "test\n",
      "Hi Pierre!\n",
      "bash: mkvirtualenv : commande introuvable\n"
     ]
    }
   ],
   "source": [
    "def run_on_cluster():\n",
    "    !ssh guilminp@selene.mskcc.org 'source ~/.bash_profile'\n",
    "    !ssh guilminp@selene.mskcc.org 'cd impact-annotator/analysis/prediction'\n",
    "    !ssh guilminp@selene.mskcc.org 'ls'\n",
    "    !ssh guilminp@selene.mskcc.org 'source ~/.bash_profile'\n",
    "    !ssh guilminp@selene.mskcc.org 'mkvirtualenv --python=python3.6 test'\n",
    "    #; ls; source `which virtualenvwrapper.sh`; workon impact-annotator_env; ls'\n",
    "\n",
    "run_on_cluster()"
   ]
  },
  {
   "cell_type": "code",
   "execution_count": 32,
   "metadata": {},
   "outputs": [
    {
     "name": "stdout",
     "output_type": "stream",
     "text": [
      "\u001b]0;IPython: impact-annotator/temp\u0007Python 3.6.6 | packaged by conda-forge | (default, Jul 26 2018, 09:55:02) \n",
      "Type 'copyright', 'credits' or 'license' for more information\n",
      "IPython 6.5.0 -- An enhanced Interactive Python. Type '?' for help.\n",
      "\n",
      "In [1]: Do you really want to exit ([y]/n)? \n"
     ]
    }
   ],
   "source": [
    "%%bash\n",
    "ipython\n"
   ]
  },
  {
   "cell_type": "code",
   "execution_count": null,
   "metadata": {},
   "outputs": [],
   "source": []
  }
 ],
 "metadata": {
  "kernelspec": {
   "display_name": "Python 3",
   "language": "python",
   "name": "python3"
  },
  "language_info": {
   "codemirror_mode": {
    "name": "ipython",
    "version": 3
   },
   "file_extension": ".py",
   "mimetype": "text/x-python",
   "name": "python",
   "nbconvert_exporter": "python",
   "pygments_lexer": "ipython3",
   "version": "3.6.6"
  }
 },
 "nbformat": 4,
 "nbformat_minor": 2
}
