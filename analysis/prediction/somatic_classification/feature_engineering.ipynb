{
 "cells": [
  {
   "cell_type": "markdown",
   "metadata": {},
   "source": [
    "# Somatic vs non-somatic classification\n",
    "\n",
    "**Goal:** first work on the classifier\n",
    "  \n",
    "This notebook is divided in two parts:\n",
    "* **1. Bla**"
   ]
  },
  {
   "cell_type": "code",
   "execution_count": 1,
   "metadata": {},
   "outputs": [
    {
     "name": "stdout",
     "output_type": "stream",
     "text": [
      "Setup environment... done!\n"
     ]
    },
    {
     "data": {
      "text/markdown": [
       "<span style=\"color:green\">✅ Working on **impact-annotator_env** conda environment.</span>"
      ],
      "text/plain": [
       "<IPython.core.display.Markdown object>"
      ]
     },
     "metadata": {},
     "output_type": "display_data"
    }
   ],
   "source": [
    "%run ../setup_environment.ipy\n",
    "%run ../Selene_Job.ipy"
   ]
  },
  {
   "cell_type": "code",
   "execution_count": 2,
   "metadata": {},
   "outputs": [],
   "source": [
    "summary = pd.DataFrame(columns=['test_accuracy', 'test_roc_auc', 'test_f1', 'test_average_precision'])\n",
    "summary.index.name = 'method_name'"
   ]
  },
  {
   "cell_type": "markdown",
   "metadata": {},
   "source": [
    "## Choose the model"
   ]
  },
  {
   "cell_type": "code",
   "execution_count": 45,
   "metadata": {},
   "outputs": [],
   "source": [
    "from sklearn.model_selection import StratifiedKFold\n",
    "cv_strategy = StratifiedKFold(n_splits=5)\n",
    "\n",
    "from sklearn.ensemble import GradientBoostingClassifier\n",
    "model = GradientBoostingClassifier(random_state=42, loss='deviance', max_depth=6, n_estimators=500)"
   ]
  },
  {
   "cell_type": "markdown",
   "metadata": {},
   "source": [
    "## Get the data"
   ]
  },
  {
   "cell_type": "code",
   "execution_count": 4,
   "metadata": {},
   "outputs": [],
   "source": [
    "# get raw data\n",
    "impact = pd.read_csv('../../../data/annotated_final_IMPACT_mutations_180508.txt', sep='\\t', low_memory=False)"
   ]
  },
  {
   "cell_type": "code",
   "execution_count": 5,
   "metadata": {},
   "outputs": [
    {
     "data": {
      "text/html": [
       "<div>\n",
       "<style scoped>\n",
       "    .dataframe tbody tr th:only-of-type {\n",
       "        vertical-align: middle;\n",
       "    }\n",
       "\n",
       "    .dataframe tbody tr th {\n",
       "        vertical-align: top;\n",
       "    }\n",
       "\n",
       "    .dataframe thead th {\n",
       "        text-align: right;\n",
       "    }\n",
       "</style>\n",
       "<table border=\"1\" class=\"dataframe\">\n",
       "  <thead>\n",
       "    <tr style=\"text-align: right;\">\n",
       "      <th></th>\n",
       "      <th>count_</th>\n",
       "      <th>freq_</th>\n",
       "    </tr>\n",
       "  </thead>\n",
       "  <tbody>\n",
       "    <tr>\n",
       "      <th>False</th>\n",
       "      <td>187012</td>\n",
       "      <td>96.3%</td>\n",
       "    </tr>\n",
       "    <tr>\n",
       "      <th>True</th>\n",
       "      <td>7199</td>\n",
       "      <td>3.7%</td>\n",
       "    </tr>\n",
       "  </tbody>\n",
       "</table>\n",
       "</div>"
      ],
      "text/plain": [
       "       count_  freq_\n",
       "False  187012  96.3%\n",
       "True     7199   3.7%"
      ]
     },
     "execution_count": 5,
     "metadata": {},
     "output_type": "execute_result"
    }
   ],
   "source": [
    "# create the is_artefact class\n",
    "impact['is_artefact'] = impact.confidence_class == \"UNLIKELY\"\n",
    "get_table(impact.is_artefact)"
   ]
  },
  {
   "cell_type": "code",
   "execution_count": 6,
   "metadata": {},
   "outputs": [],
   "source": [
    "def get_X_and_y(impact, features, categorical_features):\n",
    "    data = impact.copy()\n",
    "    data = data[features + ['is_artefact']]\n",
    "    \n",
    "    # transform categorical features\n",
    "    numerical_features = [f for f in features if not f in categorical_features]\n",
    "    data = pd.get_dummies(data, columns=categorical_features, sparse=True)\n",
    "\n",
    "    # get reduced dataset\n",
    "    positive_class_number = data[data.is_artefact].shape[0]\n",
    "    data = pd.concat([data[data.is_artefact],\n",
    "                        data[~data.is_artefact].iloc[:positive_class_number]], ignore_index=True)\n",
    "\n",
    "    # shuffle data\n",
    "    rng = np.random.RandomState(42)\n",
    "    permutation = rng.permutation(len(data))\n",
    "    data = data.iloc[permutation]\n",
    "    data.reset_index(drop=True, inplace=True)\n",
    "\n",
    "    # get features matrix X (n_samples x n_features) and target array y (n_samples)\n",
    "    X = data.drop('is_artefact', axis=1)\n",
    "    X = X.astype(float)\n",
    "    y = data['is_artefact']\n",
    "\n",
    "    get_table(y)\n",
    "    \n",
    "    return X, y"
   ]
  },
  {
   "cell_type": "markdown",
   "metadata": {},
   "source": [
    "## No feature processing"
   ]
  },
  {
   "cell_type": "code",
   "execution_count": 7,
   "metadata": {},
   "outputs": [],
   "source": [
    "features = [\n",
    "#'Hugo_Symbol',\n",
    "#'Chromosome',\n",
    "#'Start_Position',\n",
    "#'End_Position',\n",
    "#'Consequence',\n",
    "#'Variant_Type',\n",
    "#'Reference_Allele',\n",
    "#'Tumor_Seq_Allele2',\n",
    "#'Tumor_Sample_Barcode',\n",
    "#'cDNA_change',\n",
    "#'HGVSp_Short',\n",
    "'t_depth',\n",
    "'t_vaf',\n",
    "'t_alt_count',\n",
    "'n_depth',\n",
    "'n_vaf',\n",
    "'n_alt_count',\n",
    "#'t_ref_plus_count',\n",
    "#'t_ref_neg_count',\n",
    "#'t_alt_plus_count',\n",
    "#'t_alt_neg_count',\n",
    "#'confidence_class',\n",
    "'sample_coverage',\n",
    "#'mut_key',\n",
    "#'VAG_VT',\n",
    "#'VAG_GENE',\n",
    "#'VAG_cDNA_CHANGE',\n",
    "#'VAG_PROTEIN_CHANGE',\n",
    "#'VAG_EFFECT',\n",
    "'VEP_Consequence',\n",
    "#'VEP_SYMBOL',\n",
    "#'VEP_HGVSc',\n",
    "#'VEP_HGVSp',\n",
    "#'VEP_Amino_acids',\n",
    "'VEP_VARIANT_CLASS',\n",
    "#'VEP_EXON',\n",
    "#'VEP_INTRON',\n",
    "'VEP_IMPACT',\n",
    "'VEP_CLIN_SIG',\n",
    "'VEP_COSMIC_CNT',\n",
    "'VEP_gnomAD_AF',\n",
    "#'sample_mut_key',\n",
    "#'patient_key',\n",
    "'frequency_in_normals',\n",
    "#'VEP_SIFT_class',\n",
    "#'VEP_SIFT_score',\n",
    "#'VEP_PolyPhen_class',\n",
    "#'VEP_PolyPhen_score',\n",
    "'VEP_in_dbSNP',\n",
    "'VEP_gnomAD_total_AF_AFR',\n",
    "'VEP_gnomAD_total_AF_AMR',\n",
    "'VEP_gnomAD_total_AF_ASJ',\n",
    "'VEP_gnomAD_total_AF_EAS',\n",
    "'VEP_gnomAD_total_AF_FIN',\n",
    "'VEP_gnomAD_total_AF_NFE',\n",
    "'VEP_gnomAD_total_AF_OTH',\n",
    "'VEP_gnomAD_total_AF_max',\n",
    "'VEP_gnomAD_total_AF',\n",
    "'Kaviar_AF',\n",
    "#'is_a_hotspot',\n",
    "#'is_a_3d_hotspot',\n",
    "#'oncogenic',\n",
    "'gene_type',\n",
    "#'is_artefact'\n",
    "]\n",
    "\n",
    "# transform categorical features\n",
    "categorical_features = ['VEP_Consequence', 'VEP_VARIANT_CLASS', 'VEP_IMPACT', 'VEP_CLIN_SIG', 'VEP_in_dbSNP', 'gene_type']"
   ]
  },
  {
   "cell_type": "code",
   "execution_count": 8,
   "metadata": {},
   "outputs": [
    {
     "data": {
      "text/plain": [
       "['t_depth',\n",
       " 't_vaf',\n",
       " 't_alt_count',\n",
       " 'n_depth',\n",
       " 'n_vaf',\n",
       " 'n_alt_count',\n",
       " 'sample_coverage',\n",
       " 'VEP_Consequence',\n",
       " 'VEP_VARIANT_CLASS',\n",
       " 'VEP_IMPACT',\n",
       " 'VEP_CLIN_SIG',\n",
       " 'VEP_COSMIC_CNT',\n",
       " 'VEP_gnomAD_AF',\n",
       " 'frequency_in_normals',\n",
       " 'VEP_in_dbSNP',\n",
       " 'VEP_gnomAD_total_AF_AFR',\n",
       " 'VEP_gnomAD_total_AF_AMR',\n",
       " 'VEP_gnomAD_total_AF_ASJ',\n",
       " 'VEP_gnomAD_total_AF_EAS',\n",
       " 'VEP_gnomAD_total_AF_FIN',\n",
       " 'VEP_gnomAD_total_AF_NFE',\n",
       " 'VEP_gnomAD_total_AF_OTH',\n",
       " 'VEP_gnomAD_total_AF_max',\n",
       " 'VEP_gnomAD_total_AF',\n",
       " 'Kaviar_AF',\n",
       " 'gene_type']"
      ]
     },
     "execution_count": 8,
     "metadata": {},
     "output_type": "execute_result"
    }
   ],
   "source": [
    "features"
   ]
  },
  {
   "cell_type": "code",
   "execution_count": 9,
   "metadata": {},
   "outputs": [
    {
     "name": "stdout",
     "output_type": "stream",
     "text": [
      "Run model... done! (40.72s)\n",
      "▴ Mean accuracy    : 0.886 ± 0.004\n",
      "▴ Mean ROC AUC     : 0.953 ± 0.005\n",
      "▴ Mean F1-score    : 0.883 ± 0.004\n",
      "▴ Average precision: 0.960 ± 0.004\n"
     ]
    }
   ],
   "source": [
    "X, y = get_X_and_y(impact, features, categorical_features)\n",
    "metrics = run_model(model, X, y, cv_strategy, n_jobs=5)\n",
    "print_mean_metrics(metrics)"
   ]
  },
  {
   "cell_type": "code",
   "execution_count": 10,
   "metadata": {},
   "outputs": [],
   "source": [
    "summary.loc['no_processing'] = [metrics.test_accuracy.mean(), metrics.test_roc_auc.mean(), metrics.test_f1.mean(), metrics.test_average_precision.mean()]"
   ]
  },
  {
   "cell_type": "markdown",
   "metadata": {},
   "source": [
    "## Without GnomAD populations"
   ]
  },
  {
   "cell_type": "code",
   "execution_count": 11,
   "metadata": {},
   "outputs": [],
   "source": [
    "features = ['t_depth',\n",
    " 't_vaf',\n",
    " 't_alt_count',\n",
    " 'n_depth',\n",
    " 'n_vaf',\n",
    " 'n_alt_count',\n",
    " 'sample_coverage',\n",
    " 'VEP_Consequence',\n",
    " 'VEP_VARIANT_CLASS',\n",
    " 'VEP_IMPACT',\n",
    " 'VEP_CLIN_SIG',\n",
    " 'VEP_COSMIC_CNT',\n",
    " 'VEP_gnomAD_AF',\n",
    " 'frequency_in_normals',\n",
    " 'VEP_in_dbSNP',\n",
    " 'VEP_gnomAD_total_AF_max',\n",
    " 'VEP_gnomAD_total_AF',\n",
    " 'Kaviar_AF',\n",
    " 'gene_type']"
   ]
  },
  {
   "cell_type": "code",
   "execution_count": 12,
   "metadata": {},
   "outputs": [
    {
     "name": "stdout",
     "output_type": "stream",
     "text": [
      "Run model... done! (39.44s)\n",
      "▴ Mean accuracy    : 0.887 ± 0.008\n",
      "▴ Mean ROC AUC     : 0.953 ± 0.005\n",
      "▴ Mean F1-score    : 0.884 ± 0.008\n",
      "▴ Average precision: 0.960 ± 0.004\n"
     ]
    }
   ],
   "source": [
    "X, y = get_X_and_y(impact, features, categorical_features)\n",
    "metrics = run_model(model, X, y, cv_strategy, n_jobs=5)\n",
    "print_mean_metrics(metrics)"
   ]
  },
  {
   "cell_type": "code",
   "execution_count": 13,
   "metadata": {},
   "outputs": [],
   "source": [
    "summary.loc['without_gnomAD_populations'] = [metrics.test_accuracy.mean(), metrics.test_roc_auc.mean(), metrics.test_f1.mean(), metrics.test_average_precision.mean()]"
   ]
  },
  {
   "cell_type": "markdown",
   "metadata": {},
   "source": [
    "## Without `VEP_Consequence`, `VEP_IMPACT`, `VEP_CLIN_SIG`, `VEP_in_dbSNP`, `n_vaf`, `n_alt_count`"
   ]
  },
  {
   "cell_type": "code",
   "execution_count": 14,
   "metadata": {},
   "outputs": [],
   "source": [
    "features = ['t_depth',\n",
    " 't_vaf',\n",
    " 't_alt_count',\n",
    " 'n_depth',\n",
    " 'sample_coverage',\n",
    " 'VEP_VARIANT_CLASS',\n",
    " 'VEP_COSMIC_CNT',\n",
    " 'VEP_gnomAD_AF',\n",
    " 'frequency_in_normals',\n",
    " 'VEP_gnomAD_total_AF_max',\n",
    " 'VEP_gnomAD_total_AF',\n",
    " 'Kaviar_AF',\n",
    " 'gene_type']\n",
    "categorical_features=['gene_type', 'VEP_VARIANT_CLASS']"
   ]
  },
  {
   "cell_type": "code",
   "execution_count": 15,
   "metadata": {},
   "outputs": [
    {
     "name": "stdout",
     "output_type": "stream",
     "text": [
      "Run model... done! (34.57s)\n",
      "▴ Mean accuracy    : 0.884 ± 0.008\n",
      "▴ Mean ROC AUC     : 0.952 ± 0.004\n",
      "▴ Mean F1-score    : 0.881 ± 0.010\n",
      "▴ Average precision: 0.959 ± 0.004\n"
     ]
    }
   ],
   "source": [
    "X, y = get_X_and_y(impact, features, categorical_features)\n",
    "metrics = run_model(model, X, y, cv_strategy, n_jobs=5)\n",
    "print_mean_metrics(metrics)"
   ]
  },
  {
   "cell_type": "code",
   "execution_count": 16,
   "metadata": {},
   "outputs": [],
   "source": [
    "summary.loc['without_VEP_additional_info'] = [metrics.test_accuracy.mean(), metrics.test_roc_auc.mean(), metrics.test_f1.mean(), metrics.test_average_precision.mean()]"
   ]
  },
  {
   "cell_type": "markdown",
   "metadata": {},
   "source": [
    "## Without `VEP_gnomAD_AF`, `Kaviar_AF`"
   ]
  },
  {
   "cell_type": "code",
   "execution_count": 17,
   "metadata": {},
   "outputs": [],
   "source": [
    "features = ['t_depth',\n",
    " 't_vaf',\n",
    " 't_alt_count',\n",
    " 'n_depth',\n",
    " 'sample_coverage',\n",
    " 'VEP_VARIANT_CLASS',\n",
    " 'VEP_COSMIC_CNT',\n",
    " 'frequency_in_normals',\n",
    " 'VEP_gnomAD_total_AF_max',\n",
    " 'VEP_gnomAD_total_AF',\n",
    " 'gene_type']\n",
    "categorical_features=['VEP_VARIANT_CLASS', 'gene_type']"
   ]
  },
  {
   "cell_type": "code",
   "execution_count": 18,
   "metadata": {},
   "outputs": [
    {
     "name": "stdout",
     "output_type": "stream",
     "text": [
      "Run model... done! (43.24s)\n",
      "▴ Mean accuracy    : 0.880 ± 0.006\n",
      "▴ Mean ROC AUC     : 0.951 ± 0.005\n",
      "▴ Mean F1-score    : 0.876 ± 0.007\n",
      "▴ Average precision: 0.958 ± 0.003\n"
     ]
    }
   ],
   "source": [
    "X, y = get_X_and_y(impact, features, categorical_features)\n",
    "metrics = run_model(model, X, y, cv_strategy, n_jobs=5)\n",
    "print_mean_metrics(metrics)"
   ]
  },
  {
   "cell_type": "code",
   "execution_count": 19,
   "metadata": {},
   "outputs": [],
   "source": [
    "summary.loc['without_VEP_additional_info_2'] = [metrics.test_accuracy.mean(), metrics.test_roc_auc.mean(), metrics.test_f1.mean(), metrics.test_average_precision.mean()]"
   ]
  },
  {
   "cell_type": "markdown",
   "metadata": {},
   "source": [
    "## Simplify `VEP_VARIANT_CLASS`"
   ]
  },
  {
   "cell_type": "code",
   "execution_count": 20,
   "metadata": {},
   "outputs": [],
   "source": [
    "impact['is_SNV'] = (impact.VEP_VARIANT_CLASS == 'SNV')"
   ]
  },
  {
   "cell_type": "code",
   "execution_count": 21,
   "metadata": {},
   "outputs": [],
   "source": [
    "features = ['t_depth',\n",
    " 't_vaf',\n",
    " 't_alt_count',\n",
    " 'n_depth',\n",
    " 'sample_coverage',\n",
    " 'is_SNV',\n",
    " 'VEP_COSMIC_CNT',\n",
    " 'frequency_in_normals',\n",
    " 'VEP_gnomAD_total_AF_max',\n",
    " 'VEP_gnomAD_total_AF',\n",
    " 'gene_type']\n",
    "categorical_features=['gene_type']"
   ]
  },
  {
   "cell_type": "code",
   "execution_count": 22,
   "metadata": {},
   "outputs": [
    {
     "name": "stdout",
     "output_type": "stream",
     "text": [
      "Run model... done! (33.61s)\n",
      "▴ Mean accuracy    : 0.883 ± 0.008\n",
      "▴ Mean ROC AUC     : 0.950 ± 0.006\n",
      "▴ Mean F1-score    : 0.880 ± 0.010\n",
      "▴ Average precision: 0.957 ± 0.004\n"
     ]
    }
   ],
   "source": [
    "X, y = get_X_and_y(impact, features, categorical_features)\n",
    "metrics = run_model(model, X, y, cv_strategy, n_jobs=5)\n",
    "print_mean_metrics(metrics)"
   ]
  },
  {
   "cell_type": "code",
   "execution_count": 23,
   "metadata": {},
   "outputs": [],
   "source": [
    "summary.loc['simplified_VEP_VARIANT_CLASS'] = [metrics.test_accuracy.mean(), metrics.test_roc_auc.mean(), metrics.test_f1.mean(), metrics.test_average_precision.mean()]"
   ]
  },
  {
   "cell_type": "markdown",
   "metadata": {},
   "source": [
    "## Tried"
   ]
  },
  {
   "cell_type": "code",
   "execution_count": 24,
   "metadata": {},
   "outputs": [],
   "source": [
    "populations = ['VEP_gnomAD_total_AF_AFR', 'VEP_gnomAD_total_AF_AMR', 'VEP_gnomAD_total_AF_ASJ', 'VEP_gnomAD_total_AF_EAS', 'VEP_gnomAD_total_AF_FIN', 'VEP_gnomAD_total_AF_NFE', 'VEP_gnomAD_total_AF_OTH']\n",
    "impact['population_number'] = impact.apply(lambda x: sum(x[populations] != 0), axis=1)"
   ]
  },
  {
   "cell_type": "code",
   "execution_count": 25,
   "metadata": {},
   "outputs": [
    {
     "data": {
      "text/html": [
       "<div>\n",
       "<style scoped>\n",
       "    .dataframe tbody tr th:only-of-type {\n",
       "        vertical-align: middle;\n",
       "    }\n",
       "\n",
       "    .dataframe tbody tr th {\n",
       "        vertical-align: top;\n",
       "    }\n",
       "\n",
       "    .dataframe thead th {\n",
       "        text-align: right;\n",
       "    }\n",
       "</style>\n",
       "<table border=\"1\" class=\"dataframe\">\n",
       "  <thead>\n",
       "    <tr style=\"text-align: right;\">\n",
       "      <th></th>\n",
       "      <th>count_</th>\n",
       "      <th>freq_</th>\n",
       "    </tr>\n",
       "  </thead>\n",
       "  <tbody>\n",
       "    <tr>\n",
       "      <th>0</th>\n",
       "      <td>154778</td>\n",
       "      <td>79.7%</td>\n",
       "    </tr>\n",
       "    <tr>\n",
       "      <th>1</th>\n",
       "      <td>21199</td>\n",
       "      <td>10.9%</td>\n",
       "    </tr>\n",
       "    <tr>\n",
       "      <th>2</th>\n",
       "      <td>7665</td>\n",
       "      <td>3.9%</td>\n",
       "    </tr>\n",
       "    <tr>\n",
       "      <th>3</th>\n",
       "      <td>4271</td>\n",
       "      <td>2.2%</td>\n",
       "    </tr>\n",
       "    <tr>\n",
       "      <th>4</th>\n",
       "      <td>2009</td>\n",
       "      <td>1.0%</td>\n",
       "    </tr>\n",
       "    <tr>\n",
       "      <th>7</th>\n",
       "      <td>1826</td>\n",
       "      <td>0.9%</td>\n",
       "    </tr>\n",
       "    <tr>\n",
       "      <th>6</th>\n",
       "      <td>1237</td>\n",
       "      <td>0.6%</td>\n",
       "    </tr>\n",
       "    <tr>\n",
       "      <th>5</th>\n",
       "      <td>1226</td>\n",
       "      <td>0.6%</td>\n",
       "    </tr>\n",
       "  </tbody>\n",
       "</table>\n",
       "</div>"
      ],
      "text/plain": [
       "   count_  freq_\n",
       "0  154778  79.7%\n",
       "1   21199  10.9%\n",
       "2    7665   3.9%\n",
       "3    4271   2.2%\n",
       "4    2009   1.0%\n",
       "7    1826   0.9%\n",
       "6    1237   0.6%\n",
       "5    1226   0.6%"
      ]
     },
     "execution_count": 25,
     "metadata": {},
     "output_type": "execute_result"
    }
   ],
   "source": [
    "get_table(impact['population_number'])"
   ]
  },
  {
   "cell_type": "code",
   "execution_count": 26,
   "metadata": {},
   "outputs": [],
   "source": [
    "impact['is_frequent_in_population'] = impact['population_number'] >= 3"
   ]
  },
  {
   "cell_type": "code",
   "execution_count": 27,
   "metadata": {},
   "outputs": [],
   "source": [
    "impact['strand_ratio'] = impact[['t_alt_neg_count', 't_alt_plus_count']].min(axis=1) / impact[['t_alt_neg_count', 't_alt_plus_count']].max(axis=1)"
   ]
  },
  {
   "cell_type": "markdown",
   "metadata": {},
   "source": [
    "Every unselected features tried and useless."
   ]
  },
  {
   "cell_type": "markdown",
   "metadata": {},
   "source": [
    "## Add `Chromosome`"
   ]
  },
  {
   "cell_type": "code",
   "execution_count": 28,
   "metadata": {},
   "outputs": [],
   "source": [
    "features = ['t_depth',\n",
    " 't_vaf',\n",
    " 't_alt_count',\n",
    " 'n_depth',\n",
    " 'sample_coverage',\n",
    " 'is_SNV',\n",
    " 'VEP_COSMIC_CNT',\n",
    " 'frequency_in_normals',\n",
    " 'VEP_gnomAD_total_AF_max',\n",
    " 'VEP_gnomAD_total_AF',\n",
    " 'Chromosome']\n",
    "\n",
    "categorical_features = ['Chromosome']"
   ]
  },
  {
   "cell_type": "code",
   "execution_count": 29,
   "metadata": {},
   "outputs": [
    {
     "name": "stdout",
     "output_type": "stream",
     "text": [
      "Run model... done! (33.59s)\n",
      "▴ Mean accuracy    : 0.884 ± 0.005\n",
      "▴ Mean ROC AUC     : 0.952 ± 0.006\n",
      "▴ Mean F1-score    : 0.881 ± 0.005\n",
      "▴ Average precision: 0.959 ± 0.005\n"
     ]
    }
   ],
   "source": [
    "X, y = get_X_and_y(impact, features, categorical_features)\n",
    "metrics = run_model(model, X, y, cv_strategy, n_jobs=5)\n",
    "print_mean_metrics(metrics)"
   ]
  },
  {
   "cell_type": "code",
   "execution_count": 31,
   "metadata": {},
   "outputs": [],
   "source": [
    "summary.loc['add_chromosome'] = [metrics.test_accuracy.mean(), metrics.test_roc_auc.mean(), metrics.test_f1.mean(), metrics.test_average_precision.mean()]"
   ]
  },
  {
   "cell_type": "markdown",
   "metadata": {},
   "source": [
    "## Study feature importance"
   ]
  },
  {
   "cell_type": "code",
   "execution_count": 32,
   "metadata": {},
   "outputs": [],
   "source": [
    "from sklearn.ensemble import GradientBoostingClassifier\n",
    "\n",
    "model.fit(X, y);"
   ]
  },
  {
   "cell_type": "code",
   "execution_count": 33,
   "metadata": {},
   "outputs": [
    {
     "data": {
      "text/plain": [
       "<matplotlib.axes._subplots.AxesSubplot at 0x1a27541ef0>"
      ]
     },
     "execution_count": 33,
     "metadata": {},
     "output_type": "execute_result"
    },
    {
     "data": {
      "image/png": "[encoded data removed]",
      "text/plain": [
       "<Figure size 720x576 with 1 Axes>"
      ]
     },
     "metadata": {
      "needs_background": "light"
     },
     "output_type": "display_data"
    }
   ],
   "source": [
    "feature_importance = pd.DataFrame({'value': model.feature_importances_.tolist()}, index=X.columns.tolist())\n",
    "feature_importance.sort_values(by='value', axis=0, inplace=True)\n",
    "\n",
    "plt.figure(figsize = (10, 8))\n",
    "feature_importance.value.plot.barh(width=0.85);"
   ]
  },
  {
   "cell_type": "markdown",
   "metadata": {},
   "source": [
    "## Summary"
   ]
  },
  {
   "cell_type": "code",
   "execution_count": 34,
   "metadata": {},
   "outputs": [
    {
     "data": {
      "text/html": [
       "<style  type=\"text/css\" >\n",
       "    #T_d313c254_d0b5_11e8_99b0_acbc328495cfrow1_col0 {\n",
       "            background-color:  yellow;\n",
       "        }    #T_d313c254_d0b5_11e8_99b0_acbc328495cfrow1_col1 {\n",
       "            background-color:  yellow;\n",
       "        }    #T_d313c254_d0b5_11e8_99b0_acbc328495cfrow1_col2 {\n",
       "            background-color:  yellow;\n",
       "        }    #T_d313c254_d0b5_11e8_99b0_acbc328495cfrow1_col3 {\n",
       "            background-color:  yellow;\n",
       "        }</style>  \n",
       "<table id=\"T_d313c254_d0b5_11e8_99b0_acbc328495cf\" > \n",
       "<thead>    <tr> \n",
       "        <th class=\"blank level0\" ></th> \n",
       "        <th class=\"col_heading level0 col0\" >test_accuracy</th> \n",
       "        <th class=\"col_heading level0 col1\" >test_roc_auc</th> \n",
       "        <th class=\"col_heading level0 col2\" >test_f1</th> \n",
       "        <th class=\"col_heading level0 col3\" >test_average_precision</th> \n",
       "    </tr>    <tr> \n",
       "        <th class=\"index_name level0\" >method_name</th> \n",
       "        <th class=\"blank\" ></th> \n",
       "        <th class=\"blank\" ></th> \n",
       "        <th class=\"blank\" ></th> \n",
       "        <th class=\"blank\" ></th> \n",
       "    </tr></thead> \n",
       "<tbody>    <tr> \n",
       "        <th id=\"T_d313c254_d0b5_11e8_99b0_acbc328495cflevel0_row0\" class=\"row_heading level0 row0\" >no_processing</th> \n",
       "        <td id=\"T_d313c254_d0b5_11e8_99b0_acbc328495cfrow0_col0\" class=\"data row0 col0\" >0.886</td> \n",
       "        <td id=\"T_d313c254_d0b5_11e8_99b0_acbc328495cfrow0_col1\" class=\"data row0 col1\" >0.953</td> \n",
       "        <td id=\"T_d313c254_d0b5_11e8_99b0_acbc328495cfrow0_col2\" class=\"data row0 col2\" >0.883</td> \n",
       "        <td id=\"T_d313c254_d0b5_11e8_99b0_acbc328495cfrow0_col3\" class=\"data row0 col3\" >0.96</td> \n",
       "    </tr>    <tr> \n",
       "        <th id=\"T_d313c254_d0b5_11e8_99b0_acbc328495cflevel0_row1\" class=\"row_heading level0 row1\" >without_gnomAD_populations</th> \n",
       "        <td id=\"T_d313c254_d0b5_11e8_99b0_acbc328495cfrow1_col0\" class=\"data row1 col0\" >0.887</td> \n",
       "        <td id=\"T_d313c254_d0b5_11e8_99b0_acbc328495cfrow1_col1\" class=\"data row1 col1\" >0.953</td> \n",
       "        <td id=\"T_d313c254_d0b5_11e8_99b0_acbc328495cfrow1_col2\" class=\"data row1 col2\" >0.884</td> \n",
       "        <td id=\"T_d313c254_d0b5_11e8_99b0_acbc328495cfrow1_col3\" class=\"data row1 col3\" >0.96</td> \n",
       "    </tr>    <tr> \n",
       "        <th id=\"T_d313c254_d0b5_11e8_99b0_acbc328495cflevel0_row2\" class=\"row_heading level0 row2\" >without_VEP_additional_info</th> \n",
       "        <td id=\"T_d313c254_d0b5_11e8_99b0_acbc328495cfrow2_col0\" class=\"data row2 col0\" >0.884</td> \n",
       "        <td id=\"T_d313c254_d0b5_11e8_99b0_acbc328495cfrow2_col1\" class=\"data row2 col1\" >0.952</td> \n",
       "        <td id=\"T_d313c254_d0b5_11e8_99b0_acbc328495cfrow2_col2\" class=\"data row2 col2\" >0.881</td> \n",
       "        <td id=\"T_d313c254_d0b5_11e8_99b0_acbc328495cfrow2_col3\" class=\"data row2 col3\" >0.959</td> \n",
       "    </tr>    <tr> \n",
       "        <th id=\"T_d313c254_d0b5_11e8_99b0_acbc328495cflevel0_row3\" class=\"row_heading level0 row3\" >without_VEP_additional_info_2</th> \n",
       "        <td id=\"T_d313c254_d0b5_11e8_99b0_acbc328495cfrow3_col0\" class=\"data row3 col0\" >0.88</td> \n",
       "        <td id=\"T_d313c254_d0b5_11e8_99b0_acbc328495cfrow3_col1\" class=\"data row3 col1\" >0.951</td> \n",
       "        <td id=\"T_d313c254_d0b5_11e8_99b0_acbc328495cfrow3_col2\" class=\"data row3 col2\" >0.876</td> \n",
       "        <td id=\"T_d313c254_d0b5_11e8_99b0_acbc328495cfrow3_col3\" class=\"data row3 col3\" >0.958</td> \n",
       "    </tr>    <tr> \n",
       "        <th id=\"T_d313c254_d0b5_11e8_99b0_acbc328495cflevel0_row4\" class=\"row_heading level0 row4\" >simplified_VEP_VARIANT_CLASS</th> \n",
       "        <td id=\"T_d313c254_d0b5_11e8_99b0_acbc328495cfrow4_col0\" class=\"data row4 col0\" >0.883</td> \n",
       "        <td id=\"T_d313c254_d0b5_11e8_99b0_acbc328495cfrow4_col1\" class=\"data row4 col1\" >0.95</td> \n",
       "        <td id=\"T_d313c254_d0b5_11e8_99b0_acbc328495cfrow4_col2\" class=\"data row4 col2\" >0.88</td> \n",
       "        <td id=\"T_d313c254_d0b5_11e8_99b0_acbc328495cfrow4_col3\" class=\"data row4 col3\" >0.957</td> \n",
       "    </tr>    <tr> \n",
       "        <th id=\"T_d313c254_d0b5_11e8_99b0_acbc328495cflevel0_row5\" class=\"row_heading level0 row5\" >add_chromosome</th> \n",
       "        <td id=\"T_d313c254_d0b5_11e8_99b0_acbc328495cfrow5_col0\" class=\"data row5 col0\" >0.884</td> \n",
       "        <td id=\"T_d313c254_d0b5_11e8_99b0_acbc328495cfrow5_col1\" class=\"data row5 col1\" >0.952</td> \n",
       "        <td id=\"T_d313c254_d0b5_11e8_99b0_acbc328495cfrow5_col2\" class=\"data row5 col2\" >0.881</td> \n",
       "        <td id=\"T_d313c254_d0b5_11e8_99b0_acbc328495cfrow5_col3\" class=\"data row5 col3\" >0.959</td> \n",
       "    </tr></tbody> \n",
       "</table> "
      ],
      "text/plain": [
       "<pandas.io.formats.style.Styler at 0x1a197dcc50>"
      ]
     },
     "metadata": {},
     "output_type": "display_data"
    },
    {
     "data": {
      "image/png": "[encoded data removed]",
      "text/plain": [
       "<Figure size 720x864 with 1 Axes>"
      ]
     },
     "metadata": {
      "needs_background": "light"
     },
     "output_type": "display_data"
    }
   ],
   "source": [
    "compare_models(summary)"
   ]
  },
  {
   "cell_type": "code",
   "execution_count": 35,
   "metadata": {},
   "outputs": [
    {
     "data": {
      "text/plain": [
       "['t_depth',\n",
       " 't_vaf',\n",
       " 't_alt_count',\n",
       " 'n_depth',\n",
       " 'sample_coverage',\n",
       " 'is_SNV',\n",
       " 'VEP_COSMIC_CNT',\n",
       " 'frequency_in_normals',\n",
       " 'VEP_gnomAD_total_AF_max',\n",
       " 'VEP_gnomAD_total_AF',\n",
       " 'Chromosome']"
      ]
     },
     "execution_count": 35,
     "metadata": {},
     "output_type": "execute_result"
    }
   ],
   "source": [
    "features"
   ]
  },
  {
   "cell_type": "markdown",
   "metadata": {},
   "source": [
    "## Test"
   ]
  },
  {
   "cell_type": "code",
   "execution_count": 36,
   "metadata": {},
   "outputs": [],
   "source": [
    "features = ['t_depth',\n",
    " 't_vaf',\n",
    " 't_alt_count',\n",
    " 'n_depth',\n",
    " 'sample_coverage',\n",
    " 'is_SNV',\n",
    " 'VEP_COSMIC_CNT',\n",
    " 'frequency_in_normals',\n",
    " 'Chromosome']\n",
    "\n",
    "categorical_features = ['Chromosome']"
   ]
  },
  {
   "cell_type": "code",
   "execution_count": 37,
   "metadata": {},
   "outputs": [
    {
     "name": "stdout",
     "output_type": "stream",
     "text": [
      "Run model... done! (31.30s)\n",
      "▴ Mean accuracy    : 0.870 ± 0.004\n",
      "▴ Mean ROC AUC     : 0.944 ± 0.006\n",
      "▴ Mean F1-score    : 0.867 ± 0.005\n",
      "▴ Average precision: 0.951 ± 0.003\n"
     ]
    }
   ],
   "source": [
    "X, y = get_X_and_y(impact, features, categorical_features)\n",
    "metrics = run_model(model, X, y, cv_strategy, n_jobs=5)\n",
    "print_mean_metrics(metrics)"
   ]
  },
  {
   "cell_type": "code",
   "execution_count": 38,
   "metadata": {},
   "outputs": [],
   "source": [
    "from sklearn.ensemble import GradientBoostingClassifier\n",
    "\n",
    "model.fit(X, y);"
   ]
  },
  {
   "cell_type": "code",
   "execution_count": 39,
   "metadata": {},
   "outputs": [
    {
     "data": {
      "text/plain": [
       "<matplotlib.axes._subplots.AxesSubplot at 0x1a1874ccc0>"
      ]
     },
     "execution_count": 39,
     "metadata": {},
     "output_type": "execute_result"
    },
    {
     "data": {
      "image/png": "[encoded data removed]",
      "text/plain": [
       "<Figure size 720x576 with 1 Axes>"
      ]
     },
     "metadata": {
      "needs_background": "light"
     },
     "output_type": "display_data"
    }
   ],
   "source": [
    "feature_importance = pd.DataFrame({'value': model.feature_importances_.tolist()}, index=X.columns.tolist())\n",
    "feature_importance.sort_values(by='value', axis=0, inplace=True)\n",
    "\n",
    "plt.figure(figsize = (10, 8))\n",
    "feature_importance.value.plot.barh(width=0.85);"
   ]
  },
  {
   "cell_type": "markdown",
   "metadata": {},
   "source": [
    "## LogisticRegression and RandomForest before and after"
   ]
  },
  {
   "cell_type": "code",
   "execution_count": 46,
   "metadata": {},
   "outputs": [],
   "source": [
    "from sklearn.ensemble import RandomForestClassifier\n",
    "model_RandomForest = RandomForestClassifier(random_state=42, criterion='entropy', max_depth=30, n_estimators=1000)\n",
    "\n",
    "from sklearn.linear_model import LogisticRegressionCV\n",
    "from sklearn.preprocessing import StandardScaler\n",
    "from sklearn.pipeline import Pipeline\n",
    "nested_cv_strategy = StratifiedKFold(n_splits=3)\n",
    "model_LogisticRegressionGS = Pipeline([('scale'   , StandardScaler()),\n",
    "                                       ('classify', LogisticRegressionCV(cv=nested_cv_strategy, scoring='roc_auc', random_state=42))])\n",
    "\n",
    "from sklearn.svm import SVC\n",
    "model_SVM = Pipeline([('scale'   , StandardScaler()),\n",
    "                      ('classify', SVC(probability=True, cache_size=1000, gamma='scale', C=10, kernel='rbf'))])"
   ]
  },
  {
   "cell_type": "code",
   "execution_count": 47,
   "metadata": {},
   "outputs": [],
   "source": [
    "features = [\n",
    "#'Hugo_Symbol',\n",
    "#'Chromosome',\n",
    "#'Start_Position',\n",
    "#'End_Position',\n",
    "#'Consequence',\n",
    "#'Variant_Type',\n",
    "#'Reference_Allele',\n",
    "#'Tumor_Seq_Allele2',\n",
    "#'Tumor_Sample_Barcode',\n",
    "#'cDNA_change',\n",
    "#'HGVSp_Short',\n",
    "'t_depth',\n",
    "'t_vaf',\n",
    "'t_alt_count',\n",
    "'n_depth',\n",
    "'n_vaf',\n",
    "'n_alt_count',\n",
    "#'t_ref_plus_count',\n",
    "#'t_ref_neg_count',\n",
    "#'t_alt_plus_count',\n",
    "#'t_alt_neg_count',\n",
    "#'confidence_class',\n",
    "'sample_coverage',\n",
    "#'mut_key',\n",
    "#'VAG_VT',\n",
    "#'VAG_GENE',\n",
    "#'VAG_cDNA_CHANGE',\n",
    "#'VAG_PROTEIN_CHANGE',\n",
    "#'VAG_EFFECT',\n",
    "'VEP_Consequence',\n",
    "#'VEP_SYMBOL',\n",
    "#'VEP_HGVSc',\n",
    "#'VEP_HGVSp',\n",
    "#'VEP_Amino_acids',\n",
    "'VEP_VARIANT_CLASS',\n",
    "#'VEP_EXON',\n",
    "#'VEP_INTRON',\n",
    "'VEP_IMPACT',\n",
    "'VEP_CLIN_SIG',\n",
    "'VEP_COSMIC_CNT',\n",
    "'VEP_gnomAD_AF',\n",
    "#'sample_mut_key',\n",
    "#'patient_key',\n",
    "'frequency_in_normals',\n",
    "#'VEP_SIFT_class',\n",
    "#'VEP_SIFT_score',\n",
    "#'VEP_PolyPhen_class',\n",
    "#'VEP_PolyPhen_score',\n",
    "'VEP_in_dbSNP',\n",
    "'VEP_gnomAD_total_AF_AFR',\n",
    "'VEP_gnomAD_total_AF_AMR',\n",
    "'VEP_gnomAD_total_AF_ASJ',\n",
    "'VEP_gnomAD_total_AF_EAS',\n",
    "'VEP_gnomAD_total_AF_FIN',\n",
    "'VEP_gnomAD_total_AF_NFE',\n",
    "'VEP_gnomAD_total_AF_OTH',\n",
    "'VEP_gnomAD_total_AF_max',\n",
    "'VEP_gnomAD_total_AF',\n",
    "'Kaviar_AF',\n",
    "#'is_a_hotspot',\n",
    "#'is_a_3d_hotspot',\n",
    "#'oncogenic',\n",
    "'gene_type',\n",
    "#'is_artefact'\n",
    "]\n",
    "\n",
    "categorical_features = ['VEP_Consequence', 'VEP_VARIANT_CLASS', 'VEP_IMPACT', 'VEP_CLIN_SIG', 'VEP_in_dbSNP', 'gene_type']"
   ]
  },
  {
   "cell_type": "code",
   "execution_count": 48,
   "metadata": {},
   "outputs": [],
   "source": [
    "X_old, y_old = get_X_and_y(impact, features, categorical_features)"
   ]
  },
  {
   "cell_type": "code",
   "execution_count": 49,
   "metadata": {},
   "outputs": [],
   "source": [
    "features = ['t_depth',\n",
    " 't_vaf',\n",
    " 't_alt_count',\n",
    " 'n_depth',\n",
    " 'sample_coverage',\n",
    " 'is_SNV',\n",
    " 'VEP_COSMIC_CNT',\n",
    " 'frequency_in_normals',\n",
    " 'VEP_gnomAD_total_AF_max',\n",
    " 'VEP_gnomAD_total_AF',\n",
    " 'Chromosome']\n",
    "\n",
    "categorical_features = ['Chromosome']"
   ]
  },
  {
   "cell_type": "code",
   "execution_count": 50,
   "metadata": {},
   "outputs": [],
   "source": [
    "X_new, y_new = get_X_and_y(impact, features, categorical_features)"
   ]
  },
  {
   "cell_type": "markdown",
   "metadata": {},
   "source": [
    "**RandomForest**"
   ]
  },
  {
   "cell_type": "code",
   "execution_count": 51,
   "metadata": {},
   "outputs": [
    {
     "name": "stdout",
     "output_type": "stream",
     "text": [
      "Run model... done! (144.24s)\n",
      "▴ Mean accuracy    : 0.863 ± 0.009\n",
      "▴ Mean ROC AUC     : 0.937 ± 0.008\n",
      "▴ Mean F1-score    : 0.858 ± 0.009\n",
      "▴ Average precision: 0.947 ± 0.007\n",
      "Run model... done! (58.01s)\n",
      "▴ Mean accuracy    : 0.866 ± 0.006\n",
      "▴ Mean ROC AUC     : 0.938 ± 0.006\n",
      "▴ Mean F1-score    : 0.861 ± 0.006\n",
      "▴ Average precision: 0.949 ± 0.006\n"
     ]
    }
   ],
   "source": [
    "metrics = run_model(model_RandomForest, X_old, y_old, cv_strategy, n_jobs=20)\n",
    "print_mean_metrics(metrics)\n",
    "metrics = run_model(model_RandomForest, X_new, y_new, cv_strategy, n_jobs=20)\n",
    "print_mean_metrics(metrics)"
   ]
  },
  {
   "cell_type": "markdown",
   "metadata": {},
   "source": [
    "**Logistic Regression**"
   ]
  },
  {
   "cell_type": "code",
   "execution_count": 52,
   "metadata": {},
   "outputs": [
    {
     "name": "stdout",
     "output_type": "stream",
     "text": [
      "Run model... done! (4.46s)\n",
      "▴ Mean accuracy    : 0.820 ± 0.006\n",
      "▴ Mean ROC AUC     : 0.891 ± 0.010\n",
      "▴ Mean F1-score    : 0.803 ± 0.011\n",
      "▴ Average precision: 0.912 ± 0.006\n",
      "Run model... done! (2.48s)\n",
      "▴ Mean accuracy    : 0.809 ± 0.012\n",
      "▴ Mean ROC AUC     : 0.885 ± 0.009\n",
      "▴ Mean F1-score    : 0.792 ± 0.017\n",
      "▴ Average precision: 0.906 ± 0.006\n"
     ]
    }
   ],
   "source": [
    "metrics = run_model(model_LogisticRegressionGS, X_old, y_old, cv_strategy, n_jobs=20)\n",
    "print_mean_metrics(metrics)\n",
    "metrics = run_model(model_LogisticRegressionGS, X_new, y_new, cv_strategy, n_jobs=20)\n",
    "print_mean_metrics(metrics)"
   ]
  },
  {
   "cell_type": "markdown",
   "metadata": {},
   "source": [
    "**SVM**"
   ]
  },
  {
   "cell_type": "code",
   "execution_count": 53,
   "metadata": {},
   "outputs": [
    {
     "name": "stdout",
     "output_type": "stream",
     "text": [
      "Run model... done! (66.81s)\n",
      "▴ Mean accuracy    : 0.838 ± 0.011\n",
      "▴ Mean ROC AUC     : 0.913 ± 0.009\n",
      "▴ Mean F1-score    : 0.825 ± 0.012\n",
      "▴ Average precision: 0.927 ± 0.007\n",
      "Run model... done! (58.76s)\n",
      "▴ Mean accuracy    : 0.829 ± 0.008\n",
      "▴ Mean ROC AUC     : 0.908 ± 0.008\n",
      "▴ Mean F1-score    : 0.818 ± 0.007\n",
      "▴ Average precision: 0.923 ± 0.007\n"
     ]
    }
   ],
   "source": [
    "metrics = run_model(model_SVM, X_old, y_old, cv_strategy, n_jobs=20)\n",
    "print_mean_metrics(metrics)\n",
    "metrics = run_model(model_SVM, X_new, y_new, cv_strategy, n_jobs=20)\n",
    "print_mean_metrics(metrics)"
   ]
  }
 ],
 "metadata": {
  "kernelspec": {
   "display_name": "Python 3",
   "language": "python",
   "name": "python3"
  },
  "language_info": {
   "codemirror_mode": {
    "name": "ipython",
    "version": 3
   },
   "file_extension": ".py",
   "mimetype": "text/x-python",
   "name": "python",
   "nbconvert_exporter": "python",
   "pygments_lexer": "ipython3",
   "version": "3.6.6"
  },
  "toc-autonumbering": true,
  "toc-showcode": false,
  "toc-showmarkdowntxt": false,
  "toc-showtags": false
 },
 "nbformat": 4,
 "nbformat_minor": 2
}
