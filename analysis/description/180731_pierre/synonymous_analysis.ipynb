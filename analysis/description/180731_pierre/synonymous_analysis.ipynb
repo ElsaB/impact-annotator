{
 "cells": [
  {
   "cell_type": "markdown",
   "metadata": {},
   "source": [
    "# Study of the synonymous mutations\n",
    "\n",
    "Created: **19/07/18**  \n",
    "Last modified: **03/08/18**\n",
    "\n",
    "**Goal:** this study will focus only on the `synonymous_SNV` mutations.  \n",
    "This notebook is divided in ? (independant) parts:\n",
    "* **1. Bla**: `coding_analysis.ipynb [Pierre]` ( part 1. The `class` feature: somatic vs non-somatic)"
   ]
  },
  {
   "cell_type": "markdown",
   "metadata": {
    "toc": true
   },
   "source": [
    "<h1>Table of Contents<span class=\"tocSkip\"></span></h1>\n",
    "<div class=\"toc\"><ul class=\"toc-item\"><li><span><a href=\"#The-label-feature:-coding_somatic-vs-synonymous\" data-toc-modified-id=\"The-label-feature:-coding_somatic-vs-synonymous-1\"><span class=\"toc-item-num\">1&nbsp;&nbsp;</span>The <code>label</code> feature: coding_somatic vs synonymous</a></span><ul class=\"toc-item\"><li><span><a href=\"#Creating-the-feature\" data-toc-modified-id=\"Creating-the-feature-1.1\"><span class=\"toc-item-num\">1.1&nbsp;&nbsp;</span>Creating the feature</a></span></li><li><span><a href=\"#Comparison-of-the-frequency_in_normals,-t_vaf-and-strand_ratio\" data-toc-modified-id=\"Comparison-of-the-frequency_in_normals,-t_vaf-and-strand_ratio-1.2\"><span class=\"toc-item-num\">1.2&nbsp;&nbsp;</span>Comparison of the <code>frequency_in_normals</code>, <code>t_vaf</code> and <code>strand_ratio</code></a></span></li><li><span><a href=\"#Comparison-of-Kaviar_AF\" data-toc-modified-id=\"Comparison-of-Kaviar_AF-1.3\"><span class=\"toc-item-num\">1.3&nbsp;&nbsp;</span>Comparison of <code>Kaviar_AF</code></a></span></li><li><span><a href=\"#Comparison-of-cosmic_count\" data-toc-modified-id=\"Comparison-of-cosmic_count-1.4\"><span class=\"toc-item-num\">1.4&nbsp;&nbsp;</span>Comparison of <code>cosmic_count</code></a></span></li></ul></li><li><span><a href=\"#The-key-feature:-study-of-reccurent-mutations\" data-toc-modified-id=\"The-key-feature:-study-of-reccurent-mutations-2\"><span class=\"toc-item-num\">2&nbsp;&nbsp;</span>The <code>key</code> feature: study of reccurent mutations</a></span><ul class=\"toc-item\"><li><span><a href=\"#Identify-the-reccurent-mutations\" data-toc-modified-id=\"Identify-the-reccurent-mutations-2.1\"><span class=\"toc-item-num\">2.1&nbsp;&nbsp;</span>Identify the reccurent mutations</a></span></li><li><span><a href=\"#Sudy-the-reccurent-mutations-genes\" data-toc-modified-id=\"Sudy-the-reccurent-mutations-genes-2.2\"><span class=\"toc-item-num\">2.2&nbsp;&nbsp;</span>Sudy the reccurent mutations genes</a></span></li><li><span><a href=\"#Study-the-outliers\" data-toc-modified-id=\"Study-the-outliers-2.3\"><span class=\"toc-item-num\">2.3&nbsp;&nbsp;</span>Study the outliers</a></span></li></ul></li></ul></div>"
   ]
  },
  {
   "cell_type": "markdown",
   "metadata": {},
   "source": [
    "***"
   ]
  },
  {
   "cell_type": "code",
   "execution_count": 84,
   "metadata": {},
   "outputs": [],
   "source": [
    "source(\"../../../src/utils/custom_tools.R\")\n",
    "setup_environment()"
   ]
  },
  {
   "cell_type": "code",
   "execution_count": null,
   "metadata": {},
   "outputs": [],
   "source": [
    "impact <- read.table(\"../../../data/cleaned_IMPACT_mutations_180508.txt\", sep = \"\\t\", stringsAsFactors = FALSE, header = TRUE)\n",
    "impact <- add_features(\"../../../data/\", impact, annotations = TRUE)"
   ]
  },
  {
   "cell_type": "markdown",
   "metadata": {},
   "source": [
    "## The `label` feature: coding_somatic vs synonymous"
   ]
  },
  {
   "cell_type": "markdown",
   "metadata": {},
   "source": [
    "The `synonymous_SNV` mutations have automatically been classified as `UNKNOWN` so we don't know which one are somatic or non-somatic mutations. However, the coding mutations have been curated, and we know which one of them are somatic. Thus, we can take the somatic coding mutations as a reference of mutations that are somatic. For example, comparing the `frequency_in_normals` for `synonymous_SNV` mutations and somatic coding mutations could reveal a difference and help us to filter the `synonymous_SNV` mutations that are somatic from the one that are non-somatic.  \n",
    "\n",
    "Unfortunately, this study will show that the `frequency_in_normals`, `t_vaf` and `strand_bias` features won't be relevant to filter the `synonymous_SNV` mutations. However, the `Kaviar_AF` feature could help us!"
   ]
  },
  {
   "cell_type": "markdown",
   "metadata": {},
   "source": [
    "### Creating the feature"
   ]
  },
  {
   "cell_type": "markdown",
   "metadata": {},
   "source": [
    "We create a new feature `label`:\n",
    "* A mutation has `label = synonymous` if `Consequence = synonymous_SNV`\n",
    "* A mutation has `label = coding_somatic` if it is a coding mutation and `confidence_class = AUTO_OK | MANUAL_OK`."
   ]
  },
  {
   "cell_type": "code",
   "execution_count": null,
   "metadata": {},
   "outputs": [],
   "source": [
    "impact <- impact[(impact$Consequence == \"synonymous_SNV\") |\n",
    "                 (impact$Consequence != \"synonymous_SNV\" & (impact$confidence_class == \"AUTO_OK\" |\n",
    "                                                            impact$confidence_class == \"MANUAL_OK\")),]\n",
    "impact$label <- \"coding_somatic\"\n",
    "impact$label[(impact$Consequence == \"synonymous_SNV\")] <- \"synonymous\"\n",
    "\n",
    "addmargins(table(impact$label, impact$confidence_class), margin = 2)\n",
    "100 * nrow(impact[impact$label == \"synonymous\",]) / nrow(impact) # percentage of synonymous mutations"
   ]
  },
  {
   "cell_type": "markdown",
   "metadata": {},
   "source": [
    "The dataset is unbalanced with 50,010 synonymous mutations ($21.1\\%$ of the samples) vs 187,098 somatic mutations ($78.9\\%$ of the samples)."
   ]
  },
  {
   "cell_type": "markdown",
   "metadata": {},
   "source": [
    "### Comparison of the `frequency_in_normals`, `t_vaf` and `strand_ratio`"
   ]
  },
  {
   "cell_type": "markdown",
   "metadata": {},
   "source": [
    "We create the `strand_ratio` feature:"
   ]
  },
  {
   "cell_type": "code",
   "execution_count": null,
   "metadata": {},
   "outputs": [],
   "source": [
    "impact$strand_ratio <- pmin(impact$t_alt_neg_count, impact$t_alt_plus_count) /\n",
    "                       pmax(impact$t_alt_neg_count, impact$t_alt_plus_count)"
   ]
  },
  {
   "cell_type": "markdown",
   "metadata": {},
   "source": [
    "Distribution of `frequency_in_normals`, `tvaf` and `strand_ratio` for the coding vs synonymous `label` (warning the first and last plot have a sqrt x and sqrt y scale):"
   ]
  },
  {
   "cell_type": "code",
   "execution_count": null,
   "metadata": {},
   "outputs": [],
   "source": [
    "plot_density(impact, \"frequency_in_normals\", \"label\", height = 2.5) + scale_x_sqrt() + scale_y_sqrt()\n",
    "plot_density(impact, \"t_vaf\", \"label\", height = 2.5)\n",
    "plot_density(impact, \"strand_ratio\", \"label\", height = 2.5) + scale_x_sqrt() + scale_y_sqrt()"
   ]
  },
  {
   "cell_type": "markdown",
   "metadata": {},
   "source": [
    "The distributions are almost identical in every plot. Wee see a little bump at `t_vaf` $\\approx 0.5$ for the synonymous mutations, most likely the germline part of it but it is really not pronounced."
   ]
  },
  {
   "cell_type": "markdown",
   "metadata": {},
   "source": [
    "Below is an attempt to plot the `strand_ratio` vs the `t_vaf` to separate the germline (`t_vaf` $\\approx 0.5$ and high `strand_ratio`) from the artefact (low `t_vaf` and low `strand_ratio`), but nothing really discriminant was found."
   ]
  },
  {
   "cell_type": "code",
   "execution_count": null,
   "metadata": {
    "scrolled": false
   },
   "outputs": [],
   "source": [
    "notebook_plot_size(10, 8)\n",
    "plot1 <- ggplot(impact[impact$label == \"coding_somatic\",]) + geom_hex(aes(strand_ratio, t_vaf)) +\n",
    "         scale_fill_gradient(low = \"#FFEDA0\", high = \"#F03B20\") +\n",
    "         ggtitle(\"coding_somatic\") + theme(plot.title = element_text(hjust = 0.5))\n",
    "plot2 <- ggplot(impact[impact$label == \"synonymous\",]) + geom_hex(aes(strand_ratio, t_vaf)) +\n",
    "         scale_fill_gradient(low = \"#FFEDA0\", high = \"#F03B20\") +\n",
    "         ggtitle(\"synonymous\") + theme(plot.title = element_text(hjust = 0.5))\n",
    "plot3 <- ggplot(impact[impact$label == \"coding_somatic\",]) +\n",
    "         stat_density_2d(aes(strand_ratio, t_vaf, fill = ..level..), geom = \"polygon\") +\n",
    "         scale_fill_gradientn(colors = c(\"#FFEDA0\", \"#FEB24C\", \"#F03B20\")) +\n",
    "         coord_cartesian(xlim = c(0, 1), ylim = c(0, 1))\n",
    "plot4 <- ggplot(impact[impact$label == \"synonymous\",]) +\n",
    "         stat_density_2d(aes(strand_ratio, t_vaf, fill = ..level..), geom = \"polygon\") +\n",
    "         scale_fill_gradientn(colors = c(\"#FFEDA0\", \"#FEB24C\", \"#F03B20\")) +\n",
    "         coord_cartesian(xlim = c(0, 1), ylim = c(0, 1))\n",
    "\n",
    "plot_grid(plot1, plot2, plot3, plot4, ncol = 2, nrow = 2)"
   ]
  },
  {
   "cell_type": "markdown",
   "metadata": {},
   "source": [
    "### Comparison of `Kaviar_AF`"
   ]
  },
  {
   "cell_type": "markdown",
   "metadata": {},
   "source": [
    "Distribution of `Kaviar_AF` for the coding vs synonymous `label` (warning this is a sqrt x and sqrt y scale):"
   ]
  },
  {
   "cell_type": "code",
   "execution_count": null,
   "metadata": {},
   "outputs": [],
   "source": [
    "plot_density(impact, \"Kaviar_AF\", \"label\", lines = 0.001) + scale_x_sqrt() + scale_y_sqrt()"
   ]
  },
  {
   "cell_type": "markdown",
   "metadata": {},
   "source": [
    "The synonymous mutations present a heavier `Kaviar_AF` tail, which are likely to be the artefacts call."
   ]
  },
  {
   "cell_type": "code",
   "execution_count": null,
   "metadata": {},
   "outputs": [],
   "source": [
    "summary(impact[impact$label == \"coding_somatic\",]$Kaviar_AF)"
   ]
  },
  {
   "cell_type": "code",
   "execution_count": null,
   "metadata": {},
   "outputs": [],
   "source": [
    "summary(impact[impact$label == \"synonymous\",]$Kaviar_AF)"
   ]
  },
  {
   "cell_type": "code",
   "execution_count": null,
   "metadata": {},
   "outputs": [],
   "source": [
    "100 * nrow(impact[impact$label == \"coding_somatic\" & impact$Kaviar_AF > 0.001,]) / nrow(impact[impact$label == \"coding_somatic\",])\n",
    "100 * nrow(impact[impact$label == \"synonymous\" & impact$Kaviar_AF > 0.001,]) / nrow(impact[impact$label == \"synonymous\",])"
   ]
  },
  {
   "cell_type": "markdown",
   "metadata": {},
   "source": [
    "We are going to set a threshold on the `Kaviar_AF` parameter to try to curate the `synonymous` mutations, even if the threshold is a bit severe and will make us loose some somatic synonymous, we should still be able to work on a sufficient amount of `synonymous` mutations. The threshold will be set at 0.001 (see red line on the plot above)."
   ]
  },
  {
   "cell_type": "code",
   "execution_count": null,
   "metadata": {},
   "outputs": [],
   "source": [
    "impact <- impact[impact$label != \"synonymous\" |\n",
    "                 (impact$label == \"synonymous\" & impact$Kaviar_AF <= 0.001),]"
   ]
  },
  {
   "cell_type": "markdown",
   "metadata": {},
   "source": [
    "### Comparison of `cosmic_count`"
   ]
  },
  {
   "cell_type": "markdown",
   "metadata": {},
   "source": [
    "Distribution of `cosmic_count` for the coding vs synonymous `label` (warning this is a sqrt x and sqrt y scale):"
   ]
  },
  {
   "cell_type": "code",
   "execution_count": null,
   "metadata": {},
   "outputs": [],
   "source": [
    "plot_density(impact, \"cosmic_count\", \"label\") + scale_x_sqrt() + scale_y_sqrt()"
   ]
  },
  {
   "cell_type": "markdown",
   "metadata": {},
   "source": [
    "As expected the `synonymous` mutations have a really low `cosmic_count`."
   ]
  },
  {
   "cell_type": "code",
   "execution_count": null,
   "metadata": {},
   "outputs": [],
   "source": [
    "summary(impact[impact$label == \"synonymous\",]$cosmic_count)"
   ]
  },
  {
   "cell_type": "markdown",
   "metadata": {},
   "source": [
    "## The `key` feature: study of reccurent mutations"
   ]
  },
  {
   "cell_type": "code",
   "execution_count": null,
   "metadata": {},
   "outputs": [],
   "source": [
    "impact <- impact[impact$label == \"synonymous\",] # keep only the synonymous mutations"
   ]
  },
  {
   "cell_type": "markdown",
   "metadata": {},
   "source": [
    "Each mutations is identified by a unique key `mut_key` : `Chromosome`_`Start_Position`_`Reference_Allele`_`Tumor_Seq_Allele2`. The mutations sharing the same key are the same."
   ]
  },
  {
   "cell_type": "code",
   "execution_count": null,
   "metadata": {
    "scrolled": true
   },
   "outputs": [],
   "source": [
    "head(impact$mut_key)\n",
    "length(unique(impact$mut_key)) # number of different keys e.g. number of different mutations"
   ]
  },
  {
   "cell_type": "markdown",
   "metadata": {},
   "source": [
    "### Identify the reccurent mutations"
   ]
  },
  {
   "cell_type": "markdown",
   "metadata": {},
   "source": [
    "We need to study the reccurence of mutations taking care not to consider a mutation as recurrent if it comes frome the same patient. To do so we will group the rows by patient, and select only the distinct mutations for each patient:"
   ]
  },
  {
   "cell_type": "code",
   "execution_count": null,
   "metadata": {},
   "outputs": [],
   "source": [
    "# create a patient id (no problem will be caused by 'None-T01-IM6' which will become 'None-T01-')\n",
    "impact$patient_id <- substr(impact$Tumor_Sample_Barcode, 1, 9)\n",
    "head(unique(impact$patient_id))"
   ]
  },
  {
   "cell_type": "code",
   "execution_count": null,
   "metadata": {},
   "outputs": [],
   "source": [
    "impact_unique_mut_keys_per_patient <- as.data.frame(impact %>% group_by(patient_id) %>%\n",
    "                                                               select(patient_id, mut_key, Hugo_Symbol) %>%\n",
    "                                                               filter(! duplicated(mut_key)))\n",
    "nrow(impact)\n",
    "nrow(impact_unique_mut_keys_per_patient)"
   ]
  },
  {
   "cell_type": "code",
   "execution_count": null,
   "metadata": {
    "scrolled": true
   },
   "outputs": [],
   "source": [
    "mut_key_info <- as.data.frame(impact_unique_mut_keys_per_patient %>% group_by(mut_key) %>%\n",
    "                                                                     summarise(count = n(), Hugo_Symbol = unique(Hugo_Symbol)))\n",
    "head(mut_key_info)"
   ]
  },
  {
   "cell_type": "code",
   "execution_count": null,
   "metadata": {},
   "outputs": [],
   "source": [
    "for (threshold in c(2, 3, 5, 10)) {\n",
    "    \n",
    "    mut_key_info_threshold <- mut_key_info[mut_key_info$count >= threshold,]\n",
    "    \n",
    "    print(sprintf(\"%2.0f%% (%5d) of the keys are shared by at least %2d samples [%2.0f%% (%5d) of the rows concerned]\",\n",
    "                  100 * nrow(mut_key_info_threshold) / nrow(mut_key_info),\n",
    "                  nrow(mut_key_info_threshold),\n",
    "                  threshold,\n",
    "                  100 * nrow(impact_unique_mut_keys_per_patient[impact_unique_mut_keys_per_patient$mut_key %in% mut_key_info_threshold$mut_key,]) / nrow(impact_unique_mut_keys_per_patient),\n",
    "                  nrow(impact_unique_mut_keys_per_patient[impact_unique_mut_keys_per_patient$mut_key %in% mut_key_info_threshold$mut_key,])))\n",
    "}"
   ]
  },
  {
   "cell_type": "markdown",
   "metadata": {},
   "source": [
    "Distribution of the mutations key count for the mutations present in at least 2 samples (warning this is a sqrt x and y scale):"
   ]
  },
  {
   "cell_type": "code",
   "execution_count": null,
   "metadata": {},
   "outputs": [],
   "source": [
    "repeated_key <- mut_key_info[mut_key_info$count >= 2,] # keys shared by at least 2 samples\n",
    "plot_density(repeated_key, \"count\", adjust = 4, lines = 10, height = 2) + scale_y_sqrt() + scale_x_sqrt()"
   ]
  },
  {
   "cell_type": "markdown",
   "metadata": {},
   "source": [
    "### Sudy the reccurent mutations genes"
   ]
  },
  {
   "cell_type": "code",
   "execution_count": null,
   "metadata": {
    "scrolled": true
   },
   "outputs": [],
   "source": [
    "length(unique(repeated_key$Hugo_Symbol))"
   ]
  },
  {
   "cell_type": "code",
   "execution_count": null,
   "metadata": {},
   "outputs": [],
   "source": [
    "head(repeated_key)"
   ]
  },
  {
   "cell_type": "markdown",
   "metadata": {},
   "source": [
    "Here is a plot of the genes that are the most mutated **accross the mutation keys**:"
   ]
  },
  {
   "cell_type": "code",
   "execution_count": null,
   "metadata": {
    "scrolled": false
   },
   "outputs": [],
   "source": [
    "repeated_key <- sort_histogram(repeated_key, \"Hugo_Symbol\")\n",
    "notebook_plot_size(10, 2)\n",
    "ggplot(repeated_key) + geom_bar(aes(Hugo_Symbol)) + theme(axis.text.x = element_blank())\n",
    "plot_histogram_top(repeated_key, \"Hugo_Symbol\", 20) + theme(axis.text.x = element_text(angle = 45, hjust = 1))"
   ]
  },
  {
   "cell_type": "markdown",
   "metadata": {},
   "source": [
    "Here is a plot of the genes that are the most mutated **accross the rows**:"
   ]
  },
  {
   "cell_type": "code",
   "execution_count": null,
   "metadata": {},
   "outputs": [],
   "source": [
    "rec_impact <- impact_unique_mut_keys_per_patient[impact_unique_mut_keys_per_patient$mut_key %in% repeated_key$mut_key,]\n",
    "\n",
    "rec_impact <- sort_histogram(rec_impact, \"Hugo_Symbol\")\n",
    "notebook_plot_size(10, 2)\n",
    "ggplot(rec_impact) + geom_bar(aes(Hugo_Symbol)) + theme(axis.text.x = element_blank())\n",
    "plot_histogram_top(rec_impact, \"Hugo_Symbol\", 20) + theme(axis.text.x = element_text(angle = 45, hjust = 1))"
   ]
  },
  {
   "cell_type": "markdown",
   "metadata": {},
   "source": [
    "### Study the outliers"
   ]
  },
  {
   "cell_type": "code",
   "execution_count": null,
   "metadata": {},
   "outputs": [],
   "source": [
    "repeated_key <- mut_key_info[mut_key_info$count >= 2,] # keys shared by at least 2 samples\n",
    "ggplot(repeated_key) + geom_bar(aes(x = count))\n",
    "ggplot(repeated_key[repeated_key$count >= 10,]) + geom_bar(aes(x = count))"
   ]
  },
  {
   "cell_type": "code",
   "execution_count": null,
   "metadata": {},
   "outputs": [],
   "source": [
    "head(impact_unique_mut_keys_per_patient)"
   ]
  },
  {
   "cell_type": "code",
   "execution_count": null,
   "metadata": {
    "scrolled": false
   },
   "outputs": [],
   "source": [
    "m <- max(repeated_key$count)\n",
    "high <- impact[which.max(repeated_key$count == m),]\n",
    "nrow(high)\n",
    "unique(high[, c(\"mut_key\", \n",
    "                \"Hugo_Symbol\",\n",
    "        \"Chromosome\",\n",
    "        \"cDNA_change\",\n",
    "        \"HGVSp_Short\",\n",
    "        \"Kaviar_AF\",\n",
    "        \"cosmic_count\")])"
   ]
  },
  {
   "cell_type": "code",
   "execution_count": null,
   "metadata": {},
   "outputs": [],
   "source": [
    "colnames(impact)"
   ]
  },
  {
   "cell_type": "code",
   "execution_count": null,
   "metadata": {
    "scrolled": false
   },
   "outputs": [],
   "source": [
    "plot_density(high, \"t_vaf\", height = 2, adjust = 1/3) + scale_y_sqrt() + scale_x_sqrt()\n",
    "plot_density(high, \"frequency_in_normals\", height = 2, adjust = 1/3) + scale_y_sqrt() + scale_x_sqrt()\n",
    "plot_density(high, \"strand_ratio\", height = 2, adjust = 1/3) + scale_y_sqrt() + scale_x_sqrt()"
   ]
  },
  {
   "cell_type": "code",
   "execution_count": null,
   "metadata": {},
   "outputs": [],
   "source": []
  }
 ],
 "metadata": {
  "kernelspec": {
   "display_name": "R",
   "language": "R",
   "name": "ir"
  },
  "language_info": {
   "codemirror_mode": "r",
   "file_extension": ".r",
   "mimetype": "text/x-r-source",
   "name": "R",
   "pygments_lexer": "r",
   "version": "3.5.1"
  },
  "notify_time": "10",
  "toc": {
   "base_numbering": 1,
   "nav_menu": {},
   "number_sections": true,
   "sideBar": false,
   "skip_h1_title": true,
   "title_cell": "Table of Contents",
   "title_sidebar": "Contents",
   "toc_cell": true,
   "toc_position": {},
   "toc_section_display": true,
   "toc_window_display": false
  }
 },
 "nbformat": 4,
 "nbformat_minor": 2
}
