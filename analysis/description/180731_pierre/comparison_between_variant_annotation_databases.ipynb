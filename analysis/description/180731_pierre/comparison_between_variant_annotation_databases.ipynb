{
 "cells": [
  {
   "cell_type": "markdown",
   "metadata": {},
   "source": [
    "# Comparison between variant annotation databases\n",
    "\n",
    "Created: **31/07/18**  \n",
    "Last modified: **07/08/18**\n",
    "\n",
    "**Goal:** ...  \n",
    "See [`doc/biblio/variant_annotation_databases.md`](https://github.com/ElsaB/impact-annotator/blob/master/doc/biblio/variant_annotation_databases.md) for detailed documentation of all these databases.\n",
    "We will study different databases available online and compare them with OncoKB:\n",
    "* [CanDL](https://github.com/ElsaB/impact-annotator/blob/master/doc/biblio/variant_annotation_databases.md#candl)\n",
    "* [DoCM](https://github.com/ElsaB/impact-annotator/blob/master/doc/biblio/variant_annotation_databases.md#docm)\n",
    "* [Precision Medicine Knowledgebase](https://github.com/ElsaB/impact-annotator/blob/master/doc/biblio/variant_annotation_databases.md#precision-medicine-knowledgebase) (couldn't finish)\n",
    "* [CIViC](https://github.com/ElsaB/impact-annotator/blob/master/doc/biblio/variant_annotation_databases.md#civic)\n",
    "* [Cancer Genome Interpreter](https://github.com/ElsaB/impact-annotator/blob/master/doc/biblio/variant_annotation_databases.md#cancer-genome-interpreter)\n",
    "\n",
    "This notebook is divided in ? parts:\n",
    "\n",
    "* **1. Bla**: Bla"
   ]
  },
  {
   "cell_type": "markdown",
   "metadata": {
    "toc": true
   },
   "source": [
    "<h1>Table of Contents<span class=\"tocSkip\"></span></h1>\n",
    "<div class=\"toc\"><ul class=\"toc-item\"><li><span><a href=\"#CanDL\" data-toc-modified-id=\"CanDL-1\"><span class=\"toc-item-num\">1&nbsp;&nbsp;</span>CanDL</a></span><ul class=\"toc-item\"><li><span><a href=\"#Get-the-raw-data\" data-toc-modified-id=\"Get-the-raw-data-1.1\"><span class=\"toc-item-num\">1.1&nbsp;&nbsp;</span>Get the raw data</a></span></li><li><span><a href=\"#Create-keys-to-join-the-two-dataframes-and-extract-the-features\" data-toc-modified-id=\"Create-keys-to-join-the-two-dataframes-and-extract-the-features-1.2\"><span class=\"toc-item-num\">1.2&nbsp;&nbsp;</span>Create keys to join the two dataframes and extract the features</a></span></li><li><span><a href=\"#Results\" data-toc-modified-id=\"Results-1.3\"><span class=\"toc-item-num\">1.3&nbsp;&nbsp;</span>Results</a></span></li></ul></li><li><span><a href=\"#DoCM\" data-toc-modified-id=\"DoCM-2\"><span class=\"toc-item-num\">2&nbsp;&nbsp;</span>DoCM</a></span><ul class=\"toc-item\"><li><span><a href=\"#Get-the-raw-data\" data-toc-modified-id=\"Get-the-raw-data-2.1\"><span class=\"toc-item-num\">2.1&nbsp;&nbsp;</span>Get the raw data</a></span></li><li><span><a href=\"#Create-keys-to-join-the-two-dataframes-and-extract-the-features\" data-toc-modified-id=\"Create-keys-to-join-the-two-dataframes-and-extract-the-features-2.2\"><span class=\"toc-item-num\">2.2&nbsp;&nbsp;</span>Create keys to join the two dataframes and extract the features</a></span></li><li><span><a href=\"#Results\" data-toc-modified-id=\"Results-2.3\"><span class=\"toc-item-num\">2.3&nbsp;&nbsp;</span>Results</a></span></li></ul></li><li><span><a href=\"#Precision-Medicine-Knowledgebase\" data-toc-modified-id=\"Precision-Medicine-Knowledgebase-3\"><span class=\"toc-item-num\">3&nbsp;&nbsp;</span>Precision Medicine Knowledgebase</a></span><ul class=\"toc-item\"><li><span><a href=\"#Get-the-raw-data\" data-toc-modified-id=\"Get-the-raw-data-3.1\"><span class=\"toc-item-num\">3.1&nbsp;&nbsp;</span>Get the raw data</a></span></li></ul></li><li><span><a href=\"#CIViC\" data-toc-modified-id=\"CIViC-4\"><span class=\"toc-item-num\">4&nbsp;&nbsp;</span>CIViC</a></span><ul class=\"toc-item\"><li><span><a href=\"#Create-keys-to-join-the-two-dataframes-and-extract-the-features\" data-toc-modified-id=\"Create-keys-to-join-the-two-dataframes-and-extract-the-features-4.1\"><span class=\"toc-item-num\">4.1&nbsp;&nbsp;</span>Create keys to join the two dataframes and extract the features</a></span></li><li><span><a href=\"#Results\" data-toc-modified-id=\"Results-4.2\"><span class=\"toc-item-num\">4.2&nbsp;&nbsp;</span>Results</a></span></li></ul></li><li><span><a href=\"#Cancer-Genome-Interpreter\" data-toc-modified-id=\"Cancer-Genome-Interpreter-5\"><span class=\"toc-item-num\">5&nbsp;&nbsp;</span>Cancer Genome Interpreter</a></span><ul class=\"toc-item\"><li><span><a href=\"#Get-the-raw-data\" data-toc-modified-id=\"Get-the-raw-data-5.1\"><span class=\"toc-item-num\">5.1&nbsp;&nbsp;</span>Get the raw data</a></span></li><li><span><a href=\"#Create-keys-to-join-the-two-dataframes-and-extract-the-features\" data-toc-modified-id=\"Create-keys-to-join-the-two-dataframes-and-extract-the-features-5.2\"><span class=\"toc-item-num\">5.2&nbsp;&nbsp;</span>Create keys to join the two dataframes and extract the features</a></span></li><li><span><a href=\"#Results\" data-toc-modified-id=\"Results-5.3\"><span class=\"toc-item-num\">5.3&nbsp;&nbsp;</span>Results</a></span></li></ul></li><li><span><a href=\"#Study-the-IMPACT-variants-repartition-accross-the-databases\" data-toc-modified-id=\"Study-the-IMPACT-variants-repartition-accross-the-databases-6\"><span class=\"toc-item-num\">6&nbsp;&nbsp;</span>Study the IMPACT variants repartition accross the databases</a></span><ul class=\"toc-item\"><li><span><a href=\"#At-the-row-level\" data-toc-modified-id=\"At-the-row-level-6.1\"><span class=\"toc-item-num\">6.1&nbsp;&nbsp;</span>At the row level</a></span></li><li><span><a href=\"#At-the-key-level\" data-toc-modified-id=\"At-the-key-level-6.2\"><span class=\"toc-item-num\">6.2&nbsp;&nbsp;</span>At the key level</a></span></li><li><span><a href=\"#Mutations-not-in-OncoKB\" data-toc-modified-id=\"Mutations-not-in-OncoKB-6.3\"><span class=\"toc-item-num\">6.3&nbsp;&nbsp;</span>Mutations not in OncoKB</a></span></li></ul></li><li><span><a href=\"#Study-shared-genes\" data-toc-modified-id=\"Study-shared-genes-7\"><span class=\"toc-item-num\">7&nbsp;&nbsp;</span>Study shared genes</a></span><ul class=\"toc-item\"><li><span><a href=\"#Correct-Hugo-symbols\" data-toc-modified-id=\"Correct-Hugo-symbols-7.1\"><span class=\"toc-item-num\">7.1&nbsp;&nbsp;</span>Correct Hugo symbols</a></span></li><li><span><a href=\"#Study-genes-sharing\" data-toc-modified-id=\"Study-genes-sharing-7.2\"><span class=\"toc-item-num\">7.2&nbsp;&nbsp;</span>Study genes sharing</a></span></li></ul></li></ul></div>"
   ]
  },
  {
   "cell_type": "markdown",
   "metadata": {},
   "source": [
    "***"
   ]
  },
  {
   "cell_type": "code",
   "execution_count": 1,
   "metadata": {},
   "outputs": [],
   "source": [
    "source(\"../../../src/utils/custom_tools.R\")\n",
    "setup_environment(\"../../../src/utils\")"
   ]
  },
  {
   "cell_type": "code",
   "execution_count": null,
   "metadata": {},
   "outputs": [],
   "source": [
    "impact <- read.table(\"../../../data/cleaned_IMPACT_mutations_180508.txt\", sep = \"\\t\", stringsAsFactors = FALSE, header = TRUE)\n",
    "impact <- add_features(\"../../../data/\", impact, oncokb = TRUE)"
   ]
  },
  {
   "cell_type": "markdown",
   "metadata": {},
   "source": [
    "We will only work with the curated mutations:"
   ]
  },
  {
   "cell_type": "code",
   "execution_count": null,
   "metadata": {},
   "outputs": [],
   "source": [
    "impact <- impact[impact$confidence_class %in% c(\"AUTO_OK\", \"MANUAL_OK\"),] # keep only the somatic mutations"
   ]
  },
  {
   "cell_type": "code",
   "execution_count": null,
   "metadata": {},
   "outputs": [],
   "source": [
    "impact$is_in_oncokb <- \"no\"\n",
    "impact$is_in_oncokb[impact$oncogenic %in% c(\"Oncogenic\", \"Likely Oncogenic\", \"Predicted Oncogenic\")] <- \"yes\""
   ]
  },
  {
   "cell_type": "markdown",
   "metadata": {
    "heading_collapsed": true
   },
   "source": [
    "## CanDL"
   ]
  },
  {
   "cell_type": "markdown",
   "metadata": {
    "heading_collapsed": true,
    "hidden": true
   },
   "source": [
    "### Get the raw data"
   ]
  },
  {
   "cell_type": "markdown",
   "metadata": {
    "hidden": true
   },
   "source": [
    "Data downloaded from https://candl.osu.edu/download/full, 09/08/18 version."
   ]
  },
  {
   "cell_type": "code",
   "execution_count": null,
   "metadata": {
    "hidden": true
   },
   "outputs": [],
   "source": [
    "candl <- read.table(\"../../../data/other_databases/candl-results-20180809100701.csv\",\n",
    "                    sep = \",\", stringsAsFactors = FALSE, header = TRUE, fill = TRUE, quote = \"\")"
   ]
  },
  {
   "cell_type": "code",
   "execution_count": null,
   "metadata": {
    "hidden": true
   },
   "outputs": [],
   "source": [
    "nrow(candl)\n",
    "length(unique(candl$Gene))\n",
    "colnames(candl)"
   ]
  },
  {
   "cell_type": "code",
   "execution_count": null,
   "metadata": {
    "hidden": true
   },
   "outputs": [],
   "source": [
    "head(candl)"
   ]
  },
  {
   "cell_type": "markdown",
   "metadata": {
    "heading_collapsed": true,
    "hidden": true
   },
   "source": [
    "### Create keys to join the two dataframes and extract the features"
   ]
  },
  {
   "cell_type": "markdown",
   "metadata": {
    "hidden": true
   },
   "source": [
    "We will join the database using the following keys: \n",
    "* `Hugo_Symbol`.`HGVSp_Short` for `impact`\n",
    "* `Gene`.p.`Normal.AA` `Peptide.Position` `Mutation.AA` for `candl`"
   ]
  },
  {
   "cell_type": "code",
   "execution_count": null,
   "metadata": {
    "hidden": true
   },
   "outputs": [],
   "source": [
    "impact$candl_key <- paste0(impact$Hugo_Symbol, '.', impact$HGVSp_Short)\n",
    "head(impact$candl_key)"
   ]
  },
  {
   "cell_type": "code",
   "execution_count": null,
   "metadata": {
    "hidden": true
   },
   "outputs": [],
   "source": [
    "candl$join_key <- paste0(candl$Gene, '.p.', candl$Normal.AA, candl$Peptide.Position, candl$Mutation.AA)\n",
    "head(candl$join_key)"
   ]
  },
  {
   "cell_type": "markdown",
   "metadata": {
    "hidden": true
   },
   "source": [
    "**Verification 1** The `join_key` are not unique:"
   ]
  },
  {
   "cell_type": "code",
   "execution_count": null,
   "metadata": {
    "hidden": true,
    "scrolled": false
   },
   "outputs": [],
   "source": [
    "length(unique(candl$join_key))\n",
    "nrow(candl)"
   ]
  },
  {
   "cell_type": "code",
   "execution_count": null,
   "metadata": {
    "hidden": true
   },
   "outputs": [],
   "source": [
    "# make them unique\n",
    "candl <- unique(candl[, c(\"Gene\", \"Normal.AA\", \"Peptide.Position\", \"Mutation.AA\", \"Chromosome\", \"join_key\")])\n",
    "\n",
    "length(unique(candl$join_key))\n",
    "nrow(candl)"
   ]
  },
  {
   "cell_type": "markdown",
   "metadata": {
    "hidden": true
   },
   "source": [
    "**Verification 2** not every impact `candl_key` has an analoguous `join_key` in `candl`."
   ]
  },
  {
   "cell_type": "code",
   "execution_count": null,
   "metadata": {
    "hidden": true
   },
   "outputs": [],
   "source": [
    "impact$is_in_candl <- \"no\"\n",
    "impact$is_in_candl[impact$candl_key %in% candl$join_key] <- \"yes\""
   ]
  },
  {
   "cell_type": "markdown",
   "metadata": {
    "heading_collapsed": true,
    "hidden": true
   },
   "source": [
    "### Results"
   ]
  },
  {
   "cell_type": "code",
   "execution_count": null,
   "metadata": {
    "hidden": true,
    "scrolled": false
   },
   "outputs": [],
   "source": [
    "table(impact$is_in_candl)\n",
    "table(impact$oncogenic)\n",
    "plot_contingency_table_as_histograms(impact, \"oncogenic\"  , \"is_in_candl\", 10, 3)\n",
    "plot_contingency_table_as_histograms(impact, \"is_in_candl\", \"oncogenic\", 10, 2)"
   ]
  },
  {
   "cell_type": "markdown",
   "metadata": {
    "hidden": true
   },
   "source": [
    "Putative drivers not found in OncoKB:"
   ]
  },
  {
   "cell_type": "code",
   "execution_count": null,
   "metadata": {
    "hidden": true
   },
   "outputs": [],
   "source": [
    "nrow(impact[impact$is_in_candl == \"yes\" & impact$is_in_oncokb == \"no\",])"
   ]
  },
  {
   "cell_type": "markdown",
   "metadata": {
    "heading_collapsed": true
   },
   "source": [
    "## DoCM"
   ]
  },
  {
   "cell_type": "markdown",
   "metadata": {
    "heading_collapsed": true,
    "hidden": true
   },
   "source": [
    "### Get the raw data"
   ]
  },
  {
   "cell_type": "markdown",
   "metadata": {
    "hidden": true
   },
   "source": [
    "Data downloaded from http://www.docm.info/api/v1/variants.tsv?versions=3.2, version 3.2 (13/08/17)."
   ]
  },
  {
   "cell_type": "code",
   "execution_count": null,
   "metadata": {
    "hidden": true
   },
   "outputs": [],
   "source": [
    "docm <- read.table(\"../../../data/other_databases/DoCM_variants.tsv\",\n",
    "                   sep = \"\\t\", stringsAsFactors = FALSE, header = TRUE)"
   ]
  },
  {
   "cell_type": "code",
   "execution_count": null,
   "metadata": {
    "hidden": true
   },
   "outputs": [],
   "source": [
    "nrow(docm)\n",
    "length(unique(docm$gene))\n",
    "colnames(docm)"
   ]
  },
  {
   "cell_type": "code",
   "execution_count": null,
   "metadata": {
    "hidden": true
   },
   "outputs": [],
   "source": [
    "interesting_columns <- c(\n",
    "\"hgvs\",\n",
    "\"chromosome\",\n",
    "\"start\",\n",
    "\"stop\",\n",
    "\"read\",\n",
    "\"variant\",\n",
    "\"reference_version\",\n",
    "\"gene\",\n",
    "\"mutation_type\",\n",
    "\"amino_acid\")\n",
    "\n",
    "head(docm[, interesting_columns], 10)"
   ]
  },
  {
   "cell_type": "markdown",
   "metadata": {
    "heading_collapsed": true,
    "hidden": true
   },
   "source": [
    "### Create keys to join the two dataframes and extract the features"
   ]
  },
  {
   "cell_type": "markdown",
   "metadata": {
    "hidden": true
   },
   "source": [
    "We will join the database using the following keys: \n",
    "* `mut_key` for `impact`\n",
    "* `chromosome`\\_`start`\\_`read`_`variant` for `docm`"
   ]
  },
  {
   "cell_type": "code",
   "execution_count": null,
   "metadata": {
    "hidden": true
   },
   "outputs": [],
   "source": [
    "docm$join_key <- paste(docm$chromosome, docm$start, docm$read, docm$variant, sep = \"_\")"
   ]
  },
  {
   "cell_type": "markdown",
   "metadata": {
    "hidden": true
   },
   "source": [
    "**Verification 1** The `join_key` are not unique:"
   ]
  },
  {
   "cell_type": "code",
   "execution_count": null,
   "metadata": {
    "hidden": true,
    "scrolled": true
   },
   "outputs": [],
   "source": [
    "length(unique(docm$join_key))\n",
    "nrow(docm)"
   ]
  },
  {
   "cell_type": "code",
   "execution_count": null,
   "metadata": {
    "hidden": true
   },
   "outputs": [],
   "source": [
    "# make them unique\n",
    "docm <- unique(docm[, c(\"chromosome\", \"start\", \"stop\", \"read\", \"variant\", \"reference_version\", \"gene\",\n",
    "                        \"mutation_type\", \"join_key\")])\n",
    "\n",
    "length(unique(docm$join_key))\n",
    "nrow(docm)"
   ]
  },
  {
   "cell_type": "markdown",
   "metadata": {
    "hidden": true
   },
   "source": [
    "**Verification 2** not every impact `mut_key` has an analoguous `join_key` in `civic`."
   ]
  },
  {
   "cell_type": "code",
   "execution_count": null,
   "metadata": {
    "hidden": true
   },
   "outputs": [],
   "source": [
    "impact$is_in_docm <- \"no\"\n",
    "impact$is_in_docm[impact$mut_key %in% docm$join_key] <- \"yes\""
   ]
  },
  {
   "cell_type": "markdown",
   "metadata": {
    "heading_collapsed": true,
    "hidden": true
   },
   "source": [
    "### Results"
   ]
  },
  {
   "cell_type": "code",
   "execution_count": null,
   "metadata": {
    "hidden": true,
    "scrolled": false
   },
   "outputs": [],
   "source": [
    "table(impact$is_in_docm)\n",
    "table(impact$oncogenic)\n",
    "plot_contingency_table_as_histograms(impact, \"oncogenic\"  , \"is_in_docm\", 10, 3)\n",
    "plot_contingency_table_as_histograms(impact, \"is_in_docm\", \"oncogenic\", 10, 2)"
   ]
  },
  {
   "cell_type": "markdown",
   "metadata": {
    "hidden": true
   },
   "source": [
    "Putative drivers not found in OncoKB:"
   ]
  },
  {
   "cell_type": "code",
   "execution_count": null,
   "metadata": {
    "hidden": true
   },
   "outputs": [],
   "source": [
    "nrow(impact[impact$is_in_docm == \"yes\" & impact$is_in_oncokb == \"no\",])"
   ]
  },
  {
   "cell_type": "markdown",
   "metadata": {
    "heading_collapsed": true
   },
   "source": [
    "## Precision Medicine Knowledgebase"
   ]
  },
  {
   "cell_type": "markdown",
   "metadata": {
    "heading_collapsed": true,
    "hidden": true
   },
   "source": [
    "### Get the raw data"
   ]
  },
  {
   "cell_type": "markdown",
   "metadata": {
    "hidden": true
   },
   "source": [
    "Data downloaded from https://pmkb.weill.cornell.edu under \"Welcome to Precision Medicine Knowledgebase\", 02/08/18 version."
   ]
  },
  {
   "cell_type": "code",
   "execution_count": null,
   "metadata": {
    "hidden": true
   },
   "outputs": [],
   "source": [
    "# the downladed data has format .xlsx\n",
    "install.packages(\"readxl\", repos = \"http://cran.us.r-project.org\")\n",
    "library(\"readxl\")"
   ]
  },
  {
   "cell_type": "code",
   "execution_count": null,
   "metadata": {
    "hidden": true,
    "scrolled": true
   },
   "outputs": [],
   "source": [
    "pmk <- read_excel(\"../../../data/other_databases/PMK_IPM_Knowledgebase_Interpretations_Complete_20180807-1922.xlsx\")"
   ]
  },
  {
   "cell_type": "code",
   "execution_count": null,
   "metadata": {
    "hidden": true
   },
   "outputs": [],
   "source": [
    "nrow(pmk)\n",
    "length(unique(pmk$Gene))\n",
    "colnames(pmk)"
   ]
  },
  {
   "cell_type": "code",
   "execution_count": null,
   "metadata": {
    "hidden": true,
    "scrolled": false
   },
   "outputs": [],
   "source": [
    "interesting_columns <- c(\n",
    "\"Gene\",\n",
    "\"Tumor Type(s)\",\n",
    "\"Tissue Type(s)\",\n",
    "\"Variant(s)\",\n",
    "\"Tier\")\n",
    "\n",
    "head(pmk[, interesting_columns], 10)"
   ]
  },
  {
   "cell_type": "markdown",
   "metadata": {
    "hidden": true
   },
   "source": [
    "We stopped here as there is no easy way to link this database with `impact`."
   ]
  },
  {
   "cell_type": "markdown",
   "metadata": {
    "heading_collapsed": true
   },
   "source": [
    "## CIViC"
   ]
  },
  {
   "cell_type": "markdown",
   "metadata": {
    "hidden": true
   },
   "source": [
    "Data downloaded from https://civicdb.org/releases under \"Variant Summaries\", 01/07/18 version."
   ]
  },
  {
   "cell_type": "code",
   "execution_count": null,
   "metadata": {
    "hidden": true
   },
   "outputs": [],
   "source": [
    "civic <- read.table(\"../../../data/other_databases/CIViC_01-Jul-2018-VariantSummaries.tsv\",\n",
    "                    sep = \"\\t\", stringsAsFactors = FALSE, header = TRUE, fill = TRUE, quote = \"\")"
   ]
  },
  {
   "cell_type": "code",
   "execution_count": null,
   "metadata": {
    "hidden": true
   },
   "outputs": [],
   "source": [
    "nrow(civic)\n",
    "length(unique(civic$gene))\n",
    "colnames(civic)"
   ]
  },
  {
   "cell_type": "code",
   "execution_count": null,
   "metadata": {
    "hidden": true
   },
   "outputs": [],
   "source": [
    "interesting_columns <- c(\n",
    "\"gene\",\n",
    "\"variant\",\n",
    "\"chromosome\",\n",
    "\"start\",\n",
    "\"stop\",\n",
    "\"reference_bases\",\n",
    "\"variant_bases\",\n",
    "\"representative_transcript\",\n",
    "\"ensembl_version\",\n",
    "\"reference_build\",\n",
    "\"variant_types\",\n",
    "\"hgvs_expressions\",\n",
    "\"civic_actionability_score\")\n",
    "\n",
    "head(civic[, interesting_columns], 10)"
   ]
  },
  {
   "cell_type": "markdown",
   "metadata": {
    "heading_collapsed": true,
    "hidden": true
   },
   "source": [
    "### Create keys to join the two dataframes and extract the features"
   ]
  },
  {
   "cell_type": "markdown",
   "metadata": {
    "hidden": true
   },
   "source": [
    "We will join the database using the following keys: \n",
    "* `mut_key` for `impact`\n",
    "* `chromosome`\\_`start`_`reference_bases`_`variant_bases` for `civic`"
   ]
  },
  {
   "cell_type": "code",
   "execution_count": null,
   "metadata": {
    "hidden": true
   },
   "outputs": [],
   "source": [
    "civic$join_key <- paste(civic$chromosome, civic$start, civic$reference_bases, civic$variant_bases, sep = \"_\")\n",
    "\n",
    "# sometimes we can't find a key\n",
    "civic$join_key[civic$chromosome == \"\" |\n",
    "               civic$start == \"\" |\n",
    "               (civic$reference_bases == \"\" & civic$variant_bases   == \"\")] <- \"no_key\""
   ]
  },
  {
   "cell_type": "code",
   "execution_count": null,
   "metadata": {
    "hidden": true
   },
   "outputs": [],
   "source": [
    "print_count_and_proportion(civic[civic$join_key == \"no_key\",], civic)\n",
    "\n",
    "# delete the rows where we couldn't find a key\n",
    "civic <- civic[civic$join_key != \"no_key\",]"
   ]
  },
  {
   "cell_type": "markdown",
   "metadata": {
    "hidden": true
   },
   "source": [
    "**Verification 1** The `join_key` are not unique:"
   ]
  },
  {
   "cell_type": "code",
   "execution_count": null,
   "metadata": {
    "hidden": true,
    "scrolled": true
   },
   "outputs": [],
   "source": [
    "length(unique(civic$join_key))\n",
    "nrow(civic)"
   ]
  },
  {
   "cell_type": "code",
   "execution_count": null,
   "metadata": {
    "hidden": true
   },
   "outputs": [],
   "source": [
    "# make them unique\n",
    "civic <- unique(civic[, c(\"gene\", \"chromosome\", \"start\", \"stop\", \"reference_bases\", \"variant_bases\", \"join_key\")])\n",
    "\n",
    "length(unique(civic$join_key))\n",
    "nrow(civic)"
   ]
  },
  {
   "cell_type": "markdown",
   "metadata": {
    "hidden": true
   },
   "source": [
    "**Verification 2** not every impact `mut_key` has an analoguous `join_key` in `civic`."
   ]
  },
  {
   "cell_type": "code",
   "execution_count": null,
   "metadata": {
    "hidden": true
   },
   "outputs": [],
   "source": [
    "impact$is_in_civic <- \"no\"\n",
    "impact$is_in_civic[impact$mut_key %in% civic$join_key] <- \"yes\""
   ]
  },
  {
   "cell_type": "markdown",
   "metadata": {
    "heading_collapsed": true,
    "hidden": true
   },
   "source": [
    "### Results"
   ]
  },
  {
   "cell_type": "code",
   "execution_count": null,
   "metadata": {
    "hidden": true,
    "scrolled": true
   },
   "outputs": [],
   "source": [
    "table(impact$is_in_civic)\n",
    "table(impact$oncogenic)\n",
    "plot_contingency_table_as_histograms(impact, \"oncogenic\"  , \"is_in_civic\", 10, 3)\n",
    "plot_contingency_table_as_histograms(impact, \"is_in_civic\", \"oncogenic\", 10, 2)"
   ]
  },
  {
   "cell_type": "markdown",
   "metadata": {
    "hidden": true
   },
   "source": [
    "Putative drivers not found in OncoKB:"
   ]
  },
  {
   "cell_type": "code",
   "execution_count": null,
   "metadata": {
    "hidden": true
   },
   "outputs": [],
   "source": [
    "nrow(impact[impact$is_in_civic == \"yes\" & impact$is_in_oncokb == \"no\",])"
   ]
  },
  {
   "cell_type": "markdown",
   "metadata": {
    "heading_collapsed": true
   },
   "source": [
    "## Cancer Genome Interpreter"
   ]
  },
  {
   "cell_type": "markdown",
   "metadata": {
    "heading_collapsed": true,
    "hidden": true
   },
   "source": [
    "### Get the raw data"
   ]
  },
  {
   "cell_type": "markdown",
   "metadata": {
    "hidden": true
   },
   "source": [
    "Data downloaded from https://www.cancergenomeinterpreter.org/mutations, 01/17/18 version."
   ]
  },
  {
   "cell_type": "code",
   "execution_count": null,
   "metadata": {
    "hidden": true
   },
   "outputs": [],
   "source": [
    "cgi <- read.table(\"../../../data/other_databases/CGI_catalog_of_validated_oncogenic_mutations.tsv\",\n",
    "                  sep = \"\\t\", stringsAsFactors = FALSE, header = TRUE, fill = TRUE)"
   ]
  },
  {
   "cell_type": "code",
   "execution_count": null,
   "metadata": {
    "hidden": true
   },
   "outputs": [],
   "source": [
    "nrow(cgi)\n",
    "length(unique(cgi$gene))\n",
    "colnames(cgi)"
   ]
  },
  {
   "cell_type": "code",
   "execution_count": null,
   "metadata": {
    "hidden": true,
    "scrolled": false
   },
   "outputs": [],
   "source": [
    "head(cgi, 10)"
   ]
  },
  {
   "cell_type": "markdown",
   "metadata": {
    "heading_collapsed": true,
    "hidden": true
   },
   "source": [
    "### Create keys to join the two dataframes and extract the features"
   ]
  },
  {
   "cell_type": "markdown",
   "metadata": {
    "hidden": true
   },
   "source": [
    "We will join the database using the following keys: \n",
    "* `Hugo_Symbol`.`HGVSp_Short` for `impact`\n",
    "* `gene`.`protein` for `cgi`"
   ]
  },
  {
   "cell_type": "code",
   "execution_count": null,
   "metadata": {
    "hidden": true
   },
   "outputs": [],
   "source": [
    "impact$cgi_key <- paste0(impact$Hugo_Symbol, '.', impact$HGVSp_Short)\n",
    "head(impact$cgi_key)"
   ]
  },
  {
   "cell_type": "code",
   "execution_count": null,
   "metadata": {
    "hidden": true
   },
   "outputs": [],
   "source": [
    "cgi$join_key <- paste0(cgi$gene, '.', cgi$protein)\n",
    "head(cgi$join_key)"
   ]
  },
  {
   "cell_type": "markdown",
   "metadata": {
    "hidden": true
   },
   "source": [
    "**Verification 1** The `join_key` are not unique:"
   ]
  },
  {
   "cell_type": "code",
   "execution_count": null,
   "metadata": {
    "hidden": true,
    "scrolled": false
   },
   "outputs": [],
   "source": [
    "length(unique(cgi$join_key))\n",
    "nrow(cgi)"
   ]
  },
  {
   "cell_type": "code",
   "execution_count": null,
   "metadata": {
    "hidden": true
   },
   "outputs": [],
   "source": [
    "# make them unique\n",
    "cgi <- unique(cgi[, c(\"gene\", \"protein\", \"join_key\")])\n",
    "\n",
    "length(unique(cgi$join_key))\n",
    "nrow(cgi)"
   ]
  },
  {
   "cell_type": "markdown",
   "metadata": {
    "hidden": true
   },
   "source": [
    "**Verification 2** not every impact `cgi_key` has an analoguous `join_key` in `cgi`."
   ]
  },
  {
   "cell_type": "code",
   "execution_count": null,
   "metadata": {
    "hidden": true
   },
   "outputs": [],
   "source": [
    "impact$is_in_cgi <- \"no\"\n",
    "impact$is_in_cgi[impact$cgi_key %in% cgi$join_key] <- \"yes\""
   ]
  },
  {
   "cell_type": "markdown",
   "metadata": {
    "heading_collapsed": true,
    "hidden": true
   },
   "source": [
    "### Results"
   ]
  },
  {
   "cell_type": "code",
   "execution_count": null,
   "metadata": {
    "hidden": true,
    "scrolled": false
   },
   "outputs": [],
   "source": [
    "table(impact$is_in_cgi)\n",
    "table(impact$oncogenic)\n",
    "plot_contingency_table_as_histograms(impact, \"oncogenic\"  , \"is_in_cgi\", 10, 3)\n",
    "plot_contingency_table_as_histograms(impact, \"is_in_cgi\", \"oncogenic\", 10, 2)"
   ]
  },
  {
   "cell_type": "markdown",
   "metadata": {
    "hidden": true
   },
   "source": [
    "Putative drivers not found in OncoKB:"
   ]
  },
  {
   "cell_type": "code",
   "execution_count": null,
   "metadata": {
    "hidden": true
   },
   "outputs": [],
   "source": [
    "nrow(impact[impact$is_in_cgi == \"yes\" & impact$is_in_oncokb == \"no\",])"
   ]
  },
  {
   "cell_type": "markdown",
   "metadata": {},
   "source": [
    "## Study the IMPACT variants repartition accross the databases"
   ]
  },
  {
   "cell_type": "code",
   "execution_count": null,
   "metadata": {},
   "outputs": [],
   "source": [
    "oncokb_mutations <- impact[impact$is_in_oncokb == \"yes\",]\n",
    "candl_mutations  <- impact[impact$is_in_candl  == \"yes\",]\n",
    "docm_mutations   <- impact[impact$is_in_docm  == \"yes\",]\n",
    "civic_mutations  <- impact[impact$is_in_civic  == \"yes\",]\n",
    "cgi_mutations    <- impact[impact$is_in_cgi    == \"yes\",]\n",
    "\n",
    "oncokb_mutations$database <- \"oncokb\"\n",
    "candl_mutations$database  <- \"candl\"\n",
    "docm_mutations$database   <- \"docm\"\n",
    "civic_mutations$database  <- \"civic\"\n",
    "cgi_mutations$database    <- \"cgi\"\n",
    "\n",
    "annotated_mutations <- rbind(oncokb_mutations, candl_mutations, docm_mutations, civic_mutations, cgi_mutations)"
   ]
  },
  {
   "cell_type": "markdown",
   "metadata": {},
   "source": [
    "### At the row level"
   ]
  },
  {
   "cell_type": "code",
   "execution_count": null,
   "metadata": {},
   "outputs": [],
   "source": [
    "annotated_mutations <- as.data.frame(annotated_mutations %>% group_by(mut_key) %>%\n",
    "                                                              mutate(count = length(unique(database)),\n",
    "                                                                     repartition = toString(unique(database))))"
   ]
  },
  {
   "cell_type": "code",
   "execution_count": null,
   "metadata": {},
   "outputs": [],
   "source": [
    "plot_histogram(annotated_mutations,\n",
    "               \"repartition\",\n",
    "               fill_name = \"is_in_oncokb\") + theme(axis.text.x = element_text(angle = 45, hjust = 1))\n",
    "\n",
    "plot_histogram(annotated_mutations[annotated_mutations$is_in_oncokb == \"no\",],\n",
    "               \"repartition\",\n",
    "               fill_name = \"is_in_oncokb\")"
   ]
  },
  {
   "cell_type": "markdown",
   "metadata": {},
   "source": [
    "### At the key level"
   ]
  },
  {
   "cell_type": "code",
   "execution_count": null,
   "metadata": {},
   "outputs": [],
   "source": [
    "annotated_mutations_key <- as.data.frame(annotated_mutations %>% group_by(mut_key) %>%\n",
    "                                                                 summarise(count = length(unique(database)),\n",
    "                                                                           repartition = toString(unique(database)),\n",
    "                                                                           is_in_oncokb = unique(is_in_oncokb)))"
   ]
  },
  {
   "cell_type": "code",
   "execution_count": null,
   "metadata": {
    "scrolled": false
   },
   "outputs": [],
   "source": [
    "plot_histogram(annotated_mutations_key,\n",
    "               \"repartition\",\n",
    "               fill_name = \"is_in_oncokb\") + theme(axis.text.x = element_text(angle = 45, hjust = 1))\n",
    "\n",
    "plot_histogram(annotated_mutations_key[annotated_mutations_key$is_in_oncokb == \"no\",],\n",
    "               \"repartition\",\n",
    "               fill_name = \"is_in_oncokb\")"
   ]
  },
  {
   "cell_type": "markdown",
   "metadata": {},
   "source": [
    "### Mutations not in OncoKB"
   ]
  },
  {
   "cell_type": "code",
   "execution_count": null,
   "metadata": {},
   "outputs": [],
   "source": [
    "plot_contingency_table_as_histograms(annotated_mutations[annotated_mutations$is_in_oncokb == \"no\",],\n",
    "        \"database\", \"oncogenic\")"
   ]
  },
  {
   "cell_type": "code",
   "execution_count": null,
   "metadata": {
    "scrolled": false
   },
   "outputs": [],
   "source": [
    "colnames = c(\"is_in_oncokb\", \"is_in_candl\", \"is_in_docm\", \"is_in_civic\", \"is_in_cgi\")\n",
    "\n",
    "table <- data.frame()\n",
    "\n",
    "for (col in colnames) {\n",
    "    table <- rbind(table, impact %>% filter(!! sym(col) == \"yes\") %>%\n",
    "                summarise(oncokb = sum(is_in_oncokb == \"yes\"),\n",
    "                          candl  = sum(is_in_candl == \"yes\"),\n",
    "                          docm   = sum(is_in_docm == \"yes\"),\n",
    "                          civic  = sum(is_in_civic == \"yes\"),\n",
    "                          cgi    = sum(is_in_cgi == \"yes\")))\n",
    "}\n",
    "\n",
    "table <- as.table(as.matrix(table))\n",
    "rownames(table) <- colnames(table)\n",
    "table"
   ]
  },
  {
   "cell_type": "markdown",
   "metadata": {},
   "source": [
    "## Study shared genes"
   ]
  },
  {
   "cell_type": "code",
   "execution_count": null,
   "metadata": {},
   "outputs": [],
   "source": [
    "oncokb <- read.table(\"../../../data/other_databases/allAnnotatedVariants.txt\",\n",
    "                     sep = \"\\t\", stringsAsFactors = FALSE, header = TRUE, fill = TRUE)"
   ]
  },
  {
   "cell_type": "code",
   "execution_count": null,
   "metadata": {},
   "outputs": [],
   "source": [
    "oncokb_genes <- unique(oncokb$Gene)\n",
    "candl_genes  <- unique(candl$Gene)\n",
    "docm_genes   <- unique(docm$gene)\n",
    "civic_genes  <- unique(civic$gene)\n",
    "cgi_genes    <- unique(cgi$gene)"
   ]
  },
  {
   "cell_type": "markdown",
   "metadata": {},
   "source": [
    "### Correct Hugo symbols"
   ]
  },
  {
   "cell_type": "code",
   "execution_count": null,
   "metadata": {},
   "outputs": [],
   "source": [
    "candl_genes[! candl_genes %in% oncokb_genes]"
   ]
  },
  {
   "cell_type": "markdown",
   "metadata": {},
   "source": [
    "|Old Hugo Symbol | New Hugo symbol | HGNC reason     |\n",
    "| -------------- | --------------- | --------------- |\n",
    "| PAK7           |  PAK5           | Previous symbol |\n",
    "| LNK            |  SH2B3          | Synonyms        |\n",
    "| 8528263\"       |  -              | Unmatched       |\n",
    "| 11726500\"      |  -              | Unmatched       |\n",
    "| 23816960\"      |  -              | Unmatched       |\n",
    "| 15118073\"      |  -              | Unmatched       |\n",
    "| 16187281\"      |  -              | Unmatched       |\n",
    "| 19718025\"      |  -              | Unmatched       |\n",
    "| 17699867\"      |  -              | Unmatched       |\n",
    "| 18955458\"      |  -              | Unmatched       |\n",
    "| 23582185\"      |  -              | Unmatched       |\n",
    "| 19075190\"      |  -              | Unmatched       |\n",
    "| 20570890\"      |  -              | Unmatched       |\n",
    "| 23970477\"      |  -              | Unmatched       |\n",
    "| 15928335\"      |  -              | Unmatched       |\n",
    "| 17376864\"      |  -              | Unmatched       |\n",
    "| 15647370\"      |  -              | Unmatched       |"
   ]
  },
  {
   "cell_type": "code",
   "execution_count": null,
   "metadata": {},
   "outputs": [],
   "source": [
    "old_Hugo_Symbol = c('PAK7', 'LNK', '8528263\\\"', '11726500\\\"', '23816960\\\"', '15118073\\\"', '16187281\\\"', '19718025\\\"',\n",
    "                    '17699867\\\"', '18955458\\\"', '23582185\\\"', '19075190\\\"', '20570890\\\"', '23970477\\\"', '15928335\\\"',\n",
    "                    '17376864\\\"', '15647370\\\"')\n",
    "new_Hugo_Symbol = c('PAK5', 'SH2B3', '-','-','-','-','-','-','-','-','-','-','-','-','-','-','-')\n",
    "\n",
    "old_symbols <- which(candl_genes %in% old_Hugo_Symbol)\n",
    "candl_genes[old_symbols] <- new_Hugo_Symbol[match(candl_genes[old_symbols], old_Hugo_Symbol)]"
   ]
  },
  {
   "cell_type": "code",
   "execution_count": null,
   "metadata": {},
   "outputs": [],
   "source": [
    "head(civic_genes[! civic_genes %in% oncokb_genes])"
   ]
  },
  {
   "cell_type": "markdown",
   "metadata": {},
   "source": [
    "Every symbol approved."
   ]
  },
  {
   "cell_type": "code",
   "execution_count": null,
   "metadata": {
    "scrolled": false
   },
   "outputs": [],
   "source": [
    "cgi_genes[! cgi_genes %in% oncokb_genes]"
   ]
  },
  {
   "cell_type": "markdown",
   "metadata": {},
   "source": [
    "|Old Hugo Symbol | New Hugo symbol | HGNC reason     |\n",
    "| -------------- | --------------- | --------------- |\n",
    "| C15orf23       |  KNSTRN         | Previous symbol |\n",
    "| EIF2C2         |  AGO2           | Previous symbol |\n",
    "| FAM175A        |  ABRAXAS1       | Previous symbol |\n",
    "| MLL3           |  KMT2C          | Previous symbol |\n",
    "| MRE11A         |  MRE11          | Previous symbol |"
   ]
  },
  {
   "cell_type": "code",
   "execution_count": null,
   "metadata": {},
   "outputs": [],
   "source": [
    "old_Hugo_Symbol = c('C15orf23', 'EIF2C2', 'FAM175A', 'MLL3', 'MRE11A')\n",
    "new_Hugo_Symbol = c('KNSTRN', 'AGO2', 'ABRAXAS1', 'KMT2C', 'MRE11')\n",
    "\n",
    "old_symbols <- which(cgi_genes %in% old_Hugo_Symbol)\n",
    "cgi_genes[old_symbols] <- new_Hugo_Symbol[match(cgi_genes[old_symbols], old_Hugo_Symbol)]"
   ]
  },
  {
   "cell_type": "markdown",
   "metadata": {},
   "source": [
    "### Study genes sharing"
   ]
  },
  {
   "cell_type": "code",
   "execution_count": null,
   "metadata": {},
   "outputs": [],
   "source": [
    "oncokb_genes <- as.data.frame(unique(oncokb$Gene))\n",
    "candl_genes  <- as.data.frame(unique(candl$Gene))\n",
    "docm_genes   <- as.data.frame(unique(docm$gene))\n",
    "civic_genes  <- as.data.frame(unique(civic$gene))\n",
    "cgi_genes    <- as.data.frame(unique(cgi$gene))\n",
    "\n",
    "colnames(oncokb_genes) <- \"gene\"\n",
    "colnames(candl_genes)  <- \"gene\"\n",
    "colnames(docm_genes)  <- \"gene\"\n",
    "colnames(civic_genes)  <- \"gene\"\n",
    "colnames(cgi_genes)    <- \"gene\"\n",
    "\n",
    "oncokb_genes$database <- \"oncokb\"\n",
    "candl_genes$database  <- \"candl\"\n",
    "docm_genes$database   <- \"docm\"\n",
    "civic_genes$database  <- \"civic\"\n",
    "cgi_genes$database    <- \"cgi\"\n",
    "\n",
    "annotated_genes <- rbind(oncokb_genes, candl_genes, docm_genes, civic_genes, cgi_genes)"
   ]
  },
  {
   "cell_type": "code",
   "execution_count": null,
   "metadata": {},
   "outputs": [],
   "source": [
    "annotated_genes <- as.data.frame(annotated_genes %>% group_by(gene) %>%\n",
    "                                                     summarise(count = length(unique(database)),\n",
    "                                                               repartition = toString(unique(database)),\n",
    "                                                               in_onco_kb = grepl(\"oncokb\", repartition)))"
   ]
  },
  {
   "cell_type": "code",
   "execution_count": null,
   "metadata": {},
   "outputs": [],
   "source": [
    "plot_histogram(annotated_genes,\n",
    "               \"repartition\", fill = \"in_onco_kb\") + theme(axis.text.x = element_text(angle = 45, hjust = 1))\n",
    "plot_histogram(annotated_genes[! annotated_genes$in_onco_kb,],\n",
    "               \"repartition\", fill = \"in_onco_kb\")"
   ]
  },
  {
   "cell_type": "code",
   "execution_count": null,
   "metadata": {},
   "outputs": [],
   "source": [
    "as.character(annotated_genes$gene[annotated_genes$count == 5])\n",
    "\n",
    "table(annotated_genes$repartition[annotated_genes$count == 4])\n",
    "as.character(annotated_genes$gene[annotated_genes$count == 4])\n",
    "\n",
    "table(annotated_genes$repartition[annotated_genes$count == 3])\n",
    "as.character(annotated_genes$gene[annotated_genes$count == 3])\n",
    "\n",
    "table(annotated_genes$repartition[annotated_genes$count == 2])\n",
    "as.character(annotated_genes$gene[annotated_genes$count == 2])"
   ]
  }
 ],
 "metadata": {
  "kernelspec": {
   "display_name": "R",
   "language": "R",
   "name": "ir"
  },
  "language_info": {
   "codemirror_mode": "r",
   "file_extension": ".r",
   "mimetype": "text/x-r-source",
   "name": "R",
   "pygments_lexer": "r",
   "version": "3.5.1"
  },
  "toc": {
   "base_numbering": 1,
   "nav_menu": {},
   "number_sections": true,
   "sideBar": false,
   "skip_h1_title": true,
   "title_cell": "Table of Contents",
   "title_sidebar": "Contents",
   "toc_cell": true,
   "toc_position": {},
   "toc_section_display": true,
   "toc_window_display": false
  }
 },
 "nbformat": 4,
 "nbformat_minor": 2
}
