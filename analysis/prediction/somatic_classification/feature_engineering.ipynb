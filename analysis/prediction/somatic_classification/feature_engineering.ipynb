{
 "cells": [
  {
   "cell_type": "markdown",
   "metadata": {},
   "source": [
    "# Somatic vs non-somatic classification\n",
    "\n",
    "**Goal:** first work on the classifier\n",
    "  \n",
    "This notebook is divided in two parts:\n",
    "* **1. Bla**"
   ]
  },
  {
   "cell_type": "code",
   "execution_count": 1,
   "metadata": {},
   "outputs": [
    {
     "name": "stdout",
     "output_type": "stream",
     "text": [
      "Setup environment... done!\n"
     ]
    },
    {
     "data": {
      "text/markdown": [
       "<span style=\"color:green\">✅ Working on **impact-annotator_env** conda environment.</span>"
      ],
      "text/plain": [
       "<IPython.core.display.Markdown object>"
      ]
     },
     "metadata": {},
     "output_type": "display_data"
    }
   ],
   "source": [
    "%run ../setup_environment.ipy\n",
    "%run ../Selene_Job.ipy"
   ]
  },
  {
   "cell_type": "code",
   "execution_count": 2,
   "metadata": {},
   "outputs": [],
   "source": [
    "summary = pd.DataFrame(columns=['test_accuracy', 'test_roc_auc', 'test_f1', 'test_average_precision'])\n",
    "summary.index.name = 'method_name'"
   ]
  },
  {
   "cell_type": "markdown",
   "metadata": {},
   "source": [
    "## Choose the model"
   ]
  },
  {
   "cell_type": "code",
   "execution_count": 3,
   "metadata": {},
   "outputs": [],
   "source": [
    "from sklearn.model_selection import StratifiedKFold\n",
    "cv_strategy = StratifiedKFold(n_splits=5)\n",
    "\n",
    "from sklearn.ensemble import GradientBoostingClassifier\n",
    "model = GradientBoostingClassifier(random_state=42, loss='deviance', max_depth=6, n_estimators=500)"
   ]
  },
  {
   "cell_type": "markdown",
   "metadata": {},
   "source": [
    "## Get the data"
   ]
  },
  {
   "cell_type": "code",
   "execution_count": 4,
   "metadata": {},
   "outputs": [],
   "source": [
    "# get raw data\n",
    "impact = pd.read_csv('../../../data/annotated_final_IMPACT_mutations_180508.txt', sep='\\t', low_memory=False)"
   ]
  },
  {
   "cell_type": "code",
   "execution_count": 5,
   "metadata": {},
   "outputs": [
    {
     "data": {
      "text/html": [
       "<div>\n",
       "<style scoped>\n",
       "    .dataframe tbody tr th:only-of-type {\n",
       "        vertical-align: middle;\n",
       "    }\n",
       "\n",
       "    .dataframe tbody tr th {\n",
       "        vertical-align: top;\n",
       "    }\n",
       "\n",
       "    .dataframe thead th {\n",
       "        text-align: right;\n",
       "    }\n",
       "</style>\n",
       "<table border=\"1\" class=\"dataframe\">\n",
       "  <thead>\n",
       "    <tr style=\"text-align: right;\">\n",
       "      <th></th>\n",
       "      <th>count_</th>\n",
       "      <th>freq_</th>\n",
       "    </tr>\n",
       "  </thead>\n",
       "  <tbody>\n",
       "    <tr>\n",
       "      <th>False</th>\n",
       "      <td>187012</td>\n",
       "      <td>96.3%</td>\n",
       "    </tr>\n",
       "    <tr>\n",
       "      <th>True</th>\n",
       "      <td>7199</td>\n",
       "      <td>3.7%</td>\n",
       "    </tr>\n",
       "  </tbody>\n",
       "</table>\n",
       "</div>"
      ],
      "text/plain": [
       "       count_  freq_\n",
       "False  187012  96.3%\n",
       "True     7199   3.7%"
      ]
     },
     "execution_count": 5,
     "metadata": {},
     "output_type": "execute_result"
    }
   ],
   "source": [
    "# create the is_artefact class\n",
    "impact['is_artefact'] = impact.confidence_class == \"UNLIKELY\"\n",
    "get_table(impact.is_artefact)"
   ]
  },
  {
   "cell_type": "code",
   "execution_count": 6,
   "metadata": {},
   "outputs": [],
   "source": [
    "def get_X_and_y(impact, features, categorical_features):\n",
    "    data = impact.copy()\n",
    "    data = data[features + ['is_artefact']]\n",
    "    \n",
    "    # transform categorical features\n",
    "    numerical_features = [f for f in features if not f in categorical_features]\n",
    "    data = pd.get_dummies(data, columns=categorical_features, sparse=True)\n",
    "\n",
    "    # get reduced dataset\n",
    "    positive_class_number = data[data.is_artefact].shape[0]\n",
    "    data = pd.concat([data[data.is_artefact],\n",
    "                        data[~data.is_artefact].iloc[:positive_class_number]], ignore_index=True)\n",
    "\n",
    "    # shuffle data\n",
    "    rng = np.random.RandomState(42)\n",
    "    permutation = rng.permutation(len(data))\n",
    "    data = data.iloc[permutation]\n",
    "    data.reset_index(drop=True, inplace=True)\n",
    "\n",
    "    # get features matrix X (n_samples x n_features) and target array y (n_samples)\n",
    "    X = data.drop('is_artefact', axis=1)\n",
    "    X = X.astype(float)\n",
    "    y = data['is_artefact']\n",
    "\n",
    "    get_table(y)\n",
    "    \n",
    "    return X, y"
   ]
  },
  {
   "cell_type": "markdown",
   "metadata": {},
   "source": [
    "## No feature processing"
   ]
  },
  {
   "cell_type": "code",
   "execution_count": 7,
   "metadata": {},
   "outputs": [],
   "source": [
    "features = [\n",
    "#'Hugo_Symbol',\n",
    "#'Chromosome',\n",
    "#'Start_Position',\n",
    "#'End_Position',\n",
    "#'Consequence',\n",
    "#'Variant_Type',\n",
    "#'Reference_Allele',\n",
    "#'Tumor_Seq_Allele2',\n",
    "#'Tumor_Sample_Barcode',\n",
    "#'cDNA_change',\n",
    "#'HGVSp_Short',\n",
    "'t_depth',\n",
    "'t_vaf',\n",
    "'t_alt_count',\n",
    "'n_depth',\n",
    "'n_vaf',\n",
    "'n_alt_count',\n",
    "#'t_ref_plus_count',\n",
    "#'t_ref_neg_count',\n",
    "#'t_alt_plus_count',\n",
    "#'t_alt_neg_count',\n",
    "#'confidence_class',\n",
    "'sample_coverage',\n",
    "#'mut_key',\n",
    "#'VAG_VT',\n",
    "#'VAG_GENE',\n",
    "#'VAG_cDNA_CHANGE',\n",
    "#'VAG_PROTEIN_CHANGE',\n",
    "#'VAG_EFFECT',\n",
    "'VEP_Consequence',\n",
    "#'VEP_SYMBOL',\n",
    "#'VEP_HGVSc',\n",
    "#'VEP_HGVSp',\n",
    "#'VEP_Amino_acids',\n",
    "'VEP_VARIANT_CLASS',\n",
    "#'VEP_EXON',\n",
    "#'VEP_INTRON',\n",
    "'VEP_IMPACT',\n",
    "'VEP_CLIN_SIG',\n",
    "'VEP_COSMIC_CNT',\n",
    "'VEP_gnomAD_AF',\n",
    "#'sample_mut_key',\n",
    "#'patient_key',\n",
    "'frequency_in_normals',\n",
    "#'VEP_SIFT_class',\n",
    "#'VEP_SIFT_score',\n",
    "#'VEP_PolyPhen_class',\n",
    "#'VEP_PolyPhen_score',\n",
    "'VEP_in_dbSNP',\n",
    "'VEP_gnomAD_total_AF_AFR',\n",
    "'VEP_gnomAD_total_AF_AMR',\n",
    "'VEP_gnomAD_total_AF_ASJ',\n",
    "'VEP_gnomAD_total_AF_EAS',\n",
    "'VEP_gnomAD_total_AF_FIN',\n",
    "'VEP_gnomAD_total_AF_NFE',\n",
    "'VEP_gnomAD_total_AF_OTH',\n",
    "'VEP_gnomAD_total_AF_max',\n",
    "'VEP_gnomAD_total_AF',\n",
    "'Kaviar_AF',\n",
    "#'is_a_hotspot',\n",
    "#'is_a_3d_hotspot',\n",
    "#'oncogenic',\n",
    "'gene_type',\n",
    "#'is_artefact'\n",
    "]\n",
    "\n",
    "# transform categorical features\n",
    "categorical_features = ['VEP_Consequence', 'VEP_VARIANT_CLASS', 'VEP_IMPACT', 'VEP_CLIN_SIG', 'VEP_in_dbSNP', 'gene_type']"
   ]
  },
  {
   "cell_type": "code",
   "execution_count": 8,
   "metadata": {},
   "outputs": [
    {
     "data": {
      "text/plain": [
       "['t_depth',\n",
       " 't_vaf',\n",
       " 't_alt_count',\n",
       " 'n_depth',\n",
       " 'n_vaf',\n",
       " 'n_alt_count',\n",
       " 'sample_coverage',\n",
       " 'VEP_Consequence',\n",
       " 'VEP_VARIANT_CLASS',\n",
       " 'VEP_IMPACT',\n",
       " 'VEP_CLIN_SIG',\n",
       " 'VEP_COSMIC_CNT',\n",
       " 'VEP_gnomAD_AF',\n",
       " 'frequency_in_normals',\n",
       " 'VEP_in_dbSNP',\n",
       " 'VEP_gnomAD_total_AF_AFR',\n",
       " 'VEP_gnomAD_total_AF_AMR',\n",
       " 'VEP_gnomAD_total_AF_ASJ',\n",
       " 'VEP_gnomAD_total_AF_EAS',\n",
       " 'VEP_gnomAD_total_AF_FIN',\n",
       " 'VEP_gnomAD_total_AF_NFE',\n",
       " 'VEP_gnomAD_total_AF_OTH',\n",
       " 'VEP_gnomAD_total_AF_max',\n",
       " 'VEP_gnomAD_total_AF',\n",
       " 'Kaviar_AF',\n",
       " 'gene_type']"
      ]
     },
     "execution_count": 8,
     "metadata": {},
     "output_type": "execute_result"
    }
   ],
   "source": [
    "features"
   ]
  },
  {
   "cell_type": "code",
   "execution_count": 9,
   "metadata": {},
   "outputs": [
    {
     "name": "stdout",
     "output_type": "stream",
     "text": [
      "Run model... done! (37.57s)\n",
      "▴ Mean accuracy    : 0.886 ± 0.004\n",
      "▴ Mean ROC AUC     : 0.953 ± 0.005\n",
      "▴ Mean F1-score    : 0.883 ± 0.004\n",
      "▴ Average precision: 0.960 ± 0.004\n"
     ]
    }
   ],
   "source": [
    "X, y = get_X_and_y(impact, features, categorical_features)\n",
    "metrics = run_model(model, X, y, cv_strategy, n_jobs=5)\n",
    "print_mean_metrics(metrics)"
   ]
  },
  {
   "cell_type": "code",
   "execution_count": 10,
   "metadata": {},
   "outputs": [],
   "source": [
    "summary.loc['no_processing'] = [metrics.test_accuracy.mean(), metrics.test_roc_auc.mean(), metrics.test_f1.mean(), metrics.test_average_precision.mean()]"
   ]
  },
  {
   "cell_type": "markdown",
   "metadata": {},
   "source": [
    "## Without GnomAD populations"
   ]
  },
  {
   "cell_type": "code",
   "execution_count": 11,
   "metadata": {},
   "outputs": [],
   "source": [
    "features = ['t_depth',\n",
    " 't_vaf',\n",
    " 't_alt_count',\n",
    " 'n_depth',\n",
    " 'n_vaf',\n",
    " 'n_alt_count',\n",
    " 'sample_coverage',\n",
    " 'VEP_Consequence',\n",
    " 'VEP_VARIANT_CLASS',\n",
    " 'VEP_IMPACT',\n",
    " 'VEP_CLIN_SIG',\n",
    " 'VEP_COSMIC_CNT',\n",
    " 'VEP_gnomAD_AF',\n",
    " 'frequency_in_normals',\n",
    " 'VEP_in_dbSNP',\n",
    " 'VEP_gnomAD_total_AF_max',\n",
    " 'VEP_gnomAD_total_AF',\n",
    " 'Kaviar_AF',\n",
    " 'gene_type']"
   ]
  },
  {
   "cell_type": "code",
   "execution_count": 12,
   "metadata": {},
   "outputs": [
    {
     "name": "stdout",
     "output_type": "stream",
     "text": [
      "Run model... done! (33.47s)\n",
      "▴ Mean accuracy    : 0.887 ± 0.008\n",
      "▴ Mean ROC AUC     : 0.953 ± 0.005\n",
      "▴ Mean F1-score    : 0.884 ± 0.008\n",
      "▴ Average precision: 0.960 ± 0.004\n"
     ]
    }
   ],
   "source": [
    "X, y = get_X_and_y(impact, features, categorical_features)\n",
    "metrics = run_model(model, X, y, cv_strategy, n_jobs=5)\n",
    "print_mean_metrics(metrics)"
   ]
  },
  {
   "cell_type": "code",
   "execution_count": 13,
   "metadata": {},
   "outputs": [],
   "source": [
    "summary.loc['without_gnomAD_populations'] = [metrics.test_accuracy.mean(), metrics.test_roc_auc.mean(), metrics.test_f1.mean(), metrics.test_average_precision.mean()]"
   ]
  },
  {
   "cell_type": "markdown",
   "metadata": {},
   "source": [
    "## Without `VEP_Consequence`, `VEP_IMPACT`, `VEP_CLIN_SIG`, `VEP_in_dbSNP`, `n_vaf`, `n_alt_count`"
   ]
  },
  {
   "cell_type": "code",
   "execution_count": 14,
   "metadata": {},
   "outputs": [],
   "source": [
    "features = ['t_depth',\n",
    " 't_vaf',\n",
    " 't_alt_count',\n",
    " 'n_depth',\n",
    " 'sample_coverage',\n",
    " 'VEP_VARIANT_CLASS',\n",
    " 'VEP_COSMIC_CNT',\n",
    " 'VEP_gnomAD_AF',\n",
    " 'frequency_in_normals',\n",
    " 'VEP_gnomAD_total_AF_max',\n",
    " 'VEP_gnomAD_total_AF',\n",
    " 'Kaviar_AF',\n",
    " 'gene_type']\n",
    "categorical_features=['gene_type', 'VEP_VARIANT_CLASS']"
   ]
  },
  {
   "cell_type": "code",
   "execution_count": 15,
   "metadata": {},
   "outputs": [
    {
     "name": "stdout",
     "output_type": "stream",
     "text": [
      "Run model... done! (21.27s)\n",
      "▴ Mean accuracy    : 0.884 ± 0.008\n",
      "▴ Mean ROC AUC     : 0.952 ± 0.004\n",
      "▴ Mean F1-score    : 0.881 ± 0.010\n",
      "▴ Average precision: 0.959 ± 0.004\n"
     ]
    }
   ],
   "source": [
    "X, y = get_X_and_y(impact, features, categorical_features)\n",
    "metrics = run_model(model, X, y, cv_strategy, n_jobs=5)\n",
    "print_mean_metrics(metrics)"
   ]
  },
  {
   "cell_type": "code",
   "execution_count": 16,
   "metadata": {},
   "outputs": [],
   "source": [
    "summary.loc['without_VEP_additional_info'] = [metrics.test_accuracy.mean(), metrics.test_roc_auc.mean(), metrics.test_f1.mean(), metrics.test_average_precision.mean()]"
   ]
  },
  {
   "cell_type": "markdown",
   "metadata": {},
   "source": [
    "## Without `VEP_gnomAD_AF`, `Kaviar_AF`"
   ]
  },
  {
   "cell_type": "code",
   "execution_count": 17,
   "metadata": {},
   "outputs": [],
   "source": [
    "features = ['t_depth',\n",
    " 't_vaf',\n",
    " 't_alt_count',\n",
    " 'n_depth',\n",
    " 'sample_coverage',\n",
    " 'VEP_VARIANT_CLASS',\n",
    " 'VEP_COSMIC_CNT',\n",
    " 'frequency_in_normals',\n",
    " 'VEP_gnomAD_total_AF_max',\n",
    " 'VEP_gnomAD_total_AF',\n",
    " 'gene_type']\n",
    "categorical_features=['VEP_VARIANT_CLASS', 'gene_type']"
   ]
  },
  {
   "cell_type": "code",
   "execution_count": 18,
   "metadata": {},
   "outputs": [
    {
     "name": "stdout",
     "output_type": "stream",
     "text": [
      "Run model... done! (22.37s)\n",
      "▴ Mean accuracy    : 0.880 ± 0.006\n",
      "▴ Mean ROC AUC     : 0.951 ± 0.005\n",
      "▴ Mean F1-score    : 0.876 ± 0.007\n",
      "▴ Average precision: 0.958 ± 0.003\n"
     ]
    }
   ],
   "source": [
    "X, y = get_X_and_y(impact, features, categorical_features)\n",
    "metrics = run_model(model, X, y, cv_strategy, n_jobs=5)\n",
    "print_mean_metrics(metrics)"
   ]
  },
  {
   "cell_type": "code",
   "execution_count": 20,
   "metadata": {},
   "outputs": [],
   "source": [
    "summary.loc['without_VEP_additional_info_2'] = [metrics.test_accuracy.mean(), metrics.test_roc_auc.mean(), metrics.test_f1.mean(), metrics.test_average_precision.mean()]"
   ]
  },
  {
   "cell_type": "markdown",
   "metadata": {},
   "source": [
    "## Simplify `VEP_VARIANT_CLASS`"
   ]
  },
  {
   "cell_type": "code",
   "execution_count": 21,
   "metadata": {},
   "outputs": [],
   "source": [
    "impact['is_SNV'] = (impact.VEP_VARIANT_CLASS == 'SNV')"
   ]
  },
  {
   "cell_type": "code",
   "execution_count": 22,
   "metadata": {},
   "outputs": [],
   "source": [
    "features = ['t_depth',\n",
    " 't_vaf',\n",
    " 't_alt_count',\n",
    " 'n_depth',\n",
    " 'sample_coverage',\n",
    " 'is_SNV',\n",
    " 'VEP_COSMIC_CNT',\n",
    " 'frequency_in_normals',\n",
    " 'VEP_gnomAD_total_AF_max',\n",
    " 'VEP_gnomAD_total_AF',\n",
    " 'gene_type']\n",
    "categorical_features=['gene_type']"
   ]
  },
  {
   "cell_type": "code",
   "execution_count": 23,
   "metadata": {},
   "outputs": [
    {
     "name": "stdout",
     "output_type": "stream",
     "text": [
      "Run model... done! (22.17s)\n",
      "▴ Mean accuracy    : 0.883 ± 0.008\n",
      "▴ Mean ROC AUC     : 0.950 ± 0.006\n",
      "▴ Mean F1-score    : 0.880 ± 0.010\n",
      "▴ Average precision: 0.957 ± 0.004\n"
     ]
    }
   ],
   "source": [
    "X, y = get_X_and_y(impact, features, categorical_features)\n",
    "metrics = run_model(model, X, y, cv_strategy, n_jobs=5)\n",
    "print_mean_metrics(metrics)"
   ]
  },
  {
   "cell_type": "code",
   "execution_count": 24,
   "metadata": {},
   "outputs": [],
   "source": [
    "summary.loc['simplified_VEP_VARIANT_CLASS'] = [metrics.test_accuracy.mean(), metrics.test_roc_auc.mean(), metrics.test_f1.mean(), metrics.test_average_precision.mean()]"
   ]
  },
  {
   "cell_type": "markdown",
   "metadata": {},
   "source": [
    "## Tried"
   ]
  },
  {
   "cell_type": "code",
   "execution_count": null,
   "metadata": {},
   "outputs": [],
   "source": [
    "populations = ['VEP_gnomAD_total_AF_AFR', 'VEP_gnomAD_total_AF_AMR', 'VEP_gnomAD_total_AF_ASJ', 'VEP_gnomAD_total_AF_EAS', 'VEP_gnomAD_total_AF_FIN', 'VEP_gnomAD_total_AF_NFE', 'VEP_gnomAD_total_AF_OTH']\n",
    "impact['population_number'] = impact.apply(lambda x: sum(x[populations] != 0), axis=1)"
   ]
  },
  {
   "cell_type": "code",
   "execution_count": null,
   "metadata": {},
   "outputs": [],
   "source": [
    "get_table(impact['population_number'])"
   ]
  },
  {
   "cell_type": "code",
   "execution_count": null,
   "metadata": {},
   "outputs": [],
   "source": [
    "impact['is_frequent_in_population'] = impact['population_number'] >= 3"
   ]
  },
  {
   "cell_type": "markdown",
   "metadata": {},
   "source": [
    "Every unselected features tried and useless."
   ]
  },
  {
   "cell_type": "code",
   "execution_count": null,
   "metadata": {},
   "outputs": [],
   "source": [
    "impact['strand_ratio'] = impact[['t_alt_neg_count', 't_alt_plus_count']].min(axis=1) / impact[['t_alt_neg_count', 't_alt_plus_count']].max(axis=1)"
   ]
  },
  {
   "cell_type": "markdown",
   "metadata": {},
   "source": [
    "## Add `oncogenic` and `Chromosome`"
   ]
  },
  {
   "cell_type": "code",
   "execution_count": null,
   "metadata": {},
   "outputs": [],
   "source": [
    "features = ['t_depth',\n",
    " 't_vaf',\n",
    " 't_alt_count',\n",
    " 'n_depth',\n",
    " 'sample_coverage',\n",
    " 'is_SNV',\n",
    " 'VEP_COSMIC_CNT',\n",
    " 'frequency_in_normals',\n",
    " 'VEP_gnomAD_total_AF_max',\n",
    " 'VEP_gnomAD_total_AF',\n",
    " 'Chromosome',\n",
    " 'oncogenic',\n",
    " 'gene_type']\n",
    "\n",
    "categorical_features = ['Chromosome', 'oncogenic', 'gene_type']"
   ]
  },
  {
   "cell_type": "code",
   "execution_count": null,
   "metadata": {},
   "outputs": [],
   "source": [
    "X, y = get_X_and_y(impact, features, categorical_features)\n",
    "metrics = run_model(model, X, y, cv_strategy, n_jobs=5)\n",
    "print_mean_metrics(metrics)"
   ]
  },
  {
   "cell_type": "code",
   "execution_count": null,
   "metadata": {},
   "outputs": [],
   "source": [
    "summary.loc['add_oncogenic_and_Chromosome'] = [metrics.test_accuracy.mean(), metrics.test_roc_auc.mean(), metrics.test_f1.mean(), metrics.test_average_precision.mean()]"
   ]
  },
  {
   "cell_type": "markdown",
   "metadata": {},
   "source": [
    "## Study feature importance"
   ]
  },
  {
   "cell_type": "code",
   "execution_count": null,
   "metadata": {},
   "outputs": [],
   "source": [
    "from sklearn.ensemble import GradientBoostingClassifier\n",
    "\n",
    "model.fit(X, y);"
   ]
  },
  {
   "cell_type": "code",
   "execution_count": null,
   "metadata": {},
   "outputs": [],
   "source": [
    "feature_importance = pd.DataFrame({'value': model.feature_importances_.tolist()}, index=X.columns.tolist())\n",
    "feature_importance.sort_values(by='value', axis=0, inplace=True)\n",
    "\n",
    "plt.figure(figsize = (10, 8))\n",
    "feature_importance.value.plot.barh(width=0.85)"
   ]
  },
  {
   "cell_type": "markdown",
   "metadata": {},
   "source": [
    "## Summary"
   ]
  },
  {
   "cell_type": "code",
   "execution_count": null,
   "metadata": {},
   "outputs": [],
   "source": [
    "summary.style.highlight_max(axis=0, color='yellow').set_precision(3)"
   ]
  },
  {
   "cell_type": "code",
   "execution_count": null,
   "metadata": {},
   "outputs": [],
   "source": [
    "fig, ax = plt.subplots(1, 1, figsize=(10, 12))\n",
    "\n",
    "s = summary.iloc[::-1].transpose().iloc[::-1]\n",
    "colors = ['darkblue', 'purple', 'grey', 'maroon', 'crimson', 'salmon', 'darkgoldenrod', 'seagreen', 'mediumseagreen']\n",
    "s.plot.barh(ax=ax, width=0.85, color=colors)\n",
    "\n",
    "# print text results\n",
    "for rect in ax.patches:\n",
    "    ax.text(rect.get_width() + 0.01, rect.get_y() + rect.get_height() / 2, '%.3f' % rect.get_width(), ha='left', va='center', color=rect.get_facecolor(), fontsize=13)\n",
    "    \n",
    "# invert legend order\n",
    "handles, labels = ax.get_legend_handles_labels()\n",
    "ax.legend(handles[::-1], labels[::-1], loc='center left', bbox_to_anchor=(1, 0.5), prop={'size':18})\n",
    "ax.set_xlim(right=1.05);"
   ]
  },
  {
   "cell_type": "code",
   "execution_count": null,
   "metadata": {},
   "outputs": [],
   "source": []
  }
 ],
 "metadata": {
  "kernelspec": {
   "display_name": "Python 3",
   "language": "python",
   "name": "python3"
  },
  "language_info": {
   "codemirror_mode": {
    "name": "ipython",
    "version": 3
   },
   "file_extension": ".py",
   "mimetype": "text/x-python",
   "name": "python",
   "nbconvert_exporter": "python",
   "pygments_lexer": "ipython3",
   "version": "3.6.6"
  },
  "toc-autonumbering": true,
  "toc-showcode": false,
  "toc-showmarkdowntxt": false,
  "toc-showtags": false
 },
 "nbformat": 4,
 "nbformat_minor": 2
}
