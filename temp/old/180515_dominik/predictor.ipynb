{
 "cells": [
  {
   "cell_type": "code",
   "execution_count": 139,
   "metadata": {},
   "outputs": [],
   "source": [
    "impact.df = read.table(\"../../../data/all_IMPACT_mutations_180508.txt\", sep=\"\\t\", stringsAsFactors=F, header=T)\n",
    "annotation.df <- read.table(\"../../../data/all_IMPACT_mutations_180508.simple.hg19_multianno.txt\", sep=\"\\t\", stringsAsFactors=F, header=T)"
   ]
  },
  {
   "cell_type": "code",
   "execution_count": 156,
   "metadata": {},
   "outputs": [],
   "source": [
    "impact.ann.df <- cbind(impact.df, annotation.df )\n",
    "impact.unlikely.df <- subset(impact.ann.df, confidence_class=='UNLIKELY')[1:2000,]\n",
    "impact.drivers.df <- subset(impact.ann.df, confidence_class %in% c('MANUAL_OK', 'AUTO_OK'))[1:2000,]\n",
    "impact.ann.df <- rbind(impact.unlikely.df, impact.drivers.df )"
   ]
  },
  {
   "cell_type": "code",
   "execution_count": 157,
   "metadata": {},
   "outputs": [
    {
     "data": {
      "text/html": [
       "2000"
      ],
      "text/latex": [
       "2000"
      ],
      "text/markdown": [
       "2000"
      ],
      "text/plain": [
       "[1] 2000"
      ]
     },
     "metadata": {},
     "output_type": "display_data"
    }
   ],
   "source": [
    "nrow(impact.unlikely.df)"
   ]
  },
  {
   "cell_type": "code",
   "execution_count": 158,
   "metadata": {},
   "outputs": [
    {
     "data": {
      "text/html": [
       "2000"
      ],
      "text/latex": [
       "2000"
      ],
      "text/markdown": [
       "2000"
      ],
      "text/plain": [
       "[1] 2000"
      ]
     },
     "metadata": {},
     "output_type": "display_data"
    }
   ],
   "source": [
    "nrow(impact.drivers.df)"
   ]
  },
  {
   "cell_type": "code",
   "execution_count": 159,
   "metadata": {},
   "outputs": [],
   "source": [
    "source('parseCosmic.R')\n",
    "impact.ann.df <- parseCosmic(impact.ann.df)"
   ]
  },
  {
   "cell_type": "code",
   "execution_count": 160,
   "metadata": {},
   "outputs": [
    {
     "data": {
      "text/plain": [
       "\n",
       " Oncogene Recessive   Unknown \n",
       "     1134      2691       175 "
      ]
     },
     "metadata": {},
     "output_type": "display_data"
    },
    {
     "data": {
      "text/html": [
       "0"
      ],
      "text/latex": [
       "0"
      ],
      "text/markdown": [
       "0"
      ],
      "text/plain": [
       "[1] 0"
      ]
     },
     "metadata": {},
     "output_type": "display_data"
    }
   ],
   "source": [
    "cg <- read.table('../../../data/CancerGenesList.txt', sep='\\t', header=TRUE, comment.char = '', row.names = 1)\n",
    "impact.ann.df$isOncogene <- cg[impact.ann.df$Hugo_Symbol,'OncoKB.Oncogene']\n",
    "impact.ann.df$cgType[impact.ann.df$isOncogene=='Yes'] <- 'Oncogene'\n",
    "impact.ann.df$cgType[!impact.ann.df$isOncogene=='Yes'] <- 'Recessive'\n",
    "impact.ann.df$cgType[is.na(impact.ann.df$cgType) ] <- 'Unknown'\n",
    "impact.ann.df$cgType <- as.factor(impact.ann.df$cgType)\n",
    "\n",
    "table(impact.ann.df$cgType)\n",
    "sum(is.na(impact.ann.df$cgType))"
   ]
  },
  {
   "cell_type": "code",
   "execution_count": 161,
   "metadata": {},
   "outputs": [
    {
     "data": {
      "text/plain": [
       "\n",
       "   0 \n",
       "4000 "
      ]
     },
     "metadata": {},
     "output_type": "display_data"
    }
   ],
   "source": [
    "table(impact.ann.df$occurence_in_normals)"
   ]
  },
  {
   "cell_type": "code",
   "execution_count": 162,
   "metadata": {},
   "outputs": [
    {
     "data": {
      "text/html": [
       "<table>\n",
       "<thead><tr><th></th><th scope=col>Hugo_Symbol</th><th scope=col>Entrez_Gene_Id</th><th scope=col>Center</th><th scope=col>NCBI_Build</th><th scope=col>Chromosome</th><th scope=col>Start_Position</th><th scope=col>End_Position</th><th scope=col>Strand</th><th scope=col>Consequence</th><th scope=col>Variant_Type</th><th scope=col>⋯</th><th scope=col>phastCons20way_mammalian</th><th scope=col>SiPhy_29way_logOdds</th><th scope=col>X1000g2015aug_all</th><th scope=col>Kaviar_AF</th><th scope=col>Kaviar_AC</th><th scope=col>Kaviar_AN</th><th scope=col>cosmic70</th><th scope=col>cosmicCount</th><th scope=col>isOncogene</th><th scope=col>cgType</th></tr></thead>\n",
       "<tbody>\n",
       "\t<tr><th scope=row>2</th><td>ALK                                        </td><td>0                                          </td><td>MSK-IMPACT                                 </td><td>hg19                                       </td><td>2                                          </td><td> 29543736                                  </td><td> 29543736                                  </td><td>+                                          </td><td>nonsynonymous_SNV                          </td><td>SNP                                        </td><td>⋯                                          </td><td>0.336                                      </td><td>6.380                                      </td><td>0.0159744                                  </td><td>0.0300125                                  </td><td>4640                                       </td><td>154602                                     </td><td>ID=COSM3758202;OCCURENCE=1(large_intestine)</td><td>1                                          </td><td>Yes                                        </td><td>Oncogene                                   </td></tr>\n",
       "\t<tr><th scope=row>3</th><td>PDCD1                                      </td><td>0                                          </td><td>MSK-IMPACT                                 </td><td>hg19                                       </td><td>2                                          </td><td>242793433                                  </td><td>242793433                                  </td><td>+                                          </td><td>nonsynonymous_SNV                          </td><td>SNP                                        </td><td>⋯                                          </td><td>0.002                                      </td><td>7.501                                      </td><td>0.136781                                   </td><td>0.0760792                                  </td><td>11762                                      </td><td>154602                                     </td><td>.                                          </td><td>0                                          </td><td>                                           </td><td>Recessive                                  </td></tr>\n",
       "\t<tr><th scope=row>4</th><td>MAP3K1                                     </td><td>0                                          </td><td>MSK-IMPACT                                 </td><td>hg19                                       </td><td>5                                          </td><td> 56177843                                  </td><td> 56177843                                  </td><td>+                                          </td><td>nonsynonymous_SNV                          </td><td>SNP                                        </td><td>⋯                                          </td><td>0.984                                      </td><td>13.098                                     </td><td>0.00738818                                 </td><td>0.0141072                                  </td><td>2181                                       </td><td>154602                                     </td><td>.                                          </td><td>0                                          </td><td>                                           </td><td>Recessive                                  </td></tr>\n",
       "\t<tr><th scope=row>5</th><td>FLT4                                       </td><td>0                                          </td><td>MSK-IMPACT                                 </td><td>hg19                                       </td><td>5                                          </td><td>180030313                                  </td><td>180030313                                  </td><td>+                                          </td><td>nonsynonymous_SNV                          </td><td>SNP                                        </td><td>⋯                                          </td><td>0.001                                      </td><td>2.012                                      </td><td>.                                          </td><td>0.0789964                                  </td><td>12213                                      </td><td>154602                                     </td><td>.                                          </td><td>0                                          </td><td>Yes                                        </td><td>Oncogene                                   </td></tr>\n",
       "\t<tr><th scope=row>6</th><td>FLT4                                       </td><td>0                                          </td><td>MSK-IMPACT                                 </td><td>hg19                                       </td><td>5                                          </td><td>180051003                                  </td><td>180051003                                  </td><td>+                                          </td><td>nonsynonymous_SNV                          </td><td>SNP                                        </td><td>⋯                                          </td><td>0.281                                      </td><td>5.808                                      </td><td>0.0529153                                  </td><td>0.0911566                                  </td><td>14093                                      </td><td>154602                                     </td><td>.                                          </td><td>0                                          </td><td>Yes                                        </td><td>Oncogene                                   </td></tr>\n",
       "\t<tr><th scope=row>7</th><td>NOTCH4                                     </td><td>0                                          </td><td>MSK-IMPACT                                 </td><td>hg19                                       </td><td>6                                          </td><td> 32178570                                  </td><td> 32178570                                  </td><td>+                                          </td><td>nonsynonymous_SNV                          </td><td>SNP                                        </td><td>⋯                                          </td><td>0.055                                      </td><td>15.605                                     </td><td>0.0449281                                  </td><td>0.0186802                                  </td><td>2888                                       </td><td>154602                                     </td><td>.                                          </td><td>0                                          </td><td>                                           </td><td>Recessive                                  </td></tr>\n",
       "</tbody>\n",
       "</table>\n"
      ],
      "text/latex": [
       "\\begin{tabular}{r|llllllllllllllllllllllllllllllllllllllllllllllllllllllllllllllllllllllllllllllllll}\n",
       "  & Hugo\\_Symbol & Entrez\\_Gene\\_Id & Center & NCBI\\_Build & Chromosome & Start\\_Position & End\\_Position & Strand & Consequence & Variant\\_Type & ⋯ & phastCons20way\\_mammalian & SiPhy\\_29way\\_logOdds & X1000g2015aug\\_all & Kaviar\\_AF & Kaviar\\_AC & Kaviar\\_AN & cosmic70 & cosmicCount & isOncogene & cgType\\\\\n",
       "\\hline\n",
       "\t2 & ALK                                           & 0                                             & MSK-IMPACT                                    & hg19                                          & 2                                             &  29543736                                     &  29543736                                     & +                                             & nonsynonymous\\_SNV                           & SNP                                           & ⋯                                             & 0.336                                         & 6.380                                         & 0.0159744                                     & 0.0300125                                     & 4640                                          & 154602                                        & ID=COSM3758202;OCCURENCE=1(large\\_intestine) & 1                                             & Yes                                           & Oncogene                                     \\\\\n",
       "\t3 & PDCD1                                       & 0                                           & MSK-IMPACT                                  & hg19                                        & 2                                           & 242793433                                   & 242793433                                   & +                                           & nonsynonymous\\_SNV                         & SNP                                         & ⋯                                           & 0.002                                       & 7.501                                       & 0.136781                                    & 0.0760792                                   & 11762                                       & 154602                                      & .                                           & 0                                           &                                             & Recessive                                  \\\\\n",
       "\t4 & MAP3K1                                      & 0                                           & MSK-IMPACT                                  & hg19                                        & 5                                           &  56177843                                   &  56177843                                   & +                                           & nonsynonymous\\_SNV                         & SNP                                         & ⋯                                           & 0.984                                       & 13.098                                      & 0.00738818                                  & 0.0141072                                   & 2181                                        & 154602                                      & .                                           & 0                                           &                                             & Recessive                                  \\\\\n",
       "\t5 & FLT4                                        & 0                                           & MSK-IMPACT                                  & hg19                                        & 5                                           & 180030313                                   & 180030313                                   & +                                           & nonsynonymous\\_SNV                         & SNP                                         & ⋯                                           & 0.001                                       & 2.012                                       & .                                           & 0.0789964                                   & 12213                                       & 154602                                      & .                                           & 0                                           & Yes                                         & Oncogene                                   \\\\\n",
       "\t6 & FLT4                                        & 0                                           & MSK-IMPACT                                  & hg19                                        & 5                                           & 180051003                                   & 180051003                                   & +                                           & nonsynonymous\\_SNV                         & SNP                                         & ⋯                                           & 0.281                                       & 5.808                                       & 0.0529153                                   & 0.0911566                                   & 14093                                       & 154602                                      & .                                           & 0                                           & Yes                                         & Oncogene                                   \\\\\n",
       "\t7 & NOTCH4                                      & 0                                           & MSK-IMPACT                                  & hg19                                        & 6                                           &  32178570                                   &  32178570                                   & +                                           & nonsynonymous\\_SNV                         & SNP                                         & ⋯                                           & 0.055                                       & 15.605                                      & 0.0449281                                   & 0.0186802                                   & 2888                                        & 154602                                      & .                                           & 0                                           &                                             & Recessive                                  \\\\\n",
       "\\end{tabular}\n"
      ],
      "text/markdown": [
       "\n",
       "| <!--/--> | Hugo_Symbol | Entrez_Gene_Id | Center | NCBI_Build | Chromosome | Start_Position | End_Position | Strand | Consequence | Variant_Type | ⋯ | phastCons20way_mammalian | SiPhy_29way_logOdds | X1000g2015aug_all | Kaviar_AF | Kaviar_AC | Kaviar_AN | cosmic70 | cosmicCount | isOncogene | cgType | \n",
       "|---|---|---|---|---|---|\n",
       "| 2 | ALK                                         | 0                                           | MSK-IMPACT                                  | hg19                                        | 2                                           |  29543736                                   |  29543736                                   | +                                           | nonsynonymous_SNV                           | SNP                                         | ⋯                                           | 0.336                                       | 6.380                                       | 0.0159744                                   | 0.0300125                                   | 4640                                        | 154602                                      | ID=COSM3758202;OCCURENCE=1(large_intestine) | 1                                           | Yes                                         | Oncogene                                    | \n",
       "| 3 | PDCD1                                       | 0                                           | MSK-IMPACT                                  | hg19                                        | 2                                           | 242793433                                   | 242793433                                   | +                                           | nonsynonymous_SNV                           | SNP                                         | ⋯                                           | 0.002                                       | 7.501                                       | 0.136781                                    | 0.0760792                                   | 11762                                       | 154602                                      | .                                           | 0                                           |                                             | Recessive                                   | \n",
       "| 4 | MAP3K1                                      | 0                                           | MSK-IMPACT                                  | hg19                                        | 5                                           |  56177843                                   |  56177843                                   | +                                           | nonsynonymous_SNV                           | SNP                                         | ⋯                                           | 0.984                                       | 13.098                                      | 0.00738818                                  | 0.0141072                                   | 2181                                        | 154602                                      | .                                           | 0                                           |                                             | Recessive                                   | \n",
       "| 5 | FLT4                                        | 0                                           | MSK-IMPACT                                  | hg19                                        | 5                                           | 180030313                                   | 180030313                                   | +                                           | nonsynonymous_SNV                           | SNP                                         | ⋯                                           | 0.001                                       | 2.012                                       | .                                           | 0.0789964                                   | 12213                                       | 154602                                      | .                                           | 0                                           | Yes                                         | Oncogene                                    | \n",
       "| 6 | FLT4                                        | 0                                           | MSK-IMPACT                                  | hg19                                        | 5                                           | 180051003                                   | 180051003                                   | +                                           | nonsynonymous_SNV                           | SNP                                         | ⋯                                           | 0.281                                       | 5.808                                       | 0.0529153                                   | 0.0911566                                   | 14093                                       | 154602                                      | .                                           | 0                                           | Yes                                         | Oncogene                                    | \n",
       "| 7 | NOTCH4                                      | 0                                           | MSK-IMPACT                                  | hg19                                        | 6                                           |  32178570                                   |  32178570                                   | +                                           | nonsynonymous_SNV                           | SNP                                         | ⋯                                           | 0.055                                       | 15.605                                      | 0.0449281                                   | 0.0186802                                   | 2888                                        | 154602                                      | .                                           | 0                                           |                                             | Recessive                                   | \n",
       "\n",
       "\n"
      ],
      "text/plain": [
       "  Hugo_Symbol Entrez_Gene_Id Center     NCBI_Build Chromosome Start_Position\n",
       "2 ALK         0              MSK-IMPACT hg19       2           29543736     \n",
       "3 PDCD1       0              MSK-IMPACT hg19       2          242793433     \n",
       "4 MAP3K1      0              MSK-IMPACT hg19       5           56177843     \n",
       "5 FLT4        0              MSK-IMPACT hg19       5          180030313     \n",
       "6 FLT4        0              MSK-IMPACT hg19       5          180051003     \n",
       "7 NOTCH4      0              MSK-IMPACT hg19       6           32178570     \n",
       "  End_Position Strand Consequence       Variant_Type ⋯ phastCons20way_mammalian\n",
       "2  29543736    +      nonsynonymous_SNV SNP          ⋯ 0.336                   \n",
       "3 242793433    +      nonsynonymous_SNV SNP          ⋯ 0.002                   \n",
       "4  56177843    +      nonsynonymous_SNV SNP          ⋯ 0.984                   \n",
       "5 180030313    +      nonsynonymous_SNV SNP          ⋯ 0.001                   \n",
       "6 180051003    +      nonsynonymous_SNV SNP          ⋯ 0.281                   \n",
       "7  32178570    +      nonsynonymous_SNV SNP          ⋯ 0.055                   \n",
       "  SiPhy_29way_logOdds X1000g2015aug_all Kaviar_AF Kaviar_AC Kaviar_AN\n",
       "2 6.380               0.0159744         0.0300125 4640      154602   \n",
       "3 7.501               0.136781          0.0760792 11762     154602   \n",
       "4 13.098              0.00738818        0.0141072 2181      154602   \n",
       "5 2.012               .                 0.0789964 12213     154602   \n",
       "6 5.808               0.0529153         0.0911566 14093     154602   \n",
       "7 15.605              0.0449281         0.0186802 2888      154602   \n",
       "  cosmic70                                    cosmicCount isOncogene cgType   \n",
       "2 ID=COSM3758202;OCCURENCE=1(large_intestine) 1           Yes        Oncogene \n",
       "3 .                                           0                      Recessive\n",
       "4 .                                           0                      Recessive\n",
       "5 .                                           0           Yes        Oncogene \n",
       "6 .                                           0           Yes        Oncogene \n",
       "7 .                                           0                      Recessive"
      ]
     },
     "metadata": {},
     "output_type": "display_data"
    }
   ],
   "source": [
    "head(impact.ann.df )"
   ]
  },
  {
   "cell_type": "code",
   "execution_count": 163,
   "metadata": {},
   "outputs": [],
   "source": [
    "write.table(impact.ann.df, file=\"../../../data/all_IMPACT_mutations_180508.annot.csv\", sep=',', quote=FALSE, row.names=FALSE)"
   ]
  },
  {
   "cell_type": "code",
   "execution_count": 165,
   "metadata": {},
   "outputs": [
    {
     "data": {
      "text/html": [
       "4000"
      ],
      "text/latex": [
       "4000"
      ],
      "text/markdown": [
       "4000"
      ],
      "text/plain": [
       "[1] 4000"
      ]
     },
     "metadata": {},
     "output_type": "display_data"
    }
   ],
   "source": [
    "labelTrain <- impact.ann.df$confidence_class=='MANUAL_OK' | impact.ann.df$confidence_class=='AUTO_OK'\n",
    "length(labelTrain)"
   ]
  },
  {
   "cell_type": "code",
   "execution_count": 28,
   "metadata": {},
   "outputs": [],
   "source": [
    "#colnames(impact.sel.df)"
   ]
  },
  {
   "cell_type": "code",
   "execution_count": 166,
   "metadata": {},
   "outputs": [],
   "source": [
    "selFeatures <- c('Consequence',\n",
    "                 'cgType',\n",
    "                #'t_depth',\n",
    "                 't_vaf',\n",
    "                 't_alt_count',\n",
    "                 'n_depth',\n",
    "                 #'n_vaf',\n",
    "                 #'n_alt_count',\n",
    "                 't_ref_plus_count',\n",
    "                 't_ref_neg_count',\n",
    "                 #'minor_contamination',\n",
    "                 'SIFT_score',\n",
    "                 #'Polyphen2_HDIV_score',\n",
    "                 #'LRT_score',\n",
    "                 #'MutationTaster_score',\n",
    "                 #'MutationAssessor_score',\n",
    "                 #'FATHMM_score',\n",
    "                 #'PROVEAN_score',\n",
    "                 #'VEST3_score',\n",
    "                 #'CADD_raw',\n",
    "                 #'DANN_score',\n",
    "                 #'fathmm.MKL_coding_score',\n",
    "                 #'MetaSVM_score',\n",
    "                 #'MetaLR_score',\n",
    "                 #'integrated_fitCons_score',\n",
    "                 #'X1000g2015aug_all',\n",
    "                 'Kaviar_AF',\n",
    "                 'cosmicCount'\n",
    "                )\n",
    "variantTrain <- impact.sel.df"
   ]
  },
  {
   "cell_type": "code",
   "execution_count": 179,
   "metadata": {},
   "outputs": [
    {
     "data": {
      "text/html": [
       "4000"
      ],
      "text/latex": [
       "4000"
      ],
      "text/markdown": [
       "4000"
      ],
      "text/plain": [
       "[1] 4000"
      ]
     },
     "metadata": {},
     "output_type": "display_data"
    }
   ],
   "source": [
    "variantTrain <- impact.sel.df[, selFeatures]\n",
    "nrow(variantTrain)"
   ]
  },
  {
   "cell_type": "code",
   "execution_count": 174,
   "metadata": {},
   "outputs": [],
   "source": [
    "#sapply(variantTrain, class)"
   ]
  },
  {
   "cell_type": "code",
   "execution_count": 180,
   "metadata": {},
   "outputs": [
    {
     "name": "stderr",
     "output_type": "stream",
     "text": [
      "Warning message in eval(expr, envir, enclos):\n",
      "“NAs introduced by coercion”Warning message in eval(expr, envir, enclos):\n",
      "“NAs introduced by coercion”"
     ]
    }
   ],
   "source": [
    "variantTrain.corr <- variantTrain\n",
    "variantTrain.corr$Consequence <- as.factor(variantTrain.corr$Consequence)\n",
    "variantTrain.corr$t_vaf <- as.numeric(variantTrain.corr$t_vaf)\n",
    "variantTrain.corr$t_alt_count <- as.numeric(variantTrain.corr$t_alt_count)\n",
    "variantTrain.corr$n_depth <- as.numeric(variantTrain.corr$n_depth)\n",
    "variantTrain.corr$t_ref_plus_ratio<- as.numeric(variantTrain.corr$t_ref_plus_count)  / \n",
    "(as.numeric(variantTrain.corr$t_ref_plus_count) + as.numeric(variantTrain.corr$t_ref_neg_count))\n",
    "\n",
    "variantTrain.corr$SIFT_score<- as.numeric(variantTrain.corr$SIFT_score)\n",
    "variantTrain.corr$Kaviar_AF<- as.numeric(variantTrain.corr$Kaviar_AF)"
   ]
  },
  {
   "cell_type": "code",
   "execution_count": 181,
   "metadata": {},
   "outputs": [],
   "source": [
    "variantTrain.corr$SIFT_score[is.na(variantTrain.corr$SIFT_score)] <- 1"
   ]
  },
  {
   "cell_type": "code",
   "execution_count": 182,
   "metadata": {},
   "outputs": [],
   "source": [
    "variantTrain.corr$t_ref_plus_ratio[is.na(variantTrain.corr$t_ref_plus_ratio)] <- 0.5"
   ]
  },
  {
   "cell_type": "code",
   "execution_count": 183,
   "metadata": {},
   "outputs": [],
   "source": [
    "variantTrain.corr$Kaviar_AF[is.na(variantTrain.corr$Kaviar_AF)] <- 0"
   ]
  },
  {
   "cell_type": "code",
   "execution_count": 184,
   "metadata": {},
   "outputs": [
    {
     "data": {
      "text/plain": [
       "\n",
       " Oncogene Recessive   Unknown \n",
       "     1134      2691       175 "
      ]
     },
     "metadata": {},
     "output_type": "display_data"
    },
    {
     "data": {
      "text/html": [
       "0"
      ],
      "text/latex": [
       "0"
      ],
      "text/markdown": [
       "0"
      ],
      "text/plain": [
       "[1] 0"
      ]
     },
     "metadata": {},
     "output_type": "display_data"
    }
   ],
   "source": [
    "table(variantTrain.corr$cgType)\n",
    "sum(is.na(variantTrain.corr))"
   ]
  },
  {
   "cell_type": "code",
   "execution_count": 185,
   "metadata": {},
   "outputs": [
    {
     "data": {
      "text/html": [
       "<dl class=dl-horizontal>\n",
       "\t<dt>Consequence</dt>\n",
       "\t\t<dd>0</dd>\n",
       "\t<dt>cgType</dt>\n",
       "\t\t<dd>0</dd>\n",
       "\t<dt>t_vaf</dt>\n",
       "\t\t<dd>0</dd>\n",
       "\t<dt>t_alt_count</dt>\n",
       "\t\t<dd>0</dd>\n",
       "\t<dt>n_depth</dt>\n",
       "\t\t<dd>0</dd>\n",
       "\t<dt>t_ref_plus_count</dt>\n",
       "\t\t<dd>0</dd>\n",
       "\t<dt>t_ref_neg_count</dt>\n",
       "\t\t<dd>0</dd>\n",
       "\t<dt>SIFT_score</dt>\n",
       "\t\t<dd>0</dd>\n",
       "\t<dt>Kaviar_AF</dt>\n",
       "\t\t<dd>0</dd>\n",
       "\t<dt>cosmicCount</dt>\n",
       "\t\t<dd>0</dd>\n",
       "\t<dt>t_ref_plus_ratio</dt>\n",
       "\t\t<dd>0</dd>\n",
       "</dl>\n"
      ],
      "text/latex": [
       "\\begin{description*}\n",
       "\\item[Consequence] 0\n",
       "\\item[cgType] 0\n",
       "\\item[t\\textbackslash{}\\_vaf] 0\n",
       "\\item[t\\textbackslash{}\\_alt\\textbackslash{}\\_count] 0\n",
       "\\item[n\\textbackslash{}\\_depth] 0\n",
       "\\item[t\\textbackslash{}\\_ref\\textbackslash{}\\_plus\\textbackslash{}\\_count] 0\n",
       "\\item[t\\textbackslash{}\\_ref\\textbackslash{}\\_neg\\textbackslash{}\\_count] 0\n",
       "\\item[SIFT\\textbackslash{}\\_score] 0\n",
       "\\item[Kaviar\\textbackslash{}\\_AF] 0\n",
       "\\item[cosmicCount] 0\n",
       "\\item[t\\textbackslash{}\\_ref\\textbackslash{}\\_plus\\textbackslash{}\\_ratio] 0\n",
       "\\end{description*}\n"
      ],
      "text/markdown": [
       "Consequence\n",
       ":   0cgType\n",
       ":   0t_vaf\n",
       ":   0t_alt_count\n",
       ":   0n_depth\n",
       ":   0t_ref_plus_count\n",
       ":   0t_ref_neg_count\n",
       ":   0SIFT_score\n",
       ":   0Kaviar_AF\n",
       ":   0cosmicCount\n",
       ":   0t_ref_plus_ratio\n",
       ":   0\n",
       "\n"
      ],
      "text/plain": [
       "     Consequence           cgType            t_vaf      t_alt_count \n",
       "               0                0                0                0 \n",
       "         n_depth t_ref_plus_count  t_ref_neg_count       SIFT_score \n",
       "               0                0                0                0 \n",
       "       Kaviar_AF      cosmicCount t_ref_plus_ratio \n",
       "               0                0                0 "
      ]
     },
     "metadata": {},
     "output_type": "display_data"
    }
   ],
   "source": [
    "colSums(is.na(variantTrain.corr))"
   ]
  },
  {
   "cell_type": "code",
   "execution_count": 186,
   "metadata": {},
   "outputs": [],
   "source": [
    "save(variantTrain.corr, labelTrain, file='../../../data/trainingData.RData')"
   ]
  },
  {
   "cell_type": "code",
   "execution_count": 176,
   "metadata": {},
   "outputs": [
    {
     "data": {
      "text/html": [
       "<table>\n",
       "<thead><tr><th></th><th scope=col>Consequence</th><th scope=col>t_vaf</th><th scope=col>t_alt_count</th><th scope=col>n_depth</th><th scope=col>t_ref_plus_count</th><th scope=col>t_ref_neg_count</th><th scope=col>SIFT_score</th><th scope=col>Kaviar_AF</th><th scope=col>cosmicCount</th><th scope=col>t_ref_plus_ratio</th></tr></thead>\n",
       "<tbody>\n",
       "\t<tr><th scope=row>2</th><td>nonsynonymous_SNV</td><td>0.06736          </td><td>13               </td><td> 793             </td><td> 78              </td><td>102              </td><td>0.539            </td><td>0.0300125        </td><td>1                </td><td>0.4333333        </td></tr>\n",
       "\t<tr><th scope=row>3</th><td>nonsynonymous_SNV</td><td>0.06250          </td><td>15               </td><td> 712             </td><td> 89              </td><td>136              </td><td>0.019            </td><td>0.0760792        </td><td>0                </td><td>0.3955556        </td></tr>\n",
       "\t<tr><th scope=row>4</th><td>nonsynonymous_SNV</td><td>0.03141          </td><td>12               </td><td> 666             </td><td>200              </td><td>170              </td><td>0.002            </td><td>0.0141072        </td><td>0                </td><td>0.5405405        </td></tr>\n",
       "\t<tr><th scope=row>5</th><td>nonsynonymous_SNV</td><td>0.06494          </td><td>25               </td><td>1112             </td><td>182              </td><td>178              </td><td>0.650            </td><td>0.0789964        </td><td>0                </td><td>0.5055556        </td></tr>\n",
       "\t<tr><th scope=row>6</th><td>nonsynonymous_SNV</td><td>0.07458          </td><td>22               </td><td> 977             </td><td>116              </td><td>157              </td><td>0.225            </td><td>0.0911566        </td><td>0                </td><td>0.4249084        </td></tr>\n",
       "\t<tr><th scope=row>7</th><td>nonsynonymous_SNV</td><td>0.05743          </td><td>17               </td><td> 780             </td><td>161              </td><td>118              </td><td>0.001            </td><td>0.0186802        </td><td>0                </td><td>0.5770609        </td></tr>\n",
       "</tbody>\n",
       "</table>\n"
      ],
      "text/latex": [
       "\\begin{tabular}{r|llllllllll}\n",
       "  & Consequence & t\\_vaf & t\\_alt\\_count & n\\_depth & t\\_ref\\_plus\\_count & t\\_ref\\_neg\\_count & SIFT\\_score & Kaviar\\_AF & cosmicCount & t\\_ref\\_plus\\_ratio\\\\\n",
       "\\hline\n",
       "\t2 & nonsynonymous\\_SNV & 0.06736             & 13                  &  793                &  78                 & 102                 & 0.539               & 0.0300125           & 1                   & 0.4333333          \\\\\n",
       "\t3 & nonsynonymous\\_SNV & 0.06250             & 15                  &  712                &  89                 & 136                 & 0.019               & 0.0760792           & 0                   & 0.3955556          \\\\\n",
       "\t4 & nonsynonymous\\_SNV & 0.03141             & 12                  &  666                & 200                 & 170                 & 0.002               & 0.0141072           & 0                   & 0.5405405          \\\\\n",
       "\t5 & nonsynonymous\\_SNV & 0.06494             & 25                  & 1112                & 182                 & 178                 & 0.650               & 0.0789964           & 0                   & 0.5055556          \\\\\n",
       "\t6 & nonsynonymous\\_SNV & 0.07458             & 22                  &  977                & 116                 & 157                 & 0.225               & 0.0911566           & 0                   & 0.4249084          \\\\\n",
       "\t7 & nonsynonymous\\_SNV & 0.05743             & 17                  &  780                & 161                 & 118                 & 0.001               & 0.0186802           & 0                   & 0.5770609          \\\\\n",
       "\\end{tabular}\n"
      ],
      "text/markdown": [
       "\n",
       "| <!--/--> | Consequence | t_vaf | t_alt_count | n_depth | t_ref_plus_count | t_ref_neg_count | SIFT_score | Kaviar_AF | cosmicCount | t_ref_plus_ratio | \n",
       "|---|---|---|---|---|---|\n",
       "| 2 | nonsynonymous_SNV | 0.06736           | 13                |  793              |  78               | 102               | 0.539             | 0.0300125         | 1                 | 0.4333333         | \n",
       "| 3 | nonsynonymous_SNV | 0.06250           | 15                |  712              |  89               | 136               | 0.019             | 0.0760792         | 0                 | 0.3955556         | \n",
       "| 4 | nonsynonymous_SNV | 0.03141           | 12                |  666              | 200               | 170               | 0.002             | 0.0141072         | 0                 | 0.5405405         | \n",
       "| 5 | nonsynonymous_SNV | 0.06494           | 25                | 1112              | 182               | 178               | 0.650             | 0.0789964         | 0                 | 0.5055556         | \n",
       "| 6 | nonsynonymous_SNV | 0.07458           | 22                |  977              | 116               | 157               | 0.225             | 0.0911566         | 0                 | 0.4249084         | \n",
       "| 7 | nonsynonymous_SNV | 0.05743           | 17                |  780              | 161               | 118               | 0.001             | 0.0186802         | 0                 | 0.5770609         | \n",
       "\n",
       "\n"
      ],
      "text/plain": [
       "  Consequence       t_vaf   t_alt_count n_depth t_ref_plus_count\n",
       "2 nonsynonymous_SNV 0.06736 13           793     78             \n",
       "3 nonsynonymous_SNV 0.06250 15           712     89             \n",
       "4 nonsynonymous_SNV 0.03141 12           666    200             \n",
       "5 nonsynonymous_SNV 0.06494 25          1112    182             \n",
       "6 nonsynonymous_SNV 0.07458 22           977    116             \n",
       "7 nonsynonymous_SNV 0.05743 17           780    161             \n",
       "  t_ref_neg_count SIFT_score Kaviar_AF cosmicCount t_ref_plus_ratio\n",
       "2 102             0.539      0.0300125 1           0.4333333       \n",
       "3 136             0.019      0.0760792 0           0.3955556       \n",
       "4 170             0.002      0.0141072 0           0.5405405       \n",
       "5 178             0.650      0.0789964 0           0.5055556       \n",
       "6 157             0.225      0.0911566 0           0.4249084       \n",
       "7 118             0.001      0.0186802 0           0.5770609       "
      ]
     },
     "metadata": {},
     "output_type": "display_data"
    }
   ],
   "source": [
    "head(variantTrain.corr)"
   ]
  }
 ],
 "metadata": {
  "kernelspec": {
   "display_name": "R 3.4.3",
   "language": "R",
   "name": "ir343"
  },
  "language_info": {
   "codemirror_mode": "r",
   "file_extension": ".r",
   "mimetype": "text/x-r-source",
   "name": "R",
   "pygments_lexer": "r",
   "version": "3.4.3"
  }
 },
 "nbformat": 4,
 "nbformat_minor": 2
}
