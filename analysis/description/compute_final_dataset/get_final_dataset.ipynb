{
 "cells": [
  {
   "cell_type": "markdown",
   "metadata": {
    "toc-hr-collapsed": false
   },
   "source": [
    "# Get the final dataset\n",
    "\n",
    "**Goal:** this notebook computes the final dataset used in the next part from the raw impact. It combines a lot of knowledge from the [`/analysis/description/first_study`](https://github.com/ElsaB/impact-annotator/tree/master/analysis/description/first_study) folder to filter, clean, curate and annotate the raw dataset. The final annotation kept is the one from VEP. All the operations made are stored in the [`compute_final_dataset.R`](https://github.com/ElsaB/impact-annotator/blob/master/data/utils/compute_final_dataset.R) file, and can be applied on the raw dataset by using the `get_final_dataset()` function.\n",
    "\n",
    "This notebook is divided in 3 parts:\n",
    "* **1. Get click_annotvcf annotations**\n",
    "* **2. Adapt the `get_cleaned_impact()` function**\n",
    "* **3. Process raw features**"
   ]
  },
  {
   "cell_type": "code",
   "execution_count": 2,
   "metadata": {},
   "outputs": [
    {
     "name": "stderr",
     "output_type": "stream",
     "text": [
      "Warning message:\n",
      "“package ‘dplyr’ was built under R version 3.5.1”"
     ]
    }
   ],
   "source": [
    "source(\"../../src/utils/custom_tools.R\")\n",
    "setup_environment(\"../../src/utils\")"
   ]
  },
  {
   "cell_type": "code",
   "execution_count": 3,
   "metadata": {},
   "outputs": [],
   "source": [
    "impact <- read.table(\"../../data/all_IMPACT_mutations_180508.txt\", sep = \"\\t\", stringsAsFactors = FALSE, header = TRUE)"
   ]
  },
  {
   "cell_type": "code",
   "execution_count": null,
   "metadata": {},
   "outputs": [],
   "source": [
    "nrow(impact)"
   ]
  },
  {
   "cell_type": "markdown",
   "metadata": {
    "toc-hr-collapsed": true
   },
   "source": [
    "## Get click_annotvcf annotations"
   ]
  },
  {
   "cell_type": "markdown",
   "metadata": {},
   "source": [
    "Get the features from `click_annotvcf_IMPACT_mutations_180508.txt` (impact annotated by the click_annotvcf pipeline)."
   ]
  },
  {
   "cell_type": "markdown",
   "metadata": {
    "heading_collapsed": true
   },
   "source": [
    "### Get the raw data"
   ]
  },
  {
   "cell_type": "code",
   "execution_count": null,
   "metadata": {
    "hidden": true
   },
   "outputs": [],
   "source": [
    "impact_annotated <- read.table(\"../../../data/annotate_with_click_annotvcf/click_annotvcf_IMPACT_mutations_180508.txt\",\n",
    "                               sep = \"\\t\", stringsAsFactors = FALSE, header = TRUE, comment = \"#\")"
   ]
  },
  {
   "cell_type": "code",
   "execution_count": null,
   "metadata": {
    "hidden": true
   },
   "outputs": [],
   "source": [
    "ncol(impact_annotated)\n",
    "nrow(impact_annotated)\n",
    "head(impact_annotated)"
   ]
  },
  {
   "cell_type": "markdown",
   "metadata": {},
   "source": [
    "We keep the following features:\n",
    "* `id_colnames`: variant identification columns (chromosome, start position, ...)\n",
    "* `vag_colnames`: VAGrENT most deleterious annotation\n",
    "* `vep_colnames`: VEP v92 annotations\n",
    "* `vep_add_colnames`: VEP v92 annotations (polyphen: 2.2.2, sift: sift5.2.2, COSMIC v81)\n",
    "    * `VEP_IMPACT`: Subjective impact classification of consequence type\n",
    "    * `VEP_CLIN_SIG`: ClinVar clinical significance of the dbSNP variant\n",
    "    * `VEP_Existing_variation`: Identifier(s) of co-located known variants\n",
    "    * `VEP_COSMIC_CNT`: How many samples have this mutation\n",
    "    * ...\n",
    "* `vep_gnomad_colnames`: VEP v92 annotations (annotated with `/ifs/work/leukgen/home/leukbot/tests/vep/gnomad_genomes/gnomad.genomes.r2.0.1.sites.noVEP.vcf.gz` and `/ifs/work/leukgen/home/leukbot/tests/vep/gnomad_exomes/gnomad.exomes.r2.0.1.sites.noVEP.vcf.gz`)\n",
    "    * `VEP_gnomAD_AF`: Frequency of existing variant in gnomAD exomes combined population (VEP only annotation)\n",
    "    * `VEP_gnomAD_genome_AC.AN_<POP>`: Allele count | Total number of alleles among `<POP>` genomes, `<POP>` being one of:\n",
    "        * `AFR`: African/African American\n",
    "        * `AMR`: Admixed American\n",
    "        * `ASJ`: Ashkenazi Jewish\n",
    "        * `EAS`: East Asian\n",
    "        * `FIN`: Finnish\n",
    "        * `NFE`: Non-Finnish European\n",
    "        * `OTH`: Other (population not assigned)\n",
    "    * `VEP_gnomAD_exome_AC.AN_<POP>`: Allele count | Total number of alleles among `<POP>` exomes"
   ]
  },
  {
   "cell_type": "code",
   "execution_count": null,
   "metadata": {
    "hidden": true
   },
   "outputs": [],
   "source": [
    "id_colnames  <- c(\"ID_VARIANT\",\n",
    "                  \"CHR\",\n",
    "                  \"START\",\n",
    "                  \"END\",\n",
    "                  \"REF\",\n",
    "                  \"ALT\")\n",
    "\n",
    "vag_colnames <- c(\"VAG_VT\",\n",
    "                  \"VAG_GENE\",\n",
    "                  \"VAG_cDNA_CHANGE\",\n",
    "                  \"VAG_PROTEIN_CHANGE\",\n",
    "                  \"VAG_EFFECT\")\n",
    "\n",
    "vep_colnames <- c(\"VEP_Consequence\",\n",
    "                  \"VEP_SYMBOL\",\n",
    "                  \"VEP_HGVSc\",\n",
    "                  \"VEP_HGVSp\",\n",
    "                  \"VEP_Amino_acids\",\n",
    "                  \"VEP_VARIANT_CLASS\",\n",
    "                  \"VEP_EXON\",\n",
    "                  \"VEP_INTRON\")\n",
    "\n",
    "vep_add_colnames <- c(\"VEP_IMPACT\",\n",
    "                      \"VEP_CLIN_SIG\",\n",
    "                      \"VEP_SIFT\",\n",
    "                      \"VEP_PolyPhen\",\n",
    "                      \"VEP_Existing_variation\",\n",
    "                      \"VEP_COSMIC_CNT\")\n",
    "\n",
    "vep_gnomad_colnames <- c(\"VEP_gnomAD_AF\",\n",
    "\n",
    "                         \"VEP_gnomAD_genome_AC.AN_AFR\",\n",
    "                         \"VEP_gnomAD_genome_AC.AN_AMR\",\n",
    "                         \"VEP_gnomAD_genome_AC.AN_ASJ\",\n",
    "                         \"VEP_gnomAD_genome_AC.AN_EAS\",\n",
    "                         \"VEP_gnomAD_genome_AC.AN_FIN\",\n",
    "                         \"VEP_gnomAD_genome_AC.AN_NFE\",\n",
    "                         \"VEP_gnomAD_genome_AC.AN_OTH\",\n",
    "\n",
    "                         \"VEP_gnomAD_exome_AC.AN_AFR\",\n",
    "                         \"VEP_gnomAD_exome_AC.AN_AMR\",\n",
    "                         \"VEP_gnomAD_exome_AC.AN_ASJ\",\n",
    "                         \"VEP_gnomAD_exome_AC.AN_EAS\",\n",
    "                         \"VEP_gnomAD_exome_AC.AN_FIN\",\n",
    "                         \"VEP_gnomAD_exome_AC.AN_NFE\",\n",
    "                         \"VEP_gnomAD_exome_AC.AN_OTH\")\n",
    "\n",
    "colnames_to_keep <- c(id_colnames, vag_colnames, vep_colnames, vep_add_colnames, vep_gnomad_colnames)\n",
    "\n",
    "impact_annotated <- impact_annotated[, colnames_to_keep]"
   ]
  },
  {
   "cell_type": "markdown",
   "metadata": {},
   "source": [
    "### Add the `OLD_REF`, `OLD_ALT` and `OLD_POS` features from the `.vcf`"
   ]
  },
  {
   "cell_type": "markdown",
   "metadata": {},
   "source": [
    "During the conversion to the `.vcf` (necessary to annotate with click_annotvcf), we modified the `REF`, `ALT` and `POS` features. The old version have been stored in the `INFO` column of the `.vcf`. We parse this column and add the three features `OLD_REF`, `OLD_ALT` and `OLD_POS` to `impact_annotated`."
   ]
  },
  {
   "cell_type": "code",
   "execution_count": null,
   "metadata": {},
   "outputs": [],
   "source": [
    "impact_vcf <- read.table(\"../../../data/annotate_with_click_annotvcf/all_IMPACT_mutations_180508.vcf\",\n",
    "                               sep = \"\\t\", stringsAsFactors = FALSE, header = FALSE, comment = \"#\")\n",
    "colnames(impact_vcf) <- c(\"CHROM\", \"POS\", \"ID\", \"REF\", \"ALT\", \"QUAL\", \"FILTER\", \"INFO\", \"FORMAT\")"
   ]
  },
  {
   "cell_type": "code",
   "execution_count": null,
   "metadata": {},
   "outputs": [],
   "source": [
    "ncol(impact_vcf)\n",
    "nrow(impact_vcf)\n",
    "head(impact_vcf)"
   ]
  },
  {
   "cell_type": "code",
   "execution_count": null,
   "metadata": {},
   "outputs": [],
   "source": [
    "dd <- head(unique(impact_vcf$INFO), 10)\n",
    "dd <- data.frame(dd,\n",
    "                 sapply(dd, function(x) strsplit(strsplit(x, '=')[[1]][2], '/')[[1]][1]),\n",
    "                 sapply(dd, function(x) strsplit(strsplit(x, '=')[[1]][2], '/')[[1]][2]),\n",
    "                 sapply(dd, function(x) strsplit(strsplit(x, '=')[[1]][2], '/')[[1]][3]),\n",
    "                 row.names = NULL)\n",
    "colnames(dd) <- c(\"old\", \"new1\", \"new2\", \"new_3\")\n",
    "dd"
   ]
  },
  {
   "cell_type": "code",
   "execution_count": null,
   "metadata": {},
   "outputs": [],
   "source": [
    "impact_vcf$OLD_REF <- sapply(impact_vcf$INFO, function(x) strsplit(strsplit(x, '=')[[1]][2], '/')[[1]][1])\n",
    "impact_vcf$OLD_ALT <- sapply(impact_vcf$INFO, function(x) strsplit(strsplit(x, '=')[[1]][2], '/')[[1]][2])\n",
    "impact_vcf$OLD_POS <- sapply(impact_vcf$INFO, function(x) strsplit(strsplit(x, '=')[[1]][2], '/')[[1]][3])\n",
    "head(impact_vcf)"
   ]
  },
  {
   "cell_type": "code",
   "execution_count": null,
   "metadata": {},
   "outputs": [],
   "source": [
    "impact_vcf$join_key <- paste(impact_vcf$CHROM, impact_vcf$POS, impact_vcf$REF, impact_vcf$ALT, sep = '_')\n",
    "head(impact_vcf$join_key)"
   ]
  },
  {
   "cell_type": "markdown",
   "metadata": {
    "hidden": true
   },
   "source": [
    "**Verification 1** The features are not unique for each `join_key`:"
   ]
  },
  {
   "cell_type": "code",
   "execution_count": null,
   "metadata": {},
   "outputs": [],
   "source": [
    "impact_vcf <- unique(impact_vcf)\n",
    "nrow(dd <- impact_vcf %>% group_by(join_key) %>% filter(n() > 1))"
   ]
  },
  {
   "cell_type": "code",
   "execution_count": null,
   "metadata": {},
   "outputs": [],
   "source": [
    "head(dd[order(dd$join_key),])"
   ]
  },
  {
   "cell_type": "markdown",
   "metadata": {},
   "source": [
    "63 mutations were not consistently annotated in impact (when considering the `REF`, `ALT` and `POS` features), these lines will be duplicated in `impact_annotated` to take these mutations into account."
   ]
  },
  {
   "cell_type": "code",
   "execution_count": null,
   "metadata": {},
   "outputs": [],
   "source": [
    "# example of inconsistently annotated mutation that is duplicated in `impact_annotated`\n",
    "impact_annotated[impact_annotated$ID_VARIANT == \"1_2494203_CAGG_C\",]"
   ]
  },
  {
   "cell_type": "markdown",
   "metadata": {
    "hidden": true
   },
   "source": [
    "**Verification 2** Make sure every `impact_annotated` `ID_VARIANT` has an analoguous `join_key` in `impact_vcf`:"
   ]
  },
  {
   "cell_type": "code",
   "execution_count": null,
   "metadata": {},
   "outputs": [],
   "source": [
    "impact_annotated <- unique(impact_annotated)\n",
    "nrow(impact_annotated)"
   ]
  },
  {
   "cell_type": "code",
   "execution_count": null,
   "metadata": {},
   "outputs": [],
   "source": [
    "table(impact_annotated$ID_VARIANT %in% impact_vcf$join_key)"
   ]
  },
  {
   "cell_type": "code",
   "execution_count": null,
   "metadata": {},
   "outputs": [],
   "source": [
    "impact_annotated <- left_join(impact_annotated, impact_vcf[, c(\"join_key\", \"OLD_REF\", \"OLD_ALT\", \"OLD_POS\")], by = c(\"ID_VARIANT\" = \"join_key\"))"
   ]
  },
  {
   "cell_type": "code",
   "execution_count": null,
   "metadata": {},
   "outputs": [],
   "source": [
    "head(impact_annotated)"
   ]
  },
  {
   "cell_type": "markdown",
   "metadata": {},
   "source": [
    "As seen before, 63 new duplicated lines for the inconsistently annotated mutations."
   ]
  },
  {
   "cell_type": "code",
   "execution_count": null,
   "metadata": {},
   "outputs": [],
   "source": [
    "nrow(impact_annotated)\n",
    "# previous example of inconsistently annotated mutation that is duplicated in `impact_annotated`, but where we managed to get the two different keys to link with impact\n",
    "impact_annotated[impact_annotated$ID_VARIANT == \"1_2494203_CAGG_C\",]"
   ]
  },
  {
   "cell_type": "markdown",
   "metadata": {
    "heading_collapsed": true
   },
   "source": [
    "### Create keys to join the two dataframes and extract the features"
   ]
  },
  {
   "cell_type": "markdown",
   "metadata": {
    "hidden": true
   },
   "source": [
    "We are going to identify each mutation with a key in both dataframes, allowing us to link each mutation from `impact` to its corresponding mutation in `impact_annotated`. The keys will be: \n",
    "* `mut_key` for `impact`\n",
    "* `CHR`\\_`OLD_POS`\\_`OLD_REF`\\_`OLD_ALT` for `impact_annotated`"
   ]
  },
  {
   "cell_type": "code",
   "execution_count": null,
   "metadata": {
    "hidden": true,
    "scrolled": false
   },
   "outputs": [],
   "source": [
    "impact_annotated$join_key <- paste(impact_annotated$CHR, impact_annotated$OLD_POS, impact_annotated$OLD_REF, impact_annotated$OLD_ALT, sep = '_')\n",
    "head(impact_annotated$join_key)\n",
    "impact$mut_key <- paste(impact$Chromosome,\n",
    "                        impact$Start_Position,\n",
    "                        impact$Reference_Allele,\n",
    "                        impact$Tumor_Seq_Allele2,\n",
    "                        sep = '_')\n",
    "head(impact$mut_key)"
   ]
  },
  {
   "cell_type": "markdown",
   "metadata": {
    "hidden": true
   },
   "source": [
    "**Verification 1** Make sure every impact `mut_key` has an analoguous `join_key` in `impact_annotated`:"
   ]
  },
  {
   "cell_type": "code",
   "execution_count": null,
   "metadata": {
    "hidden": true
   },
   "outputs": [],
   "source": [
    "table(impact$mut_key %in% impact_annotated$join_key)"
   ]
  },
  {
   "cell_type": "markdown",
   "metadata": {
    "hidden": true
   },
   "source": [
    "**Verification 2** The features are unique for each `join_key`:"
   ]
  },
  {
   "cell_type": "code",
   "execution_count": null,
   "metadata": {
    "hidden": true
   },
   "outputs": [],
   "source": [
    "impact_annotated <- unique(impact_annotated)\n",
    "nrow(impact_annotated %>% group_by(join_key) %>% filter(n() > 1))"
   ]
  },
  {
   "cell_type": "code",
   "execution_count": null,
   "metadata": {
    "hidden": true
   },
   "outputs": [],
   "source": [
    "colnames_to_keep <- c(vag_colnames, vep_colnames, vep_add_colnames, vep_gnomad_colnames)"
   ]
  },
  {
   "cell_type": "code",
   "execution_count": null,
   "metadata": {},
   "outputs": [],
   "source": [
    "impact <- left_join(impact, impact_annotated[,c(\"join_key\", colnames_to_keep)], by = c(\"mut_key\" = \"join_key\"))"
   ]
  },
  {
   "cell_type": "code",
   "execution_count": null,
   "metadata": {
    "hidden": true
   },
   "outputs": [],
   "source": [
    "head(impact)"
   ]
  },
  {
   "cell_type": "markdown",
   "metadata": {
    "toc-hr-collapsed": true
   },
   "source": [
    "## Adapt the `get_cleaned_impact()` function"
   ]
  },
  {
   "cell_type": "markdown",
   "metadata": {
    "toc-hr-collapsed": true
   },
   "source": [
    "### [Remove] the unique-value and redundant features"
   ]
  },
  {
   "cell_type": "code",
   "execution_count": null,
   "metadata": {},
   "outputs": [],
   "source": [
    "# [-7 features] remove the unique-value features\n",
    "impact[, c(\"Entrez_Gene_Id\",\n",
    "           \"Center\",\n",
    "           \"NCBI_Build\",\n",
    "           \"Strand\",\n",
    "           \"dbSNP_RS\",\n",
    "           \"Matched_Norm_Sample_Barcode\",\n",
    "           \"variant_status\")] <- list(NULL)"
   ]
  },
  {
   "cell_type": "code",
   "execution_count": null,
   "metadata": {},
   "outputs": [],
   "source": [
    "# [-3 features] remove the redundant features\n",
    "impact[, c(\"Match_Norm_Seq_Allele1\", \"Match_Norm_Seq_Allele2\", \"Tumor_Seq_Allele1\")] <- list(NULL)"
   ]
  },
  {
   "cell_type": "markdown",
   "metadata": {},
   "source": [
    "### [Modify & Remove] keep the coding and splicing `VEP_Consequence` mutations"
   ]
  },
  {
   "cell_type": "markdown",
   "metadata": {},
   "source": [
    "The `VEP_Consequence` has been calculated for the most deleterious transcript (cf. click_annotvcf pipeline). Then, we have for each mutation a list of possible consequence **for the selected transcript** (so the ;ost deleterious). This list of mutation is ordered by the most deleterious consequence first, it's the one we keep."
   ]
  },
  {
   "cell_type": "code",
   "execution_count": null,
   "metadata": {},
   "outputs": [],
   "source": [
    "dd <- tail(unique(impact$VEP_Consequence), 10)\n",
    "dd <- data.frame(dd, sapply(dd, function(x) strsplit(x, '&')[[1]][1]), row.names = NULL)\n",
    "colnames(dd) <- c(\"old\", \"new\")\n",
    "dd"
   ]
  },
  {
   "cell_type": "code",
   "execution_count": null,
   "metadata": {},
   "outputs": [],
   "source": [
    "# [~ every rows] select only the most deleterious VEP consequence\n",
    "impact$VEP_Consequence <- sapply(impact$VEP_Consequence, function(x) strsplit(x, '&')[[1]][1])"
   ]
  },
  {
   "cell_type": "code",
   "execution_count": null,
   "metadata": {},
   "outputs": [],
   "source": [
    "plot_histogram(impact, \"VEP_Consequence\", height = 4, flip = TRUE)"
   ]
  },
  {
   "cell_type": "code",
   "execution_count": null,
   "metadata": {},
   "outputs": [],
   "source": [
    "# [-375,418 rows] keep only the coding and splicing VEP_Consequence mutations\n",
    "impact <- impact[impact$VEP_Consequence %in% c(\"missense_variant\",\n",
    "                                               \"frameshift_variant\",\n",
    "                                               \"stop_gained\",\n",
    "                                               \"splice_acceptor_variant\",\n",
    "                                               \"inframe_deletion\",\n",
    "                                               \"splice_donor_variant\",\n",
    "                                               \"inframe_insertion\",\n",
    "                                               \"start_lost\",\n",
    "                                               \"stop_lost\"),]"
   ]
  },
  {
   "cell_type": "code",
   "execution_count": null,
   "metadata": {},
   "outputs": [],
   "source": [
    "plot_histogram(impact, \"VEP_Consequence\", height = 2, flip = TRUE)"
   ]
  },
  {
   "cell_type": "code",
   "execution_count": null,
   "metadata": {},
   "outputs": [],
   "source": [
    "nrow(impact) # it was 588,547 before"
   ]
  },
  {
   "cell_type": "markdown",
   "metadata": {},
   "source": [
    "### [Remove] `confidence_class = UNKNOWN` or `confidence_class = OK_NOT_SO`"
   ]
  },
  {
   "cell_type": "code",
   "execution_count": null,
   "metadata": {},
   "outputs": [],
   "source": [
    "get_table(impact$confidence_class)"
   ]
  },
  {
   "cell_type": "code",
   "execution_count": null,
   "metadata": {},
   "outputs": [],
   "source": [
    "get_table(impact$Consequence[impact$confidence_class == \"UNKNOWN\"])\n",
    "get_table(impact$VEP_Consequence[impact$confidence_class == \"UNKNOWN\"])"
   ]
  },
  {
   "cell_type": "code",
   "execution_count": null,
   "metadata": {},
   "outputs": [],
   "source": [
    "# [-5,496 rows] remove rows having `confidence_class = UNKNOWN` or `confidence_class = OK_NOT_SO`\n",
    "impact <- impact[! impact$confidence_class %in% c(\"UNKNOWN\", \"OK_NOT_SO\"),]"
   ]
  },
  {
   "cell_type": "markdown",
   "metadata": {},
   "source": [
    "### [Remove] `minor_contamination` > 0.01"
   ]
  },
  {
   "cell_type": "code",
   "execution_count": null,
   "metadata": {},
   "outputs": [],
   "source": [
    "print_count_and_proportion(nrow(impact[impact$minor_contamination > 0.01,]), nrow(impact))"
   ]
  },
  {
   "cell_type": "code",
   "execution_count": null,
   "metadata": {},
   "outputs": [],
   "source": [
    "# [-9,156 rows] remove the contaminated rows minor_contamination > 0.01\n",
    "impact <- impact[impact$minor_contamination <= 0.01,]\n",
    "# [-1 feature] remove the minor_contamination feature\n",
    "impact[\"minor_contamination\"] <- NULL"
   ]
  },
  {
   "cell_type": "markdown",
   "metadata": {},
   "source": [
    "### [Remove] `n_depth` < 20"
   ]
  },
  {
   "cell_type": "code",
   "execution_count": null,
   "metadata": {},
   "outputs": [],
   "source": [
    "nrow(impact[impact$n_depth < 20,])"
   ]
  },
  {
   "cell_type": "code",
   "execution_count": null,
   "metadata": {},
   "outputs": [],
   "source": [
    "# [-311 rows] remove rows having n_depth < 20\n",
    "impact <- impact[impact$n_depth >= 20,]"
   ]
  },
  {
   "cell_type": "markdown",
   "metadata": {},
   "source": [
    "### [Remove] `t_alt_plus_count` + `t_alt_neg_count` != `t_alt_count`"
   ]
  },
  {
   "cell_type": "code",
   "execution_count": null,
   "metadata": {},
   "outputs": [],
   "source": [
    "nrow(impact[impact$t_alt_plus_count + impact$t_alt_neg_count != impact$t_alt_count,])"
   ]
  },
  {
   "cell_type": "code",
   "execution_count": null,
   "metadata": {},
   "outputs": [],
   "source": [
    "# [-44 rows] remove the rows having t_alt_plus_count + t_alt_neg_count != t_alt_count\n",
    "impact <- impact[impact$t_alt_plus_count + impact$t_alt_neg_count == impact$t_alt_count,]"
   ]
  },
  {
   "cell_type": "markdown",
   "metadata": {},
   "source": [
    "### [Create] new features: `sample_mut_key`, `patient_key`"
   ]
  },
  {
   "cell_type": "code",
   "execution_count": null,
   "metadata": {},
   "outputs": [],
   "source": [
    "# [+1 feature] create a sample mutation key feature to idenfity unique rows\n",
    "impact$sample_mut_key <- paste(impact$Tumor_Sample_Barcode, impact$mut_key, sep = '_')"
   ]
  },
  {
   "cell_type": "code",
   "execution_count": null,
   "metadata": {},
   "outputs": [],
   "source": [
    "# [+1 feature] create a patient key feature to idenfity unique patient\n",
    "impact$patient_key <- substr(impact$Tumor_Sample_Barcode, 1, 9)"
   ]
  },
  {
   "cell_type": "markdown",
   "metadata": {
    "toc-hr-collapsed": true
   },
   "source": [
    "### [Modify] `CDKN2Ap16INK4A` and `CDKN2Ap14ARF` reading frame"
   ]
  },
  {
   "cell_type": "markdown",
   "metadata": {},
   "source": [
    "Two reading frame have been used for the gene `CDKN2A`:\n",
    "* `CDKN2Ap16INK4A` is the \"classic\" reading frame for `CDKN2A`, the one used by OncoKB (see [OncoKB CDKN2A](http://oncokb.org/#/gene/CDKN2A))  \n",
    "   → RefSeq. NM_000077.4  \n",
    "   → [Homo sapiens cyclin dependent kinase inhibitor 2A (CDKN2A), transcript variant 1, mRNA](https://www.ncbi.nlm.nih.gov/nuccore/NM_000077.4)  \n",
    "   → [Wikipedia article p16](https://en.wikipedia.org/wiki/P16)\n",
    "* `CDKN2Ap14ARF` is an Alternative Reading Frame (ARF, as said in its name) for `CDKN2A`, not used by OncoKB  \n",
    "  → RefSeq. NM_058195.3  \n",
    "  → [Homo sapiens cyclin dependent kinase inhibitor 2A (CDKN2A), transcript variant 4, mRNA](https://www.ncbi.nlm.nih.gov/nuccore/NM_058195)  \n",
    "  → [Wikipedia article p14arf](https://en.wikipedia.org/wiki/P14arf)\n",
    "  \n",
    "However, VEP thinks there's only one reading frame, the classic one `CDKN2A`. To correct this issue we:\n",
    "* remove the mutations having the alternative reading frame and the classic reading frame in their tumor sample\n",
    "* modify the `VEP_SYMBOL` of the mutations having the `CDKN2Ap14ARF` reading frame to `CDKN2Ap14ARF`"
   ]
  },
  {
   "cell_type": "code",
   "execution_count": null,
   "metadata": {},
   "outputs": [],
   "source": [
    "unique(impact$VEP_SYMBOL[impact$Hugo_Symbol %in% c(\"CDKN2Ap16INK4A\", \"CDKN2Ap14ARF\")])"
   ]
  },
  {
   "cell_type": "code",
   "execution_count": null,
   "metadata": {},
   "outputs": [],
   "source": [
    "nrow(impact[impact$Hugo_Symbol == \"CDKN2Ap16INK4A\",])"
   ]
  },
  {
   "cell_type": "code",
   "execution_count": null,
   "metadata": {},
   "outputs": [],
   "source": [
    "nrow(impact[impact$Hugo_Symbol == \"CDKN2Ap14ARF\",]) # mutations having the alternative reading data frame\n",
    "\n",
    "dd <- impact %>% group_by(Tumor_Sample_Barcode) %>%\n",
    "                 summarise(has_both_reading_frame = \"CDKN2Ap14ARF\" %in% Hugo_Symbol & \"CDKN2Ap16INK4A\" %in% Hugo_Symbol) %>%\n",
    "                 filter(has_both_reading_frame)\n",
    "\n",
    "# mutations having the alternative reading frame and the classic reading frame for this tumor sample\n",
    "nrow(impact[impact$Hugo_Symbol == \"CDKN2Ap14ARF\" &\n",
    "            impact$Tumor_Sample_Barcode %in% dd$Tumor_Sample_Barcode,]) "
   ]
  },
  {
   "cell_type": "markdown",
   "metadata": {},
   "source": [
    "We delete from `impact` the rows that are `CDKN2Ap14ARF` and have already been read in the classic reading frame:"
   ]
  },
  {
   "cell_type": "code",
   "execution_count": null,
   "metadata": {},
   "outputs": [],
   "source": [
    "# [-713 rows] Hugo_Symbol = CDKN2Ap14ARF and CDKN2Ap16INK4A in the tumor sample\n",
    "impact <- impact[! (impact$Hugo_Symbol == \"CDKN2Ap14ARF\" & impact$Tumor_Sample_Barcode %in% dd$Tumor_Sample_Barcode),]"
   ]
  },
  {
   "cell_type": "markdown",
   "metadata": {},
   "source": [
    "### [Remove] the duplicated `sample_mut_key` rows"
   ]
  },
  {
   "cell_type": "markdown",
   "metadata": {},
   "source": [
    "Some tumor sample have twice the same mutation, we keep the one with the minimal depth, and when the depth are equal the one with the minimum vaf."
   ]
  },
  {
   "cell_type": "code",
   "execution_count": null,
   "metadata": {},
   "outputs": [],
   "source": [
    "impact_redundant <- impact %>% group_by(sample_mut_key) %>% filter(n() >= 2)\n",
    "nrow(impact_redundant)"
   ]
  },
  {
   "cell_type": "code",
   "execution_count": null,
   "metadata": {},
   "outputs": [],
   "source": [
    "impact_redundant %>% group_by(sample_mut_key) %>% filter(n() > 3)"
   ]
  },
  {
   "cell_type": "code",
   "execution_count": null,
   "metadata": {},
   "outputs": [],
   "source": [
    "head(impact_redundant[order(impact_redundant$sample_mut_key),], 10)"
   ]
  },
  {
   "cell_type": "code",
   "execution_count": null,
   "metadata": {},
   "outputs": [],
   "source": [
    "impact_redundant_to_delete <- impact_redundant %>% group_by(sample_mut_key) %>% filter(t_depth == min(t_depth)) %>% filter(t_vaf == min(t_vaf))\n",
    "nrow(impact_redundant_to_delete)"
   ]
  },
  {
   "cell_type": "code",
   "execution_count": null,
   "metadata": {},
   "outputs": [],
   "source": [
    "# [-48 rows] duplicated mutation for the same sample_mut_key\n",
    "impact <- impact[! (impact$sample_mut_key %in% impact_redundant_to_delete$sample_mut_key &\n",
    "                    impact$t_depth %in% impact_redundant_to_delete$t_depth &\n",
    "                    impact$t_vaf %in% impact_redundant_to_delete$t_vaf),]"
   ]
  },
  {
   "cell_type": "markdown",
   "metadata": {},
   "source": [
    "### [None] Remove hypermutated patients?"
   ]
  },
  {
   "cell_type": "code",
   "execution_count": null,
   "metadata": {},
   "outputs": [],
   "source": [
    "tumor_summary <- impact %>% group_by(Tumor_Sample_Barcode) %>% summarise(number_of_mutations = n())\n",
    "head(tumor_summary)"
   ]
  },
  {
   "cell_type": "code",
   "execution_count": null,
   "metadata": {},
   "outputs": [],
   "source": [
    "nrow(tumor_summary)\n",
    "summary(tumor_summary$number_of_mutations)\n",
    "nrow(tumor_summary[tumor_summary$number_of_mutations >= 100,])"
   ]
  },
  {
   "cell_type": "code",
   "execution_count": null,
   "metadata": {},
   "outputs": [],
   "source": [
    "plot1 <- ggplot(tumor_summary) + geom_histogram(aes(number_of_mutations), binwidth = 1)\n",
    "plot2 <- plot1 + coord_cartesian(xlim = c(100, 530), ylim = c(0, 10))\n",
    "plot_side_by_side(plot1, plot2)"
   ]
  },
  {
   "cell_type": "markdown",
   "metadata": {},
   "source": [
    "We decided not to remove any hypermutated patient."
   ]
  },
  {
   "cell_type": "markdown",
   "metadata": {},
   "source": [
    "### [Remove] DNP and TNP counted twice"
   ]
  },
  {
   "cell_type": "markdown",
   "metadata": {},
   "source": [
    "Some `SNP` are overlapped by a `DNP` or a `TNP`, we find them and remove them."
   ]
  },
  {
   "cell_type": "code",
   "execution_count": null,
   "metadata": {},
   "outputs": [],
   "source": [
    "overlapping_risk_dnp_or_tnp <- as.data.frame(impact %>% group_by(Tumor_Sample_Barcode, VEP_SYMBOL) %>%\n",
    "                                             filter(n() > 1 &\n",
    "                                                    \"SNP\" %in% Variant_Type &\n",
    "                                                    (\"DNP\" %in% Variant_Type |\n",
    "                                                     \"TNP\" %in% Variant_Type)))\n",
    "\n",
    "nrow(overlapping_risk_dnp_or_tnp)"
   ]
  },
  {
   "cell_type": "code",
   "execution_count": null,
   "metadata": {},
   "outputs": [],
   "source": [
    "find_overlapping_dnp_or_tnp <- function(data, tsb, chr, start) {\n",
    "    result <- data %>% filter(Tumor_Sample_Barcode == tsb &\n",
    "                              Chromosome == chr &\n",
    "                              ((Variant_Type == \"DNP\" & (Start_Position == start | Start_Position == start - 1) |\n",
    "                               (Variant_Type == \"TNP\" & (Start_Position == start | Start_Position == start - 1 | Start_Position == start - 2)))))\n",
    "\n",
    "    if (nrow(result) == 0)\n",
    "        return (\"no\")\n",
    "    else\n",
    "        return (toString(paste(nrow(result), result$Start_Position, result$Reference_Allele, result$Tumor_Seq_Allele2, result$t_vaf, result$confidence_class, sep = ' | ')))\n",
    "}"
   ]
  },
  {
   "cell_type": "code",
   "execution_count": null,
   "metadata": {},
   "outputs": [],
   "source": [
    "overlapping_dnp_or_tnp <- overlapping_risk_dnp_or_tnp %>% filter(Variant_Type == \"SNP\") %>%\n",
    "                                                          group_by(sample_mut_key) %>%\n",
    "                                                          mutate(overlap = find_overlapping_dnp_or_tnp(overlapping_risk_dnp_or_tnp, Tumor_Sample_Barcode, Chromosome, Start_Position)) %>%\n",
    "                                                          filter(overlap != \"no\") %>%\n",
    "                                                          select(sample_mut_key, VEP_SYMBOL, Start_Position, Variant_Type, Reference_Allele, Tumor_Seq_Allele2, Tumor_Sample_Barcode, t_vaf, confidence_class, overlap)\n",
    "\n",
    "nrow(overlapping_dnp_or_tnp)"
   ]
  },
  {
   "cell_type": "markdown",
   "metadata": {},
   "source": [
    "Most of them were classified as `UNLIKELY`:"
   ]
  },
  {
   "cell_type": "code",
   "execution_count": null,
   "metadata": {},
   "outputs": [],
   "source": [
    "get_table(overlapping_dnp_or_tnp$confidence_class)"
   ]
  },
  {
   "cell_type": "markdown",
   "metadata": {},
   "source": [
    "Except for a few, the `SNP` and the overlapping `DNP/TNP` have really close `t_vaf`:"
   ]
  },
  {
   "cell_type": "code",
   "execution_count": null,
   "metadata": {},
   "outputs": [],
   "source": [
    "overlapping_dnp_or_tnp$other_t_vaf <- sapply(overlapping_dnp_or_tnp$overlap, function(x) as.numeric(strsplit(x, ' \\\\| ')[[1]][5]))"
   ]
  },
  {
   "cell_type": "code",
   "execution_count": null,
   "metadata": {},
   "outputs": [],
   "source": [
    "nrow(overlapping_dnp_or_tnp)\n",
    "get_table(abs(overlapping_dnp_or_tnp$t_vaf - overlapping_dnp_or_tnp$other_t_vaf) > 0.01)\n",
    "get_table(abs(overlapping_dnp_or_tnp$t_vaf - overlapping_dnp_or_tnp$other_t_vaf) > 0.05)"
   ]
  },
  {
   "cell_type": "code",
   "execution_count": null,
   "metadata": {},
   "outputs": [],
   "source": [
    "# [-3151 rows] SNV found as DNP or TNP\n",
    "impact <- impact[! impact$sample_mut_key %in% overlapping_dnp_or_tnp$sample_mut_key,]"
   ]
  },
  {
   "cell_type": "markdown",
   "metadata": {
    "toc-hr-collapsed": true
   },
   "source": [
    "## Process raw features"
   ]
  },
  {
   "cell_type": "markdown",
   "metadata": {
    "heading_collapsed": true,
    "toc-hr-collapsed": true
   },
   "source": [
    "### [Modify] deal with `NA` values"
   ]
  },
  {
   "cell_type": "code",
   "execution_count": null,
   "metadata": {
    "hidden": true
   },
   "outputs": [],
   "source": [
    "count_na <- function(data) {\n",
    "    return (sum(is.na(data)))\n",
    "}"
   ]
  },
  {
   "cell_type": "code",
   "execution_count": null,
   "metadata": {},
   "outputs": [],
   "source": [
    "replace_na <- function(data, feature_name, replace_value){\n",
    "    data[is.na(data[,feature_name]), feature_name] <- replace_value\n",
    "    \n",
    "    return (data)\n",
    "}"
   ]
  },
  {
   "cell_type": "markdown",
   "metadata": {},
   "source": [
    "#### VAG"
   ]
  },
  {
   "cell_type": "code",
   "execution_count": null,
   "metadata": {},
   "outputs": [],
   "source": [
    "for (c in vag_colnames)\n",
    "    print(sprintf(\"%17s: %d\", c, count_na(impact[,c])))"
   ]
  },
  {
   "cell_type": "code",
   "execution_count": null,
   "metadata": {},
   "outputs": [],
   "source": [
    "impact <- replace_na(impact, \"VAG_GENE\"          , \"unknown\")\n",
    "impact <- replace_na(impact, \"VAG_cDNA_CHANGE\"   , \"unknown\")\n",
    "impact <- replace_na(impact, \"VAG_PROTEIN_CHANGE\", \"unknown\")\n",
    "impact <- replace_na(impact, \"VAG_EFFECT\"        , \"unknown\")"
   ]
  },
  {
   "cell_type": "markdown",
   "metadata": {
    "heading_collapsed": true,
    "hidden": true
   },
   "source": [
    "#### VEP"
   ]
  },
  {
   "cell_type": "code",
   "execution_count": null,
   "metadata": {},
   "outputs": [],
   "source": [
    "for (c in vep_colnames)\n",
    "    print(sprintf(\"%17s: %d\", c, count_na(impact[,c])))"
   ]
  },
  {
   "cell_type": "code",
   "execution_count": null,
   "metadata": {},
   "outputs": [],
   "source": [
    "impact[is.na(impact$VEP_HGVSc),]"
   ]
  },
  {
   "cell_type": "markdown",
   "metadata": {},
   "source": [
    "7280 mutations have `VEP_HGVSp` = `NA`, almost all of them being splicing mutations:"
   ]
  },
  {
   "cell_type": "code",
   "execution_count": null,
   "metadata": {},
   "outputs": [],
   "source": [
    "get_table(impact$VEP_Consequence[is.na(impact$VEP_HGVSp)])"
   ]
  },
  {
   "cell_type": "markdown",
   "metadata": {},
   "source": [
    "7280 mutations have `VEP_Amino_acids` = `NA`, most of them being the one having `VEP_HGVSp = NA`:"
   ]
  },
  {
   "cell_type": "code",
   "execution_count": null,
   "metadata": {
    "hidden": true
   },
   "outputs": [],
   "source": [
    "count_na(impact$VEP_Amino_acids)\n",
    "table(impact$mut_key[is.na(impact$VEP_Amino_acids)] %in% impact$mut_key[is.na(impact$VEP_HGVSp)])"
   ]
  },
  {
   "cell_type": "code",
   "execution_count": null,
   "metadata": {},
   "outputs": [],
   "source": [
    "get_table(impact$VEP_Consequence[is.na(impact$VEP_Amino_acids) & ! is.na(impact$VEP_HGVSp)])"
   ]
  },
  {
   "cell_type": "code",
   "execution_count": null,
   "metadata": {},
   "outputs": [],
   "source": [
    "nrow(impact[impact$VEP_Consequence == \"splice_acceptor_variant\" & ! is.na(impact$VEP_HGVSp) & impact$VEP_HGVSp != \"unknown\",])\n",
    "nrow(impact[impact$VEP_Consequence == \"splice_donor_variant\" & ! is.na(impact$VEP_HGVSp) & impact$VEP_HGVSp != \"unknown\",])"
   ]
  },
  {
   "cell_type": "code",
   "execution_count": null,
   "metadata": {
    "hidden": true
   },
   "outputs": [],
   "source": [
    "impact <- replace_na(impact, \"VEP_HGVSc\"      , \"unknown\")\n",
    "impact <- replace_na(impact, \"VEP_HGVSp\"      , \"unknown\")\n",
    "impact <- replace_na(impact, \"VEP_Amino_acids\", \"unknown\")"
   ]
  },
  {
   "cell_type": "markdown",
   "metadata": {},
   "source": [
    "`VEP_EXON` and `VEP_INTRON` are complementary: when one is `NA` the other has a value, except for 41 cases."
   ]
  },
  {
   "cell_type": "code",
   "execution_count": null,
   "metadata": {},
   "outputs": [],
   "source": [
    "get_table(is.na(impact$VEP_EXON) & is.na(impact$VEP_INTRON))"
   ]
  },
  {
   "cell_type": "markdown",
   "metadata": {
    "heading_collapsed": true,
    "hidden": true
   },
   "source": [
    "#### VEP additional"
   ]
  },
  {
   "cell_type": "code",
   "execution_count": null,
   "metadata": {},
   "outputs": [],
   "source": [
    "for (c in vep_add_colnames)\n",
    "    print(sprintf(\"%22s: %d\", c, count_na(impact[,c])))"
   ]
  },
  {
   "cell_type": "markdown",
   "metadata": {
    "hidden": true
   },
   "source": [
    "`NA` values might correspond to not found, we replace them by `\"unknown\"`:"
   ]
  },
  {
   "cell_type": "code",
   "execution_count": null,
   "metadata": {
    "hidden": true
   },
   "outputs": [],
   "source": [
    "impact <- replace_na(impact, \"VEP_CLIN_SIG\"          , \"unknown\")\n",
    "impact <- replace_na(impact, \"VEP_SIFT\"              , \"unknown\")\n",
    "impact <- replace_na(impact, \"VEP_PolyPhen\"          , \"unknown\")\n",
    "impact <- replace_na(impact, \"VEP_Existing_variation\", \"unknown\")\n",
    "impact <- replace_na(impact, \"VEP_COSMIC_CNT\"        , \"unknown\")"
   ]
  },
  {
   "cell_type": "markdown",
   "metadata": {},
   "source": [
    "#### VEP gnomAD"
   ]
  },
  {
   "cell_type": "code",
   "execution_count": null,
   "metadata": {},
   "outputs": [],
   "source": [
    "for (c in vep_gnomad_colnames)\n",
    "    print(sprintf(\"%27s: %d\", c, count_na(impact[,c])))"
   ]
  },
  {
   "cell_type": "markdown",
   "metadata": {},
   "source": [
    "`NA` values might correspond to not found, we replace them by a null allele value, or by `0 | 0` for the Allele count | Total number of alleles:"
   ]
  },
  {
   "cell_type": "code",
   "execution_count": null,
   "metadata": {},
   "outputs": [],
   "source": [
    "impact <- replace_na(impact, \"VEP_gnomAD_AF\", 0.0)\n",
    "\n",
    "for (c in vep_gnomad_colnames[grepl(\"_AC.AN_\", vep_gnomad_colnames)])\n",
    "    impact <- replace_na(impact, c, \" 0 | 0\")"
   ]
  },
  {
   "cell_type": "markdown",
   "metadata": {
    "toc-hr-collapsed": false
   },
   "source": [
    "### [Modify] `occurence_in_normals` -> `frequency_in_normals`"
   ]
  },
  {
   "cell_type": "code",
   "execution_count": null,
   "metadata": {},
   "outputs": [],
   "source": [
    "dd <- head(unique(impact$occurence_in_normals), 10)\n",
    "dd[dd == '0'] <- \"0;0\"\n",
    "dd <- data.frame(dd, sapply(dd, function(s) as.double(strsplit(s, split = ';')[[1]][2])), row.names = NULL)\n",
    "colnames(dd) <- c(\"old\", \"new\")\n",
    "dd"
   ]
  },
  {
   "cell_type": "code",
   "execution_count": null,
   "metadata": {},
   "outputs": [],
   "source": [
    "# [~ every rows] occurence_in_normals -> frequency_in_normals\n",
    "impact$occurence_in_normals[impact$occurence_in_normals == '0'] <- \"0;0\"\n",
    "impact$frequency_in_normals <- sapply(impact$occurence_in_normals,\n",
    "                                      function(s) as.double(strsplit(s, split = ';')[[1]][2]))\n",
    "impact$occurence_in_normals <- NULL"
   ]
  },
  {
   "cell_type": "markdown",
   "metadata": {
    "heading_collapsed": true
   },
   "source": [
    "### [Modify] `VEP_HGVSc`"
   ]
  },
  {
   "cell_type": "code",
   "execution_count": null,
   "metadata": {
    "hidden": true
   },
   "outputs": [],
   "source": [
    "dd <- head(impact$VEP_HGVSc, 10)\n",
    "dd <- data.frame(dd, sapply(dd, function(x) strsplit(x, ':')[[1]][2]), row.names = NULL)\n",
    "colnames(dd) <- c(\"old\", \"new\")\n",
    "dd"
   ]
  },
  {
   "cell_type": "code",
   "execution_count": null,
   "metadata": {
    "hidden": true
   },
   "outputs": [],
   "source": [
    "# [~ every rows] VEP_HGVSc -> readable VEP_HGVSc\n",
    "impact$VEP_HGVSc <- sapply(impact$VEP_HGVSc, function(x) strsplit(x, ':')[[1]][2])\n",
    "impact <- replace_na(impact, \"VEP_HGVSc\", \"unknown\") # 5 NA values that we need to handle"
   ]
  },
  {
   "cell_type": "markdown",
   "metadata": {},
   "source": [
    "### [Modify] `VEP_HGVSp`"
   ]
  },
  {
   "cell_type": "code",
   "execution_count": null,
   "metadata": {},
   "outputs": [],
   "source": [
    "get_HGVSp_from_vep <- function(HGVSp_string) {\n",
    "    \n",
    "    if (HGVSp_string == \"unknown\")\n",
    "        return (\"unknown\")\n",
    "    \n",
    "    HGVSp_string <- strsplit(HGVSp_string, ':')[[1]][2]\n",
    "    \n",
    "    protein_long_name <- c('Ala', 'Arg', 'Asn', 'Asp', 'Cys', 'Glu', 'Gln', 'Gly', 'His', 'Ile', 'Leu', 'Lys',\n",
    "                           'Met', 'Phe', 'Pro', 'Ser', 'Thr', 'Trp', 'Tyr', 'Val')\n",
    "    protein_short_name <- c('A', 'R', 'N', 'D', 'C', 'E', 'Q', 'G', 'H', 'I', 'L', 'K',\n",
    "                            'M', 'F', 'P', 'S', 'T', 'W', 'Y', 'V')\n",
    "    \n",
    "    for (name in protein_long_name)\n",
    "        HGVSp_string <- gsub(name, protein_short_name[match(name, protein_long_name)], HGVSp_string)\n",
    "    \n",
    "    HGVSp_string <- gsub('Ter', '*', HGVSp_string)\n",
    "    HGVSp_string <- gsub('%3D', '=', HGVSp_string)\n",
    "    \n",
    "    return (HGVSp_string)\n",
    "}"
   ]
  },
  {
   "cell_type": "code",
   "execution_count": null,
   "metadata": {},
   "outputs": [],
   "source": [
    "dd <- head(impact$VEP_HGVSp, 10)\n",
    "dd <- data.frame(dd, sapply(dd, get_HGVSp_from_vep), row.names = NULL)\n",
    "colnames(dd) <- c(\"old\", \"new\")\n",
    "dd"
   ]
  },
  {
   "cell_type": "code",
   "execution_count": null,
   "metadata": {},
   "outputs": [],
   "source": [
    "# [~ every rows] VEP_HGVSp -> readable VEP_HGVSp\n",
    "impact$VEP_HGVSp <- sapply(impact$VEP_HGVSp, get_HGVSp_from_vep)"
   ]
  },
  {
   "cell_type": "markdown",
   "metadata": {
    "heading_collapsed": true
   },
   "source": [
    "### [Modify] `VEP_SIFT`"
   ]
  },
  {
   "cell_type": "code",
   "execution_count": null,
   "metadata": {},
   "outputs": [],
   "source": [
    "dd <- head(unique(impact$VEP_SIFT), 10)\n",
    "dd <- data.frame(dd,\n",
    "                 sapply(dd, function(x) strsplit(x, '\\\\(')[[1]][1]),\n",
    "                 sapply(dd, function(x) as.numeric(gsub(')', '', strsplit(x, '\\\\(')[[1]][2]))),\n",
    "                 row.names = NULL)\n",
    "colnames(dd) <- c(\"old\", \"new1\", \"new2\")\n",
    "dd"
   ]
  },
  {
   "cell_type": "code",
   "execution_count": null,
   "metadata": {
    "hidden": true
   },
   "outputs": [],
   "source": [
    "# [~ every rows] VEP_SIFT -> VEP_SIFT_class & VEP_SIFT_score\n",
    "impact$VEP_SIFT_class <- sapply(impact$VEP_SIFT, function(x) strsplit(x, '\\\\(')[[1]][1])\n",
    "impact$VEP_SIFT_score <- sapply(impact$VEP_SIFT, function(x) as.numeric(gsub(')', '', strsplit(x, '\\\\(')[[1]][2])))\n",
    "impact$VEP_SIFT <- NULL"
   ]
  },
  {
   "cell_type": "markdown",
   "metadata": {},
   "source": [
    "Warning, there is `NA` values in `VEP_SIFT_score` for `unknown`."
   ]
  },
  {
   "cell_type": "markdown",
   "metadata": {
    "heading_collapsed": true
   },
   "source": [
    "### [Modify] `VEP_PolyPhen`"
   ]
  },
  {
   "cell_type": "code",
   "execution_count": null,
   "metadata": {
    "hidden": true
   },
   "outputs": [],
   "source": [
    "dd <- head(unique(impact$VEP_PolyPhen), 10)\n",
    "dd <- data.frame(dd,\n",
    "                 sapply(dd, function(x) strsplit(x, '\\\\(')[[1]][1]),\n",
    "                 sapply(dd, function(x) as.numeric(gsub(')', '', strsplit(x, '\\\\(')[[1]][2]))),\n",
    "                 row.names = NULL)\n",
    "colnames(dd) <- c(\"old\", \"new1\", \"new2\")\n",
    "dd"
   ]
  },
  {
   "cell_type": "code",
   "execution_count": null,
   "metadata": {
    "hidden": true
   },
   "outputs": [],
   "source": [
    "# [~ every rows] VEP_PolyPhen -> VEP_PolyPhen_class & VEP_PolyPhen_score\n",
    "impact$VEP_PolyPhen_class <- sapply(impact$VEP_PolyPhen, function(x) strsplit(x, '\\\\(')[[1]][1])\n",
    "impact$VEP_PolyPhen_score <- sapply(impact$VEP_PolyPhen, function(x) as.numeric(gsub(')', '', strsplit(x, '\\\\(')[[1]][2])))\n",
    "impact$VEP_PolyPhen <- NULL"
   ]
  },
  {
   "cell_type": "markdown",
   "metadata": {},
   "source": [
    "Warning, there is `NA` values in `VEP_PolyPhen_score` for `unknown`."
   ]
  },
  {
   "cell_type": "markdown",
   "metadata": {},
   "source": [
    "### [Modify] `VEP_Existing_variation` -> `VEP_in_dbSNP`"
   ]
  },
  {
   "cell_type": "markdown",
   "metadata": {},
   "source": [
    "A mutation has the feature`VEP_in_dbSNP = TRUE` when we found a dnSNP id in the `VEP_Existing_variation` column."
   ]
  },
  {
   "cell_type": "code",
   "execution_count": null,
   "metadata": {},
   "outputs": [],
   "source": [
    "dd <- head(unique(impact$VEP_Existing_variation), 10)\n",
    "dd <- data.frame(dd, grepl(\"rs\", dd), row.names = NULL)\n",
    "colnames(dd) <- c(\"old\", \"new\")\n",
    "dd"
   ]
  },
  {
   "cell_type": "code",
   "execution_count": null,
   "metadata": {},
   "outputs": [],
   "source": [
    "# [~ every rows] VEP_Existing_variation -> VEP_in_dbSNP\n",
    "impact$VEP_in_dbSNP <- grepl(\"rs\", impact$VEP_Existing_variation)\n",
    "impact$VEP_Existing_variation <- NULL"
   ]
  },
  {
   "cell_type": "code",
   "execution_count": null,
   "metadata": {},
   "outputs": [],
   "source": [
    "get_table(impact$VEP_in_dbSNP)"
   ]
  },
  {
   "cell_type": "code",
   "execution_count": null,
   "metadata": {},
   "outputs": [],
   "source": [
    "plot_contingency_table_as_histograms(impact, \"confidence_class\", \"VEP_in_dbSNP\", height = 2.5)"
   ]
  },
  {
   "cell_type": "markdown",
   "metadata": {},
   "source": [
    "We clearly see the germline `t_vaf` for the `UNLIKELY` class."
   ]
  },
  {
   "cell_type": "code",
   "execution_count": null,
   "metadata": {},
   "outputs": [],
   "source": [
    "plot_density(impact, \"t_vaf\", fill = \"VEP_in_dbSNP\", height = 2.5) + facet_grid(col = vars(confidence_class))"
   ]
  },
  {
   "cell_type": "markdown",
   "metadata": {
    "heading_collapsed": true
   },
   "source": [
    "### [Modify] `VEP_COSMIC_CNT`"
   ]
  },
  {
   "cell_type": "code",
   "execution_count": null,
   "metadata": {},
   "outputs": [],
   "source": [
    "get_cosmic_count_from_vep <- function(cosmic_count_string) {\n",
    "    if (cosmic_count_string == \"unknown\")\n",
    "        return (0)\n",
    "    else\n",
    "        return (sum(as.numeric(strsplit(cosmic_count_string, '&')[[1]])))\n",
    "}\n",
    "\n",
    "dd <- head(unique(impact$VEP_COSMIC_CNT), 10)\n",
    "dd <- data.frame(dd, sapply(dd, get_cosmic_count_from_vep), row.names = NULL)\n",
    "colnames(dd) <- c(\"old\", \"new\")\n",
    "dd"
   ]
  },
  {
   "cell_type": "code",
   "execution_count": null,
   "metadata": {
    "hidden": true,
    "scrolled": true
   },
   "outputs": [],
   "source": [
    "# [~ every rows] VEP_COSMIC_CNT -> readable VEP_COSMIC_CNT\n",
    "impact$VEP_COSMIC_CNT <- sapply(impact$VEP_COSMIC_CNT, get_cosmic_count_from_vep)"
   ]
  },
  {
   "cell_type": "markdown",
   "metadata": {},
   "source": [
    "### [Modify] VEP_CLIN_SIG"
   ]
  },
  {
   "cell_type": "code",
   "execution_count": null,
   "metadata": {},
   "outputs": [],
   "source": [
    "get_table(impact$VEP_CLIN_SIG) %>% filter(count >= 200)"
   ]
  },
  {
   "cell_type": "markdown",
   "metadata": {},
   "source": [
    "We group the values with the following rules:\n",
    "* We consider 3 big different classes:\n",
    "    * `pathogenic`: `pathogenic`, `likely_pathogenic`, `drug_response`, `risk_factor`\n",
    "    * `benign`: `benign`, `likely_benign`\n",
    "    * `unknown`: `NA` (has been previously replaced by `unknown`), `not_provided`, `uncertain_significance`\n",
    "* A mutation having both `pathogenic` and `benign` classes is classified as `unknown`\n",
    "* A mutation having a strong class (`pathogenic` or `benign`) and `unknown` class is classified as the strong class"
   ]
  },
  {
   "cell_type": "code",
   "execution_count": null,
   "metadata": {},
   "outputs": [],
   "source": [
    "get_simplified_clin_sig <- function(clin_sig_string) {\n",
    "    if (clin_sig_string == \"unknown\")\n",
    "        return (\"unknown\")\n",
    "    else {\n",
    "        tags <- unique(strsplit(clin_sig_string, '&')[[1]])\n",
    "        \n",
    "        tags <- gsub('likely_pathogenic', 'pathogenic', tags)\n",
    "        tags <- gsub('drug_response'    , 'pathogenic', tags)\n",
    "        tags <- gsub('risk_factor'      , 'pathogenic', tags)\n",
    "        tags <- gsub('likely_benign'    , 'benign'    , tags)\n",
    "        \n",
    "        tags <- unique(tags)\n",
    "        \n",
    "        tags <- tags[! tags %in% c(\"not_provided\", \"uncertain_significance\", \"other\")]\n",
    "        \n",
    "        if (length(tags) == 0 || length(tags) > 1)\n",
    "            return (\"unknown\")\n",
    "        else\n",
    "            return (tags)\n",
    "    }\n",
    "}"
   ]
  },
  {
   "cell_type": "code",
   "execution_count": null,
   "metadata": {},
   "outputs": [],
   "source": [
    "dd <- head(unique(impact$VEP_CLIN_SIG), 20)\n",
    "dd <- data.frame(dd, sapply(dd, get_simplified_clin_sig), row.names = NULL)\n",
    "colnames(dd) <- c(\"old\", \"new\")\n",
    "dd"
   ]
  },
  {
   "cell_type": "code",
   "execution_count": null,
   "metadata": {},
   "outputs": [],
   "source": [
    "# [~ every rows] VEP_CLIN_SIG -> readable VEP_CLIN_SIG\n",
    "impact$VEP_CLIN_SIG <- sapply(impact$VEP_CLIN_SIG, get_simplified_clin_sig)"
   ]
  },
  {
   "cell_type": "code",
   "execution_count": null,
   "metadata": {},
   "outputs": [],
   "source": [
    "get_table(impact$VEP_CLIN_SIG)"
   ]
  },
  {
   "cell_type": "markdown",
   "metadata": {
    "toc-hr-collapsed": true
   },
   "source": [
    "### [Modify & Create & Remove] vep_gnomad_colnames"
   ]
  },
  {
   "cell_type": "code",
   "execution_count": null,
   "metadata": {},
   "outputs": [],
   "source": [
    "pop_names <- c('AFR', 'AMR', 'ASJ', 'EAS', 'FIN', 'NFE', 'OTH')"
   ]
  },
  {
   "cell_type": "markdown",
   "metadata": {},
   "source": [
    "#### `genome_AC.AN_<POP>` & `exome_AC.AN_<POP>` -> `total_AC.AN_<POP>`"
   ]
  },
  {
   "cell_type": "markdown",
   "metadata": {},
   "source": [
    "For each population, we sum the allele count (`AC`) and total allele number (`AN`) on the exomes and the genomes. This operation creates 7 new features named `VEP_gnomAD_total_AC.AN_<POP>`."
   ]
  },
  {
   "cell_type": "code",
   "execution_count": null,
   "metadata": {},
   "outputs": [],
   "source": [
    "get_gnomAD_total_AC.AN_pop <- function(data, pop_name) {\n",
    "    genome_AC = as.integer(strsplit(data[paste0(\"VEP_gnomAD_genome_AC.AN_\", pop_name)], ' \\\\| ')[[1]][1])\n",
    "    genome_AN = as.integer(strsplit(data[paste0(\"VEP_gnomAD_genome_AC.AN_\", pop_name)], ' \\\\| ')[[1]][2])\n",
    "\n",
    "    exome_AC = as.integer(strsplit(data[paste0(\"VEP_gnomAD_exome_AC.AN_\", pop_name)], ' \\\\| ')[[1]][1])\n",
    "    exome_AN = as.integer(strsplit(data[paste0(\"VEP_gnomAD_exome_AC.AN_\", pop_name)], ' \\\\| ')[[1]][2])\n",
    "    \n",
    "    return (paste(genome_AC + exome_AC, genome_AN + exome_AN, sep = ' | '))\n",
    "}"
   ]
  },
  {
   "cell_type": "code",
   "execution_count": null,
   "metadata": {},
   "outputs": [],
   "source": [
    "dd <- tail(unique(impact[, c(\"VEP_gnomAD_genome_AC.AN_AFR\", \"VEP_gnomAD_exome_AC.AN_AFR\")]), 10)\n",
    "dd <- data.frame(dd, apply(dd, 1, function(x) get_gnomAD_total_AC.AN_pop(x, \"AFR\")), row.names = NULL)\n",
    "colnames(dd) <- c(\"genome_AC.AN_AFR\", \"exome_AC.AN_AFR\", \"new (total_AC.AN_AFR)\")\n",
    "dd"
   ]
  },
  {
   "cell_type": "code",
   "execution_count": null,
   "metadata": {},
   "outputs": [],
   "source": [
    "# [+7 features] VEP_gnomAD_total_AC.AN_<POP> (temporary feature)\n",
    "for (pop in pop_names)\n",
    "    impact[, paste0(\"VEP_gnomAD_total_AC.AN_\", pop)] <- apply(impact, 1, function(x) get_gnomAD_total_AC.AN_pop(x, pop))"
   ]
  },
  {
   "cell_type": "markdown",
   "metadata": {},
   "source": [
    "#### `total_AC.AN_<POP>` -> `total_AF_<POP>`"
   ]
  },
  {
   "cell_type": "markdown",
   "metadata": {},
   "source": [
    "Foe each population, we convert `VEP_gnomAD_total_AC.AN_<POP>` to the corresponding allele frequency (`AF`), the allele frequency of the mutation in gnomAD exomes and genomes united. This operation creates 7 new features named `VEP_gnomAD_total_AF_<POP>`."
   ]
  },
  {
   "cell_type": "code",
   "execution_count": null,
   "metadata": {},
   "outputs": [],
   "source": [
    "get_gnomAD_total_AF_pop <- function(data, pop_name) {\n",
    "        \n",
    "    AC = as.integer(strsplit(data[paste0(\"VEP_gnomAD_total_AC.AN_\", pop_name)], ' \\\\| ')[[1]][1])\n",
    "    AN = as.integer(strsplit(data[paste0(\"VEP_gnomAD_total_AC.AN_\", pop_name)], ' \\\\| ')[[1]][2])\n",
    "    \n",
    "    if (AN == 0)\n",
    "        return (0)\n",
    "    else\n",
    "        return (AC / AN)\n",
    "}"
   ]
  },
  {
   "cell_type": "code",
   "execution_count": null,
   "metadata": {},
   "outputs": [],
   "source": [
    "dd <- tail(unique(impact[, c(\"VEP_gnomAD_total_AC.AN_AFR\",\n",
    "                             \"VEP_gnomAD_total_AC.AN_AMR\")]), 10)\n",
    "dd <- data.frame(dd, apply(dd, 1, function(x) get_gnomAD_total_AF_pop(x, \"AFR\")),\n",
    "                     apply(dd, 1, function(x) get_gnomAD_total_AF_pop(x, \"AMR\")), row.names = NULL)\n",
    "colnames(dd) <- c(\"total_AC.AN_AFR\", \"total_AC.AN_AMR\", \"new1 (total_AF_AFR)\", \"new2 (total_AF_AMR)\")\n",
    "dd"
   ]
  },
  {
   "cell_type": "code",
   "execution_count": null,
   "metadata": {},
   "outputs": [],
   "source": [
    "# [+7 features] VEP_gnomAD_total_AF_<POP>\n",
    "for (pop in pop_names)\n",
    "    impact[, paste0(\"VEP_gnomAD_total_AF_\", pop)] <- apply(impact, 1, function(x) get_gnomAD_total_AF_pop(x, pop))"
   ]
  },
  {
   "cell_type": "markdown",
   "metadata": {},
   "source": [
    "#### `total_AC.AN_<POP>` -> `VEP_gnomAD_total_AF_max`"
   ]
  },
  {
   "cell_type": "markdown",
   "metadata": {},
   "source": [
    "We calculate the maximal `AF` among all 7 populations, for gnomAD exomes and genomes united. This operation creates 1 new feature named `VEP_gnomAD_total_AF_max`."
   ]
  },
  {
   "cell_type": "code",
   "execution_count": null,
   "metadata": {},
   "outputs": [],
   "source": [
    "dd <- tail(unique(impact[, c(\"VEP_gnomAD_total_AF_AFR\",\n",
    "                             \"VEP_gnomAD_total_AF_AMR\")]), 10)\n",
    "\n",
    "total_AF_columns <- colnames(dd)[grepl(\"VEP_gnomAD_total_AF_\", colnames(dd))]\n",
    "\n",
    "dd <- data.frame(dd, apply(dd, 1, function(x) max(as.numeric(x[total_AF_columns]))), row.names = NULL)\n",
    "colnames(dd) <- c(\"total_AF_AFR\", \"total_AF_AMR\", \"new\")\n",
    "dd"
   ]
  },
  {
   "cell_type": "code",
   "execution_count": null,
   "metadata": {},
   "outputs": [],
   "source": [
    "# [+1 feature] VEP_gnomAD_total_AF_max\n",
    "total_AF_columns <- colnames(impact)[grepl(\"VEP_gnomAD_total_AF_\", colnames(impact))]\n",
    "impact$VEP_gnomAD_total_AF_max <- apply(impact, 1, function(x) max(as.numeric(x[total_AF_columns])))"
   ]
  },
  {
   "cell_type": "markdown",
   "metadata": {},
   "source": [
    "#### `total_AC.AN_<POP>` -> `VEP_gnomAD_total_AF`"
   ]
  },
  {
   "cell_type": "markdown",
   "metadata": {},
   "source": [
    "We calculate the `AF` among all 7 populations, for gnomAD exomes and genomes united. This operation creates 1 new feature named `VEP_gnomAD_total_AF`."
   ]
  },
  {
   "cell_type": "code",
   "execution_count": null,
   "metadata": {},
   "outputs": [],
   "source": [
    "get_gnomAD_total_AF <- function(data) {\n",
    "    \n",
    "    AC <- c()\n",
    "    AN <- c()\n",
    "    \n",
    "    for (pop in pop_names) {\n",
    "        AC <- c(AC, as.integer(strsplit(data[paste0(\"VEP_gnomAD_total_AC.AN_\", pop)], ' \\\\| ')[[1]][1]))\n",
    "        AN <- c(AN, as.integer(strsplit(data[paste0(\"VEP_gnomAD_total_AC.AN_\", pop)], ' \\\\| ')[[1]][2]))\n",
    "    }\n",
    "                \n",
    "    if (sum(AN) == 0)\n",
    "        return (0)\n",
    "    else\n",
    "        return (sum(AC) / sum(AN))\n",
    "}"
   ]
  },
  {
   "cell_type": "code",
   "execution_count": null,
   "metadata": {},
   "outputs": [],
   "source": [
    "total_AC.AN_columns <- colnames(impact)[grepl(\"VEP_gnomAD_total_AC.AN_\", colnames(impact))]\n",
    "\n",
    "dd <- tail(unique(impact[, total_AC.AN_columns]), 10)\n",
    "dd <- data.frame(dd, apply(dd, 1, get_gnomAD_total_AF), row.names = NULL)\n",
    "colnames(dd) <- c(total_AC.AN_columns, \"new\")\n",
    "dd"
   ]
  },
  {
   "cell_type": "code",
   "execution_count": null,
   "metadata": {},
   "outputs": [],
   "source": [
    "# [+1 feature] VEP_gnomAD_total_AF\n",
    "impact$VEP_gnomAD_total_AF <- apply(impact, 1, get_gnomAD_total_AF)"
   ]
  },
  {
   "cell_type": "markdown",
   "metadata": {},
   "source": [
    "#### Results"
   ]
  },
  {
   "cell_type": "markdown",
   "metadata": {},
   "source": [
    "Here is a comparison plot between `VEP_gnomAD_AF` vs `VEP_gnomAD_total_AF` on the left, and `VEP_gnomAD_total_AF` vs `VEP_gnomAD_total_AF_max` on the right:"
   ]
  },
  {
   "cell_type": "code",
   "execution_count": null,
   "metadata": {},
   "outputs": [],
   "source": [
    "plot1 <- plot_density_2d(impact, \"VEP_gnomAD_AF\", \"VEP_gnomAD_total_AF\", points_only = TRUE, height = 2) + geom_abline(intercept = 0, slope = 1, color =\"purple\", size = 0.6)\n",
    "plot2 <- plot_density_2d(impact, \"VEP_gnomAD_total_AF\", \"VEP_gnomAD_total_AF_max\", points_only = TRUE, height = 2) + geom_abline(intercept = 0, slope = 1, color =\"purple\", size = 0.6)\n",
    "plot_side_by_side(plot1, plot2)"
   ]
  },
  {
   "cell_type": "markdown",
   "metadata": {},
   "source": [
    "We remove the features we won't use, ie:\n",
    "* `VEP_gnomAD_genome_AC.AN_<POP>`: 7 features\n",
    "* `VEP_gnomAD_exome_AC.AN_<POP>`: 7 features\n",
    "* `VEP_gnomAD_total_AC.AN_<POP>`: 7 features"
   ]
  },
  {
   "cell_type": "code",
   "execution_count": null,
   "metadata": {},
   "outputs": [],
   "source": [
    "# [-21 features] remove VEP_gnomAD_genome_AC.AN_<POP>, VEP_gnomAD_exome_AC.AN_<POP> and VEP_gnomAD_total_AC.AN_<POP>\n",
    "impact[, colnames(impact)[grepl(\"VEP_gnomAD_genome_AC.AN\", colnames(impact))]] <- NULL\n",
    "impact[, colnames(impact)[grepl(\"VEP_gnomAD_exome_AC.AN\", colnames(impact))]] <- NULL\n",
    "impact[, colnames(impact)[grepl(\"VEP_gnomAD_total_AC.AN\", colnames(impact))]] <- NULL"
   ]
  },
  {
   "cell_type": "code",
   "execution_count": null,
   "metadata": {},
   "outputs": [],
   "source": [
    "vep_gnomad_colnames <- c(\"VEP_gnomAD_AF\",\n",
    "                         \"VEP_gnomAD_total_AF_AFR\",\n",
    "                         \"VEP_gnomAD_total_AF_AMR\",\n",
    "                         \"VEP_gnomAD_total_AF_ASJ\",\n",
    "                         \"VEP_gnomAD_total_AF_EAS\",\n",
    "                         \"VEP_gnomAD_total_AF_FIN\",\n",
    "                         \"VEP_gnomAD_total_AF_NFE\",\n",
    "                         \"VEP_gnomAD_total_AF_OTH\",\n",
    "                         \"VEP_gnomAD_total_AF_max\",\n",
    "                         \"VEP_gnomAD_total_AF\")"
   ]
  }
 ],
 "metadata": {
  "kernelspec": {
   "display_name": "R",
   "language": "R",
   "name": "ir"
  },
  "language_info": {
   "codemirror_mode": "r",
   "file_extension": ".r",
   "mimetype": "text/x-r-source",
   "name": "R",
   "pygments_lexer": "r",
   "version": "3.5.0"
  },
  "toc": {
   "base_numbering": 1,
   "nav_menu": {},
   "number_sections": true,
   "sideBar": false,
   "skip_h1_title": true,
   "title_cell": "Table of Contents",
   "title_sidebar": "Contents",
   "toc_cell": true,
   "toc_position": {},
   "toc_section_display": true,
   "toc_window_display": false
  },
  "toc-autonumbering": true,
  "toc-showcode": false,
  "toc-showmarkdowntxt": false,
  "toc-showtags": false
 },
 "nbformat": 4,
 "nbformat_minor": 2
}
