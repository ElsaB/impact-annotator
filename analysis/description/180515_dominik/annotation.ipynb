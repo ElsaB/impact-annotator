{
 "cells": [
  {
   "cell_type": "code",
   "execution_count": 86,
   "metadata": {},
   "outputs": [],
   "source": [
    "source('parseCosmic.R')"
   ]
  },
  {
   "cell_type": "code",
   "execution_count": 87,
   "metadata": {},
   "outputs": [],
   "source": [
    "impact.df = read.table(\"../../../data/all_IMPACT_mutations_180508.txt\", sep=\"\\t\", stringsAsFactors=F, header=T)\n",
    "annotation.df <- read.table(\"../../../data/all_IMPACT_mutations_180508.simple.hg19_multianno.txt\", sep=\"\\t\", stringsAsFactors=F, header=T)"
   ]
  },
  {
   "cell_type": "code",
   "execution_count": 88,
   "metadata": {},
   "outputs": [
    {
     "data": {
      "text/html": [
       "588547"
      ],
      "text/latex": [
       "588547"
      ],
      "text/markdown": [
       "588547"
      ],
      "text/plain": [
       "[1] 588547"
      ]
     },
     "metadata": {},
     "output_type": "display_data"
    }
   ],
   "source": [
    "impact.ann.df <- cbind(impact.df, annotation.df)\n",
    "nrow(impact.ann.df)"
   ]
  },
  {
   "cell_type": "code",
   "execution_count": 89,
   "metadata": {},
   "outputs": [
    {
     "data": {
      "text/plain": [
       "\n",
       " Oncogene Recessive   Unknown \n",
       "   176535    401325     10687 "
      ]
     },
     "metadata": {},
     "output_type": "display_data"
    }
   ],
   "source": [
    "# Annotate against gene types: oncogene or recessive according to OncoKb\n",
    "cg <- read.table('../../../data/CancerGenesList.txt', sep='\\t', header=TRUE, comment.char = '', row.names = 1)\n",
    "impact.ann.df$isOncogene <- cg[impact.ann.df$Hugo_Symbol,'OncoKB.Oncogene']\n",
    "impact.ann.df$cgType[impact.ann.df$isOncogene=='Yes'] <- 'Oncogene'\n",
    "impact.ann.df$cgType[!impact.ann.df$isOncogene=='Yes'] <- 'Recessive'\n",
    "impact.ann.df$cgType[is.na(impact.ann.df$cgType) ] <- 'Unknown'\n",
    "impact.ann.df$cgType <- as.factor(impact.ann.df$cgType)\n",
    "\n",
    "table(impact.ann.df$cgType)"
   ]
  },
  {
   "cell_type": "raw",
   "metadata": {},
   "source": [
    "Annote mutation consequence according to OncoKb"
   ]
  },
  {
   "cell_type": "code",
   "execution_count": 90,
   "metadata": {},
   "outputs": [],
   "source": [
    "# import OncoKb variant annotation\n",
    "oncokb.annotation <- read.table('../../../data/oncoKb/allAnnotatedVariants.txt', header=TRUE, sep='\\t', quote='')\n",
    "oncokb.annotation$mutID <- paste0(oncokb.annotation$Gene, '.p.',oncokb.annotation$Alteration\t)\n",
    "rownames(oncokb.annotation) <- oncokb.annotation$mutID"
   ]
  },
  {
   "cell_type": "code",
   "execution_count": null,
   "metadata": {},
   "outputs": [],
   "source": []
  },
  {
   "cell_type": "code",
   "execution_count": 91,
   "metadata": {},
   "outputs": [],
   "source": [
    "# Dealing with non-coding mutations\n",
    "impact.ann.df$HGVSp_Modified <- impact.ann.df$HGVSp_Short\n",
    "impact.ann.df$HGVSp_Modified[impact.ann.df$HGVSp_Modified ==''] <- 'Non-coding'"
   ]
  },
  {
   "cell_type": "code",
   "execution_count": 92,
   "metadata": {},
   "outputs": [],
   "source": [
    "# annotate each impact mutation, to facilitate search in OncoKb\n",
    "impact.ann.df$oncokb.id <- paste0(impact.ann.df$Hugo_Symbol, '.',impact.ann.df$HGVSp_Short)\n",
    "isExonic <- impact.ann.df$Consequence %in% c('exonic', 'frameshift_deletion', 'frameshift_insertion', 'nonframeshift_deletion', 'nonframeshift_insertion', 'nonsynonymous_SNV', 'stopgain_SNV', 'stoploss_SNV', 'synonymous_SNV')\n",
    "impact.ann.df$oncokb.id[!isExonic] <- 'other' \n",
    "impact.ann.df$oncokb.id[impact.ann.df$HGVSp_Short==''] <- 'other'\n",
    "\n",
    "isTrunc <- impact.ann.df$Consequence %in% c('frameshift_deletion', 'frameshift_insertion','stopgain_SNV', 'stoploss_SNV',\n",
    "                                           'splicing', ' splicing_noncanonical')\n",
    "impact.ann.df$oncokb.consequence <- 'other'\n",
    "impact.ann.df$oncokb.consequence[isTrunc ] <- paste0(impact.ann.df$Hugo_Symbol[isTrunc ], '.p.Truncating Mutations')"
   ]
  },
  {
   "cell_type": "code",
   "execution_count": 93,
   "metadata": {},
   "outputs": [],
   "source": [
    "# look up OncoKB\n",
    "impact.ann.df$Change.onco <- oncokb.annotation[as.character(impact.ann.df$oncokb.id), 'Oncogenicity']\n",
    "impact.ann.df$Consq.onco <- oncokb.annotation[as.character(impact.ann.df$oncokb.consequence), 'Oncogenicity']\n",
    "\n",
    "impact.ann.df$Total.onco <- impact.ann.df$Change.onco\n",
    "notFound <- is.na(impact.ann.df$Total.onco)\n",
    "impact.ann.df$Total.onco[notFound] <- impact.ann.df$Consq.onco[notFound] \n",
    "levels(impact.ann.df$Total.onco) <- c(levels(impact.ann.df$Total.onco), 'NotInOncoKb')\n",
    "impact.ann.df$Total.onco[is.na(impact.ann.df$Total.onco)] <- 'NotInOncoKb'"
   ]
  },
  {
   "cell_type": "code",
   "execution_count": 94,
   "metadata": {},
   "outputs": [
    {
     "data": {
      "text/plain": [
       "                  \n",
       "                   AUTO_OK MANUAL_OK OK_NOT_SO UNKNOWN UNLIKELY\n",
       "  Inconclusive         372        13         5       0       81\n",
       "  Likely Neutral       162        10         0       0       76\n",
       "  Likely Oncogenic   38168      2635        89      13     1575\n",
       "  Oncogenic          13725       546         0       0      287\n",
       "  null                   0         0         0       0        0\n",
       "  NotInOncoKb       138801      3909       264  374518    13298"
      ]
     },
     "metadata": {},
     "output_type": "display_data"
    }
   ],
   "source": [
    "table(impact.ann.df$Total.onco, impact.ann.df$confidence_class)"
   ]
  },
  {
   "cell_type": "raw",
   "metadata": {},
   "source": [
    "Parse the cosmic count"
   ]
  },
  {
   "cell_type": "code",
   "execution_count": 97,
   "metadata": {},
   "outputs": [
    {
     "ename": "ERROR",
     "evalue": "Error in variantTrain.corr$occurence_in_normals.1 <- NULL: object 'variantTrain.corr' not found\n",
     "execution_count": 97,
     "output_type": "error",
     "traceback": [
      "Error in variantTrain.corr$occurence_in_normals.1 <- NULL: object 'variantTrain.corr' not found\nTraceback:\n"
     ]
    }
   ],
   "source": []
  },
  {
   "cell_type": "code",
   "execution_count": 95,
   "metadata": {},
   "outputs": [],
   "source": [
    "impact.ann.df  <- parseCosmic(impact.ann.df)\n",
    "save(impact.ann.df, file='../../../data/impactAnnotated.RData')"
   ]
  },
  {
   "cell_type": "raw",
   "metadata": {},
   "source": [
    "Sanity checks"
   ]
  },
  {
   "cell_type": "code",
   "execution_count": 96,
   "metadata": {},
   "outputs": [
    {
     "data": {
      "text/plain": [
       "                         \n",
       "                          AUTO_OK MANUAL_OK OK_NOT_SO UNKNOWN UNLIKELY\n",
       "  Translation_Start_Site       98         3         0       0        7\n",
       "  UTR3                          0         1         0   13208       53\n",
       "  UTR5                          0         0         0    8551        5\n",
       "  Unknown                       0         0         0     411        0\n",
       "  downstream                    0         0         0    2167        3\n",
       "  exonic                        0         0         0    1771       12\n",
       "  frameshift_deletion       15259      1446         3       0      951\n",
       "  frameshift_insertion       5870       641         4       0      319\n",
       "  intergenic                    0         0         0     114        0\n",
       "  intronic                      1         0         0  287748     1222\n",
       "  nonframeshift_deletion     3118       425         1       0     1013\n",
       "  nonframeshift_insertion     613       113         1       0      273\n",
       "  nonsynonymous_SNV        137145      2912         6       0     9627\n",
       "  promoter                      0         1         0       0        0\n",
       "  splicing                   7571       907       341      30     1051\n",
       "  splicing_noncanonical         1        19         0      12       28\n",
       "  stopgain_SNV              18539       510         2       0      543\n",
       "  stoploss_SNV                126        19         0      12        8\n",
       "  synonymous_SNV                0         0         0   56493       24\n",
       "  upstream                   2887       116         0    4014      178"
      ]
     },
     "metadata": {},
     "output_type": "display_data"
    }
   ],
   "source": [
    "table(impact.ann.df$Consequence, impact.ann.df$confidence_class)"
   ]
  },
  {
   "cell_type": "code",
   "execution_count": 80,
   "metadata": {},
   "outputs": [],
   "source": [
    "cols <- c('Consequence','oncokb.consequence','Change.onco', 'Consq.onco', 'Total.onco' , 'oncokb.id', 'Hugo_Symbol', 'HGVSp_Short', 'confidence_class', 'cosmicCount')"
   ]
  },
  {
   "cell_type": "code",
   "execution_count": 81,
   "metadata": {},
   "outputs": [
    {
     "data": {
      "text/html": [
       "<table>\n",
       "<thead><tr><th></th><th scope=col>Consequence</th><th scope=col>oncokb.consequence</th><th scope=col>Change.onco</th><th scope=col>Consq.onco</th><th scope=col>Total.onco</th><th scope=col>oncokb.id</th><th scope=col>Hugo_Symbol</th><th scope=col>HGVSp_Short</th><th scope=col>confidence_class</th><th scope=col>cosmicCount</th></tr></thead>\n",
       "<tbody>\n",
       "\t<tr><th scope=row>1199</th><td>stoploss_SNV                </td><td>FAT1.p.Truncating Mutations </td><td>NA                          </td><td>Likely Oncogenic            </td><td>Likely Oncogenic            </td><td>FAT1.p.X4589R               </td><td>FAT1                        </td><td>p.X4589R                    </td><td>UNKNOWN                     </td><td>0                           </td></tr>\n",
       "\t<tr><th scope=row>2427</th><td>stoploss_SNV                </td><td>SOX9.p.Truncating Mutations </td><td>NA                          </td><td>Likely Oncogenic            </td><td>Likely Oncogenic            </td><td>SOX9.p.*510Sext*49          </td><td>SOX9                        </td><td>p.*510Sext*49               </td><td>UNKNOWN                     </td><td>1                           </td></tr>\n",
       "\t<tr><th scope=row>2858</th><td>stoploss_SNV                </td><td>TP53.p.Truncating Mutations </td><td>NA                          </td><td>Likely Oncogenic            </td><td>Likely Oncogenic            </td><td>TP53.p.X394S                </td><td>TP53                        </td><td>p.X394S                     </td><td>UNKNOWN                     </td><td>0                           </td></tr>\n",
       "\t<tr><th scope=row>12092</th><td>stoploss_SNV                </td><td>PTEN.p.Truncating Mutations </td><td>NA                          </td><td>Likely Oncogenic            </td><td>Likely Oncogenic            </td><td>PTEN.p.X404W                </td><td>PTEN                        </td><td>p.X404W                     </td><td>UNKNOWN                     </td><td>0                           </td></tr>\n",
       "\t<tr><th scope=row>12433</th><td>stoploss_SNV                </td><td>SMAD3.p.Truncating Mutations</td><td>NA                          </td><td>Likely Oncogenic            </td><td>Likely Oncogenic            </td><td>SMAD3.p.X426L               </td><td>SMAD3                       </td><td>p.X426L                     </td><td>UNKNOWN                     </td><td>0                           </td></tr>\n",
       "\t<tr><th scope=row>12941</th><td>stoploss_SNV                </td><td>CDH1.p.Truncating Mutations </td><td>NA                          </td><td>Likely Oncogenic            </td><td>Likely Oncogenic            </td><td>CDH1.p.X883L                </td><td>CDH1                        </td><td>p.X883L                     </td><td>UNKNOWN                     </td><td>0                           </td></tr>\n",
       "</tbody>\n",
       "</table>\n"
      ],
      "text/latex": [
       "\\begin{tabular}{r|llllllllll}\n",
       "  & Consequence & oncokb.consequence & Change.onco & Consq.onco & Total.onco & oncokb.id & Hugo\\_Symbol & HGVSp\\_Short & confidence\\_class & cosmicCount\\\\\n",
       "\\hline\n",
       "\t1199 & stoploss\\_SNV               & FAT1.p.Truncating Mutations  & NA                           & Likely Oncogenic             & Likely Oncogenic             & FAT1.p.X4589R                & FAT1                         & p.X4589R                     & UNKNOWN                      & 0                           \\\\\n",
       "\t2427 & stoploss\\_SNV               & SOX9.p.Truncating Mutations  & NA                           & Likely Oncogenic             & Likely Oncogenic             & SOX9.p.*510Sext*49           & SOX9                         & p.*510Sext*49                & UNKNOWN                      & 1                           \\\\\n",
       "\t2858 & stoploss\\_SNV               & TP53.p.Truncating Mutations  & NA                           & Likely Oncogenic             & Likely Oncogenic             & TP53.p.X394S                 & TP53                         & p.X394S                      & UNKNOWN                      & 0                           \\\\\n",
       "\t12092 & stoploss\\_SNV               & PTEN.p.Truncating Mutations  & NA                           & Likely Oncogenic             & Likely Oncogenic             & PTEN.p.X404W                 & PTEN                         & p.X404W                      & UNKNOWN                      & 0                           \\\\\n",
       "\t12433 & stoploss\\_SNV               & SMAD3.p.Truncating Mutations & NA                           & Likely Oncogenic             & Likely Oncogenic             & SMAD3.p.X426L                & SMAD3                        & p.X426L                      & UNKNOWN                      & 0                           \\\\\n",
       "\t12941 & stoploss\\_SNV               & CDH1.p.Truncating Mutations  & NA                           & Likely Oncogenic             & Likely Oncogenic             & CDH1.p.X883L                 & CDH1                         & p.X883L                      & UNKNOWN                      & 0                           \\\\\n",
       "\\end{tabular}\n"
      ],
      "text/markdown": [
       "\n",
       "| <!--/--> | Consequence | oncokb.consequence | Change.onco | Consq.onco | Total.onco | oncokb.id | Hugo_Symbol | HGVSp_Short | confidence_class | cosmicCount | \n",
       "|---|---|---|---|---|---|\n",
       "| 1199 | stoploss_SNV                 | FAT1.p.Truncating Mutations  | NA                           | Likely Oncogenic             | Likely Oncogenic             | FAT1.p.X4589R                | FAT1                         | p.X4589R                     | UNKNOWN                      | 0                            | \n",
       "| 2427 | stoploss_SNV                 | SOX9.p.Truncating Mutations  | NA                           | Likely Oncogenic             | Likely Oncogenic             | SOX9.p.*510Sext*49           | SOX9                         | p.*510Sext*49                | UNKNOWN                      | 1                            | \n",
       "| 2858 | stoploss_SNV                 | TP53.p.Truncating Mutations  | NA                           | Likely Oncogenic             | Likely Oncogenic             | TP53.p.X394S                 | TP53                         | p.X394S                      | UNKNOWN                      | 0                            | \n",
       "| 12092 | stoploss_SNV                 | PTEN.p.Truncating Mutations  | NA                           | Likely Oncogenic             | Likely Oncogenic             | PTEN.p.X404W                 | PTEN                         | p.X404W                      | UNKNOWN                      | 0                            | \n",
       "| 12433 | stoploss_SNV                 | SMAD3.p.Truncating Mutations | NA                           | Likely Oncogenic             | Likely Oncogenic             | SMAD3.p.X426L                | SMAD3                        | p.X426L                      | UNKNOWN                      | 0                            | \n",
       "| 12941 | stoploss_SNV                 | CDH1.p.Truncating Mutations  | NA                           | Likely Oncogenic             | Likely Oncogenic             | CDH1.p.X883L                 | CDH1                         | p.X883L                      | UNKNOWN                      | 0                            | \n",
       "\n",
       "\n"
      ],
      "text/plain": [
       "      Consequence  oncokb.consequence           Change.onco Consq.onco      \n",
       "1199  stoploss_SNV FAT1.p.Truncating Mutations  NA          Likely Oncogenic\n",
       "2427  stoploss_SNV SOX9.p.Truncating Mutations  NA          Likely Oncogenic\n",
       "2858  stoploss_SNV TP53.p.Truncating Mutations  NA          Likely Oncogenic\n",
       "12092 stoploss_SNV PTEN.p.Truncating Mutations  NA          Likely Oncogenic\n",
       "12433 stoploss_SNV SMAD3.p.Truncating Mutations NA          Likely Oncogenic\n",
       "12941 stoploss_SNV CDH1.p.Truncating Mutations  NA          Likely Oncogenic\n",
       "      Total.onco       oncokb.id          Hugo_Symbol HGVSp_Short  \n",
       "1199  Likely Oncogenic FAT1.p.X4589R      FAT1        p.X4589R     \n",
       "2427  Likely Oncogenic SOX9.p.*510Sext*49 SOX9        p.*510Sext*49\n",
       "2858  Likely Oncogenic TP53.p.X394S       TP53        p.X394S      \n",
       "12092 Likely Oncogenic PTEN.p.X404W       PTEN        p.X404W      \n",
       "12433 Likely Oncogenic SMAD3.p.X426L      SMAD3       p.X426L      \n",
       "12941 Likely Oncogenic CDH1.p.X883L       CDH1        p.X883L      \n",
       "      confidence_class cosmicCount\n",
       "1199  UNKNOWN          0          \n",
       "2427  UNKNOWN          1          \n",
       "2858  UNKNOWN          0          \n",
       "12092 UNKNOWN          0          \n",
       "12433 UNKNOWN          0          \n",
       "12941 UNKNOWN          0          "
      ]
     },
     "metadata": {},
     "output_type": "display_data"
    }
   ],
   "source": [
    "head(subset(impact.ann.df, Total.onco=='Likely Oncogenic' & confidence_class=='UNKNOWN'))[,cols]"
   ]
  },
  {
   "cell_type": "code",
   "execution_count": 82,
   "metadata": {},
   "outputs": [
    {
     "data": {
      "text/html": [
       "<table>\n",
       "<thead><tr><th></th><th scope=col>Consequence</th><th scope=col>oncokb.consequence</th><th scope=col>Change.onco</th><th scope=col>Consq.onco</th><th scope=col>Total.onco</th><th scope=col>oncokb.id</th><th scope=col>Hugo_Symbol</th><th scope=col>HGVSp_Short</th><th scope=col>confidence_class</th><th scope=col>cosmicCount</th></tr></thead>\n",
       "<tbody>\n",
       "\t<tr><th scope=row>1</th><td>nonsynonymous_SNV</td><td>other            </td><td>NA               </td><td>NA               </td><td>NotInOncoKb      </td><td>SPEN.p.I3661F    </td><td>SPEN             </td><td>p.I3661F         </td><td>AUTO_OK          </td><td>0                </td></tr>\n",
       "\t<tr><th scope=row>9</th><td>nonsynonymous_SNV</td><td>other            </td><td>NA               </td><td>NA               </td><td>NotInOncoKb      </td><td>MLL3.p.M812I     </td><td>MLL3             </td><td>p.M812I          </td><td>AUTO_OK          </td><td>0                </td></tr>\n",
       "\t<tr><th scope=row>34</th><td>nonsynonymous_SNV</td><td>other            </td><td>NA               </td><td>NA               </td><td>NotInOncoKb      </td><td>TP53.p.T256P     </td><td>TP53             </td><td>p.T256P          </td><td>AUTO_OK          </td><td>1                </td></tr>\n",
       "\t<tr><th scope=row>37</th><td>nonsynonymous_SNV</td><td>other            </td><td>NA               </td><td>NA               </td><td>NotInOncoKb      </td><td>PIK3R3.p.I298M   </td><td>PIK3R3           </td><td>p.I298M          </td><td>AUTO_OK          </td><td>0                </td></tr>\n",
       "\t<tr><th scope=row>38</th><td>nonsynonymous_SNV</td><td>other            </td><td>NA               </td><td>NA               </td><td>NotInOncoKb      </td><td>ATR.p.R2431M     </td><td>ATR              </td><td>p.R2431M         </td><td>AUTO_OK          </td><td>0                </td></tr>\n",
       "\t<tr><th scope=row>39</th><td>nonsynonymous_SNV</td><td>other            </td><td>NA               </td><td>NA               </td><td>NotInOncoKb      </td><td>PDGFRA.p.L465M   </td><td>PDGFRA           </td><td>p.L465M          </td><td>AUTO_OK          </td><td>0                </td></tr>\n",
       "</tbody>\n",
       "</table>\n"
      ],
      "text/latex": [
       "\\begin{tabular}{r|llllllllll}\n",
       "  & Consequence & oncokb.consequence & Change.onco & Consq.onco & Total.onco & oncokb.id & Hugo\\_Symbol & HGVSp\\_Short & confidence\\_class & cosmicCount\\\\\n",
       "\\hline\n",
       "\t1 & nonsynonymous\\_SNV & other               & NA                  & NA                  & NotInOncoKb         & SPEN.p.I3661F       & SPEN                & p.I3661F            & AUTO\\_OK           & 0                  \\\\\n",
       "\t9 & nonsynonymous\\_SNV & other               & NA                  & NA                  & NotInOncoKb         & MLL3.p.M812I        & MLL3                & p.M812I             & AUTO\\_OK           & 0                  \\\\\n",
       "\t34 & nonsynonymous\\_SNV & other               & NA                  & NA                  & NotInOncoKb         & TP53.p.T256P        & TP53                & p.T256P             & AUTO\\_OK           & 1                  \\\\\n",
       "\t37 & nonsynonymous\\_SNV & other               & NA                  & NA                  & NotInOncoKb         & PIK3R3.p.I298M      & PIK3R3              & p.I298M             & AUTO\\_OK           & 0                  \\\\\n",
       "\t38 & nonsynonymous\\_SNV & other               & NA                  & NA                  & NotInOncoKb         & ATR.p.R2431M        & ATR                 & p.R2431M            & AUTO\\_OK           & 0                  \\\\\n",
       "\t39 & nonsynonymous\\_SNV & other               & NA                  & NA                  & NotInOncoKb         & PDGFRA.p.L465M      & PDGFRA              & p.L465M             & AUTO\\_OK           & 0                  \\\\\n",
       "\\end{tabular}\n"
      ],
      "text/markdown": [
       "\n",
       "| <!--/--> | Consequence | oncokb.consequence | Change.onco | Consq.onco | Total.onco | oncokb.id | Hugo_Symbol | HGVSp_Short | confidence_class | cosmicCount | \n",
       "|---|---|---|---|---|---|\n",
       "| 1 | nonsynonymous_SNV | other             | NA                | NA                | NotInOncoKb       | SPEN.p.I3661F     | SPEN              | p.I3661F          | AUTO_OK           | 0                 | \n",
       "| 9 | nonsynonymous_SNV | other             | NA                | NA                | NotInOncoKb       | MLL3.p.M812I      | MLL3              | p.M812I           | AUTO_OK           | 0                 | \n",
       "| 34 | nonsynonymous_SNV | other             | NA                | NA                | NotInOncoKb       | TP53.p.T256P      | TP53              | p.T256P           | AUTO_OK           | 1                 | \n",
       "| 37 | nonsynonymous_SNV | other             | NA                | NA                | NotInOncoKb       | PIK3R3.p.I298M    | PIK3R3            | p.I298M           | AUTO_OK           | 0                 | \n",
       "| 38 | nonsynonymous_SNV | other             | NA                | NA                | NotInOncoKb       | ATR.p.R2431M      | ATR               | p.R2431M          | AUTO_OK           | 0                 | \n",
       "| 39 | nonsynonymous_SNV | other             | NA                | NA                | NotInOncoKb       | PDGFRA.p.L465M    | PDGFRA            | p.L465M           | AUTO_OK           | 0                 | \n",
       "\n",
       "\n"
      ],
      "text/plain": [
       "   Consequence       oncokb.consequence Change.onco Consq.onco Total.onco \n",
       "1  nonsynonymous_SNV other              NA          NA         NotInOncoKb\n",
       "9  nonsynonymous_SNV other              NA          NA         NotInOncoKb\n",
       "34 nonsynonymous_SNV other              NA          NA         NotInOncoKb\n",
       "37 nonsynonymous_SNV other              NA          NA         NotInOncoKb\n",
       "38 nonsynonymous_SNV other              NA          NA         NotInOncoKb\n",
       "39 nonsynonymous_SNV other              NA          NA         NotInOncoKb\n",
       "   oncokb.id      Hugo_Symbol HGVSp_Short confidence_class cosmicCount\n",
       "1  SPEN.p.I3661F  SPEN        p.I3661F    AUTO_OK          0          \n",
       "9  MLL3.p.M812I   MLL3        p.M812I     AUTO_OK          0          \n",
       "34 TP53.p.T256P   TP53        p.T256P     AUTO_OK          1          \n",
       "37 PIK3R3.p.I298M PIK3R3      p.I298M     AUTO_OK          0          \n",
       "38 ATR.p.R2431M   ATR         p.R2431M    AUTO_OK          0          \n",
       "39 PDGFRA.p.L465M PDGFRA      p.L465M     AUTO_OK          0          "
      ]
     },
     "metadata": {},
     "output_type": "display_data"
    }
   ],
   "source": [
    "head(subset(impact.ann.df, Total.onco=='NotInOncoKb' & confidence_class=='AUTO_OK'))[,cols]"
   ]
  },
  {
   "cell_type": "code",
   "execution_count": 84,
   "metadata": {},
   "outputs": [
    {
     "data": {
      "text/html": [
       "<table>\n",
       "<thead><tr><th></th><th scope=col>Consequence</th><th scope=col>oncokb.consequence</th><th scope=col>Change.onco</th><th scope=col>Consq.onco</th><th scope=col>Total.onco</th><th scope=col>oncokb.id</th><th scope=col>Hugo_Symbol</th><th scope=col>HGVSp_Short</th><th scope=col>confidence_class</th><th scope=col>cosmicCount</th></tr></thead>\n",
       "<tbody>\n",
       "\t<tr><th scope=row>40</th><td>splicing                      </td><td>FBXW7.p.Truncating Mutations  </td><td>NA                            </td><td>Likely Oncogenic              </td><td>Likely Oncogenic              </td><td>other                         </td><td>FBXW7                         </td><td>                              </td><td>AUTO_OK                       </td><td>0                             </td></tr>\n",
       "\t<tr><th scope=row>41</th><td>stopgain_SNV                  </td><td>FBXW7.p.Truncating Mutations  </td><td>NA                            </td><td>Likely Oncogenic              </td><td>Likely Oncogenic              </td><td>FBXW7.p.G61*                  </td><td>FBXW7                         </td><td>p.G61*                        </td><td>AUTO_OK                       </td><td>0                             </td></tr>\n",
       "\t<tr><th scope=row>43</th><td>stopgain_SNV                  </td><td>MAP3K1.p.Truncating Mutations </td><td>NA                            </td><td>Likely Oncogenic              </td><td>Likely Oncogenic              </td><td>MAP3K1.p.E302*                </td><td>MAP3K1                        </td><td>p.E302*                       </td><td>AUTO_OK                       </td><td>0                             </td></tr>\n",
       "\t<tr><th scope=row>44</th><td>splicing                      </td><td>MAP3K1.p.Truncating Mutations </td><td>NA                            </td><td>Likely Oncogenic              </td><td>Likely Oncogenic              </td><td>other                         </td><td>MAP3K1                        </td><td>                              </td><td>AUTO_OK                       </td><td>0                             </td></tr>\n",
       "\t<tr><th scope=row>49</th><td>stopgain_SNV                  </td><td>PTPRD.p.Truncating Mutations  </td><td>NA                            </td><td>Likely Oncogenic              </td><td>Likely Oncogenic              </td><td>PTPRD.p.E915*                 </td><td>PTPRD                         </td><td>p.E915*                       </td><td>AUTO_OK                       </td><td>0                             </td></tr>\n",
       "\t<tr><th scope=row>59</th><td>stopgain_SNV                  </td><td>SMARCA4.p.Truncating Mutations</td><td>NA                            </td><td>Likely Oncogenic              </td><td>Likely Oncogenic              </td><td>SMARCA4.p.E1211*              </td><td>SMARCA4                       </td><td>p.E1211*                      </td><td>AUTO_OK                       </td><td>0                             </td></tr>\n",
       "</tbody>\n",
       "</table>\n"
      ],
      "text/latex": [
       "\\begin{tabular}{r|llllllllll}\n",
       "  & Consequence & oncokb.consequence & Change.onco & Consq.onco & Total.onco & oncokb.id & Hugo\\_Symbol & HGVSp\\_Short & confidence\\_class & cosmicCount\\\\\n",
       "\\hline\n",
       "\t40 & splicing                       & FBXW7.p.Truncating Mutations   & NA                             & Likely Oncogenic               & Likely Oncogenic               & other                          & FBXW7                          &                                & AUTO\\_OK                      & 0                             \\\\\n",
       "\t41 & stopgain\\_SNV                 & FBXW7.p.Truncating Mutations   & NA                             & Likely Oncogenic               & Likely Oncogenic               & FBXW7.p.G61*                   & FBXW7                          & p.G61*                         & AUTO\\_OK                      & 0                             \\\\\n",
       "\t43 & stopgain\\_SNV                 & MAP3K1.p.Truncating Mutations  & NA                             & Likely Oncogenic               & Likely Oncogenic               & MAP3K1.p.E302*                 & MAP3K1                         & p.E302*                        & AUTO\\_OK                      & 0                             \\\\\n",
       "\t44 & splicing                       & MAP3K1.p.Truncating Mutations  & NA                             & Likely Oncogenic               & Likely Oncogenic               & other                          & MAP3K1                         &                                & AUTO\\_OK                      & 0                             \\\\\n",
       "\t49 & stopgain\\_SNV                 & PTPRD.p.Truncating Mutations   & NA                             & Likely Oncogenic               & Likely Oncogenic               & PTPRD.p.E915*                  & PTPRD                          & p.E915*                        & AUTO\\_OK                      & 0                             \\\\\n",
       "\t59 & stopgain\\_SNV                 & SMARCA4.p.Truncating Mutations & NA                             & Likely Oncogenic               & Likely Oncogenic               & SMARCA4.p.E1211*               & SMARCA4                        & p.E1211*                       & AUTO\\_OK                      & 0                             \\\\\n",
       "\\end{tabular}\n"
      ],
      "text/markdown": [
       "\n",
       "| <!--/--> | Consequence | oncokb.consequence | Change.onco | Consq.onco | Total.onco | oncokb.id | Hugo_Symbol | HGVSp_Short | confidence_class | cosmicCount | \n",
       "|---|---|---|---|---|---|\n",
       "| 40 | splicing                       | FBXW7.p.Truncating Mutations   | NA                             | Likely Oncogenic               | Likely Oncogenic               | other                          | FBXW7                          |                                | AUTO_OK                        | 0                              | \n",
       "| 41 | stopgain_SNV                   | FBXW7.p.Truncating Mutations   | NA                             | Likely Oncogenic               | Likely Oncogenic               | FBXW7.p.G61*                   | FBXW7                          | p.G61*                         | AUTO_OK                        | 0                              | \n",
       "| 43 | stopgain_SNV                   | MAP3K1.p.Truncating Mutations  | NA                             | Likely Oncogenic               | Likely Oncogenic               | MAP3K1.p.E302*                 | MAP3K1                         | p.E302*                        | AUTO_OK                        | 0                              | \n",
       "| 44 | splicing                       | MAP3K1.p.Truncating Mutations  | NA                             | Likely Oncogenic               | Likely Oncogenic               | other                          | MAP3K1                         |                                | AUTO_OK                        | 0                              | \n",
       "| 49 | stopgain_SNV                   | PTPRD.p.Truncating Mutations   | NA                             | Likely Oncogenic               | Likely Oncogenic               | PTPRD.p.E915*                  | PTPRD                          | p.E915*                        | AUTO_OK                        | 0                              | \n",
       "| 59 | stopgain_SNV                   | SMARCA4.p.Truncating Mutations | NA                             | Likely Oncogenic               | Likely Oncogenic               | SMARCA4.p.E1211*               | SMARCA4                        | p.E1211*                       | AUTO_OK                        | 0                              | \n",
       "\n",
       "\n"
      ],
      "text/plain": [
       "   Consequence  oncokb.consequence             Change.onco Consq.onco      \n",
       "40 splicing     FBXW7.p.Truncating Mutations   NA          Likely Oncogenic\n",
       "41 stopgain_SNV FBXW7.p.Truncating Mutations   NA          Likely Oncogenic\n",
       "43 stopgain_SNV MAP3K1.p.Truncating Mutations  NA          Likely Oncogenic\n",
       "44 splicing     MAP3K1.p.Truncating Mutations  NA          Likely Oncogenic\n",
       "49 stopgain_SNV PTPRD.p.Truncating Mutations   NA          Likely Oncogenic\n",
       "59 stopgain_SNV SMARCA4.p.Truncating Mutations NA          Likely Oncogenic\n",
       "   Total.onco       oncokb.id        Hugo_Symbol HGVSp_Short confidence_class\n",
       "40 Likely Oncogenic other            FBXW7                   AUTO_OK         \n",
       "41 Likely Oncogenic FBXW7.p.G61*     FBXW7       p.G61*      AUTO_OK         \n",
       "43 Likely Oncogenic MAP3K1.p.E302*   MAP3K1      p.E302*     AUTO_OK         \n",
       "44 Likely Oncogenic other            MAP3K1                  AUTO_OK         \n",
       "49 Likely Oncogenic PTPRD.p.E915*    PTPRD       p.E915*     AUTO_OK         \n",
       "59 Likely Oncogenic SMARCA4.p.E1211* SMARCA4     p.E1211*    AUTO_OK         \n",
       "   cosmicCount\n",
       "40 0          \n",
       "41 0          \n",
       "43 0          \n",
       "44 0          \n",
       "49 0          \n",
       "59 0          "
      ]
     },
     "metadata": {},
     "output_type": "display_data"
    }
   ],
   "source": [
    "head(subset(impact.ann.df, Total.onco=='Likely Oncogenic' & cosmicCount==0))[,cols]"
   ]
  },
  {
   "cell_type": "code",
   "execution_count": null,
   "metadata": {},
   "outputs": [],
   "source": []
  },
  {
   "cell_type": "code",
   "execution_count": null,
   "metadata": {},
   "outputs": [],
   "source": []
  },
  {
   "cell_type": "code",
   "execution_count": 166,
   "metadata": {},
   "outputs": [],
   "source": []
  },
  {
   "cell_type": "code",
   "execution_count": null,
   "metadata": {},
   "outputs": [],
   "source": []
  },
  {
   "cell_type": "code",
   "execution_count": 183,
   "metadata": {},
   "outputs": [],
   "source": []
  },
  {
   "cell_type": "code",
   "execution_count": null,
   "metadata": {},
   "outputs": [],
   "source": []
  },
  {
   "cell_type": "code",
   "execution_count": null,
   "metadata": {},
   "outputs": [],
   "source": []
  },
  {
   "cell_type": "code",
   "execution_count": null,
   "metadata": {},
   "outputs": [],
   "source": []
  }
 ],
 "metadata": {
  "kernelspec": {
   "display_name": "R 3.4.3",
   "language": "R",
   "name": "ir343"
  },
  "language_info": {
   "codemirror_mode": "r",
   "file_extension": ".r",
   "mimetype": "text/x-r-source",
   "name": "R",
   "pygments_lexer": "r",
   "version": "3.4.3"
  }
 },
 "nbformat": 4,
 "nbformat_minor": 2
}
