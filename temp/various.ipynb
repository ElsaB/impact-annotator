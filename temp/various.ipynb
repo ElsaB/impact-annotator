{
 "cells": [
  {
   "cell_type": "markdown",
   "metadata": {
    "heading_collapsed": true
   },
   "source": [
    "## Venn diagramm"
   ]
  },
  {
   "cell_type": "code",
   "execution_count": null,
   "metadata": {
    "hidden": true
   },
   "outputs": [],
   "source": [
    "install.packages('VennDiagram')\n",
    "library(VennDiagram)"
   ]
  },
  {
   "cell_type": "code",
   "execution_count": null,
   "metadata": {
    "hidden": true
   },
   "outputs": [],
   "source": [
    "plot_Venn_diagramm <- function(a, b, name_a, name_b) {\n",
    "    options(repr.plot.res = 100) # set a high-definition resolution for the jupyter notebooks plots (DPI)\n",
    "    notebook_plot_size(2, 2)\n",
    "    \n",
    "    return (draw.pairwise.venn(\n",
    "    length(a),\n",
    "    length(b),\n",
    "    sum(a %in% b),\n",
    "    category = c(name_a, name_b),\n",
    "    fill = c(\"blue\", \"red\"),\n",
    "    alpha = c(0.5, 0.5),\n",
    "    cat.pos = c(0, 0),\n",
    "    scaled = TRUE))\n",
    "}\n",
    "\n",
    "plot_Venn_diagramm(oncokb_genes, candl_genes, \"oncokb\", \"candl\")"
   ]
  },
  {
   "cell_type": "code",
   "execution_count": null,
   "metadata": {
    "hidden": true
   },
   "outputs": [],
   "source": [
    "notebook_plot_size(6, 6)\n",
    "draw.triple.venn(\n",
    "length(oncokb_genes),\n",
    "length(cgi_genes),\n",
    "length(civic_genes),\n",
    "sum(oncokb_genes %in% cgi_genes),\n",
    "sum(cgi_genes %in% civic_genes),\n",
    "sum(civic_genes %in% oncokb_genes),\n",
    "sum(cgi_genes %in% oncokb_genes & cgi_genes %in% civic_genes),\n",
    "category = c(\"oncokb\", \"cgi\", \"civic\"),\n",
    "lty = rep(\"blank\", 3),\n",
    "fill = c(\"light blue\", \"pink\", \"green\"),\n",
    "alpha = rep(0.5, 3),\n",
    "cat.pos = rep(0, 3),\n",
    "cat.dist = rep(0.025, 3),\n",
    "scaled = TRUE)"
   ]
  },
  {
   "cell_type": "markdown",
   "metadata": {
    "heading_collapsed": true
   },
   "source": [
    "## ggballoonplot"
   ]
  },
  {
   "cell_type": "code",
   "execution_count": null,
   "metadata": {
    "hidden": true
   },
   "outputs": [],
   "source": [
    "install.packages(\"ggpubr\")\n",
    "library(ggpubr)\n",
    "theme_set(theme_pubr())\n",
    "\n",
    "impact <- read.table(\"../../../data/cleaned_IMPACT_mutations_180508.txt\", sep = \"\\t\", stringsAsFactors = FALSE, header = TRUE)\n",
    "\n",
    "ggballoonplot(as.data.frame(table(impact$Hugo_Symbol,\n",
    "                                  impact$Variant_Type)),\n",
    "              fill = \"value\") + scale_fill_viridis_c(option = \"C\")"
   ]
  },
  {
   "cell_type": "code",
   "execution_count": null,
   "metadata": {
    "hidden": true
   },
   "outputs": [],
   "source": [
    "# install.packages(\"ggpubr\")\n",
    "# library(ggpubr)\n",
    "# theme_set(theme_pubr())\n",
    "\n",
    "colnames = c(\"is_in_oncokb\", \"is_in_civic\", \"is_in_cgi\", \"is_in_candl\")\n",
    "\n",
    "r <- data.frame()\n",
    "\n",
    "for (col in colnames) {\n",
    "    r <- rbind(r, impact %>% filter(!! sym(col) == \"yes\") %>%\n",
    "                summarise(colnames = substr(col, 7, nchar(col)),\n",
    "                          oncokb = sum(is_in_oncokb == \"yes\"),\n",
    "                          civic  = sum(is_in_civic == \"yes\"),\n",
    "                          cgi    = sum(is_in_cgi == \"yes\"),\n",
    "                          candl  = sum(is_in_candl == \"yes\")))\n",
    "}\n",
    "r\n",
    "ggballoonplot(r[,c(\"oncokb\", \"civic\", \"cgi\", \"candl\")], fill = \"value\") + scale_fill_viridis_c(option = \"C\")"
   ]
  },
  {
   "cell_type": "code",
   "execution_count": 22,
   "metadata": {
    "hidden": true
   },
   "outputs": [],
   "source": [
    "source(\"../src/utils/custom_tools.R\")\n",
    "setup_environment(\"../src/utils\")"
   ]
  },
  {
   "cell_type": "code",
   "execution_count": 3,
   "metadata": {
    "hidden": true
   },
   "outputs": [],
   "source": [
    "impact <- read.table(\"../data/cleaned_IMPACT_mutations_180508.txt\", sep = \"\\t\", stringsAsFactors = FALSE, header = TRUE)\n",
    "#impact <- add_features(\"../data/\", impact, annotations = TRUE)"
   ]
  },
  {
   "cell_type": "markdown",
   "metadata": {},
   "source": [
    "# mutation distances checker"
   ]
  },
  {
   "cell_type": "code",
   "execution_count": null,
   "metadata": {},
   "outputs": [],
   "source": [
    "check_distance <- function(starts, ends, mut_key, result) {\n",
    "    if (length(starts) <= 1)\n",
    "        return (result)\n",
    "    \n",
    "    for (i in 2:length(starts)) {\n",
    "        if (starts[[i]] <= starts[[1]] & ends[[i]] >= starts[[1]] | starts[[i]] >= starts[[1]] & starts[[i]] <= ends[[1]]) {\n",
    "            r1 <- data.frame(paste(starts[[1]], ends[[1]], sep = '_'), mut_key[[1]])\n",
    "            r2 <- data.frame(paste(starts[[i]], ends[[i]], sep = '_'), mut_key[[i]])\n",
    "            colnames(r1) <- c(\"v1\", \"v2\")\n",
    "            colnames(r2) <- c(\"v1\", \"v2\")\n",
    "            \n",
    "            \n",
    "            result <- rbind(result, r1)\n",
    "            result <- rbind(result, r2)\n",
    "            \n",
    "            starts <- starts[-1]\n",
    "            starts <- starts[-i]\n",
    "            \n",
    "            ends <- ends[-1]\n",
    "            ends <- ends[-i]\n",
    "            \n",
    "            mut_key <- mut_key[-1]\n",
    "            mut_key <- mut_key[-i]\n",
    "            \n",
    "            break\n",
    "        }\n",
    "    }\n",
    "    \n",
    "    if (length(starts) <= 1)\n",
    "        return (result)\n",
    "    \n",
    "    return (check_distance(starts[2:length(starts)], ends[2:length(starts)], mut_key[2:length(starts)], result))\n",
    "}\n",
    "\n",
    "get_pos <- function(result) {\n",
    "    if (nrow(result) == 0)\n",
    "        return (\"\")\n",
    "    else\n",
    "        return (toString(result$v1))\n",
    "}\n",
    "\n",
    "get_mut <- function(result) {\n",
    "    if (nrow(result) == 0)\n",
    "        return (\"\")\n",
    "    else\n",
    "        return (toString(result$v2))\n",
    "}\n",
    "\n",
    "\n",
    "\n",
    "\n",
    "dd2 <- dd %>% group_by(Tumor_Sample_Barcode, Hugo_Symbol) %>% summarise(count = n(),\n",
    "                                                                       pos = get_pos(check_distance(Start_Position, End_Position, mut_key, data.frame())),\n",
    "                                                                       mut_key = get_mut(check_distance(Start_Position, End_Position, mut_key, data.frame()))) %>%\n",
    "                                                             filter(pos != \"\")\n",
    "nrow(dd2)\n",
    "head(dd2, 10)"
   ]
  }
 ],
 "metadata": {
  "kernelspec": {
   "display_name": "R",
   "language": "R",
   "name": "ir"
  },
  "language_info": {
   "codemirror_mode": "r",
   "file_extension": ".r",
   "mimetype": "text/x-r-source",
   "name": "R",
   "pygments_lexer": "r",
   "version": "3.5.0"
  }
 },
 "nbformat": 4,
 "nbformat_minor": 2
}
