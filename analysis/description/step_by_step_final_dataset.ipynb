{
 "cells": [
  {
   "cell_type": "markdown",
   "metadata": {},
   "source": [
    "# Step by step creation of the final dataset\n",
    "\n",
    "**Goal:** bla\n",
    "\n",
    "This notebook is divided in ? parts:\n",
    "* **1 .Bla**: bla\n",
    "\n",
    "**Refs:**\n",
    "* [`first_analysis.ipynb`](https://github.com/ElsaB/impact-annotator/blob/master/analysis/description/180731_pierre/first_analysis.ipynb)\n",
    "* [`click_annotvcf_annotations_analysis.ipynb`](https://github.com/ElsaB/impact-annotator/blob/master/analysis/description/180731_pierre/click_annotvcf_annotations_analysis.ipynb)"
   ]
  },
  {
   "cell_type": "code",
   "execution_count": 1,
   "metadata": {},
   "outputs": [],
   "source": [
    "source(\"../../src/utils/custom_tools.R\")\n",
    "setup_environment(\"../../src/utils\")"
   ]
  },
  {
   "cell_type": "code",
   "execution_count": 2,
   "metadata": {},
   "outputs": [],
   "source": [
    "source(\"../../data/utils/get_final_dataset.R\")\n",
    "data_path <- \"../../data\""
   ]
  },
  {
   "cell_type": "code",
   "execution_count": 3,
   "metadata": {},
   "outputs": [
    {
     "name": "stdout",
     "output_type": "stream",
     "text": [
      "Get raw impact...\n",
      "Time difference of 22.60104 secs\n"
     ]
    }
   ],
   "source": [
    "old <- Sys.time()\n",
    "cat(\"Get raw impact...\\n\")\n",
    "impact <- read.table(paste0(data_path, \"/all_IMPACT_mutations_180508.txt\"),\n",
    "                     sep = \"\\t\", stringsAsFactors = FALSE, header = TRUE)\n",
    "new <- Sys.time() - old\n",
    "print(new)"
   ]
  },
  {
   "cell_type": "code",
   "execution_count": 4,
   "metadata": {},
   "outputs": [
    {
     "name": "stdout",
     "output_type": "stream",
     "text": [
      "\n",
      "Get impact_annotated (impact annotated with click_annotvcf)...\n",
      "Time difference of 2.668502 mins\n"
     ]
    }
   ],
   "source": [
    "old <- Sys.time()\n",
    "cat(\"\\nGet impact_annotated (impact annotated with click_annotvcf)...\\n\")\n",
    "impact_annotated <- get_impact_annotated()\n",
    "new <- Sys.time() - old\n",
    "print(new)"
   ]
  },
  {
   "cell_type": "code",
   "execution_count": 5,
   "metadata": {},
   "outputs": [
    {
     "name": "stdout",
     "output_type": "stream",
     "text": [
      "\n",
      "Join impact and impact_annotated...\n",
      "Time difference of 37.33428 secs\n"
     ]
    }
   ],
   "source": [
    "old <- Sys.time()\n",
    "cat(\"\\nJoin impact and impact_annotated...\\n\")\n",
    "impact <- add_click_annotvcf_annotations(impact, impact_annotated)\n",
    "new <- Sys.time() - old\n",
    "print(new)"
   ]
  },
  {
   "cell_type": "code",
   "execution_count": 6,
   "metadata": {},
   "outputs": [
    {
     "name": "stdout",
     "output_type": "stream",
     "text": [
      "\n",
      "Filter impact...\n",
      "Time difference of 1.077296 mins\n"
     ]
    }
   ],
   "source": [
    "old <- Sys.time()\n",
    "cat(\"\\nFilter impact...\\n\")\n",
    "impact <- filter_impact(impact)\n",
    "new <- Sys.time() - old\n",
    "print(new)"
   ]
  },
  {
   "cell_type": "code",
   "execution_count": null,
   "metadata": {},
   "outputs": [
    {
     "name": "stdout",
     "output_type": "stream",
     "text": [
      "\n",
      "Process raw features...\n"
     ]
    }
   ],
   "source": [
    "old <- Sys.time()\n",
    "cat(\"\\nProcess raw features...\\n\")\n",
    "impact <- process_raw_features(impact)\n",
    "new <- Sys.time() - old\n",
    "print(new)"
   ]
  },
  {
   "cell_type": "code",
   "execution_count": null,
   "metadata": {},
   "outputs": [],
   "source": [
    "old <- Sys.time()\n",
    "cat(\"\\nAdd new features...\\n\")\n",
    "impact <- add_new_features(impact)\n",
    "new <- Sys.time() - old\n",
    "print(new)"
   ]
  },
  {
   "cell_type": "code",
   "execution_count": null,
   "metadata": {},
   "outputs": [],
   "source": [
    "cat(\"\\n\", nrow(impact))"
   ]
  },
  {
   "cell_type": "code",
   "execution_count": null,
   "metadata": {},
   "outputs": [],
   "source": [
    "head(impact)"
   ]
  }
 ],
 "metadata": {
  "kernelspec": {
   "display_name": "R",
   "language": "R",
   "name": "ir"
  },
  "language_info": {
   "codemirror_mode": "r",
   "file_extension": ".r",
   "mimetype": "text/x-r-source",
   "name": "R",
   "pygments_lexer": "r",
   "version": "3.5.1"
  }
 },
 "nbformat": 4,
 "nbformat_minor": 2
}
