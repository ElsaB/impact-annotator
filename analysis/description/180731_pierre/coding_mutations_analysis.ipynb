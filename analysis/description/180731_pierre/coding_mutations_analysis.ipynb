{
 "cells": [
  {
   "cell_type": "markdown",
   "metadata": {},
   "source": [
    "# Analysis of the coding mutations\n",
    "\n",
    "Created: **17/07/18**  \n",
    "Last modified: **02/08/18**\n",
    "\n",
    "**Goal:** further analysis on the cleaned dataset `cleaned_IMPACT_mutations_180508.txt`, enriched with the annotations from the `add_features()` function obtained at the end of `annotate_cleaned_dataset.ipynb`. The `synonymous_SNV` are excluded from this study, which only focus on the coding mutations.  \n",
    "This notebook is divided in two parts:\n",
    "* **1. The `class` feature: somatic vs non-somatic**: introduce a new feature to class the coding mutations as somatic or non-somatic, and compare these two classes (frequency_in_normals, vaf, strand bias, Kaviar_AF, cosmic count).  \n",
    "* **2. The `mut_key` feature: study of reccurent mutations**: study the reccurence of coding mutations and the inconsistent `class` classification.\n",
    "\n",
    "**Refs:**\n",
    "* [CodingDistributions.Rmd [Elsa]](\n",
    "https://github.com/ElsaB/impact-annotator/blob/master/analysis/description/180510_elsa/CodingDistributions.Rmd)"
   ]
  },
  {
   "cell_type": "markdown",
   "metadata": {
    "toc": true
   },
   "source": [
    "<h1>Table of Contents<span class=\"tocSkip\"></span></h1>\n",
    "<div class=\"toc\"><ul class=\"toc-item\"><li><span><a href=\"#The-class-feature:-somatic-vs-non-somatic\" data-toc-modified-id=\"The-class-feature:-somatic-vs-non-somatic-1\"><span class=\"toc-item-num\">1&nbsp;&nbsp;</span>The <code>class</code> feature: somatic vs non-somatic</a></span><ul class=\"toc-item\"><li><span><a href=\"#Creating-the-feature\" data-toc-modified-id=\"Creating-the-feature-1.1\"><span class=\"toc-item-num\">1.1&nbsp;&nbsp;</span>Creating the feature</a></span></li><li><span><a href=\"#Comparison-of-the-frequency_in_normals\" data-toc-modified-id=\"Comparison-of-the-frequency_in_normals-1.2\"><span class=\"toc-item-num\">1.2&nbsp;&nbsp;</span>Comparison of the <code>frequency_in_normals</code></a></span></li><li><span><a href=\"#Comparison-of-the-t_vaf\" data-toc-modified-id=\"Comparison-of-the-t_vaf-1.3\"><span class=\"toc-item-num\">1.3&nbsp;&nbsp;</span>Comparison of the <code>t_vaf</code></a></span></li><li><span><a href=\"#Comparison-of-the-strand-bias\" data-toc-modified-id=\"Comparison-of-the-strand-bias-1.4\"><span class=\"toc-item-num\">1.4&nbsp;&nbsp;</span>Comparison of the strand bias</a></span></li><li><span><a href=\"#Comparison-of-Kaviar_AF\" data-toc-modified-id=\"Comparison-of-Kaviar_AF-1.5\"><span class=\"toc-item-num\">1.5&nbsp;&nbsp;</span>Comparison of <code>Kaviar_AF</code></a></span></li><li><span><a href=\"#Comparison-of-cosmic_count\" data-toc-modified-id=\"Comparison-of-cosmic_count-1.6\"><span class=\"toc-item-num\">1.6&nbsp;&nbsp;</span>Comparison of <code>cosmic_count</code></a></span></li></ul></li><li><span><a href=\"#The-key-feature:-study-of-reccurent-mutations\" data-toc-modified-id=\"The-key-feature:-study-of-reccurent-mutations-2\"><span class=\"toc-item-num\">2&nbsp;&nbsp;</span>The <code>key</code> feature: study of reccurent mutations</a></span><ul class=\"toc-item\"><li><span><a href=\"#Identify-the-reccurent-mutations\" data-toc-modified-id=\"Identify-the-reccurent-mutations-2.1\"><span class=\"toc-item-num\">2.1&nbsp;&nbsp;</span>Identify the reccurent mutations</a></span></li><li><span><a href=\"#Sudy-of-the-reccurent-mutations\" data-toc-modified-id=\"Sudy-of-the-reccurent-mutations-2.2\"><span class=\"toc-item-num\">2.2&nbsp;&nbsp;</span>Sudy of the reccurent mutations</a></span></li><li><span><a href=\"#Study-of-the-proportion-of-inconsistent-features\" data-toc-modified-id=\"Study-of-the-proportion-of-inconsistent-features-2.3\"><span class=\"toc-item-num\">2.3&nbsp;&nbsp;</span>Study of the proportion of inconsistent features</a></span></li></ul></li></ul></div>"
   ]
  },
  {
   "cell_type": "markdown",
   "metadata": {},
   "source": [
    "***"
   ]
  },
  {
   "cell_type": "code",
   "execution_count": 1,
   "metadata": {},
   "outputs": [],
   "source": [
    "source(\"../../../src/utils/custom_tools.R\")\n",
    "setup_environment()"
   ]
  },
  {
   "cell_type": "code",
   "execution_count": null,
   "metadata": {},
   "outputs": [],
   "source": [
    "impact <- read.table(\"../../../data/cleaned_IMPACT_mutations_180508.txt\", sep = \"\\t\", stringsAsFactors = FALSE, header = TRUE)\n",
    "impact <- add_features(\"../../../data/\", impact, annotations = TRUE)"
   ]
  },
  {
   "cell_type": "markdown",
   "metadata": {},
   "source": [
    "The `synonymous_SNV` are excluded from this study, which focus only on the coding mutations. Anyway most of them were classified as `UNKNOWN`."
   ]
  },
  {
   "cell_type": "code",
   "execution_count": null,
   "metadata": {},
   "outputs": [],
   "source": [
    "impact <- impact[impact$Consequence != \"synonymous_SNV\",] # remove the synonymous mutations\n",
    "nrow(impact)"
   ]
  },
  {
   "cell_type": "markdown",
   "metadata": {},
   "source": [
    "## The `class` feature: somatic vs non-somatic"
   ]
  },
  {
   "cell_type": "markdown",
   "metadata": {},
   "source": [
    "### Creating the feature"
   ]
  },
  {
   "cell_type": "markdown",
   "metadata": {},
   "source": [
    "We remove the mutations curated as `UNKNOWN` and create a new feature `class`:\n",
    "* A mutation has `class = somatic` if `confidence_class = AUTO_OK | MANUAL_OK`\n",
    "* A mutation has `class = non-somatic` if `confidence_class = UNLIKELY | OK_NOT_SO` (it is either a germline or an artefact)"
   ]
  },
  {
   "cell_type": "code",
   "execution_count": null,
   "metadata": {
    "scrolled": false
   },
   "outputs": [],
   "source": [
    "impact <- impact[impact$confidence_class != \"UNKNOWN\",] # keep only the curated mutation\n",
    "impact$class <- \"non-somatic\"\n",
    "impact$class[impact$confidence_class == \"AUTO_OK\" | impact$confidence_class == \"MANUAL_OK\"] <- \"somatic\"\n",
    "addmargins(table(impact$class, impact$confidence_class), margin = 2)\n",
    "100 * nrow(impact[impact$class == \"non-somatic\",]) / nrow(impact) # percentage of non-somatic mutations"
   ]
  },
  {
   "cell_type": "markdown",
   "metadata": {},
   "source": [
    "The dataset is highly unbalanced with 11,213 non-somatic mutations ($5.7\\%$ of the samples) vs 187,098 somatic mutations ($94.3\\%$ of the samples)."
   ]
  },
  {
   "cell_type": "code",
   "execution_count": null,
   "metadata": {},
   "outputs": [],
   "source": [
    "plot_contingency_table_as_histograms(impact, \"Consequence\", \"class\")\n",
    "plot_contingency_table_as_histograms(impact, \"Variant_Type\", \"class\", 10, 2.5)"
   ]
  },
  {
   "cell_type": "markdown",
   "metadata": {},
   "source": [
    "Nothing particularly interesting was found here, it does not seem the mutation `Consequence` or `Variant_Type` features have a clear impact on the `class` of the mutation. We can notice the relatively high amount of `non-somatic` in the `nonframeshift_deletion` and `nonframeshift_insertion` mutations."
   ]
  },
  {
   "cell_type": "markdown",
   "metadata": {},
   "source": [
    "### Comparison of the `frequency_in_normals`"
   ]
  },
  {
   "cell_type": "markdown",
   "metadata": {},
   "source": [
    "Distribution of `frequency_in_normals` for the somatic vs non-somatic `class` (warning this is a sqrt x and sqrt y scale):"
   ]
  },
  {
   "cell_type": "code",
   "execution_count": null,
   "metadata": {},
   "outputs": [],
   "source": [
    "plot_density(impact, \"frequency_in_normals\", \"class\") + scale_x_sqrt() + scale_y_sqrt()"
   ]
  },
  {
   "cell_type": "markdown",
   "metadata": {},
   "source": [
    "Overall the non-somatic mutations are, as expected, more present in normals (due to the germline part). However there are some somatic mutations with a not-so-close-to-0 `frequency_in_normals`:"
   ]
  },
  {
   "cell_type": "code",
   "execution_count": null,
   "metadata": {},
   "outputs": [],
   "source": [
    "nrow(impact[impact$frequency_in_normals > 0   & impact$class == \"somatic\",])\n",
    "nrow(impact[impact$frequency_in_normals > 0.1 & impact$class == \"somatic\",])\n",
    "nrow(impact[impact$frequency_in_normals > 0.2 & impact$class == \"somatic\",])\n",
    "\n",
    "notebook_plot_size(6, 2)\n",
    "plot1 <- ggplot(impact[impact$frequency_in_normals > 0  ,]) + geom_bar(aes(class)) + ggtitle(\"frequency_in_normals > 0\"  ) + theme(plot.title = element_text(hjust = 0.5))\n",
    "plot2 <- ggplot(impact[impact$frequency_in_normals > 0.1,]) + geom_bar(aes(class)) + ggtitle(\"frequency_in_normals > 0.1\") + theme(plot.title = element_text(hjust = 0.5))\n",
    "plot_side_by_side(plot1, plot2)"
   ]
  },
  {
   "cell_type": "code",
   "execution_count": null,
   "metadata": {},
   "outputs": [],
   "source": [
    "get_possible_correlations(impact[impact$frequency_in_normals > 0.1 & impact$class == \"somatic\",])"
   ]
  },
  {
   "cell_type": "code",
   "execution_count": null,
   "metadata": {},
   "outputs": [],
   "source": [
    "get_possible_correlations(impact[impact$frequency_in_normals > 0 & impact$class == \"somatic\",])"
   ]
  },
  {
   "cell_type": "markdown",
   "metadata": {},
   "source": [
    "### Comparison of the `t_vaf`"
   ]
  },
  {
   "cell_type": "markdown",
   "metadata": {},
   "source": [
    "Distribution of `t_vaf` for the somatic vs non-somatic `class`:"
   ]
  },
  {
   "cell_type": "code",
   "execution_count": null,
   "metadata": {
    "scrolled": false
   },
   "outputs": [],
   "source": [
    "plot_density(impact, \"t_vaf\", \"class\")"
   ]
  },
  {
   "cell_type": "markdown",
   "metadata": {},
   "source": [
    "From `CodingDistributions.Rmd [Elsa]`: \"As expected, the non-somatic density has a peak at 0.5 (ie the likely germline calls), and a peak at low VAF (ie the likely artefacts calls).\""
   ]
  },
  {
   "cell_type": "markdown",
   "metadata": {},
   "source": [
    "### Comparison of the strand bias"
   ]
  },
  {
   "cell_type": "markdown",
   "metadata": {},
   "source": [
    "We evaluate the `strand_ratio` for each mutation as:\n",
    "$$\\text{strand_ratio}\\ =\\ \\frac{\\min(\\text{t_alt_neg_count}, \\text{t_alt_plus_count})}\n",
    "                              {\\max(\\text{t_alt_neg_count}, \\text{t_alt_plus_count})}$$\n",
    "                              \n",
    "e.g. the lowest count over the maximum count, thus giving a result between 0 and 1 (1 being a low strand bias, because the count for the neg and pos are the same)."
   ]
  },
  {
   "cell_type": "code",
   "execution_count": null,
   "metadata": {},
   "outputs": [],
   "source": [
    "impact$strand_ratio <- pmin(impact$t_alt_neg_count, impact$t_alt_plus_count) /\n",
    "                       pmax(impact$t_alt_neg_count, impact$t_alt_plus_count)"
   ]
  },
  {
   "cell_type": "markdown",
   "metadata": {},
   "source": [
    "Distribution of `strand_ratio` for the somatic vs non-somatic `class` (warning this is a sqrt x and sqrt y scale):"
   ]
  },
  {
   "cell_type": "code",
   "execution_count": null,
   "metadata": {},
   "outputs": [],
   "source": [
    "plot_density(impact, \"strand_ratio\", \"class\") + scale_x_sqrt() + scale_y_sqrt()"
   ]
  },
  {
   "cell_type": "markdown",
   "metadata": {},
   "source": [
    "From `CodingDistributions.Rmd [Elsa]`: \"As expected, the non-somatic density has a heavier low strand ratio tail (likely from the artefact calls), although this is not very pronounced.\""
   ]
  },
  {
   "cell_type": "markdown",
   "metadata": {},
   "source": [
    "Below is an attempt to plot the `strand_ratio` vs the `t_vaf` to separate the germline (`t_vaf` $\\approx 0.5$ and high `strand_ratio`) from the artefact (low `t_vaf` and low `strand_ratio`):"
   ]
  },
  {
   "cell_type": "code",
   "execution_count": null,
   "metadata": {},
   "outputs": [],
   "source": [
    "notebook_plot_size(10, 8)\n",
    "plot1 <- ggplot(impact[impact$class == \"somatic\",]) + geom_hex(aes(strand_ratio, t_vaf)) +\n",
    "         scale_fill_gradient(low = \"#FFEDA0\", high = \"#F03B20\") +\n",
    "         ggtitle(\"somatic\") + theme(plot.title = element_text(hjust = 0.5))\n",
    "plot2 <- ggplot(impact[impact$class == \"non-somatic\",]) + geom_hex(aes(strand_ratio, t_vaf)) +\n",
    "         scale_fill_gradient(low = \"#FFEDA0\", high = \"#F03B20\") +\n",
    "         ggtitle(\"non-somatic\") + theme(plot.title = element_text(hjust = 0.5))\n",
    "plot3 <- ggplot(impact[impact$class == \"somatic\",]) +\n",
    "         stat_density_2d(aes(strand_bias, t_vaf, fill = ..level..), geom = \"polygon\") +\n",
    "         scale_fill_gradientn(colors = c(\"#FFEDA0\", \"#FEB24C\", \"#F03B20\")) +\n",
    "         coord_cartesian(xlim = c(0, 1), ylim = c(0, 1))\n",
    "plot4 <- ggplot(impact[impact$class == \"non-somatic\",]) +\n",
    "         stat_density_2d(aes(strand_bias, t_vaf, fill = ..level..), geom = \"polygon\") +\n",
    "         scale_fill_gradientn(colors = c(\"#FFEDA0\", \"#FEB24C\", \"#F03B20\")) +\n",
    "         coord_cartesian(xlim = c(0, 1), ylim = c(0, 1))\n",
    "\n",
    "plot_grid(plot1, plot2, plot3, plot4, ncol = 2, nrow = 2)"
   ]
  },
  {
   "cell_type": "markdown",
   "metadata": {},
   "source": [
    "We observe "
   ]
  },
  {
   "cell_type": "markdown",
   "metadata": {},
   "source": [
    "We clearly see the domain of the germline with a peak at `t_vaf = 0.5` in the lower right graph."
   ]
  },
  {
   "cell_type": "markdown",
   "metadata": {},
   "source": [
    "### Comparison of `Kaviar_AF`"
   ]
  },
  {
   "cell_type": "markdown",
   "metadata": {},
   "source": [
    "Distribution of `Kaviar_AF` for the somatic vs non-somatic `class` (warning this is a sqrt x and sqrt y scale):"
   ]
  },
  {
   "cell_type": "code",
   "execution_count": null,
   "metadata": {},
   "outputs": [],
   "source": [
    "plot_density(impact, \"Kaviar_AF\", \"class\") + scale_x_sqrt() + scale_y_sqrt()"
   ]
  },
  {
   "cell_type": "markdown",
   "metadata": {},
   "source": [
    "What was expected appears clearly, the `non-somatic` class presents a way longer tail on the higher `Kaviar_AF` value (due to the germline calls)."
   ]
  },
  {
   "cell_type": "code",
   "execution_count": null,
   "metadata": {},
   "outputs": [],
   "source": [
    "summary(impact$Kaviar_AF[impact$class == \"somatic\"])\n",
    "summary(impact$Kaviar_AF[impact$class == \"non-somatic\"])"
   ]
  },
  {
   "cell_type": "markdown",
   "metadata": {},
   "source": [
    "### Comparison of `cosmic_count`"
   ]
  },
  {
   "cell_type": "markdown",
   "metadata": {},
   "source": [
    "Distribution of `cosmic_count` for the somatic vs non-somatic `class` (warning this is a sqrt x and sqrt y scale):"
   ]
  },
  {
   "cell_type": "code",
   "execution_count": null,
   "metadata": {
    "scrolled": false
   },
   "outputs": [],
   "source": [
    "plot_density(impact, \"cosmic_count\", \"class\", lines = 1000) + scale_x_sqrt() + scale_y_sqrt()"
   ]
  },
  {
   "cell_type": "code",
   "execution_count": null,
   "metadata": {},
   "outputs": [],
   "source": [
    "summary(impact$cosmic_count[impact$class == \"somatic\"])\n",
    "summary(impact$cosmic_count[impact$class == \"non-somatic\"])"
   ]
  },
  {
   "cell_type": "markdown",
   "metadata": {},
   "source": [
    "We observe here that the mutations with a high `cosmic_count` are mostly classified as somatic, even if some have been curated as non_somatic."
   ]
  },
  {
   "cell_type": "code",
   "execution_count": null,
   "metadata": {},
   "outputs": [],
   "source": [
    "unique(impact %>% filter(cosmic_count >= 1000) %>%\n",
    "       group_by(mut_key) %>%\n",
    "       mutate(n_somatic = sum(class == \"somatic\"), n_non_somatic = sum(class == \"non-somatic\")) %>%\n",
    "       select(mut_key, Hugo_Symbol, HGVSp_Short, Variant_Type, Consequence, cosmic_count, n_somatic, n_non_somatic) %>%\n",
    "       arrange(cosmic_count))"
   ]
  },
  {
   "cell_type": "markdown",
   "metadata": {},
   "source": [
    "## The `key` feature: study of reccurent mutations"
   ]
  },
  {
   "cell_type": "markdown",
   "metadata": {},
   "source": [
    "Each mutations is identified by a unique key `mut_key` : `Chromosome`_`Start_Position`_`Reference_Allele`_`Tumor_Seq_Allele2`. The mutations sharing the same key are the same."
   ]
  },
  {
   "cell_type": "code",
   "execution_count": null,
   "metadata": {
    "scrolled": true
   },
   "outputs": [],
   "source": [
    "head(impact$mut_key)\n",
    "length(unique(impact$mut_key)) # number of different keys e.g. number of different mutations"
   ]
  },
  {
   "cell_type": "markdown",
   "metadata": {},
   "source": [
    "### Identify the reccurent mutations"
   ]
  },
  {
   "cell_type": "markdown",
   "metadata": {},
   "source": [
    "We need to study the reccurence of mutations taking care not to consider a mutation as recurrent if it comes frome the same patient. To do so we will group the rows by patient, and select only the distinct mutations for each patient:"
   ]
  },
  {
   "cell_type": "code",
   "execution_count": null,
   "metadata": {},
   "outputs": [],
   "source": [
    "# create a patient id (no problem will be caused by 'None-T01-IM6' which will become 'None-T01-')\n",
    "impact$patient_id <- substr(impact$Tumor_Sample_Barcode, 1, 9)\n",
    "head(unique(impact$patient_id))"
   ]
  },
  {
   "cell_type": "code",
   "execution_count": null,
   "metadata": {},
   "outputs": [],
   "source": [
    "impact_unique_mut_keys_per_patient <- as.data.frame(impact %>% group_by(patient_id) %>%\n",
    "                                                               select(patient_id, mut_key, Hugo_Symbol, Consequence, Variant_Type, class) %>%\n",
    "                                                               filter(! duplicated(mut_key)))\n",
    "head(impact_unique_mut_keys_per_patient)"
   ]
  },
  {
   "cell_type": "code",
   "execution_count": null,
   "metadata": {
    "scrolled": true
   },
   "outputs": [],
   "source": [
    "mut_key_info <- as.data.frame(table(impact_unique_mut_keys_per_patient$mut_key))\n",
    "colnames(mut_key_info) <- c(\"mut_key\", \"count\")\n",
    "head(mut_key_info)"
   ]
  },
  {
   "cell_type": "code",
   "execution_count": null,
   "metadata": {},
   "outputs": [],
   "source": [
    "for (threshold in c(2, 3, 5, 10)) {\n",
    "    \n",
    "    n_keys_shared <- nrow(mut_key_info[mut_key_info$count >= threshold,])\n",
    "    print(sprintf(\"%2.0f%% (%5d) of the mutation keys are shared by at least %2d samples\",\n",
    "                  100 * n_keys_shared / nrow(mut_key_info),\n",
    "                  n_keys_shared,\n",
    "                  threshold))\n",
    "}"
   ]
  },
  {
   "cell_type": "markdown",
   "metadata": {},
   "source": [
    "Distribution of the mutations key count for the mutations present in at least 2 samples (warning this is a sqrt x and y scale):"
   ]
  },
  {
   "cell_type": "code",
   "execution_count": null,
   "metadata": {},
   "outputs": [],
   "source": [
    "repeated_key <- mut_key_info[mut_key_info$count >= 2,] # keys shared by at least 2 samples\n",
    "plot_density(repeated_key, \"count\", adjust = 5, lines = 10) + scale_y_sqrt() + scale_x_sqrt()"
   ]
  },
  {
   "cell_type": "markdown",
   "metadata": {},
   "source": [
    "### Sudy of the reccurent mutations"
   ]
  },
  {
   "cell_type": "code",
   "execution_count": null,
   "metadata": {
    "scrolled": true
   },
   "outputs": [],
   "source": [
    "impact_rec <- impact_unique_mut_keys_per_patient[impact_unique_mut_keys_per_patient$mut_key %in% repeated_key$mut_key,]\n",
    "length(unique(impact_rec$Hugo_Symbol))"
   ]
  },
  {
   "cell_type": "code",
   "execution_count": null,
   "metadata": {
    "scrolled": false
   },
   "outputs": [],
   "source": [
    "impact_rec <- sort_histogram(impact_rec, \"Hugo_Symbol\")\n",
    "notebook_plot_size(10, 2)\n",
    "ggplot(impact_rec) + geom_bar(aes(Hugo_Symbol)) + theme(axis.text.x = element_blank())\n",
    "plot_histogram_top(impact_rec, \"Hugo_Symbol\", 20) + theme(axis.text.x = element_text(angle = 45, hjust = 1))"
   ]
  },
  {
   "cell_type": "markdown",
   "metadata": {},
   "source": [
    "### Study of the proportion of inconsistent features"
   ]
  },
  {
   "cell_type": "markdown",
   "metadata": {},
   "source": [
    "The mutations sharing the same key should have the same `class`, we evaluate the number of keys and mutations which have different `class` values (e.g the number of mutations classified as `somatic` once and `non-somatic` another time):"
   ]
  },
  {
   "cell_type": "code",
   "execution_count": null,
   "metadata": {},
   "outputs": [],
   "source": [
    "keys_inconsistent_class <- impact %>% filter(mut_key %in% repeated_key$mut_key) %>%\n",
    "                                      group_by(mut_key) %>%\n",
    "                                      summarise(n_class = length(unique(class)),\n",
    "                                                n_somatic = sum(class == \"somatic\"),\n",
    "                                                n_non_somatic = sum(class == \"non-somatic\"),\n",
    "                                                prop_somatic = n_somatic / (n_somatic + n_non_somatic)) %>%\n",
    "                                      filter(n_class > 1)\n",
    "\n",
    "sprintf(\"%.2f%% (%d) keys with inconsistent class ie %.2f%% (%d) of the mutations\",\n",
    "        nrow(keys_inconsistent_class) / length(unique(impact$mut_key)) * 100,\n",
    "        nrow(keys_inconsistent_class),\n",
    "        nrow(impact[impact$mut_key %in% keys_inconsistent_class$mut_key,]) / nrow(impact) * 100, \n",
    "        nrow(impact[impact$mut_key %in% keys_inconsistent_class$mut_key,]))"
   ]
  },
  {
   "cell_type": "markdown",
   "metadata": {},
   "source": [
    "$10\\%$ of the rows have a controversed class! Now we want to have an idea of the error: among the inconsistent labels is it always 50% somatic and 50% non-somatic, is it mostly somatic and sometimes non-somatic, another repartition? The plot below shows the repartition of the proportion of somatic among the inconsistent `keys`:"
   ]
  },
  {
   "cell_type": "code",
   "execution_count": null,
   "metadata": {},
   "outputs": [],
   "source": [
    "plot_density(keys_inconsistent_class, \"prop_somatic\", height = 2, adjust = 1/3)"
   ]
  },
  {
   "cell_type": "markdown",
   "metadata": {},
   "source": [
    "So the errors are more uncertainity than real errors: in most cases, the mutation was equally classified as `somatic` than as `non-somatic`. The heavier tail on the `somatic` side is maybe due to the bigger proportion of `somatic` mutations in the dataset."
   ]
  }
 ],
 "metadata": {
  "kernelspec": {
   "display_name": "R",
   "language": "R",
   "name": "ir"
  },
  "language_info": {
   "codemirror_mode": "r",
   "file_extension": ".r",
   "mimetype": "text/x-r-source",
   "name": "R",
   "pygments_lexer": "r",
   "version": "3.5.1"
  },
  "notify_time": "10",
  "toc": {
   "base_numbering": 1,
   "nav_menu": {},
   "number_sections": true,
   "sideBar": false,
   "skip_h1_title": true,
   "title_cell": "Table of Contents",
   "title_sidebar": "Contents",
   "toc_cell": true,
   "toc_position": {},
   "toc_section_display": true,
   "toc_window_display": false
  }
 },
 "nbformat": 4,
 "nbformat_minor": 2
}
