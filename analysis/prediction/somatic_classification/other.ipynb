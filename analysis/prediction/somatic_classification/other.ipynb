{
 "cells": [
  {
   "cell_type": "markdown",
   "metadata": {},
   "source": [
    "# Other\n",
    "\n",
    "**Goal:** Bla\n",
    "\n",
    "This notebook is divided in 2 parts:\n",
    "\n",
    "* **1. Bla**"
   ]
  },
  {
   "cell_type": "markdown",
   "metadata": {},
   "source": [
    "***"
   ]
  },
  {
   "cell_type": "code",
   "execution_count": 4,
   "metadata": {},
   "outputs": [
    {
     "name": "stdout",
     "output_type": "stream",
     "text": [
      "Setup environment... done!\n"
     ]
    },
    {
     "data": {
      "text/markdown": [
       "<span style=\"color:green\">✅ Working on **impact-annotator_env** conda environment.</span>"
      ],
      "text/plain": [
       "<IPython.core.display.Markdown object>"
      ]
     },
     "metadata": {},
     "output_type": "display_data"
    }
   ],
   "source": [
    "%run ../setup_environment.ipy"
   ]
  },
  {
   "cell_type": "code",
   "execution_count": 274,
   "metadata": {},
   "outputs": [
    {
     "data": {
      "text/html": [
       "<div>\n",
       "<style scoped>\n",
       "    .dataframe tbody tr th:only-of-type {\n",
       "        vertical-align: middle;\n",
       "    }\n",
       "\n",
       "    .dataframe tbody tr th {\n",
       "        vertical-align: top;\n",
       "    }\n",
       "\n",
       "    .dataframe thead th {\n",
       "        text-align: right;\n",
       "    }\n",
       "</style>\n",
       "<table border=\"1\" class=\"dataframe\">\n",
       "  <thead>\n",
       "    <tr style=\"text-align: right;\">\n",
       "      <th></th>\n",
       "      <th>count_</th>\n",
       "      <th>freq_</th>\n",
       "    </tr>\n",
       "  </thead>\n",
       "  <tbody>\n",
       "    <tr>\n",
       "      <th>False</th>\n",
       "      <td>187012</td>\n",
       "      <td>96.3%</td>\n",
       "    </tr>\n",
       "    <tr>\n",
       "      <th>True</th>\n",
       "      <td>7199</td>\n",
       "      <td>3.7%</td>\n",
       "    </tr>\n",
       "  </tbody>\n",
       "</table>\n",
       "</div>"
      ],
      "text/plain": [
       "       count_  freq_\n",
       "False  187012  96.3%\n",
       "True     7199   3.7%"
      ]
     },
     "metadata": {},
     "output_type": "display_data"
    },
    {
     "data": {
      "text/html": [
       "<div>\n",
       "<style scoped>\n",
       "    .dataframe tbody tr th:only-of-type {\n",
       "        vertical-align: middle;\n",
       "    }\n",
       "\n",
       "    .dataframe tbody tr th {\n",
       "        vertical-align: top;\n",
       "    }\n",
       "\n",
       "    .dataframe thead th {\n",
       "        text-align: right;\n",
       "    }\n",
       "</style>\n",
       "<table border=\"1\" class=\"dataframe\">\n",
       "  <thead>\n",
       "    <tr style=\"text-align: right;\">\n",
       "      <th></th>\n",
       "      <th>count_</th>\n",
       "      <th>freq_</th>\n",
       "    </tr>\n",
       "  </thead>\n",
       "  <tbody>\n",
       "    <tr>\n",
       "      <th>False</th>\n",
       "      <td>129238</td>\n",
       "      <td>66.5%</td>\n",
       "    </tr>\n",
       "    <tr>\n",
       "      <th>True</th>\n",
       "      <td>64973</td>\n",
       "      <td>33.5%</td>\n",
       "    </tr>\n",
       "  </tbody>\n",
       "</table>\n",
       "</div>"
      ],
      "text/plain": [
       "       count_  freq_\n",
       "False  129238  66.5%\n",
       "True    64973  33.5%"
      ]
     },
     "metadata": {},
     "output_type": "display_data"
    }
   ],
   "source": [
    "# get raw data\n",
    "impact = pd.read_csv('../../../data/annotated_final_IMPACT_mutations_180508.txt', sep='\\t', low_memory=False)\n",
    "\n",
    "# create the is_artefact class\n",
    "impact['is_artefact'] = impact.confidence_class == 'UNLIKELY'\n",
    "display(get_table(impact.is_artefact))\n",
    "\n",
    "# create the is_driver class\n",
    "impact['is_driver'] = False\n",
    "impact.loc[impact.oncogenic.isin(['Likely Oncogenic', 'Predicted Oncogenic', 'Oncogenic']), 'is_driver'] = True\n",
    "display(get_table(impact.is_driver))"
   ]
  },
  {
   "cell_type": "markdown",
   "metadata": {},
   "source": [
    "## Hotspots artefact"
   ]
  },
  {
   "cell_type": "code",
   "execution_count": 257,
   "metadata": {},
   "outputs": [
    {
     "name": "stderr",
     "output_type": "stream",
     "text": [
      "/Users/guilminp/anaconda3/lib/python3.6/site-packages/pandas/core/groupby/groupby.py:4656: FutureWarning: using a dict with renaming is deprecated and will be removed in a future version\n",
      "  return super(DataFrameGroupBy, self).aggregate(arg, *args, **kwargs)\n"
     ]
    },
    {
     "data": {
      "text/html": [
       "<div>\n",
       "<style scoped>\n",
       "    .dataframe tbody tr th:only-of-type {\n",
       "        vertical-align: middle;\n",
       "    }\n",
       "\n",
       "    .dataframe tbody tr th {\n",
       "        vertical-align: top;\n",
       "    }\n",
       "\n",
       "    .dataframe thead tr th {\n",
       "        text-align: left;\n",
       "    }\n",
       "\n",
       "    .dataframe thead tr:last-of-type th {\n",
       "        text-align: right;\n",
       "    }\n",
       "</style>\n",
       "<table border=\"1\" class=\"dataframe\">\n",
       "  <thead>\n",
       "    <tr>\n",
       "      <th></th>\n",
       "      <th>mut_key</th>\n",
       "      <th>VEP_SYMBOL</th>\n",
       "      <th colspan=\"2\" halign=\"left\">VEP_gnomAD_total_AF_max</th>\n",
       "    </tr>\n",
       "    <tr>\n",
       "      <th></th>\n",
       "      <th>number</th>\n",
       "      <th>x</th>\n",
       "      <th>x</th>\n",
       "      <th>str</th>\n",
       "    </tr>\n",
       "    <tr>\n",
       "      <th>mut_key</th>\n",
       "      <th></th>\n",
       "      <th></th>\n",
       "      <th></th>\n",
       "      <th></th>\n",
       "    </tr>\n",
       "  </thead>\n",
       "  <tbody>\n",
       "    <tr>\n",
       "      <th>10_104263959_C_T</th>\n",
       "      <td>1</td>\n",
       "      <td>SUFU</td>\n",
       "      <td>0.000531</td>\n",
       "      <td>0.05%</td>\n",
       "    </tr>\n",
       "    <tr>\n",
       "      <th>10_104263974_C_-</th>\n",
       "      <td>1</td>\n",
       "      <td>SUFU</td>\n",
       "      <td>0.000000</td>\n",
       "      <td>0.00%</td>\n",
       "    </tr>\n",
       "    <tr>\n",
       "      <th>10_104309726_G_T</th>\n",
       "      <td>1</td>\n",
       "      <td>SUFU</td>\n",
       "      <td>0.000000</td>\n",
       "      <td>0.00%</td>\n",
       "    </tr>\n",
       "    <tr>\n",
       "      <th>10_114711033_GT_CA</th>\n",
       "      <td>1</td>\n",
       "      <td>TCF7L2</td>\n",
       "      <td>0.000000</td>\n",
       "      <td>0.00%</td>\n",
       "    </tr>\n",
       "    <tr>\n",
       "      <th>10_114900968_A_T</th>\n",
       "      <td>1</td>\n",
       "      <td>TCF7L2</td>\n",
       "      <td>0.000000</td>\n",
       "      <td>0.00%</td>\n",
       "    </tr>\n",
       "  </tbody>\n",
       "</table>\n",
       "</div>"
      ],
      "text/plain": [
       "                   mut_key VEP_SYMBOL VEP_gnomAD_total_AF_max       \n",
       "                    number          x                       x    str\n",
       "mut_key                                                             \n",
       "10_104263959_C_T         1       SUFU                0.000531  0.05%\n",
       "10_104263974_C_-         1       SUFU                0.000000  0.00%\n",
       "10_104309726_G_T         1       SUFU                0.000000  0.00%\n",
       "10_114711033_GT_CA       1     TCF7L2                0.000000  0.00%\n",
       "10_114900968_A_T         1     TCF7L2                0.000000  0.00%"
      ]
     },
     "execution_count": 257,
     "metadata": {},
     "output_type": "execute_result"
    }
   ],
   "source": [
    "aggregation = {\n",
    "    'mut_key': {'number': 'count'},\n",
    "    'VEP_SYMBOL': {'x': lambda x: x.iloc[0]},\n",
    "    'VEP_gnomAD_total_AF_max': {'x': lambda x: x.iloc[0],\n",
    "                                'str': lambda x: '%.2f' % (x.iloc[0] * 100) + '%'}\n",
    "}\n",
    "\n",
    "dd = impact[impact.is_artefact].groupby('mut_key').aggregate(aggregation)\n",
    "dd.head()"
   ]
  },
  {
   "cell_type": "code",
   "execution_count": 189,
   "metadata": {},
   "outputs": [
    {
     "data": {
      "image/png": "[encoded data removed]",
      "text/plain": [
       "<Figure size 1440x576 with 2 Axes>"
      ]
     },
     "metadata": {
      "needs_background": "light"
     },
     "output_type": "display_data"
    }
   ],
   "source": [
    "fig, (ax0, ax1) = plt.subplots(1, 2, figsize=(20,8))\n",
    "ax0.hist(dd[dd.mut_key.number > 1].mut_key.number, bins=50);\n",
    "# 0.01%\n",
    "ax1.hist(dd[(dd.mut_key.number > 5) & (dd.VEP_gnomAD_total_AF_max.x >= 0.0001)].mut_key.number, bins=50, alpha = 0.3, color='red');\n",
    "ax1.hist(dd[(dd.mut_key.number > 5) & (dd.VEP_gnomAD_total_AF_max.x < 0.0001)].mut_key.number, bins=50, alpha = 0.3, color='blue');"
   ]
  },
  {
   "cell_type": "code",
   "execution_count": 261,
   "metadata": {},
   "outputs": [
    {
     "data": {
      "text/html": [
       "<div>\n",
       "<style scoped>\n",
       "    .dataframe tbody tr th:only-of-type {\n",
       "        vertical-align: middle;\n",
       "    }\n",
       "\n",
       "    .dataframe tbody tr th {\n",
       "        vertical-align: top;\n",
       "    }\n",
       "\n",
       "    .dataframe thead th {\n",
       "        text-align: right;\n",
       "    }\n",
       "</style>\n",
       "<table border=\"1\" class=\"dataframe\">\n",
       "  <thead>\n",
       "    <tr style=\"text-align: right;\">\n",
       "      <th></th>\n",
       "      <th>count_</th>\n",
       "      <th>freq_</th>\n",
       "    </tr>\n",
       "  </thead>\n",
       "  <tbody>\n",
       "    <tr>\n",
       "      <th>1</th>\n",
       "      <td>3655</td>\n",
       "      <td>82.8%</td>\n",
       "    </tr>\n",
       "    <tr>\n",
       "      <th>2</th>\n",
       "      <td>401</td>\n",
       "      <td>9.1%</td>\n",
       "    </tr>\n",
       "    <tr>\n",
       "      <th>3</th>\n",
       "      <td>118</td>\n",
       "      <td>2.7%</td>\n",
       "    </tr>\n",
       "    <tr>\n",
       "      <th>4</th>\n",
       "      <td>66</td>\n",
       "      <td>1.5%</td>\n",
       "    </tr>\n",
       "    <tr>\n",
       "      <th>5</th>\n",
       "      <td>45</td>\n",
       "      <td>1.0%</td>\n",
       "    </tr>\n",
       "  </tbody>\n",
       "</table>\n",
       "</div>"
      ],
      "text/plain": [
       "   count_  freq_\n",
       "1    3655  82.8%\n",
       "2     401   9.1%\n",
       "3     118   2.7%\n",
       "4      66   1.5%\n",
       "5      45   1.0%"
      ]
     },
     "execution_count": 261,
     "metadata": {},
     "output_type": "execute_result"
    }
   ],
   "source": [
    "get_table(dd.mut_key.number).head()"
   ]
  },
  {
   "cell_type": "code",
   "execution_count": 150,
   "metadata": {},
   "outputs": [
    {
     "data": {
      "text/html": [
       "<div>\n",
       "<style scoped>\n",
       "    .dataframe tbody tr th:only-of-type {\n",
       "        vertical-align: middle;\n",
       "    }\n",
       "\n",
       "    .dataframe tbody tr th {\n",
       "        vertical-align: top;\n",
       "    }\n",
       "\n",
       "    .dataframe thead th {\n",
       "        text-align: right;\n",
       "    }\n",
       "</style>\n",
       "<table border=\"1\" class=\"dataframe\">\n",
       "  <thead>\n",
       "    <tr style=\"text-align: right;\">\n",
       "      <th></th>\n",
       "      <th>count_</th>\n",
       "      <th>freq_</th>\n",
       "    </tr>\n",
       "  </thead>\n",
       "  <tbody>\n",
       "    <tr>\n",
       "      <th>TP53</th>\n",
       "      <td>139</td>\n",
       "      <td>3.1%</td>\n",
       "    </tr>\n",
       "    <tr>\n",
       "      <th>ARID1A</th>\n",
       "      <td>95</td>\n",
       "      <td>2.2%</td>\n",
       "    </tr>\n",
       "    <tr>\n",
       "      <th>APC</th>\n",
       "      <td>78</td>\n",
       "      <td>1.8%</td>\n",
       "    </tr>\n",
       "    <tr>\n",
       "      <th>KMT2C</th>\n",
       "      <td>66</td>\n",
       "      <td>1.5%</td>\n",
       "    </tr>\n",
       "    <tr>\n",
       "      <th>ZFHX3</th>\n",
       "      <td>62</td>\n",
       "      <td>1.4%</td>\n",
       "    </tr>\n",
       "  </tbody>\n",
       "</table>\n",
       "</div>"
      ],
      "text/plain": [
       "        count_ freq_\n",
       "TP53       139  3.1%\n",
       "ARID1A      95  2.2%\n",
       "APC         78  1.8%\n",
       "KMT2C       66  1.5%\n",
       "ZFHX3       62  1.4%"
      ]
     },
     "execution_count": 150,
     "metadata": {},
     "output_type": "execute_result"
    }
   ],
   "source": [
    "get_table(dd.VEP_SYMBOL.x).head()"
   ]
  },
  {
   "cell_type": "code",
   "execution_count": 191,
   "metadata": {},
   "outputs": [
    {
     "data": {
      "text/html": [
       "<div>\n",
       "<style scoped>\n",
       "    .dataframe tbody tr th:only-of-type {\n",
       "        vertical-align: middle;\n",
       "    }\n",
       "\n",
       "    .dataframe tbody tr th {\n",
       "        vertical-align: top;\n",
       "    }\n",
       "\n",
       "    .dataframe thead tr th {\n",
       "        text-align: left;\n",
       "    }\n",
       "\n",
       "    .dataframe thead tr:last-of-type th {\n",
       "        text-align: right;\n",
       "    }\n",
       "</style>\n",
       "<table border=\"1\" class=\"dataframe\">\n",
       "  <thead>\n",
       "    <tr>\n",
       "      <th></th>\n",
       "      <th>mut_key</th>\n",
       "      <th>VEP_SYMBOL</th>\n",
       "      <th colspan=\"2\" halign=\"left\">VEP_gnomAD_total_AF_max</th>\n",
       "    </tr>\n",
       "    <tr>\n",
       "      <th></th>\n",
       "      <th>number</th>\n",
       "      <th>x</th>\n",
       "      <th>x</th>\n",
       "      <th>str</th>\n",
       "    </tr>\n",
       "    <tr>\n",
       "      <th>mut_key</th>\n",
       "      <th></th>\n",
       "      <th></th>\n",
       "      <th></th>\n",
       "      <th></th>\n",
       "    </tr>\n",
       "  </thead>\n",
       "  <tbody>\n",
       "    <tr>\n",
       "      <th>6_29910549_G_A</th>\n",
       "      <td>65</td>\n",
       "      <td>HLA-A</td>\n",
       "      <td>0.000359</td>\n",
       "      <td>0.04%</td>\n",
       "    </tr>\n",
       "    <tr>\n",
       "      <th>7_128829040_GCT_-</th>\n",
       "      <td>64</td>\n",
       "      <td>SMO</td>\n",
       "      <td>0.001050</td>\n",
       "      <td>0.11%</td>\n",
       "    </tr>\n",
       "    <tr>\n",
       "      <th>9_101867538_GGCGGCGGC_-</th>\n",
       "      <td>52</td>\n",
       "      <td>TGFBR1</td>\n",
       "      <td>0.096264</td>\n",
       "      <td>9.63%</td>\n",
       "    </tr>\n",
       "    <tr>\n",
       "      <th>3_49722761_C_A</th>\n",
       "      <td>52</td>\n",
       "      <td>MST1</td>\n",
       "      <td>0.066230</td>\n",
       "      <td>6.62%</td>\n",
       "    </tr>\n",
       "    <tr>\n",
       "      <th>X_66765161_A_T</th>\n",
       "      <td>48</td>\n",
       "      <td>AR</td>\n",
       "      <td>0.000591</td>\n",
       "      <td>0.06%</td>\n",
       "    </tr>\n",
       "    <tr>\n",
       "      <th>6_31324509_T_A</th>\n",
       "      <td>40</td>\n",
       "      <td>HLA-B</td>\n",
       "      <td>0.105439</td>\n",
       "      <td>10.54%</td>\n",
       "    </tr>\n",
       "    <tr>\n",
       "      <th>6_31324496_G_T</th>\n",
       "      <td>37</td>\n",
       "      <td>HLA-B</td>\n",
       "      <td>0.003171</td>\n",
       "      <td>0.32%</td>\n",
       "    </tr>\n",
       "    <tr>\n",
       "      <th>13_21562482_-_GGGGCG</th>\n",
       "      <td>35</td>\n",
       "      <td>LATS2</td>\n",
       "      <td>0.425597</td>\n",
       "      <td>42.56%</td>\n",
       "    </tr>\n",
       "    <tr>\n",
       "      <th>7_55242478_G_C</th>\n",
       "      <td>34</td>\n",
       "      <td>EGFR</td>\n",
       "      <td>0.000000</td>\n",
       "      <td>0.00%</td>\n",
       "    </tr>\n",
       "    <tr>\n",
       "      <th>5_236678_G_A</th>\n",
       "      <td>34</td>\n",
       "      <td>SDHA</td>\n",
       "      <td>0.001161</td>\n",
       "      <td>0.12%</td>\n",
       "    </tr>\n",
       "  </tbody>\n",
       "</table>\n",
       "</div>"
      ],
      "text/plain": [
       "                        mut_key VEP_SYMBOL VEP_gnomAD_total_AF_max        \n",
       "                         number          x                       x     str\n",
       "mut_key                                                                   \n",
       "6_29910549_G_A               65      HLA-A                0.000359   0.04%\n",
       "7_128829040_GCT_-            64        SMO                0.001050   0.11%\n",
       "9_101867538_GGCGGCGGC_-      52     TGFBR1                0.096264   9.63%\n",
       "3_49722761_C_A               52       MST1                0.066230   6.62%\n",
       "X_66765161_A_T               48         AR                0.000591   0.06%\n",
       "6_31324509_T_A               40      HLA-B                0.105439  10.54%\n",
       "6_31324496_G_T               37      HLA-B                0.003171   0.32%\n",
       "13_21562482_-_GGGGCG         35      LATS2                0.425597  42.56%\n",
       "7_55242478_G_C               34       EGFR                0.000000   0.00%\n",
       "5_236678_G_A                 34       SDHA                0.001161   0.12%"
      ]
     },
     "execution_count": 191,
     "metadata": {},
     "output_type": "execute_result"
    }
   ],
   "source": [
    "dd.sort_values(('mut_key', 'number'), ascending=False).head(10)"
   ]
  },
  {
   "cell_type": "markdown",
   "metadata": {},
   "source": [
    "## Hotspot real"
   ]
  },
  {
   "cell_type": "code",
   "execution_count": 239,
   "metadata": {},
   "outputs": [
    {
     "name": "stderr",
     "output_type": "stream",
     "text": [
      "/Users/guilminp/anaconda3/lib/python3.6/site-packages/pandas/core/groupby/groupby.py:4656: FutureWarning: using a dict with renaming is deprecated and will be removed in a future version\n",
      "  return super(DataFrameGroupBy, self).aggregate(arg, *args, **kwargs)\n"
     ]
    },
    {
     "data": {
      "text/html": [
       "<div>\n",
       "<style scoped>\n",
       "    .dataframe tbody tr th:only-of-type {\n",
       "        vertical-align: middle;\n",
       "    }\n",
       "\n",
       "    .dataframe tbody tr th {\n",
       "        vertical-align: top;\n",
       "    }\n",
       "\n",
       "    .dataframe thead tr th {\n",
       "        text-align: left;\n",
       "    }\n",
       "\n",
       "    .dataframe thead tr:last-of-type th {\n",
       "        text-align: right;\n",
       "    }\n",
       "</style>\n",
       "<table border=\"1\" class=\"dataframe\">\n",
       "  <thead>\n",
       "    <tr>\n",
       "      <th></th>\n",
       "      <th colspan=\"2\" halign=\"left\">mut_key</th>\n",
       "      <th>VEP_SYMBOL</th>\n",
       "    </tr>\n",
       "    <tr>\n",
       "      <th></th>\n",
       "      <th>number</th>\n",
       "      <th>more_than_one</th>\n",
       "      <th>x</th>\n",
       "    </tr>\n",
       "    <tr>\n",
       "      <th>mut_key</th>\n",
       "      <th></th>\n",
       "      <th></th>\n",
       "      <th></th>\n",
       "    </tr>\n",
       "  </thead>\n",
       "  <tbody>\n",
       "    <tr>\n",
       "      <th>10_104263912_G_A</th>\n",
       "      <td>1</td>\n",
       "      <td>False</td>\n",
       "      <td>SUFU</td>\n",
       "    </tr>\n",
       "    <tr>\n",
       "      <th>10_104263932_GCGCCCCCGGCCCCACC_-</th>\n",
       "      <td>2</td>\n",
       "      <td>True</td>\n",
       "      <td>SUFU</td>\n",
       "    </tr>\n",
       "    <tr>\n",
       "      <th>10_104263935_C_-</th>\n",
       "      <td>1</td>\n",
       "      <td>False</td>\n",
       "      <td>SUFU</td>\n",
       "    </tr>\n",
       "    <tr>\n",
       "      <th>10_104263935_C_T</th>\n",
       "      <td>1</td>\n",
       "      <td>False</td>\n",
       "      <td>SUFU</td>\n",
       "    </tr>\n",
       "    <tr>\n",
       "      <th>10_104263941_G_A</th>\n",
       "      <td>3</td>\n",
       "      <td>True</td>\n",
       "      <td>SUFU</td>\n",
       "    </tr>\n",
       "    <tr>\n",
       "      <th>10_104263952_C_-</th>\n",
       "      <td>1</td>\n",
       "      <td>False</td>\n",
       "      <td>SUFU</td>\n",
       "    </tr>\n",
       "    <tr>\n",
       "      <th>10_104263973_-_C</th>\n",
       "      <td>12</td>\n",
       "      <td>True</td>\n",
       "      <td>SUFU</td>\n",
       "    </tr>\n",
       "    <tr>\n",
       "      <th>10_104263974_C_-</th>\n",
       "      <td>2</td>\n",
       "      <td>True</td>\n",
       "      <td>SUFU</td>\n",
       "    </tr>\n",
       "    <tr>\n",
       "      <th>10_104263979_C_A</th>\n",
       "      <td>1</td>\n",
       "      <td>False</td>\n",
       "      <td>SUFU</td>\n",
       "    </tr>\n",
       "    <tr>\n",
       "      <th>10_104263992_C_T</th>\n",
       "      <td>1</td>\n",
       "      <td>False</td>\n",
       "      <td>SUFU</td>\n",
       "    </tr>\n",
       "  </tbody>\n",
       "</table>\n",
       "</div>"
      ],
      "text/plain": [
       "                                 mut_key               VEP_SYMBOL\n",
       "                                  number more_than_one          x\n",
       "mut_key                                                          \n",
       "10_104263912_G_A                       1         False       SUFU\n",
       "10_104263932_GCGCCCCCGGCCCCACC_-       2          True       SUFU\n",
       "10_104263935_C_-                       1         False       SUFU\n",
       "10_104263935_C_T                       1         False       SUFU\n",
       "10_104263941_G_A                       3          True       SUFU\n",
       "10_104263952_C_-                       1         False       SUFU\n",
       "10_104263973_-_C                      12          True       SUFU\n",
       "10_104263974_C_-                       2          True       SUFU\n",
       "10_104263979_C_A                       1         False       SUFU\n",
       "10_104263992_C_T                       1         False       SUFU"
      ]
     },
     "execution_count": 239,
     "metadata": {},
     "output_type": "execute_result"
    }
   ],
   "source": [
    "aggregation = {\n",
    "    'mut_key': {'number': 'count', 'more_than_one': lambda x: x.count() > 1},\n",
    "    'VEP_SYMBOL': {'x': lambda x: x.iloc[0]}\n",
    "}\n",
    "\n",
    "dd = impact[~impact.is_artefact].groupby('mut_key').aggregate(aggregation)\n",
    "dd.head(10)"
   ]
  },
  {
   "cell_type": "code",
   "execution_count": 199,
   "metadata": {},
   "outputs": [
    {
     "data": {
      "image/png": "[encoded data removed]",
      "text/plain": [
       "<Figure size 1440x576 with 2 Axes>"
      ]
     },
     "metadata": {
      "needs_background": "light"
     },
     "output_type": "display_data"
    }
   ],
   "source": [
    "fig, (ax0, ax1) = plt.subplots(1, 2, figsize=(20,8))\n",
    "ax0.hist(dd[dd.mut_key.number > 1].mut_key.number, bins=100);\n",
    "ax1.hist(dd[dd.mut_key.number > 10].mut_key.number, bins=100);"
   ]
  },
  {
   "cell_type": "markdown",
   "metadata": {},
   "source": [
    "## Impact without hotspots"
   ]
  },
  {
   "cell_type": "code",
   "execution_count": 248,
   "metadata": {},
   "outputs": [
    {
     "name": "stderr",
     "output_type": "stream",
     "text": [
      "/Users/guilminp/anaconda3/lib/python3.6/site-packages/pandas/core/groupby/groupby.py:4656: FutureWarning: using a dict with renaming is deprecated and will be removed in a future version\n",
      "  return super(DataFrameGroupBy, self).aggregate(arg, *args, **kwargs)\n"
     ]
    },
    {
     "data": {
      "text/html": [
       "<div>\n",
       "<style scoped>\n",
       "    .dataframe tbody tr th:only-of-type {\n",
       "        vertical-align: middle;\n",
       "    }\n",
       "\n",
       "    .dataframe tbody tr th {\n",
       "        vertical-align: top;\n",
       "    }\n",
       "\n",
       "    .dataframe thead tr th {\n",
       "        text-align: left;\n",
       "    }\n",
       "\n",
       "    .dataframe thead tr:last-of-type th {\n",
       "        text-align: right;\n",
       "    }\n",
       "</style>\n",
       "<table border=\"1\" class=\"dataframe\">\n",
       "  <thead>\n",
       "    <tr>\n",
       "      <th></th>\n",
       "      <th colspan=\"2\" halign=\"left\">mut_key</th>\n",
       "      <th colspan=\"2\" halign=\"left\">sample_mut_key</th>\n",
       "    </tr>\n",
       "    <tr>\n",
       "      <th></th>\n",
       "      <th>number</th>\n",
       "      <th>more_than_one</th>\n",
       "      <th>list</th>\n",
       "      <th>selected</th>\n",
       "    </tr>\n",
       "    <tr>\n",
       "      <th>mut_key</th>\n",
       "      <th></th>\n",
       "      <th></th>\n",
       "      <th></th>\n",
       "      <th></th>\n",
       "    </tr>\n",
       "  </thead>\n",
       "  <tbody>\n",
       "    <tr>\n",
       "      <th>10_104263912_G_A</th>\n",
       "      <td>1</td>\n",
       "      <td>False</td>\n",
       "      <td>[P-0004423-T01-IM5_10_104263912_G_A]</td>\n",
       "      <td>P-0004423-T01-IM5_10_104263912_G_A</td>\n",
       "    </tr>\n",
       "    <tr>\n",
       "      <th>10_104263932_GCGCCCCCGGCCCCACC_-</th>\n",
       "      <td>2</td>\n",
       "      <td>True</td>\n",
       "      <td>[P-0001027-T01-IM3_10_104263932_GCGCCCCCGGCCCCACC_-, P-0015687-T01-IM6_10_104263932_GCGCCCCCGGCCCCACC_-]</td>\n",
       "      <td>P-0015687-T01-IM6_10_104263932_GCGCCCCCGGCCCCACC_-</td>\n",
       "    </tr>\n",
       "    <tr>\n",
       "      <th>10_104263935_C_-</th>\n",
       "      <td>1</td>\n",
       "      <td>False</td>\n",
       "      <td>[P-0015938-T01-IM6_10_104263935_C_-]</td>\n",
       "      <td>P-0015938-T01-IM6_10_104263935_C_-</td>\n",
       "    </tr>\n",
       "    <tr>\n",
       "      <th>10_104263935_C_T</th>\n",
       "      <td>1</td>\n",
       "      <td>False</td>\n",
       "      <td>[P-0012445-T01-IM5_10_104263935_C_T]</td>\n",
       "      <td>P-0012445-T01-IM5_10_104263935_C_T</td>\n",
       "    </tr>\n",
       "    <tr>\n",
       "      <th>10_104263941_G_A</th>\n",
       "      <td>3</td>\n",
       "      <td>True</td>\n",
       "      <td>[P-0005606-T01-IM5_10_104263941_G_A, P-0009161-T01-IM5_10_104263941_G_A, P-0027240-T01-IM6_10_104263941_G_A]</td>\n",
       "      <td>P-0005606-T01-IM5_10_104263941_G_A</td>\n",
       "    </tr>\n",
       "    <tr>\n",
       "      <th>10_104263952_C_-</th>\n",
       "      <td>1</td>\n",
       "      <td>False</td>\n",
       "      <td>[P-0010275-T01-IM5_10_104263952_C_-]</td>\n",
       "      <td>P-0010275-T01-IM5_10_104263952_C_-</td>\n",
       "    </tr>\n",
       "    <tr>\n",
       "      <th>10_104263959_C_T</th>\n",
       "      <td>1</td>\n",
       "      <td>False</td>\n",
       "      <td>[P-0007273-T01-IM5_10_104263959_C_T]</td>\n",
       "      <td>P-0007273-T01-IM5_10_104263959_C_T</td>\n",
       "    </tr>\n",
       "    <tr>\n",
       "      <th>10_104263973_-_C</th>\n",
       "      <td>12</td>\n",
       "      <td>True</td>\n",
       "      <td>[P-0002455-T01-IM3_10_104263973_-_C, P-0003045-T01-IM5_10_104263973_-_C, P-0005560-T01-IM5_10_104263973_-_C, P-0010833-T01-IM5_10_104263973_-_C, P-0015416-T01-IM6_10_104263973_-_C, P-0021304-T01-IM6_10_104263973_-_C, P-0022120-T01-IM6_10_104263973_-_C, P-0023272-T01-IM6_10_104263973_-_C, P-0024068-T01-IM6_10_104263973_-_C, P-0027929-T01-IM6_10_104263973_-_C, P-0028474-T01-IM6_10_104263973_-_C, P-0028979-T01-IM6_10_104263973_-_C]</td>\n",
       "      <td>P-0028474-T01-IM6_10_104263973_-_C</td>\n",
       "    </tr>\n",
       "    <tr>\n",
       "      <th>10_104263974_C_-</th>\n",
       "      <td>3</td>\n",
       "      <td>True</td>\n",
       "      <td>[P-0010581-T01-IM5_10_104263974_C_-, P-0021796-T01-IM6_10_104263974_C_-, P-0027438-T01-IM6_10_104263974_C_-]</td>\n",
       "      <td>P-0010581-T01-IM5_10_104263974_C_-</td>\n",
       "    </tr>\n",
       "    <tr>\n",
       "      <th>10_104263979_C_A</th>\n",
       "      <td>1</td>\n",
       "      <td>False</td>\n",
       "      <td>[P-0004662-T02-IM5_10_104263979_C_A]</td>\n",
       "      <td>P-0004662-T02-IM5_10_104263979_C_A</td>\n",
       "    </tr>\n",
       "  </tbody>\n",
       "</table>\n",
       "</div>"
      ],
      "text/plain": [
       "                                 mut_key                \\\n",
       "                                  number more_than_one   \n",
       "mut_key                                                  \n",
       "10_104263912_G_A                       1         False   \n",
       "10_104263932_GCGCCCCCGGCCCCACC_-       2          True   \n",
       "10_104263935_C_-                       1         False   \n",
       "10_104263935_C_T                       1         False   \n",
       "10_104263941_G_A                       3          True   \n",
       "10_104263952_C_-                       1         False   \n",
       "10_104263959_C_T                       1         False   \n",
       "10_104263973_-_C                      12          True   \n",
       "10_104263974_C_-                       3          True   \n",
       "10_104263979_C_A                       1         False   \n",
       "\n",
       "                                                                                                                                                                                                                                                                                                                                                                                                                                                                    sample_mut_key  \\\n",
       "                                                                                                                                                                                                                                                                                                                                                                                                                                                                              list   \n",
       "mut_key                                                                                                                                                                                                                                                                                                                                                                                                                                                                              \n",
       "10_104263912_G_A                                                                                                                                                                                                                                                                                                                                                                                                                              [P-0004423-T01-IM5_10_104263912_G_A]   \n",
       "10_104263932_GCGCCCCCGGCCCCACC_-                                                                                                                                                                                                                                                                                                                                          [P-0001027-T01-IM3_10_104263932_GCGCCCCCGGCCCCACC_-, P-0015687-T01-IM6_10_104263932_GCGCCCCCGGCCCCACC_-]   \n",
       "10_104263935_C_-                                                                                                                                                                                                                                                                                                                                                                                                                              [P-0015938-T01-IM6_10_104263935_C_-]   \n",
       "10_104263935_C_T                                                                                                                                                                                                                                                                                                                                                                                                                              [P-0012445-T01-IM5_10_104263935_C_T]   \n",
       "10_104263941_G_A                                                                                                                                                                                                                                                                                                                                                      [P-0005606-T01-IM5_10_104263941_G_A, P-0009161-T01-IM5_10_104263941_G_A, P-0027240-T01-IM6_10_104263941_G_A]   \n",
       "10_104263952_C_-                                                                                                                                                                                                                                                                                                                                                                                                                              [P-0010275-T01-IM5_10_104263952_C_-]   \n",
       "10_104263959_C_T                                                                                                                                                                                                                                                                                                                                                                                                                              [P-0007273-T01-IM5_10_104263959_C_T]   \n",
       "10_104263973_-_C                  [P-0002455-T01-IM3_10_104263973_-_C, P-0003045-T01-IM5_10_104263973_-_C, P-0005560-T01-IM5_10_104263973_-_C, P-0010833-T01-IM5_10_104263973_-_C, P-0015416-T01-IM6_10_104263973_-_C, P-0021304-T01-IM6_10_104263973_-_C, P-0022120-T01-IM6_10_104263973_-_C, P-0023272-T01-IM6_10_104263973_-_C, P-0024068-T01-IM6_10_104263973_-_C, P-0027929-T01-IM6_10_104263973_-_C, P-0028474-T01-IM6_10_104263973_-_C, P-0028979-T01-IM6_10_104263973_-_C]   \n",
       "10_104263974_C_-                                                                                                                                                                                                                                                                                                                                                      [P-0010581-T01-IM5_10_104263974_C_-, P-0021796-T01-IM6_10_104263974_C_-, P-0027438-T01-IM6_10_104263974_C_-]   \n",
       "10_104263979_C_A                                                                                                                                                                                                                                                                                                                                                                                                                              [P-0004662-T02-IM5_10_104263979_C_A]   \n",
       "\n",
       "                                                                                      \n",
       "                                                                            selected  \n",
       "mut_key                                                                               \n",
       "10_104263912_G_A                                  P-0004423-T01-IM5_10_104263912_G_A  \n",
       "10_104263932_GCGCCCCCGGCCCCACC_-  P-0015687-T01-IM6_10_104263932_GCGCCCCCGGCCCCACC_-  \n",
       "10_104263935_C_-                                  P-0015938-T01-IM6_10_104263935_C_-  \n",
       "10_104263935_C_T                                  P-0012445-T01-IM5_10_104263935_C_T  \n",
       "10_104263941_G_A                                  P-0005606-T01-IM5_10_104263941_G_A  \n",
       "10_104263952_C_-                                  P-0010275-T01-IM5_10_104263952_C_-  \n",
       "10_104263959_C_T                                  P-0007273-T01-IM5_10_104263959_C_T  \n",
       "10_104263973_-_C                                  P-0028474-T01-IM6_10_104263973_-_C  \n",
       "10_104263974_C_-                                  P-0010581-T01-IM5_10_104263974_C_-  \n",
       "10_104263979_C_A                                  P-0004662-T02-IM5_10_104263979_C_A  "
      ]
     },
     "execution_count": 248,
     "metadata": {},
     "output_type": "execute_result"
    }
   ],
   "source": [
    "aggregation = {\n",
    "    'mut_key': {'number': 'count',\n",
    "                'more_than_one': lambda x: x.count() > 1},\n",
    "    \n",
    "    'sample_mut_key': {'list': lambda x: x.values.tolist(),\n",
    "                       'selected': lambda x: x.sample(1, random_state=42)}\n",
    "}\n",
    "\n",
    "dd = impact.groupby('mut_key').aggregate(aggregation)\n",
    "dd.head(10)"
   ]
  },
  {
   "cell_type": "code",
   "execution_count": 255,
   "metadata": {},
   "outputs": [
    {
     "name": "stdout",
     "output_type": "stream",
     "text": [
      "(132275, 64)\n"
     ]
    },
    {
     "data": {
      "text/html": [
       "<div>\n",
       "<style scoped>\n",
       "    .dataframe tbody tr th:only-of-type {\n",
       "        vertical-align: middle;\n",
       "    }\n",
       "\n",
       "    .dataframe tbody tr th {\n",
       "        vertical-align: top;\n",
       "    }\n",
       "\n",
       "    .dataframe thead th {\n",
       "        text-align: right;\n",
       "    }\n",
       "</style>\n",
       "<table border=\"1\" class=\"dataframe\">\n",
       "  <thead>\n",
       "    <tr style=\"text-align: right;\">\n",
       "      <th></th>\n",
       "      <th>count_</th>\n",
       "      <th>freq_</th>\n",
       "    </tr>\n",
       "  </thead>\n",
       "  <tbody>\n",
       "    <tr>\n",
       "      <th>False</th>\n",
       "      <td>128345</td>\n",
       "      <td>97.0%</td>\n",
       "    </tr>\n",
       "    <tr>\n",
       "      <th>True</th>\n",
       "      <td>3930</td>\n",
       "      <td>3.0%</td>\n",
       "    </tr>\n",
       "  </tbody>\n",
       "</table>\n",
       "</div>"
      ],
      "text/plain": [
       "       count_  freq_\n",
       "False  128345  97.0%\n",
       "True     3930   3.0%"
      ]
     },
     "execution_count": 255,
     "metadata": {},
     "output_type": "execute_result"
    }
   ],
   "source": [
    "impact_unified = impact[impact.sample_mut_key.isin(dd.sample_mut_key.selected)]\n",
    "print(impact_unified.shape)\n",
    "get_table(impact_unified.is_artefact)"
   ]
  },
  {
   "cell_type": "markdown",
   "metadata": {},
   "source": [
    "## Get inconsistent artefacts"
   ]
  },
  {
   "cell_type": "code",
   "execution_count": 291,
   "metadata": {},
   "outputs": [
    {
     "data": {
      "text/html": [
       "<div>\n",
       "<style scoped>\n",
       "    .dataframe tbody tr th:only-of-type {\n",
       "        vertical-align: middle;\n",
       "    }\n",
       "\n",
       "    .dataframe tbody tr th {\n",
       "        vertical-align: top;\n",
       "    }\n",
       "\n",
       "    .dataframe thead th {\n",
       "        text-align: right;\n",
       "    }\n",
       "</style>\n",
       "<table border=\"1\" class=\"dataframe\">\n",
       "  <thead>\n",
       "    <tr style=\"text-align: right;\">\n",
       "      <th></th>\n",
       "      <th>count_</th>\n",
       "      <th>freq_</th>\n",
       "    </tr>\n",
       "  </thead>\n",
       "  <tbody>\n",
       "    <tr>\n",
       "      <th>False</th>\n",
       "      <td>5909</td>\n",
       "      <td>82.1%</td>\n",
       "    </tr>\n",
       "    <tr>\n",
       "      <th>True</th>\n",
       "      <td>1290</td>\n",
       "      <td>17.9%</td>\n",
       "    </tr>\n",
       "  </tbody>\n",
       "</table>\n",
       "</div>"
      ],
      "text/plain": [
       "       count_  freq_\n",
       "False    5909  82.1%\n",
       "True     1290  17.9%"
      ]
     },
     "execution_count": 291,
     "metadata": {},
     "output_type": "execute_result"
    }
   ],
   "source": [
    "get_table(impact[impact.is_artefact].is_driver)"
   ]
  },
  {
   "cell_type": "code",
   "execution_count": 292,
   "metadata": {},
   "outputs": [
    {
     "data": {
      "text/html": [
       "<div>\n",
       "<style scoped>\n",
       "    .dataframe tbody tr th:only-of-type {\n",
       "        vertical-align: middle;\n",
       "    }\n",
       "\n",
       "    .dataframe tbody tr th {\n",
       "        vertical-align: top;\n",
       "    }\n",
       "\n",
       "    .dataframe thead th {\n",
       "        text-align: right;\n",
       "    }\n",
       "</style>\n",
       "<table border=\"1\" class=\"dataframe\">\n",
       "  <thead>\n",
       "    <tr style=\"text-align: right;\">\n",
       "      <th></th>\n",
       "      <th>count_</th>\n",
       "      <th>freq_</th>\n",
       "    </tr>\n",
       "  </thead>\n",
       "  <tbody>\n",
       "    <tr>\n",
       "      <th>False</th>\n",
       "      <td>4845</td>\n",
       "      <td>67.3%</td>\n",
       "    </tr>\n",
       "    <tr>\n",
       "      <th>True</th>\n",
       "      <td>2354</td>\n",
       "      <td>32.7%</td>\n",
       "    </tr>\n",
       "  </tbody>\n",
       "</table>\n",
       "</div>"
      ],
      "text/plain": [
       "       count_  freq_\n",
       "False    4845  67.3%\n",
       "True     2354  32.7%"
      ]
     },
     "execution_count": 292,
     "metadata": {},
     "output_type": "execute_result"
    }
   ],
   "source": [
    "somatic_mut_keys = impact[~impact.is_artefact].mut_key.values\n",
    "impact['as_somatic'] = impact.mut_key.isin(somatic_mut_keys)\n",
    "get_table(impact[impact.is_artefact].as_somatic)"
   ]
  },
  {
   "cell_type": "code",
   "execution_count": 293,
   "metadata": {},
   "outputs": [
    {
     "data": {
      "text/html": [
       "<div>\n",
       "<style scoped>\n",
       "    .dataframe tbody tr th:only-of-type {\n",
       "        vertical-align: middle;\n",
       "    }\n",
       "\n",
       "    .dataframe tbody tr th {\n",
       "        vertical-align: top;\n",
       "    }\n",
       "\n",
       "    .dataframe thead th {\n",
       "        text-align: right;\n",
       "    }\n",
       "</style>\n",
       "<table border=\"1\" class=\"dataframe\">\n",
       "  <thead>\n",
       "    <tr style=\"text-align: right;\">\n",
       "      <th></th>\n",
       "      <th>count_</th>\n",
       "      <th>freq_</th>\n",
       "    </tr>\n",
       "  </thead>\n",
       "  <tbody>\n",
       "    <tr>\n",
       "      <th>False</th>\n",
       "      <td>4115</td>\n",
       "      <td>57.2%</td>\n",
       "    </tr>\n",
       "    <tr>\n",
       "      <th>True</th>\n",
       "      <td>3084</td>\n",
       "      <td>42.8%</td>\n",
       "    </tr>\n",
       "  </tbody>\n",
       "</table>\n",
       "</div>"
      ],
      "text/plain": [
       "       count_  freq_\n",
       "False    4115  57.2%\n",
       "True     3084  42.8%"
      ]
     },
     "execution_count": 293,
     "metadata": {},
     "output_type": "execute_result"
    }
   ],
   "source": [
    "impact['is_inconsistent'] = impact.as_somatic | impact.is_driver\n",
    "get_table(impact[impact.is_artefact].is_inconsistent)"
   ]
  }
 ],
 "metadata": {
  "kernelspec": {
   "display_name": "Python 3",
   "language": "python",
   "name": "python3"
  },
  "language_info": {
   "codemirror_mode": {
    "name": "ipython",
    "version": 3
   },
   "file_extension": ".py",
   "mimetype": "text/x-python",
   "name": "python",
   "nbconvert_exporter": "python",
   "pygments_lexer": "ipython3",
   "version": "3.6.6"
  },
  "notify_time": "10",
  "toc": {
   "base_numbering": 1,
   "nav_menu": {},
   "number_sections": true,
   "sideBar": false,
   "skip_h1_title": true,
   "title_cell": "Table of Contents",
   "title_sidebar": "Contents",
   "toc_cell": true,
   "toc_position": {},
   "toc_section_display": true,
   "toc_window_display": false
  }
 },
 "nbformat": 4,
 "nbformat_minor": 2
}
