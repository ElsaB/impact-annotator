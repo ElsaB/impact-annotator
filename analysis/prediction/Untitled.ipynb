{
 "cells": [
  {
   "cell_type": "markdown",
   "metadata": {},
   "source": [
    "# Setup"
   ]
  },
  {
   "cell_type": "code",
   "execution_count": 3,
   "metadata": {},
   "outputs": [],
   "source": [
    "from IPython.display import Markdown, display\n",
    "\n",
    "def print_md(string):\n",
    "    string = string.replace('\\ ', '&nbsp;')\n",
    "    string = string.replace('\\t', '&emsp;')\n",
    "    string = string.replace('\\n', '<br>')\n",
    "    display(Markdown(string))"
   ]
  },
  {
   "cell_type": "code",
   "execution_count": 4,
   "metadata": {},
   "outputs": [
    {
     "data": {
      "text/markdown": [
       "⚠️ <span style='color:red'>Please activate the **impact-annotator_env** conda environment to work with this notebook:</span><br>&emsp;&emsp;&nbsp;&nbsp;<span style='color:blue'>$ source activate impact-annotator_env</span><br>&emsp;&emsp;&nbsp;&nbsp;current environment: impact-annotator_env"
      ],
      "text/plain": [
       "<IPython.core.display.Markdown object>"
      ]
     },
     "metadata": {},
     "output_type": "display_data"
    }
   ],
   "source": [
    "conda_env = !echo $CONDA_DEFAULT_ENV\n",
    "conda_env = conda_env[0]\n",
    "\n",
    "try:\n",
    "    if conda_env == 'impact-annotator_env':\n",
    "        raise Exception(\"⚠️ <span style='color:red'>Please activate the **impact-annotator_env** conda environment to work with this notebook:</span>\\n\"\n",
    "                        \"\\t\\t\\ \\ <span style='color:blue'>$ source activate impact-annotator_env</span>\\n\"\n",
    "                        \"\\t\\t\\ \\ current environment: \" + conda_env)\n",
    "except Exception as e:\n",
    "    print_md(str(e))"
   ]
  },
  {
   "cell_type": "code",
   "execution_count": 18,
   "metadata": {},
   "outputs": [],
   "source": [
    "impact = pd.read_csv('../../data/final_IMPACT_mutations_180508.txt', sep = '\\t')"
   ]
  },
  {
   "cell_type": "code",
   "execution_count": 27,
   "metadata": {},
   "outputs": [
    {
     "data": {
      "text/plain": [
       "Hugo_Symbol                     0\n",
       "Chromosome                      0\n",
       "Start_Position                  0\n",
       "End_Position                    0\n",
       "Consequence                     0\n",
       "Variant_Type                    0\n",
       "Reference_Allele                0\n",
       "Tumor_Seq_Allele2               0\n",
       "Tumor_Sample_Barcode            0\n",
       "cDNA_change                    95\n",
       "HGVSp_Short                  2680\n",
       "t_depth                         0\n",
       "t_vaf                           0\n",
       "t_alt_count                     0\n",
       "n_depth                         0\n",
       "n_vaf                           0\n",
       "n_alt_count                     0\n",
       "t_ref_plus_count                0\n",
       "t_ref_neg_count                 0\n",
       "t_alt_plus_count                0\n",
       "t_alt_neg_count                 0\n",
       "confidence_class                0\n",
       "sample_coverage                 0\n",
       "mut_key                         0\n",
       "VAG_VT                          0\n",
       "VAG_GENE                        0\n",
       "VAG_cDNA_CHANGE                 0\n",
       "VAG_PROTEIN_CHANGE              0\n",
       "VAG_EFFECT                      0\n",
       "VEP_Consequence                 0\n",
       "                            ...  \n",
       "VEP_Amino_acids                 1\n",
       "VEP_VARIANT_CLASS               0\n",
       "VEP_EXON                     5850\n",
       "VEP_INTRON                 187087\n",
       "VEP_IMPACT                      0\n",
       "VEP_CLIN_SIG                    0\n",
       "VEP_COSMIC_CNT                  0\n",
       "VEP_gnomAD_AF                   0\n",
       "sample_mut_key                  0\n",
       "patient_key                     0\n",
       "frequency_in_normals            0\n",
       "VEP_SIFT_class                  0\n",
       "VEP_SIFT_score              55800\n",
       "VEP_PolyPhen_class              0\n",
       "VEP_PolyPhen_score          54975\n",
       "VEP_in_dbSNP                    0\n",
       "VEP_gnomAD_total_AF_AFR         0\n",
       "VEP_gnomAD_total_AF_AMR         0\n",
       "VEP_gnomAD_total_AF_ASJ         0\n",
       "VEP_gnomAD_total_AF_EAS         0\n",
       "VEP_gnomAD_total_AF_FIN         0\n",
       "VEP_gnomAD_total_AF_NFE         0\n",
       "VEP_gnomAD_total_AF_OTH         0\n",
       "VEP_gnomAD_total_AF_max         0\n",
       "VEP_gnomAD_total_AF             0\n",
       "Kaviar_AF                       0\n",
       "is_a_hotspot                    0\n",
       "is_a_3d_hotspot                 0\n",
       "oncogenic                       0\n",
       "gene_type                       0\n",
       "Length: 63, dtype: int64"
      ]
     },
     "execution_count": 27,
     "metadata": {},
     "output_type": "execute_result"
    }
   ],
   "source": [
    "impact.isnull().sum()"
   ]
  }
 ],
 "metadata": {
  "kernelspec": {
   "display_name": "Python 3",
   "language": "python",
   "name": "python3"
  },
  "language_info": {
   "codemirror_mode": {
    "name": "ipython",
    "version": 3
   },
   "file_extension": ".py",
   "mimetype": "text/x-python",
   "name": "python",
   "nbconvert_exporter": "python",
   "pygments_lexer": "ipython3",
   "version": "3.6.6"
  }
 },
 "nbformat": 4,
 "nbformat_minor": 2
}
