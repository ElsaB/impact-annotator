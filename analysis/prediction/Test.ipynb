{
 "cells": [
  {
   "cell_type": "markdown",
   "metadata": {},
   "source": [
    "# Test"
   ]
  },
  {
   "cell_type": "code",
   "execution_count": 3,
   "metadata": {},
   "outputs": [
    {
     "name": "stdout",
     "output_type": "stream",
     "text": [
      "Setup environment... done!\n"
     ]
    },
    {
     "data": {
      "text/markdown": [
       "✅ <span style='color:green'>Working on **impact-annotator_env** conda environment.</span>"
      ],
      "text/plain": [
       "<IPython.core.display.Markdown object>"
      ]
     },
     "metadata": {},
     "output_type": "display_data"
    }
   ],
   "source": [
    "%run custom_tools.py\n",
    "\n",
    "current_conda_env = !echo $CONDA_DEFAULT_ENV\n",
    "check_conda_env(current_conda_env[0])"
   ]
  },
  {
   "cell_type": "code",
   "execution_count": 149,
   "metadata": {},
   "outputs": [],
   "source": [
    "impact = pd.read_csv('../../data/annotated_final_IMPACT_mutations_180508.txt', sep = '\\t', low_memory = False)"
   ]
  },
  {
   "cell_type": "code",
   "execution_count": 150,
   "metadata": {},
   "outputs": [],
   "source": [
    "impact = impact.iloc[0:100000]"
   ]
  },
  {
   "cell_type": "code",
   "execution_count": 151,
   "metadata": {},
   "outputs": [
    {
     "data": {
      "text/plain": [
       "(100000, 63)"
      ]
     },
     "execution_count": 151,
     "metadata": {},
     "output_type": "execute_result"
    }
   ],
   "source": [
    "impact.shape"
   ]
  },
  {
   "cell_type": "code",
   "execution_count": 152,
   "metadata": {},
   "outputs": [
    {
     "data": {
      "text/plain": [
       "Index(['Hugo_Symbol', 'Chromosome', 'Start_Position', 'End_Position',\n",
       "       'Consequence', 'Variant_Type', 'Reference_Allele', 'Tumor_Seq_Allele2',\n",
       "       'Tumor_Sample_Barcode', 'cDNA_change', 'HGVSp_Short', 't_depth',\n",
       "       't_vaf', 't_alt_count', 'n_depth', 'n_vaf', 'n_alt_count',\n",
       "       't_ref_plus_count', 't_ref_neg_count', 't_alt_plus_count',\n",
       "       't_alt_neg_count', 'confidence_class', 'sample_coverage', 'mut_key',\n",
       "       'VAG_VT', 'VAG_GENE', 'VAG_cDNA_CHANGE', 'VAG_PROTEIN_CHANGE',\n",
       "       'VAG_EFFECT', 'VEP_Consequence', 'VEP_SYMBOL', 'VEP_HGVSc', 'VEP_HGVSp',\n",
       "       'VEP_Amino_acids', 'VEP_VARIANT_CLASS', 'VEP_EXON', 'VEP_INTRON',\n",
       "       'VEP_IMPACT', 'VEP_CLIN_SIG', 'VEP_COSMIC_CNT', 'VEP_gnomAD_AF',\n",
       "       'sample_mut_key', 'patient_key', 'frequency_in_normals',\n",
       "       'VEP_SIFT_class', 'VEP_SIFT_score', 'VEP_PolyPhen_class',\n",
       "       'VEP_PolyPhen_score', 'VEP_in_dbSNP', 'VEP_gnomAD_total_AF_AFR',\n",
       "       'VEP_gnomAD_total_AF_AMR', 'VEP_gnomAD_total_AF_ASJ',\n",
       "       'VEP_gnomAD_total_AF_EAS', 'VEP_gnomAD_total_AF_FIN',\n",
       "       'VEP_gnomAD_total_AF_NFE', 'VEP_gnomAD_total_AF_OTH',\n",
       "       'VEP_gnomAD_total_AF_max', 'VEP_gnomAD_total_AF', 'Kaviar_AF',\n",
       "       'is_a_hotspot', 'is_a_3d_hotspot', 'oncogenic', 'gene_type'],\n",
       "      dtype='object')"
      ]
     },
     "execution_count": 152,
     "metadata": {},
     "output_type": "execute_result"
    }
   ],
   "source": [
    "impact.columns"
   ]
  },
  {
   "cell_type": "markdown",
   "metadata": {},
   "source": [
    "## Choose the features"
   ]
  },
  {
   "cell_type": "code",
   "execution_count": 165,
   "metadata": {},
   "outputs": [],
   "source": [
    "impact_sel = impact[['VEP_SIFT_score', 'oncogenic']].dropna()"
   ]
  },
  {
   "cell_type": "code",
   "execution_count": 166,
   "metadata": {},
   "outputs": [
    {
     "name": "stdout",
     "output_type": "stream",
     "text": [
      "(71664, 1)\n",
      "(71664,)\n"
     ]
    }
   ],
   "source": [
    "X_impact = impact_sel.drop('oncogenic', axis = 1) # features matrix X: [n_samples, n_features]\n",
    "print(X_impact.shape)\n",
    "y_impact = impact_sel['oncogenic'] # target array y: n_samples\n",
    "print(y_impact.shape)"
   ]
  },
  {
   "cell_type": "code",
   "execution_count": 167,
   "metadata": {},
   "outputs": [],
   "source": [
    "from sklearn.cross_validation import train_test_split\n",
    "X_train, X_test, y_train, y_test = train_test_split(X_impact, y_impact, train_size = 0.75, random_state = 1)"
   ]
  },
  {
   "cell_type": "markdown",
   "metadata": {},
   "source": [
    "## Fit the model to the data ➞ *Gaussian Naive Bayes*"
   ]
  },
  {
   "cell_type": "code",
   "execution_count": 168,
   "metadata": {},
   "outputs": [
    {
     "data": {
      "text/plain": [
       "GaussianNB(priors=None)"
      ]
     },
     "execution_count": 168,
     "metadata": {},
     "output_type": "execute_result"
    }
   ],
   "source": [
    "from sklearn.naive_bayes import GaussianNB\n",
    "model = GaussianNB()\n",
    "model.fit(X_train, y_train)"
   ]
  },
  {
   "cell_type": "markdown",
   "metadata": {},
   "source": [
    "### Evaluate the model"
   ]
  },
  {
   "cell_type": "code",
   "execution_count": 169,
   "metadata": {},
   "outputs": [],
   "source": [
    "y_model = model.predict(X_test)"
   ]
  },
  {
   "cell_type": "code",
   "execution_count": 170,
   "metadata": {},
   "outputs": [
    {
     "data": {
      "text/plain": [
       "0.7945411922304085"
      ]
     },
     "execution_count": 170,
     "metadata": {},
     "output_type": "execute_result"
    }
   ],
   "source": [
    "from sklearn.metrics import accuracy_score\n",
    "accuracy_score(y_test, y_model)"
   ]
  },
  {
   "cell_type": "code",
   "execution_count": null,
   "metadata": {},
   "outputs": [],
   "source": []
  }
 ],
 "metadata": {
  "kernelspec": {
   "display_name": "Python 3",
   "language": "python",
   "name": "python3"
  },
  "language_info": {
   "codemirror_mode": {
    "name": "ipython",
    "version": 3
   },
   "file_extension": ".py",
   "mimetype": "text/x-python",
   "name": "python",
   "nbconvert_exporter": "python",
   "pygments_lexer": "ipython3",
   "version": "3.6.6"
  }
 },
 "nbformat": 4,
 "nbformat_minor": 2
}
