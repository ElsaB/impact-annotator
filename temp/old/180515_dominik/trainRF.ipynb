{
 "cells": [
  {
   "cell_type": "markdown",
   "metadata": {},
   "source": [
    "Train the RF using the preapred data."
   ]
  },
  {
   "cell_type": "code",
   "execution_count": null,
   "metadata": {},
   "outputs": [],
   "source": [
    "load('../../../data/trainingData.RData')"
   ]
  },
  {
   "cell_type": "code",
   "execution_count": 2,
   "metadata": {},
   "outputs": [
    {
     "data": {
      "text/html": [
       "213658"
      ],
      "text/latex": [
       "213658"
      ],
      "text/markdown": [
       "213658"
      ],
      "text/plain": [
       "[1] 213658"
      ]
     },
     "metadata": {},
     "output_type": "display_data"
    },
    {
     "data": {
      "text/plain": [
       "labelTrain.subset\n",
       " FALSE   TRUE \n",
       " 15317 198341 "
      ]
     },
     "metadata": {},
     "output_type": "display_data"
    },
    {
     "data": {
      "text/html": [
       "<ol class=list-inline>\n",
       "\t<li>213658</li>\n",
       "\t<li>17</li>\n",
       "</ol>\n"
      ],
      "text/latex": [
       "\\begin{enumerate*}\n",
       "\\item 213658\n",
       "\\item 17\n",
       "\\end{enumerate*}\n"
      ],
      "text/markdown": [
       "1. 213658\n",
       "2. 17\n",
       "\n",
       "\n"
      ],
      "text/plain": [
       "[1] 213658     17"
      ]
     },
     "metadata": {},
     "output_type": "display_data"
    }
   ],
   "source": [
    "length(labelTrain.subset)\n",
    "table(labelTrain.subset)\n",
    "dim(variantTrain.corr)"
   ]
  },
  {
   "cell_type": "code",
   "execution_count": 3,
   "metadata": {},
   "outputs": [
    {
     "name": "stderr",
     "output_type": "stream",
     "text": [
      "randomForest 4.6-14\n",
      "Type rfNews() to see new features/changes/bug fixes.\n",
      "Loading required package: Matrix\n",
      "Loading required package: foreach\n",
      "Loaded glmnet 2.0-16\n",
      "\n",
      "Loading required package: gplots\n",
      "\n",
      "Attaching package: ‘gplots’\n",
      "\n",
      "The following object is masked from ‘package:stats’:\n",
      "\n",
      "    lowess\n",
      "\n"
     ]
    }
   ],
   "source": [
    "source('../../../src/predictors.R')\n",
    "source('../../../src/evaluate.R')"
   ]
  },
  {
   "cell_type": "code",
   "execution_count": 4,
   "metadata": {},
   "outputs": [
    {
     "data": {
      "text/plain": [
       "labelTrain.subset.str\n",
       "    Driver non-driver \n",
       "    198341      15317 "
      ]
     },
     "metadata": {},
     "output_type": "display_data"
    }
   ],
   "source": [
    "labelTrain.subset.str <- rep(\"non-driver\", length(labelTrain.subset))\n",
    "labelTrain.subset.str[labelTrain.subset] <- \"Driver\"\n",
    "table(labelTrain.subset.str)"
   ]
  },
  {
   "cell_type": "code",
   "execution_count": 5,
   "metadata": {},
   "outputs": [
    {
     "data": {
      "text/html": [
       "<ol class=list-inline>\n",
       "\t<li>'Consequence'</li>\n",
       "\t<li>'cgType'</li>\n",
       "\t<li>'t_vaf'</li>\n",
       "\t<li>'t_alt_count'</li>\n",
       "\t<li>'n_depth'</li>\n",
       "\t<li>'n_vaf'</li>\n",
       "\t<li>'n_alt_count'</li>\n",
       "\t<li>'t_ref_plus_count'</li>\n",
       "\t<li>'t_ref_neg_count'</li>\n",
       "\t<li>'occurence_in_normals'</li>\n",
       "\t<li>'SIFT_score'</li>\n",
       "\t<li>'Kaviar_AF'</li>\n",
       "\t<li>'isOncogene'</li>\n",
       "\t<li>'Total.onco'</li>\n",
       "\t<li>'cosmicCount'</li>\n",
       "\t<li>'occurence_in_normals.1'</li>\n",
       "\t<li>'t_ref_plus_ratio'</li>\n",
       "</ol>\n"
      ],
      "text/latex": [
       "\\begin{enumerate*}\n",
       "\\item 'Consequence'\n",
       "\\item 'cgType'\n",
       "\\item 't\\_vaf'\n",
       "\\item 't\\_alt\\_count'\n",
       "\\item 'n\\_depth'\n",
       "\\item 'n\\_vaf'\n",
       "\\item 'n\\_alt\\_count'\n",
       "\\item 't\\_ref\\_plus\\_count'\n",
       "\\item 't\\_ref\\_neg\\_count'\n",
       "\\item 'occurence\\_in\\_normals'\n",
       "\\item 'SIFT\\_score'\n",
       "\\item 'Kaviar\\_AF'\n",
       "\\item 'isOncogene'\n",
       "\\item 'Total.onco'\n",
       "\\item 'cosmicCount'\n",
       "\\item 'occurence\\_in\\_normals.1'\n",
       "\\item 't\\_ref\\_plus\\_ratio'\n",
       "\\end{enumerate*}\n"
      ],
      "text/markdown": [
       "1. 'Consequence'\n",
       "2. 'cgType'\n",
       "3. 't_vaf'\n",
       "4. 't_alt_count'\n",
       "5. 'n_depth'\n",
       "6. 'n_vaf'\n",
       "7. 'n_alt_count'\n",
       "8. 't_ref_plus_count'\n",
       "9. 't_ref_neg_count'\n",
       "10. 'occurence_in_normals'\n",
       "11. 'SIFT_score'\n",
       "12. 'Kaviar_AF'\n",
       "13. 'isOncogene'\n",
       "14. 'Total.onco'\n",
       "15. 'cosmicCount'\n",
       "16. 'occurence_in_normals.1'\n",
       "17. 't_ref_plus_ratio'\n",
       "\n",
       "\n"
      ],
      "text/plain": [
       " [1] \"Consequence\"            \"cgType\"                 \"t_vaf\"                 \n",
       " [4] \"t_alt_count\"            \"n_depth\"                \"n_vaf\"                 \n",
       " [7] \"n_alt_count\"            \"t_ref_plus_count\"       \"t_ref_neg_count\"       \n",
       "[10] \"occurence_in_normals\"   \"SIFT_score\"             \"Kaviar_AF\"             \n",
       "[13] \"isOncogene\"             \"Total.onco\"             \"cosmicCount\"           \n",
       "[16] \"occurence_in_normals.1\" \"t_ref_plus_ratio\"      "
      ]
     },
     "metadata": {},
     "output_type": "display_data"
    }
   ],
   "source": [
    "colnames( variantTrain.corr)"
   ]
  },
  {
   "cell_type": "code",
   "execution_count": null,
   "metadata": {},
   "outputs": [
    {
     "name": "stdout",
     "output_type": "stream",
     "text": [
      "[1] \"start CV\"\n",
      "[1] \"none\"\n",
      "."
     ]
    },
    {
     "name": "stderr",
     "output_type": "stream",
     "text": [
      "Warning message in data.matrix(x):\n",
      "“NAs introduced by coercion”Warning message in data.matrix(x):\n",
      "“NAs introduced by coercion”"
     ]
    }
   ],
   "source": [
    "rfCV <- runCV(predictorRF, labelTrain.subset.str, variantTrain.corr,  nfolds=5, nrepeats=5, positiveClass=\"Driver\") \n",
    "save(rfCV, file='../../../data/rfCV.RData')"
   ]
  },
  {
   "cell_type": "code",
   "execution_count": 33,
   "metadata": {},
   "outputs": [
    {
     "data": {
      "text/html": [
       "0.85"
      ],
      "text/latex": [
       "0.85"
      ],
      "text/markdown": [
       "0.85"
      ],
      "text/plain": [
       "[1] 0.85"
      ]
     },
     "metadata": {},
     "output_type": "display_data"
    },
    {
     "data": {
      "image/png": "[encoded data removed]",
      "text/plain": [
       "plot without title"
      ]
     },
     "metadata": {},
     "output_type": "display_data"
    }
   ],
   "source": [
    "plot(evaluateCVwithROCR(rfCV, measure=\"tpr\", x.measure=\"fpr\"))\n",
    "auc <- evaluateCVwithROCR(rfCV, measure=\"auc\")\n",
    "round(mean(as.numeric(auc@y.values)),2)"
   ]
  },
  {
   "cell_type": "code",
   "execution_count": 23,
   "metadata": {},
   "outputs": [
    {
     "data": {
      "text/html": [
       "0.85"
      ],
      "text/latex": [
       "0.85"
      ],
      "text/markdown": [
       "0.85"
      ],
      "text/plain": [
       "[1] 0.85"
      ]
     },
     "metadata": {},
     "output_type": "display_data"
    }
   ],
   "source": []
  },
  {
   "cell_type": "code",
   "execution_count": 36,
   "metadata": {},
   "outputs": [],
   "source": [
    "myrf <- randomForest(variantTrain.corr, factor(labelTrain.subset.str), ntree = 500)"
   ]
  },
  {
   "cell_type": "code",
   "execution_count": 37,
   "metadata": {},
   "outputs": [
    {
     "data": {
      "text/plain": [
       "                Length Class  Mode     \n",
       "call               4   -none- call     \n",
       "type               1   -none- character\n",
       "predicted       4000   factor numeric  \n",
       "err.rate        1500   -none- numeric  \n",
       "confusion          6   -none- numeric  \n",
       "votes           8000   matrix numeric  \n",
       "oob.times       4000   -none- numeric  \n",
       "classes            2   -none- character\n",
       "importance        13   -none- numeric  \n",
       "importanceSD       0   -none- NULL     \n",
       "localImportance    0   -none- NULL     \n",
       "proximity          0   -none- NULL     \n",
       "ntree              1   -none- numeric  \n",
       "mtry               1   -none- numeric  \n",
       "forest            14   -none- list     \n",
       "y               4000   factor numeric  \n",
       "test               0   -none- NULL     \n",
       "inbag              0   -none- NULL     "
      ]
     },
     "metadata": {},
     "output_type": "display_data"
    }
   ],
   "source": [
    "summary(myrf)"
   ]
  },
  {
   "cell_type": "code",
   "execution_count": 71,
   "metadata": {},
   "outputs": [
    {
     "data": {
      "text/html": [
       "<ol class=list-inline>\n",
       "\t<li>'call'</li>\n",
       "\t<li>'type'</li>\n",
       "\t<li>'predicted'</li>\n",
       "\t<li>'err.rate'</li>\n",
       "\t<li>'confusion'</li>\n",
       "\t<li>'votes'</li>\n",
       "\t<li>'oob.times'</li>\n",
       "\t<li>'classes'</li>\n",
       "\t<li>'importance'</li>\n",
       "\t<li>'importanceSD'</li>\n",
       "\t<li>'localImportance'</li>\n",
       "\t<li>'proximity'</li>\n",
       "\t<li>'ntree'</li>\n",
       "\t<li>'mtry'</li>\n",
       "\t<li>'forest'</li>\n",
       "\t<li>'y'</li>\n",
       "\t<li>'test'</li>\n",
       "\t<li>'inbag'</li>\n",
       "</ol>\n"
      ],
      "text/latex": [
       "\\begin{enumerate*}\n",
       "\\item 'call'\n",
       "\\item 'type'\n",
       "\\item 'predicted'\n",
       "\\item 'err.rate'\n",
       "\\item 'confusion'\n",
       "\\item 'votes'\n",
       "\\item 'oob.times'\n",
       "\\item 'classes'\n",
       "\\item 'importance'\n",
       "\\item 'importanceSD'\n",
       "\\item 'localImportance'\n",
       "\\item 'proximity'\n",
       "\\item 'ntree'\n",
       "\\item 'mtry'\n",
       "\\item 'forest'\n",
       "\\item 'y'\n",
       "\\item 'test'\n",
       "\\item 'inbag'\n",
       "\\end{enumerate*}\n"
      ],
      "text/markdown": [
       "1. 'call'\n",
       "2. 'type'\n",
       "3. 'predicted'\n",
       "4. 'err.rate'\n",
       "5. 'confusion'\n",
       "6. 'votes'\n",
       "7. 'oob.times'\n",
       "8. 'classes'\n",
       "9. 'importance'\n",
       "10. 'importanceSD'\n",
       "11. 'localImportance'\n",
       "12. 'proximity'\n",
       "13. 'ntree'\n",
       "14. 'mtry'\n",
       "15. 'forest'\n",
       "16. 'y'\n",
       "17. 'test'\n",
       "18. 'inbag'\n",
       "\n",
       "\n"
      ],
      "text/plain": [
       " [1] \"call\"            \"type\"            \"predicted\"       \"err.rate\"       \n",
       " [5] \"confusion\"       \"votes\"           \"oob.times\"       \"classes\"        \n",
       " [9] \"importance\"      \"importanceSD\"    \"localImportance\" \"proximity\"      \n",
       "[13] \"ntree\"           \"mtry\"            \"forest\"          \"y\"              \n",
       "[17] \"test\"            \"inbag\"          "
      ]
     },
     "metadata": {},
     "output_type": "display_data"
    }
   ],
   "source": [
    "names(myrf)"
   ]
  },
  {
   "cell_type": "code",
   "execution_count": 56,
   "metadata": {},
   "outputs": [
    {
     "data": {
      "text/plain": [
       "           Length  Class  Mode   \n",
       "ndbigtree      500 -none- numeric\n",
       "nodestatus  660500 -none- numeric\n",
       "bestvar     660500 -none- numeric\n",
       "treemap    1321000 -none- numeric\n",
       "nodepred    660500 -none- numeric\n",
       "xbestsplit  660500 -none- numeric\n",
       "pid              2 -none- numeric\n",
       "cutoff           2 -none- numeric\n",
       "ncat            11 -none- numeric\n",
       "maxcat           1 -none- numeric\n",
       "nrnodes          1 -none- numeric\n",
       "ntree            1 -none- numeric\n",
       "nclass           1 -none- numeric\n",
       "xlevels         11 -none- list   "
      ]
     },
     "metadata": {},
     "output_type": "display_data"
    }
   ],
   "source": [
    "summary(myrf$forest)"
   ]
  },
  {
   "cell_type": "code",
   "execution_count": 27,
   "metadata": {},
   "outputs": [
    {
     "data": {
      "text/html": [
       "<table>\n",
       "<thead><tr><th></th><th scope=col>MeanDecreaseGini</th></tr></thead>\n",
       "<tbody>\n",
       "\t<tr><th scope=row>Consequence</th><td> 81.44981</td></tr>\n",
       "\t<tr><th scope=row>cgType</th><td> 30.60672</td></tr>\n",
       "\t<tr><th scope=row>t_vaf</th><td>216.33239</td></tr>\n",
       "\t<tr><th scope=row>t_alt_count</th><td>324.21853</td></tr>\n",
       "\t<tr><th scope=row>n_depth</th><td>222.32503</td></tr>\n",
       "\t<tr><th scope=row>t_ref_plus_count</th><td>212.56972</td></tr>\n",
       "\t<tr><th scope=row>t_ref_neg_count</th><td>221.01109</td></tr>\n",
       "\t<tr><th scope=row>SIFT_score</th><td>103.47092</td></tr>\n",
       "\t<tr><th scope=row>Kaviar_AF</th><td>326.59550</td></tr>\n",
       "\t<tr><th scope=row>cosmicCount</th><td> 74.91997</td></tr>\n",
       "\t<tr><th scope=row>t_ref_plus_ratio</th><td>182.18004</td></tr>\n",
       "</tbody>\n",
       "</table>\n"
      ],
      "text/latex": [
       "\\begin{tabular}{r|l}\n",
       "  & MeanDecreaseGini\\\\\n",
       "\\hline\n",
       "\tConsequence &  81.44981\\\\\n",
       "\tcgType &  30.60672\\\\\n",
       "\tt\\_vaf & 216.33239\\\\\n",
       "\tt\\_alt\\_count & 324.21853\\\\\n",
       "\tn\\_depth & 222.32503\\\\\n",
       "\tt\\_ref\\_plus\\_count & 212.56972\\\\\n",
       "\tt\\_ref\\_neg\\_count & 221.01109\\\\\n",
       "\tSIFT\\_score & 103.47092\\\\\n",
       "\tKaviar\\_AF & 326.59550\\\\\n",
       "\tcosmicCount &  74.91997\\\\\n",
       "\tt\\_ref\\_plus\\_ratio & 182.18004\\\\\n",
       "\\end{tabular}\n"
      ],
      "text/markdown": [
       "\n",
       "| <!--/--> | MeanDecreaseGini | \n",
       "|---|---|---|---|---|---|---|---|---|---|---|\n",
       "| Consequence |  81.44981 | \n",
       "| cgType |  30.60672 | \n",
       "| t_vaf | 216.33239 | \n",
       "| t_alt_count | 324.21853 | \n",
       "| n_depth | 222.32503 | \n",
       "| t_ref_plus_count | 212.56972 | \n",
       "| t_ref_neg_count | 221.01109 | \n",
       "| SIFT_score | 103.47092 | \n",
       "| Kaviar_AF | 326.59550 | \n",
       "| cosmicCount |  74.91997 | \n",
       "| t_ref_plus_ratio | 182.18004 | \n",
       "\n",
       "\n"
      ],
      "text/plain": [
       "                 MeanDecreaseGini\n",
       "Consequence       81.44981       \n",
       "cgType            30.60672       \n",
       "t_vaf            216.33239       \n",
       "t_alt_count      324.21853       \n",
       "n_depth          222.32503       \n",
       "t_ref_plus_count 212.56972       \n",
       "t_ref_neg_count  221.01109       \n",
       "SIFT_score       103.47092       \n",
       "Kaviar_AF        326.59550       \n",
       "cosmicCount       74.91997       \n",
       "t_ref_plus_ratio 182.18004       "
      ]
     },
     "metadata": {},
     "output_type": "display_data"
    }
   ],
   "source": [
    "(VI_F=importance(myrf))"
   ]
  },
  {
   "cell_type": "code",
   "execution_count": null,
   "metadata": {},
   "outputs": [],
   "source": []
  }
 ],
 "metadata": {
  "kernelspec": {
   "display_name": "R 3.4.3",
   "language": "R",
   "name": "ir343"
  },
  "language_info": {
   "codemirror_mode": "r",
   "file_extension": ".r",
   "mimetype": "text/x-r-source",
   "name": "R",
   "pygments_lexer": "r",
   "version": "3.4.3"
  }
 },
 "nbformat": 4,
 "nbformat_minor": 2
}
