{
 "cells": [
  {
   "cell_type": "markdown",
   "metadata": {},
   "source": [
    "# Step by step creation of the final dataset\n",
    "\n",
    "**Goal:** bla\n",
    "\n",
    "This notebook is divided in ? parts:\n",
    "* **1 .Bla**: bla\n",
    "\n",
    "**Refs:**\n",
    "* [`first_analysis.ipynb`](https://github.com/ElsaB/impact-annotator/blob/master/analysis/description/180731_pierre/first_analysis.ipynb)\n",
    "* [`click_annotvcf_annotations_analysis.ipynb`](https://github.com/ElsaB/impact-annotator/blob/master/analysis/description/180731_pierre/click_annotvcf_annotations_analysis.ipynb)"
   ]
  },
  {
   "cell_type": "code",
   "execution_count": 14,
   "metadata": {},
   "outputs": [],
   "source": [
    "source(\"../../src/utils/custom_tools.R\")\n",
    "setup_environment(\"../../src/utils\")"
   ]
  },
  {
   "cell_type": "code",
   "execution_count": 15,
   "metadata": {},
   "outputs": [],
   "source": [
    "source(\"../../data/utils/get_final_dataset.R\")\n",
    "data_path <- \"../../data\""
   ]
  },
  {
   "cell_type": "code",
   "execution_count": 16,
   "metadata": {},
   "outputs": [
    {
     "name": "stdout",
     "output_type": "stream",
     "text": [
      "Get raw impact...\n",
      "Time difference of 11.96482 secs\n"
     ]
    }
   ],
   "source": [
    "old <- Sys.time()\n",
    "cat(\"Get raw impact...\\n\")\n",
    "impact <- read.table(paste0(data_path, \"/all_IMPACT_mutations_180508.txt\"),\n",
    "                     sep = \"\\t\", stringsAsFactors = FALSE, header = TRUE)\n",
    "new <- Sys.time() - old\n",
    "print(new)"
   ]
  },
  {
   "cell_type": "code",
   "execution_count": 17,
   "metadata": {},
   "outputs": [
    {
     "name": "stdout",
     "output_type": "stream",
     "text": [
      "\n",
      "Get impact_annotated (impact annotated with click_annotvcf)...\n",
      "Time difference of 1.950914 mins\n"
     ]
    }
   ],
   "source": [
    "old <- Sys.time()\n",
    "cat(\"\\nGet impact_annotated (impact annotated with click_annotvcf)...\\n\")\n",
    "impact_annotated <- get_impact_annotated()\n",
    "new <- Sys.time() - old\n",
    "print(new)"
   ]
  },
  {
   "cell_type": "code",
   "execution_count": 18,
   "metadata": {},
   "outputs": [
    {
     "name": "stdout",
     "output_type": "stream",
     "text": [
      "\n",
      "Join impact and impact_annotated...\n",
      "Time difference of 29.31173 secs\n"
     ]
    }
   ],
   "source": [
    "old <- Sys.time()\n",
    "cat(\"\\nJoin impact and impact_annotated...\\n\")\n",
    "impact <- add_click_annotvcf_annotations(impact, impact_annotated)\n",
    "new <- Sys.time() - old\n",
    "print(new)"
   ]
  },
  {
   "cell_type": "code",
   "execution_count": 19,
   "metadata": {},
   "outputs": [
    {
     "name": "stdout",
     "output_type": "stream",
     "text": [
      "\n",
      "Filter impact...\n",
      "Time difference of 1.221396 mins\n"
     ]
    }
   ],
   "source": [
    "old <- Sys.time()\n",
    "cat(\"\\nFilter impact...\\n\")\n",
    "impact <- filter_impact(impact)\n",
    "new <- Sys.time() - old\n",
    "print(new)"
   ]
  },
  {
   "cell_type": "code",
   "execution_count": 20,
   "metadata": {},
   "outputs": [
    {
     "name": "stdout",
     "output_type": "stream",
     "text": [
      "\n",
      "Process raw features...\n",
      "Time difference of 6.555514 mins\n"
     ]
    }
   ],
   "source": [
    "old <- Sys.time()\n",
    "cat(\"\\nProcess raw features...\\n\")\n",
    "impact <- process_raw_features(impact)\n",
    "new <- Sys.time() - old\n",
    "print(new)"
   ]
  },
  {
   "cell_type": "code",
   "execution_count": 21,
   "metadata": {},
   "outputs": [
    {
     "name": "stdout",
     "output_type": "stream",
     "text": [
      "\n",
      "Add new features...\n",
      "Time difference of 18.00316 secs\n"
     ]
    }
   ],
   "source": [
    "old <- Sys.time()\n",
    "cat(\"\\nAdd new features...\\n\")\n",
    "impact <- add_new_features(impact)\n",
    "new <- Sys.time() - old\n",
    "print(new)"
   ]
  },
  {
   "cell_type": "code",
   "execution_count": 22,
   "metadata": {},
   "outputs": [
    {
     "name": "stdout",
     "output_type": "stream",
     "text": [
      "\n",
      " 194210"
     ]
    }
   ],
   "source": [
    "cat(\"\\n\", nrow(impact))"
   ]
  },
  {
   "cell_type": "code",
   "execution_count": 23,
   "metadata": {},
   "outputs": [
    {
     "data": {
      "text/html": [
       "<table>\n",
       "<thead><tr><th></th><th scope=col>Hugo_Symbol</th><th scope=col>Chromosome</th><th scope=col>Start_Position</th><th scope=col>End_Position</th><th scope=col>Consequence</th><th scope=col>Variant_Type</th><th scope=col>Reference_Allele</th><th scope=col>Tumor_Seq_Allele2</th><th scope=col>Tumor_Sample_Barcode</th><th scope=col>cDNA_change</th><th scope=col>HGVSp_Short</th><th scope=col>t_depth</th><th scope=col>t_vaf</th><th scope=col>t_alt_count</th><th scope=col>n_depth</th><th scope=col>n_vaf</th><th scope=col>n_alt_count</th><th scope=col>t_ref_plus_count</th><th scope=col>t_ref_neg_count</th><th scope=col>t_alt_plus_count</th><th scope=col>t_alt_neg_count</th><th scope=col>confidence_class</th><th scope=col>sample_coverage</th><th scope=col>mut_key</th><th scope=col>VAG_VT</th><th scope=col>VAG_GENE</th><th scope=col>VAG_cDNA_CHANGE</th><th scope=col>VAG_PROTEIN_CHANGE</th><th scope=col>VAG_EFFECT</th><th scope=col>VEP_Consequence</th><th scope=col>VEP_SYMBOL</th><th scope=col>VEP_HGVSc</th><th scope=col>VEP_HGVSp</th><th scope=col>VEP_Amino_acids</th><th scope=col>VEP_VARIANT_CLASS</th><th scope=col>VEP_EXON</th><th scope=col>VEP_INTRON</th><th scope=col>VEP_IMPACT</th><th scope=col>VEP_CLIN_SIG</th><th scope=col>VEP_COSMIC_CNT</th><th scope=col>VEP_gnomAD_AF</th><th scope=col>sample_mut_key</th><th scope=col>patient_key</th><th scope=col>frequency_in_normals</th><th scope=col>VEP_SIFT_class</th><th scope=col>VEP_SIFT_score</th><th scope=col>VEP_PolyPhen_class</th><th scope=col>VEP_PolyPhen_score</th><th scope=col>VEP_gnomAD_total_AF_AFR</th><th scope=col>VEP_gnomAD_total_AF_AMR</th><th scope=col>VEP_gnomAD_total_AF_ASJ</th><th scope=col>VEP_gnomAD_total_AF_EAS</th><th scope=col>VEP_gnomAD_total_AF_FIN</th><th scope=col>VEP_gnomAD_total_AF_NFE</th><th scope=col>VEP_gnomAD_total_AF_OTH</th><th scope=col>VEP_gnomAD_AF_MAX</th><th scope=col>VEP_gnomAD_AF_MEAN</th><th scope=col>Kaviar_AF</th><th scope=col>is_a_hotspot</th><th scope=col>is_a_3d_hotspot</th><th scope=col>oncogenic</th><th scope=col>gene_type</th></tr></thead>\n",
       "<tbody>\n",
       "\t<tr><th scope=row>34</th><td><span style=white-space:pre-wrap>TP53  </span>                 </td><td>17                                                             </td><td><span style=white-space:pre-wrap>  7577515</span>              </td><td><span style=white-space:pre-wrap>  7577515</span>              </td><td>nonsynonymous_SNV                                              </td><td>SNP                                                            </td><td>T                                                              </td><td>G                                                              </td><td>P-0000012-T02-IM3                                              </td><td><span style=white-space:pre-wrap>c.766A&gt;C   </span>         </td><td>p.T256P                                                        </td><td>227                                                            </td><td>0.50220                                                        </td><td>114                                                            </td><td> 569                                                           </td><td>0.00000                                                        </td><td>0                                                              </td><td> 59                                                            </td><td> 54                                                            </td><td>58                                                             </td><td>56                                                             </td><td>AUTO_OK                                                        </td><td>344                                                            </td><td>17_7577515_T_G                                                 </td><td>Sub                                                            </td><td><span style=white-space:pre-wrap>TP53  </span>                 </td><td><span style=white-space:pre-wrap>c.766A&gt;C   </span>         </td><td>p.T256P                                                        </td><td>non_synonymous_codon                                           </td><td><span style=white-space:pre-wrap>missense_variant       </span></td><td><span style=white-space:pre-wrap>TP53  </span>                 </td><td><span style=white-space:pre-wrap>c.766A&gt;C   </span>         </td><td>p.T256P                                                        </td><td><span style=white-space:pre-wrap>T/P    </span>                </td><td>SNV                                                            </td><td>7|11                                                           </td><td><span style=white-space:pre-wrap>NA  </span>                   </td><td>MODERATE                                                       </td><td>unknown                                                        </td><td>1                                                              </td><td>0.000e+00                                                      </td><td>P-0000012-T02-IM3_17_7577515_T_G                               </td><td>P-0000012                                                      </td><td>0                                                              </td><td>deleterious                                                    </td><td>0.00                                                           </td><td>probably_damaging                                              </td><td>0.999                                                          </td><td>0                                                              </td><td>0                                                              </td><td>0                                                              </td><td>0                                                              </td><td>0                                                              </td><td>0.000000e+00                                                   </td><td>0                                                              </td><td>0.000000e+00                                                   </td><td>0.000000e+00                                                   </td><td>0.0e+00                                                        </td><td>unknown                                                        </td><td>unknown                                                        </td><td>Likely Oncogenic                                               </td><td><span style=white-space:pre-wrap>tsg     </span>               </td></tr>\n",
       "\t<tr><th scope=row>37</th><td>PIK3R3                                                         </td><td>1                                                              </td><td> 46521514                                                      </td><td> 46521514                                                      </td><td>nonsynonymous_SNV                                              </td><td>SNP                                                            </td><td>G                                                              </td><td>C                                                              </td><td>P-0000012-T03-IM3                                              </td><td><span style=white-space:pre-wrap>c.894C&gt;G   </span>         </td><td>p.I298M                                                        </td><td>733                                                            </td><td>0.17599                                                        </td><td>129                                                            </td><td>1243                                                           </td><td>0.00000                                                        </td><td>0                                                              </td><td>288                                                            </td><td>316                                                            </td><td>61                                                             </td><td>68                                                             </td><td>AUTO_OK                                                        </td><td>428                                                            </td><td>1_46521514_G_C                                                 </td><td>Sub                                                            </td><td>PIK3R3                                                         </td><td><span style=white-space:pre-wrap>c.1032C&gt;G  </span>         </td><td>p.I344M                                                        </td><td>non_synonymous_codon                                           </td><td><span style=white-space:pre-wrap>missense_variant       </span></td><td>PIK3R3                                                         </td><td><span style=white-space:pre-wrap>c.894C&gt;G   </span>         </td><td>p.I298M                                                        </td><td><span style=white-space:pre-wrap>I/M    </span>                </td><td>SNV                                                            </td><td>7|10                                                           </td><td><span style=white-space:pre-wrap>NA  </span>                   </td><td>MODERATE                                                       </td><td>unknown                                                        </td><td>0                                                              </td><td>0.000e+00                                                      </td><td>P-0000012-T03-IM3_1_46521514_G_C                               </td><td>P-0000012                                                      </td><td>0                                                              </td><td>deleterious                                                    </td><td>0.00                                                           </td><td><span style=white-space:pre-wrap>benign           </span>      </td><td>0.277                                                          </td><td>0                                                              </td><td>0                                                              </td><td>0                                                              </td><td>0                                                              </td><td>0                                                              </td><td>0.000000e+00                                                   </td><td>0                                                              </td><td>0.000000e+00                                                   </td><td>0.000000e+00                                                   </td><td>0.0e+00                                                        </td><td>unknown                                                        </td><td>unknown                                                        </td><td><span style=white-space:pre-wrap>Unknown         </span>       </td><td><span style=white-space:pre-wrap>tsg     </span>               </td></tr>\n",
       "\t<tr><th scope=row>38</th><td><span style=white-space:pre-wrap>ATR   </span>                 </td><td>3                                                              </td><td>142178126                                                      </td><td>142178126                                                      </td><td>nonsynonymous_SNV                                              </td><td>SNP                                                            </td><td>C                                                              </td><td>A                                                              </td><td>P-0000012-T03-IM3                                              </td><td><span style=white-space:pre-wrap>c.7292G&gt;T  </span>         </td><td>p.R2431M                                                       </td><td>482                                                            </td><td>0.17427                                                        </td><td> 84                                                            </td><td> 581                                                           </td><td>0.00172                                                        </td><td>1                                                              </td><td>221                                                            </td><td>177                                                            </td><td>46                                                             </td><td>38                                                             </td><td>AUTO_OK                                                        </td><td>428                                                            </td><td>3_142178126_C_A                                                </td><td>Sub                                                            </td><td><span style=white-space:pre-wrap>ATR   </span>                 </td><td><span style=white-space:pre-wrap>c.7292G&gt;T  </span>         </td><td>p.R2431M                                                       </td><td>non_synonymous_codon                                           </td><td><span style=white-space:pre-wrap>missense_variant       </span></td><td><span style=white-space:pre-wrap>ATR   </span>                 </td><td><span style=white-space:pre-wrap>c.7292G&gt;T  </span>         </td><td>p.R2431M                                                       </td><td><span style=white-space:pre-wrap>R/M    </span>                </td><td>SNV                                                            </td><td>43|47                                                          </td><td><span style=white-space:pre-wrap>NA  </span>                   </td><td>MODERATE                                                       </td><td>unknown                                                        </td><td>0                                                              </td><td>4.063e-06                                                      </td><td>P-0000012-T03-IM3_3_142178126_C_A                              </td><td>P-0000012                                                      </td><td>0                                                              </td><td>deleterious                                                    </td><td>0.00                                                           </td><td>probably_damaging                                              </td><td>0.997                                                          </td><td>0                                                              </td><td>0                                                              </td><td>0                                                              </td><td>0                                                              </td><td>0                                                              </td><td>8.959771e-06                                                   </td><td>0                                                              </td><td>8.959771e-06                                                   </td><td>4.644035e-06                                                   </td><td>6.5e-06                                                        </td><td>unknown                                                        </td><td>unknown                                                        </td><td><span style=white-space:pre-wrap>Unknown         </span>       </td><td><span style=white-space:pre-wrap>tsg     </span>               </td></tr>\n",
       "\t<tr><th scope=row>39</th><td>PDGFRA                                                         </td><td>4                                                              </td><td> 55139732                                                      </td><td> 55139732                                                      </td><td>nonsynonymous_SNV                                              </td><td>SNP                                                            </td><td>T                                                              </td><td>A                                                              </td><td>P-0000012-T03-IM3                                              </td><td><span style=white-space:pre-wrap>c.1393T&gt;A  </span>         </td><td>p.L465M                                                        </td><td>570                                                            </td><td>0.20351                                                        </td><td>116                                                            </td><td> 811                                                           </td><td>0.00000                                                        </td><td>0                                                              </td><td>252                                                            </td><td>202                                                            </td><td>66                                                             </td><td>50                                                             </td><td>AUTO_OK                                                        </td><td>428                                                            </td><td>4_55139732_T_A                                                 </td><td>Sub                                                            </td><td>PDGFRA                                                         </td><td><span style=white-space:pre-wrap>c.1393T&gt;A  </span>         </td><td>p.L465M                                                        </td><td>non_synonymous_codon                                           </td><td><span style=white-space:pre-wrap>missense_variant       </span></td><td>PDGFRA                                                         </td><td><span style=white-space:pre-wrap>c.1393T&gt;A  </span>         </td><td>p.L465M                                                        </td><td><span style=white-space:pre-wrap>L/M    </span>                </td><td>SNV                                                            </td><td>10|23                                                          </td><td><span style=white-space:pre-wrap>NA  </span>                   </td><td>MODERATE                                                       </td><td>unknown                                                        </td><td>0                                                              </td><td>0.000e+00                                                      </td><td>P-0000012-T03-IM3_4_55139732_T_A                               </td><td>P-0000012                                                      </td><td>0                                                              </td><td>deleterious                                                    </td><td>0.01                                                           </td><td>probably_damaging                                              </td><td>0.965                                                          </td><td>0                                                              </td><td>0                                                              </td><td>0                                                              </td><td>0                                                              </td><td>0                                                              </td><td>0.000000e+00                                                   </td><td>0                                                              </td><td>0.000000e+00                                                   </td><td>0.000000e+00                                                   </td><td>0.0e+00                                                        </td><td>unknown                                                        </td><td>unknown                                                        </td><td><span style=white-space:pre-wrap>Unknown         </span>       </td><td>oncogene                                                       </td></tr>\n",
       "\t<tr><th scope=row>40</th><td>FBXW7                                                    </td><td>4                                                        </td><td>153249542                                                </td><td>153249542                                                </td><td><span style=white-space:pre-wrap>splicing         </span></td><td>SNP                                                      </td><td>C                                                        </td><td>A                                                        </td><td>P-0000012-T03-IM3                                        </td><td>c.1237-1G&gt;T                                           </td><td><span style=white-space:pre-wrap>        </span>         </td><td>333                                                      </td><td>0.25526                                                  </td><td> 85                                                      </td><td> 458                                                     </td><td>0.00000                                                  </td><td>0                                                        </td><td> 69                                                      </td><td>179                                                      </td><td>24                                                       </td><td>61                                                       </td><td>AUTO_OK                                                  </td><td>428                                                      </td><td>4_153249542_C_A                                          </td><td>Sub                                                      </td><td>FBXW7                                                    </td><td>c.1237-1G&gt;T                                           </td><td><span style=white-space:pre-wrap>p.?     </span>         </td><td>splice_site_variant                                      </td><td>splice_acceptor_variant                                  </td><td>FBXW7                                                    </td><td>c.1237-1G&gt;T                                           </td><td>unknown                                                  </td><td>unknown                                                  </td><td>SNV                                                      </td><td><span style=white-space:pre-wrap>NA   </span>            </td><td>8|11                                                     </td><td><span style=white-space:pre-wrap>HIGH    </span>         </td><td>unknown                                                  </td><td>0                                                        </td><td>0.000e+00                                                </td><td>P-0000012-T03-IM3_4_153249542_C_A                        </td><td>P-0000012                                                </td><td>0                                                        </td><td><span style=white-space:pre-wrap>unknown    </span>      </td><td><span style=white-space:pre-wrap>  NA</span>             </td><td><span style=white-space:pre-wrap>unknown          </span></td><td><span style=white-space:pre-wrap>   NA</span>            </td><td>0                                                        </td><td>0                                                        </td><td>0                                                        </td><td>0                                                        </td><td>0                                                        </td><td>0.000000e+00                                             </td><td>0                                                        </td><td>0.000000e+00                                             </td><td>0.000000e+00                                             </td><td>0.0e+00                                                  </td><td>unknown                                                  </td><td>unknown                                                  </td><td>Likely Oncogenic                                         </td><td><span style=white-space:pre-wrap>tsg     </span>         </td></tr>\n",
       "\t<tr><th scope=row>41</th><td>FBXW7                                                          </td><td>4                                                              </td><td>153332775                                                      </td><td>153332775                                                      </td><td><span style=white-space:pre-wrap>stopgain_SNV     </span>      </td><td>SNP                                                            </td><td>C                                                              </td><td>A                                                              </td><td>P-0000012-T03-IM3                                              </td><td><span style=white-space:pre-wrap>c.181G&gt;T   </span>         </td><td><span style=white-space:pre-wrap>p.G61*  </span>               </td><td>570                                                            </td><td>0.22807                                                        </td><td>130                                                            </td><td> 908                                                           </td><td>0.00000                                                        </td><td>0                                                              </td><td>243                                                            </td><td>197                                                            </td><td>70                                                             </td><td>60                                                             </td><td>AUTO_OK                                                        </td><td>428                                                            </td><td>4_153332775_C_A                                                </td><td>Sub                                                            </td><td>FBXW7                                                          </td><td><span style=white-space:pre-wrap>c.181G&gt;T   </span>         </td><td><span style=white-space:pre-wrap>p.G61*  </span>               </td><td><span style=white-space:pre-wrap>stop_gained         </span>   </td><td><span style=white-space:pre-wrap>stop_gained            </span></td><td>FBXW7                                                          </td><td><span style=white-space:pre-wrap>c.181G&gt;T   </span>         </td><td><span style=white-space:pre-wrap>p.G61*  </span>               </td><td><span style=white-space:pre-wrap>G/*    </span>                </td><td>SNV                                                            </td><td>2|12                                                           </td><td><span style=white-space:pre-wrap>NA  </span>                   </td><td><span style=white-space:pre-wrap>HIGH    </span>               </td><td>unknown                                                        </td><td>0                                                              </td><td>0.000e+00                                                      </td><td>P-0000012-T03-IM3_4_153332775_C_A                              </td><td>P-0000012                                                      </td><td>0                                                              </td><td><span style=white-space:pre-wrap>unknown    </span>            </td><td><span style=white-space:pre-wrap>  NA</span>                   </td><td><span style=white-space:pre-wrap>unknown          </span>      </td><td><span style=white-space:pre-wrap>   NA</span>                  </td><td>0                                                              </td><td>0                                                              </td><td>0                                                              </td><td>0                                                              </td><td>0                                                              </td><td>0.000000e+00                                                   </td><td>0                                                              </td><td>0.000000e+00                                                   </td><td>0.000000e+00                                                   </td><td>0.0e+00                                                        </td><td>unknown                                                        </td><td>unknown                                                        </td><td>Likely Oncogenic                                               </td><td><span style=white-space:pre-wrap>tsg     </span>               </td></tr>\n",
       "</tbody>\n",
       "</table>\n"
      ],
      "text/latex": [
       "\\begin{tabular}{r|llllllllllllllllllllllllllllllllllllllllllllllllllllllllllllll}\n",
       "  & Hugo\\_Symbol & Chromosome & Start\\_Position & End\\_Position & Consequence & Variant\\_Type & Reference\\_Allele & Tumor\\_Seq\\_Allele2 & Tumor\\_Sample\\_Barcode & cDNA\\_change & HGVSp\\_Short & t\\_depth & t\\_vaf & t\\_alt\\_count & n\\_depth & n\\_vaf & n\\_alt\\_count & t\\_ref\\_plus\\_count & t\\_ref\\_neg\\_count & t\\_alt\\_plus\\_count & t\\_alt\\_neg\\_count & confidence\\_class & sample\\_coverage & mut\\_key & VAG\\_VT & VAG\\_GENE & VAG\\_cDNA\\_CHANGE & VAG\\_PROTEIN\\_CHANGE & VAG\\_EFFECT & VEP\\_Consequence & VEP\\_SYMBOL & VEP\\_HGVSc & VEP\\_HGVSp & VEP\\_Amino\\_acids & VEP\\_VARIANT\\_CLASS & VEP\\_EXON & VEP\\_INTRON & VEP\\_IMPACT & VEP\\_CLIN\\_SIG & VEP\\_COSMIC\\_CNT & VEP\\_gnomAD\\_AF & sample\\_mut\\_key & patient\\_key & frequency\\_in\\_normals & VEP\\_SIFT\\_class & VEP\\_SIFT\\_score & VEP\\_PolyPhen\\_class & VEP\\_PolyPhen\\_score & VEP\\_gnomAD\\_total\\_AF\\_AFR & VEP\\_gnomAD\\_total\\_AF\\_AMR & VEP\\_gnomAD\\_total\\_AF\\_ASJ & VEP\\_gnomAD\\_total\\_AF\\_EAS & VEP\\_gnomAD\\_total\\_AF\\_FIN & VEP\\_gnomAD\\_total\\_AF\\_NFE & VEP\\_gnomAD\\_total\\_AF\\_OTH & VEP\\_gnomAD\\_AF\\_MAX & VEP\\_gnomAD\\_AF\\_MEAN & Kaviar\\_AF & is\\_a\\_hotspot & is\\_a\\_3d\\_hotspot & oncogenic & gene\\_type\\\\\n",
       "\\hline\n",
       "\t34 & TP53                                      & 17                                        &   7577515                                 &   7577515                                 & nonsynonymous\\_SNV                       & SNP                                       & T                                         & G                                         & P-0000012-T02-IM3                         & c.766A>C                                  & p.T256P                                   & 227                                       & 0.50220                                   & 114                                       &  569                                      & 0.00000                                   & 0                                         &  59                                       &  54                                       & 58                                        & 56                                        & AUTO\\_OK                                 & 344                                       & 17\\_7577515\\_T\\_G                      & Sub                                       & TP53                                      & c.766A>C                                  & p.T256P                                   & non\\_synonymous\\_codon                  & missense\\_variant                        & TP53                                      & c.766A>C                                  & p.T256P                                   & T/P                                       & SNV                                       & 7\\textbar{}11                            & NA                                        & MODERATE                                  & unknown                                   & 1                                         & 0.000e+00                                 & P-0000012-T02-IM3\\_17\\_7577515\\_T\\_G  & P-0000012                                 & 0                                         & deleterious                               & 0.00                                      & probably\\_damaging                       & 0.999                                     & 0                                         & 0                                         & 0                                         & 0                                         & 0                                         & 0.000000e+00                              & 0                                         & 0.000000e+00                              & 0.000000e+00                              & 0.0e+00                                   & unknown                                   & unknown                                   & Likely Oncogenic                          & tsg                                      \\\\\n",
       "\t37 & PIK3R3                                    & 1                                         &  46521514                                 &  46521514                                 & nonsynonymous\\_SNV                       & SNP                                       & G                                         & C                                         & P-0000012-T03-IM3                         & c.894C>G                                  & p.I298M                                   & 733                                       & 0.17599                                   & 129                                       & 1243                                      & 0.00000                                   & 0                                         & 288                                       & 316                                       & 61                                        & 68                                        & AUTO\\_OK                                 & 428                                       & 1\\_46521514\\_G\\_C                      & Sub                                       & PIK3R3                                    & c.1032C>G                                 & p.I344M                                   & non\\_synonymous\\_codon                  & missense\\_variant                        & PIK3R3                                    & c.894C>G                                  & p.I298M                                   & I/M                                       & SNV                                       & 7\\textbar{}10                            & NA                                        & MODERATE                                  & unknown                                   & 0                                         & 0.000e+00                                 & P-0000012-T03-IM3\\_1\\_46521514\\_G\\_C  & P-0000012                                 & 0                                         & deleterious                               & 0.00                                      & benign                                    & 0.277                                     & 0                                         & 0                                         & 0                                         & 0                                         & 0                                         & 0.000000e+00                              & 0                                         & 0.000000e+00                              & 0.000000e+00                              & 0.0e+00                                   & unknown                                   & unknown                                   & Unknown                                   & tsg                                      \\\\\n",
       "\t38 & ATR                                       & 3                                         & 142178126                                 & 142178126                                 & nonsynonymous\\_SNV                       & SNP                                       & C                                         & A                                         & P-0000012-T03-IM3                         & c.7292G>T                                 & p.R2431M                                  & 482                                       & 0.17427                                   &  84                                       &  581                                      & 0.00172                                   & 1                                         & 221                                       & 177                                       & 46                                        & 38                                        & AUTO\\_OK                                 & 428                                       & 3\\_142178126\\_C\\_A                     & Sub                                       & ATR                                       & c.7292G>T                                 & p.R2431M                                  & non\\_synonymous\\_codon                  & missense\\_variant                        & ATR                                       & c.7292G>T                                 & p.R2431M                                  & R/M                                       & SNV                                       & 43\\textbar{}47                           & NA                                        & MODERATE                                  & unknown                                   & 0                                         & 4.063e-06                                 & P-0000012-T03-IM3\\_3\\_142178126\\_C\\_A & P-0000012                                 & 0                                         & deleterious                               & 0.00                                      & probably\\_damaging                       & 0.997                                     & 0                                         & 0                                         & 0                                         & 0                                         & 0                                         & 8.959771e-06                              & 0                                         & 8.959771e-06                              & 4.644035e-06                              & 6.5e-06                                   & unknown                                   & unknown                                   & Unknown                                   & tsg                                      \\\\\n",
       "\t39 & PDGFRA                                    & 4                                         &  55139732                                 &  55139732                                 & nonsynonymous\\_SNV                       & SNP                                       & T                                         & A                                         & P-0000012-T03-IM3                         & c.1393T>A                                 & p.L465M                                   & 570                                       & 0.20351                                   & 116                                       &  811                                      & 0.00000                                   & 0                                         & 252                                       & 202                                       & 66                                        & 50                                        & AUTO\\_OK                                 & 428                                       & 4\\_55139732\\_T\\_A                      & Sub                                       & PDGFRA                                    & c.1393T>A                                 & p.L465M                                   & non\\_synonymous\\_codon                  & missense\\_variant                        & PDGFRA                                    & c.1393T>A                                 & p.L465M                                   & L/M                                       & SNV                                       & 10\\textbar{}23                           & NA                                        & MODERATE                                  & unknown                                   & 0                                         & 0.000e+00                                 & P-0000012-T03-IM3\\_4\\_55139732\\_T\\_A  & P-0000012                                 & 0                                         & deleterious                               & 0.01                                      & probably\\_damaging                       & 0.965                                     & 0                                         & 0                                         & 0                                         & 0                                         & 0                                         & 0.000000e+00                              & 0                                         & 0.000000e+00                              & 0.000000e+00                              & 0.0e+00                                   & unknown                                   & unknown                                   & Unknown                                   & oncogene                                 \\\\\n",
       "\t40 & FBXW7                                     & 4                                         & 153249542                                 & 153249542                                 & splicing                                  & SNP                                       & C                                         & A                                         & P-0000012-T03-IM3                         & c.1237-1G>T                               &                                           & 333                                       & 0.25526                                   &  85                                       &  458                                      & 0.00000                                   & 0                                         &  69                                       & 179                                       & 24                                        & 61                                        & AUTO\\_OK                                 & 428                                       & 4\\_153249542\\_C\\_A                     & Sub                                       & FBXW7                                     & c.1237-1G>T                               & p.?                                       & splice\\_site\\_variant                   & splice\\_acceptor\\_variant               & FBXW7                                     & c.1237-1G>T                               & unknown                                   & unknown                                   & SNV                                       & NA                                        & 8\\textbar{}11                            & HIGH                                      & unknown                                   & 0                                         & 0.000e+00                                 & P-0000012-T03-IM3\\_4\\_153249542\\_C\\_A & P-0000012                                 & 0                                         & unknown                                   &   NA                                      & unknown                                   &    NA                                     & 0                                         & 0                                         & 0                                         & 0                                         & 0                                         & 0.000000e+00                              & 0                                         & 0.000000e+00                              & 0.000000e+00                              & 0.0e+00                                   & unknown                                   & unknown                                   & Likely Oncogenic                          & tsg                                      \\\\\n",
       "\t41 & FBXW7                                     & 4                                         & 153332775                                 & 153332775                                 & stopgain\\_SNV                            & SNP                                       & C                                         & A                                         & P-0000012-T03-IM3                         & c.181G>T                                  & p.G61*                                    & 570                                       & 0.22807                                   & 130                                       &  908                                      & 0.00000                                   & 0                                         & 243                                       & 197                                       & 70                                        & 60                                        & AUTO\\_OK                                 & 428                                       & 4\\_153332775\\_C\\_A                     & Sub                                       & FBXW7                                     & c.181G>T                                  & p.G61*                                    & stop\\_gained                             & stop\\_gained                             & FBXW7                                     & c.181G>T                                  & p.G61*                                    & G/*                                       & SNV                                       & 2\\textbar{}12                            & NA                                        & HIGH                                      & unknown                                   & 0                                         & 0.000e+00                                 & P-0000012-T03-IM3\\_4\\_153332775\\_C\\_A & P-0000012                                 & 0                                         & unknown                                   &   NA                                      & unknown                                   &    NA                                     & 0                                         & 0                                         & 0                                         & 0                                         & 0                                         & 0.000000e+00                              & 0                                         & 0.000000e+00                              & 0.000000e+00                              & 0.0e+00                                   & unknown                                   & unknown                                   & Likely Oncogenic                          & tsg                                      \\\\\n",
       "\\end{tabular}\n"
      ],
      "text/markdown": [
       "\n",
       "| <!--/--> | Hugo_Symbol | Chromosome | Start_Position | End_Position | Consequence | Variant_Type | Reference_Allele | Tumor_Seq_Allele2 | Tumor_Sample_Barcode | cDNA_change | HGVSp_Short | t_depth | t_vaf | t_alt_count | n_depth | n_vaf | n_alt_count | t_ref_plus_count | t_ref_neg_count | t_alt_plus_count | t_alt_neg_count | confidence_class | sample_coverage | mut_key | VAG_VT | VAG_GENE | VAG_cDNA_CHANGE | VAG_PROTEIN_CHANGE | VAG_EFFECT | VEP_Consequence | VEP_SYMBOL | VEP_HGVSc | VEP_HGVSp | VEP_Amino_acids | VEP_VARIANT_CLASS | VEP_EXON | VEP_INTRON | VEP_IMPACT | VEP_CLIN_SIG | VEP_COSMIC_CNT | VEP_gnomAD_AF | sample_mut_key | patient_key | frequency_in_normals | VEP_SIFT_class | VEP_SIFT_score | VEP_PolyPhen_class | VEP_PolyPhen_score | VEP_gnomAD_total_AF_AFR | VEP_gnomAD_total_AF_AMR | VEP_gnomAD_total_AF_ASJ | VEP_gnomAD_total_AF_EAS | VEP_gnomAD_total_AF_FIN | VEP_gnomAD_total_AF_NFE | VEP_gnomAD_total_AF_OTH | VEP_gnomAD_AF_MAX | VEP_gnomAD_AF_MEAN | Kaviar_AF | is_a_hotspot | is_a_3d_hotspot | oncogenic | gene_type | \n",
       "|---|---|---|---|---|---|\n",
       "| 34 | TP53                              | 17                                |   7577515                         |   7577515                         | nonsynonymous_SNV                 | SNP                               | T                                 | G                                 | P-0000012-T02-IM3                 | c.766A>C                          | p.T256P                           | 227                               | 0.50220                           | 114                               |  569                              | 0.00000                           | 0                                 |  59                               |  54                               | 58                                | 56                                | AUTO_OK                           | 344                               | 17_7577515_T_G                    | Sub                               | TP53                              | c.766A>C                          | p.T256P                           | non_synonymous_codon              | missense_variant                  | TP53                              | c.766A>C                          | p.T256P                           | T/P                               | SNV                               | 7|11                              | NA                                | MODERATE                          | unknown                           | 1                                 | 0.000e+00                         | P-0000012-T02-IM3_17_7577515_T_G  | P-0000012                         | 0                                 | deleterious                       | 0.00                              | probably_damaging                 | 0.999                             | 0                                 | 0                                 | 0                                 | 0                                 | 0                                 | 0.000000e+00                      | 0                                 | 0.000000e+00                      | 0.000000e+00                      | 0.0e+00                           | unknown                           | unknown                           | Likely Oncogenic                  | tsg                               | \n",
       "| 37 | PIK3R3                            | 1                                 |  46521514                         |  46521514                         | nonsynonymous_SNV                 | SNP                               | G                                 | C                                 | P-0000012-T03-IM3                 | c.894C>G                          | p.I298M                           | 733                               | 0.17599                           | 129                               | 1243                              | 0.00000                           | 0                                 | 288                               | 316                               | 61                                | 68                                | AUTO_OK                           | 428                               | 1_46521514_G_C                    | Sub                               | PIK3R3                            | c.1032C>G                         | p.I344M                           | non_synonymous_codon              | missense_variant                  | PIK3R3                            | c.894C>G                          | p.I298M                           | I/M                               | SNV                               | 7|10                              | NA                                | MODERATE                          | unknown                           | 0                                 | 0.000e+00                         | P-0000012-T03-IM3_1_46521514_G_C  | P-0000012                         | 0                                 | deleterious                       | 0.00                              | benign                            | 0.277                             | 0                                 | 0                                 | 0                                 | 0                                 | 0                                 | 0.000000e+00                      | 0                                 | 0.000000e+00                      | 0.000000e+00                      | 0.0e+00                           | unknown                           | unknown                           | Unknown                           | tsg                               | \n",
       "| 38 | ATR                               | 3                                 | 142178126                         | 142178126                         | nonsynonymous_SNV                 | SNP                               | C                                 | A                                 | P-0000012-T03-IM3                 | c.7292G>T                         | p.R2431M                          | 482                               | 0.17427                           |  84                               |  581                              | 0.00172                           | 1                                 | 221                               | 177                               | 46                                | 38                                | AUTO_OK                           | 428                               | 3_142178126_C_A                   | Sub                               | ATR                               | c.7292G>T                         | p.R2431M                          | non_synonymous_codon              | missense_variant                  | ATR                               | c.7292G>T                         | p.R2431M                          | R/M                               | SNV                               | 43|47                             | NA                                | MODERATE                          | unknown                           | 0                                 | 4.063e-06                         | P-0000012-T03-IM3_3_142178126_C_A | P-0000012                         | 0                                 | deleterious                       | 0.00                              | probably_damaging                 | 0.997                             | 0                                 | 0                                 | 0                                 | 0                                 | 0                                 | 8.959771e-06                      | 0                                 | 8.959771e-06                      | 4.644035e-06                      | 6.5e-06                           | unknown                           | unknown                           | Unknown                           | tsg                               | \n",
       "| 39 | PDGFRA                            | 4                                 |  55139732                         |  55139732                         | nonsynonymous_SNV                 | SNP                               | T                                 | A                                 | P-0000012-T03-IM3                 | c.1393T>A                         | p.L465M                           | 570                               | 0.20351                           | 116                               |  811                              | 0.00000                           | 0                                 | 252                               | 202                               | 66                                | 50                                | AUTO_OK                           | 428                               | 4_55139732_T_A                    | Sub                               | PDGFRA                            | c.1393T>A                         | p.L465M                           | non_synonymous_codon              | missense_variant                  | PDGFRA                            | c.1393T>A                         | p.L465M                           | L/M                               | SNV                               | 10|23                             | NA                                | MODERATE                          | unknown                           | 0                                 | 0.000e+00                         | P-0000012-T03-IM3_4_55139732_T_A  | P-0000012                         | 0                                 | deleterious                       | 0.01                              | probably_damaging                 | 0.965                             | 0                                 | 0                                 | 0                                 | 0                                 | 0                                 | 0.000000e+00                      | 0                                 | 0.000000e+00                      | 0.000000e+00                      | 0.0e+00                           | unknown                           | unknown                           | Unknown                           | oncogene                          | \n",
       "| 40 | FBXW7                             | 4                                 | 153249542                         | 153249542                         | splicing                          | SNP                               | C                                 | A                                 | P-0000012-T03-IM3                 | c.1237-1G>T                       |                                   | 333                               | 0.25526                           |  85                               |  458                              | 0.00000                           | 0                                 |  69                               | 179                               | 24                                | 61                                | AUTO_OK                           | 428                               | 4_153249542_C_A                   | Sub                               | FBXW7                             | c.1237-1G>T                       | p.?                               | splice_site_variant               | splice_acceptor_variant           | FBXW7                             | c.1237-1G>T                       | unknown                           | unknown                           | SNV                               | NA                                | 8|11                              | HIGH                              | unknown                           | 0                                 | 0.000e+00                         | P-0000012-T03-IM3_4_153249542_C_A | P-0000012                         | 0                                 | unknown                           |   NA                              | unknown                           |    NA                             | 0                                 | 0                                 | 0                                 | 0                                 | 0                                 | 0.000000e+00                      | 0                                 | 0.000000e+00                      | 0.000000e+00                      | 0.0e+00                           | unknown                           | unknown                           | Likely Oncogenic                  | tsg                               | \n",
       "| 41 | FBXW7                             | 4                                 | 153332775                         | 153332775                         | stopgain_SNV                      | SNP                               | C                                 | A                                 | P-0000012-T03-IM3                 | c.181G>T                          | p.G61*                            | 570                               | 0.22807                           | 130                               |  908                              | 0.00000                           | 0                                 | 243                               | 197                               | 70                                | 60                                | AUTO_OK                           | 428                               | 4_153332775_C_A                   | Sub                               | FBXW7                             | c.181G>T                          | p.G61*                            | stop_gained                       | stop_gained                       | FBXW7                             | c.181G>T                          | p.G61*                            | G/*                               | SNV                               | 2|12                              | NA                                | HIGH                              | unknown                           | 0                                 | 0.000e+00                         | P-0000012-T03-IM3_4_153332775_C_A | P-0000012                         | 0                                 | unknown                           |   NA                              | unknown                           |    NA                             | 0                                 | 0                                 | 0                                 | 0                                 | 0                                 | 0.000000e+00                      | 0                                 | 0.000000e+00                      | 0.000000e+00                      | 0.0e+00                           | unknown                           | unknown                           | Likely Oncogenic                  | tsg                               | \n",
       "\n",
       "\n"
      ],
      "text/plain": [
       "   Hugo_Symbol Chromosome Start_Position End_Position Consequence      \n",
       "34 TP53        17           7577515        7577515    nonsynonymous_SNV\n",
       "37 PIK3R3      1           46521514       46521514    nonsynonymous_SNV\n",
       "38 ATR         3          142178126      142178126    nonsynonymous_SNV\n",
       "39 PDGFRA      4           55139732       55139732    nonsynonymous_SNV\n",
       "40 FBXW7       4          153249542      153249542    splicing         \n",
       "41 FBXW7       4          153332775      153332775    stopgain_SNV     \n",
       "   Variant_Type Reference_Allele Tumor_Seq_Allele2 Tumor_Sample_Barcode\n",
       "34 SNP          T                G                 P-0000012-T02-IM3   \n",
       "37 SNP          G                C                 P-0000012-T03-IM3   \n",
       "38 SNP          C                A                 P-0000012-T03-IM3   \n",
       "39 SNP          T                A                 P-0000012-T03-IM3   \n",
       "40 SNP          C                A                 P-0000012-T03-IM3   \n",
       "41 SNP          C                A                 P-0000012-T03-IM3   \n",
       "   cDNA_change HGVSp_Short t_depth t_vaf   t_alt_count n_depth n_vaf  \n",
       "34 c.766A>C    p.T256P     227     0.50220 114          569    0.00000\n",
       "37 c.894C>G    p.I298M     733     0.17599 129         1243    0.00000\n",
       "38 c.7292G>T   p.R2431M    482     0.17427  84          581    0.00172\n",
       "39 c.1393T>A   p.L465M     570     0.20351 116          811    0.00000\n",
       "40 c.1237-1G>T             333     0.25526  85          458    0.00000\n",
       "41 c.181G>T    p.G61*      570     0.22807 130          908    0.00000\n",
       "   n_alt_count t_ref_plus_count t_ref_neg_count t_alt_plus_count\n",
       "34 0            59               54             58              \n",
       "37 0           288              316             61              \n",
       "38 1           221              177             46              \n",
       "39 0           252              202             66              \n",
       "40 0            69              179             24              \n",
       "41 0           243              197             70              \n",
       "   t_alt_neg_count confidence_class sample_coverage mut_key         VAG_VT\n",
       "34 56              AUTO_OK          344             17_7577515_T_G  Sub   \n",
       "37 68              AUTO_OK          428             1_46521514_G_C  Sub   \n",
       "38 38              AUTO_OK          428             3_142178126_C_A Sub   \n",
       "39 50              AUTO_OK          428             4_55139732_T_A  Sub   \n",
       "40 61              AUTO_OK          428             4_153249542_C_A Sub   \n",
       "41 60              AUTO_OK          428             4_153332775_C_A Sub   \n",
       "   VAG_GENE VAG_cDNA_CHANGE VAG_PROTEIN_CHANGE VAG_EFFECT          \n",
       "34 TP53     c.766A>C        p.T256P            non_synonymous_codon\n",
       "37 PIK3R3   c.1032C>G       p.I344M            non_synonymous_codon\n",
       "38 ATR      c.7292G>T       p.R2431M           non_synonymous_codon\n",
       "39 PDGFRA   c.1393T>A       p.L465M            non_synonymous_codon\n",
       "40 FBXW7    c.1237-1G>T     p.?                splice_site_variant \n",
       "41 FBXW7    c.181G>T        p.G61*             stop_gained         \n",
       "   VEP_Consequence         VEP_SYMBOL VEP_HGVSc   VEP_HGVSp VEP_Amino_acids\n",
       "34 missense_variant        TP53       c.766A>C    p.T256P   T/P            \n",
       "37 missense_variant        PIK3R3     c.894C>G    p.I298M   I/M            \n",
       "38 missense_variant        ATR        c.7292G>T   p.R2431M  R/M            \n",
       "39 missense_variant        PDGFRA     c.1393T>A   p.L465M   L/M            \n",
       "40 splice_acceptor_variant FBXW7      c.1237-1G>T unknown   unknown        \n",
       "41 stop_gained             FBXW7      c.181G>T    p.G61*    G/*            \n",
       "   VEP_VARIANT_CLASS VEP_EXON VEP_INTRON VEP_IMPACT VEP_CLIN_SIG VEP_COSMIC_CNT\n",
       "34 SNV               7|11     NA         MODERATE   unknown      1             \n",
       "37 SNV               7|10     NA         MODERATE   unknown      0             \n",
       "38 SNV               43|47    NA         MODERATE   unknown      0             \n",
       "39 SNV               10|23    NA         MODERATE   unknown      0             \n",
       "40 SNV               NA       8|11       HIGH       unknown      0             \n",
       "41 SNV               2|12     NA         HIGH       unknown      0             \n",
       "   VEP_gnomAD_AF sample_mut_key                    patient_key\n",
       "34 0.000e+00     P-0000012-T02-IM3_17_7577515_T_G  P-0000012  \n",
       "37 0.000e+00     P-0000012-T03-IM3_1_46521514_G_C  P-0000012  \n",
       "38 4.063e-06     P-0000012-T03-IM3_3_142178126_C_A P-0000012  \n",
       "39 0.000e+00     P-0000012-T03-IM3_4_55139732_T_A  P-0000012  \n",
       "40 0.000e+00     P-0000012-T03-IM3_4_153249542_C_A P-0000012  \n",
       "41 0.000e+00     P-0000012-T03-IM3_4_153332775_C_A P-0000012  \n",
       "   frequency_in_normals VEP_SIFT_class VEP_SIFT_score VEP_PolyPhen_class\n",
       "34 0                    deleterious    0.00           probably_damaging \n",
       "37 0                    deleterious    0.00           benign            \n",
       "38 0                    deleterious    0.00           probably_damaging \n",
       "39 0                    deleterious    0.01           probably_damaging \n",
       "40 0                    unknown          NA           unknown           \n",
       "41 0                    unknown          NA           unknown           \n",
       "   VEP_PolyPhen_score VEP_gnomAD_total_AF_AFR VEP_gnomAD_total_AF_AMR\n",
       "34 0.999              0                       0                      \n",
       "37 0.277              0                       0                      \n",
       "38 0.997              0                       0                      \n",
       "39 0.965              0                       0                      \n",
       "40    NA              0                       0                      \n",
       "41    NA              0                       0                      \n",
       "   VEP_gnomAD_total_AF_ASJ VEP_gnomAD_total_AF_EAS VEP_gnomAD_total_AF_FIN\n",
       "34 0                       0                       0                      \n",
       "37 0                       0                       0                      \n",
       "38 0                       0                       0                      \n",
       "39 0                       0                       0                      \n",
       "40 0                       0                       0                      \n",
       "41 0                       0                       0                      \n",
       "   VEP_gnomAD_total_AF_NFE VEP_gnomAD_total_AF_OTH VEP_gnomAD_AF_MAX\n",
       "34 0.000000e+00            0                       0.000000e+00     \n",
       "37 0.000000e+00            0                       0.000000e+00     \n",
       "38 8.959771e-06            0                       8.959771e-06     \n",
       "39 0.000000e+00            0                       0.000000e+00     \n",
       "40 0.000000e+00            0                       0.000000e+00     \n",
       "41 0.000000e+00            0                       0.000000e+00     \n",
       "   VEP_gnomAD_AF_MEAN Kaviar_AF is_a_hotspot is_a_3d_hotspot oncogenic       \n",
       "34 0.000000e+00       0.0e+00   unknown      unknown         Likely Oncogenic\n",
       "37 0.000000e+00       0.0e+00   unknown      unknown         Unknown         \n",
       "38 4.644035e-06       6.5e-06   unknown      unknown         Unknown         \n",
       "39 0.000000e+00       0.0e+00   unknown      unknown         Unknown         \n",
       "40 0.000000e+00       0.0e+00   unknown      unknown         Likely Oncogenic\n",
       "41 0.000000e+00       0.0e+00   unknown      unknown         Likely Oncogenic\n",
       "   gene_type\n",
       "34 tsg      \n",
       "37 tsg      \n",
       "38 tsg      \n",
       "39 oncogene \n",
       "40 tsg      \n",
       "41 tsg      "
      ]
     },
     "metadata": {},
     "output_type": "display_data"
    }
   ],
   "source": [
    "head(impact)"
   ]
  }
 ],
 "metadata": {
  "kernelspec": {
   "display_name": "R",
   "language": "R",
   "name": "ir"
  },
  "language_info": {
   "codemirror_mode": "r",
   "file_extension": ".r",
   "mimetype": "text/x-r-source",
   "name": "R",
   "pygments_lexer": "r",
   "version": "3.5.0"
  }
 },
 "nbformat": 4,
 "nbformat_minor": 2
}
