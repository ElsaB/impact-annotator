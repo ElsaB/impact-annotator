{
 "cells": [
  {
   "cell_type": "code",
   "execution_count": 1,
   "metadata": {},
   "outputs": [],
   "source": [
    "load('../../../data/impactAnnotated.RData')"
   ]
  },
  {
   "cell_type": "code",
   "execution_count": 2,
   "metadata": {},
   "outputs": [],
   "source": [
    "impact.ann.df$class_label <- impact.ann.df$confidence_class %in% c('MANUAL_OK', 'AUTO_OK')"
   ]
  },
  {
   "cell_type": "code",
   "execution_count": 3,
   "metadata": {},
   "outputs": [],
   "source": [
    "# subset only the clearly labelled variants\n",
    "impact.ann.subset.df <- subset(impact.ann.df, confidence_class %in% c('UNLIKELY', 'MANUAL_OK', 'AUTO_OK'))"
   ]
  },
  {
   "cell_type": "code",
   "execution_count": 4,
   "metadata": {},
   "outputs": [],
   "source": [
    "labelTrain.subset <- impact.ann.subset.df$class_label "
   ]
  },
  {
   "cell_type": "code",
   "execution_count": 5,
   "metadata": {},
   "outputs": [
    {
     "data": {
      "text/plain": [
       "\n",
       "  AUTO_OK MANUAL_OK  UNLIKELY \n",
       "   191228      7113     15317 "
      ]
     },
     "metadata": {},
     "output_type": "display_data"
    }
   ],
   "source": [
    "table(impact.ann.subset.df$confidence_class)"
   ]
  },
  {
   "cell_type": "code",
   "execution_count": 48,
   "metadata": {},
   "outputs": [],
   "source": [
    "#colnames(impact.ann.subset.df)"
   ]
  },
  {
   "cell_type": "code",
   "execution_count": 6,
   "metadata": {},
   "outputs": [
    {
     "data": {
      "text/html": [
       "213658"
      ],
      "text/latex": [
       "213658"
      ],
      "text/markdown": [
       "213658"
      ],
      "text/plain": [
       "[1] 213658"
      ]
     },
     "metadata": {},
     "output_type": "display_data"
    }
   ],
   "source": [
    "selFeatures <- c('Consequence',\n",
    "                 'cgType',\n",
    "                #'t_depth',\n",
    "                 't_vaf',\n",
    "                 't_alt_count',\n",
    "                 'n_depth',\n",
    "                 'n_vaf',\n",
    "                 'n_alt_count',\n",
    "                 't_ref_plus_count',\n",
    "                 't_ref_neg_count',\n",
    "                 'occurence_in_normals',\n",
    "                 #'minor_contamination',\n",
    "                 'SIFT_score',\n",
    "                 #'Polyphen2_HDIV_score',\n",
    "                 #'LRT_score',\n",
    "                 #'MutationTaster_score',\n",
    "                 #'MutationAssessor_score',\n",
    "                 #'FATHMM_score',\n",
    "                 #'PROVEAN_score',\n",
    "                 #'VEST3_score',\n",
    "                 #'CADD_raw',\n",
    "                 #'DANN_score',\n",
    "                 #'fathmm.MKL_coding_score',\n",
    "                 #'MetaSVM_score',\n",
    "                 #'MetaLR_score',\n",
    "                 #'integrated_fitCons_score',\n",
    "                 #'X1000g2015aug_all',\n",
    "                 'Kaviar_AF',\n",
    "                 'isOncogene',\n",
    "                 'Total.onco',\n",
    "                 'cosmicCount'\n",
    "                )\n",
    "variantTrain <- impact.ann.subset.df [, selFeatures]\n",
    "nrow(variantTrain)"
   ]
  },
  {
   "cell_type": "code",
   "execution_count": null,
   "metadata": {},
   "outputs": [],
   "source": []
  },
  {
   "cell_type": "code",
   "execution_count": 7,
   "metadata": {},
   "outputs": [
    {
     "name": "stderr",
     "output_type": "stream",
     "text": [
      "Warning message in eval(expr, envir, enclos):\n",
      "“NAs introduced by coercion”Warning message in eval(expr, envir, enclos):\n",
      "“NAs introduced by coercion”"
     ]
    }
   ],
   "source": [
    "variantTrain.corr <- variantTrain\n",
    "variantTrain.corr$Consequence <- as.factor(variantTrain.corr$Consequence)\n",
    "variantTrain.corr$t_vaf <- as.numeric(variantTrain.corr$t_vaf)\n",
    "variantTrain.corr$t_alt_count <- as.numeric(variantTrain.corr$t_alt_count)\n",
    "variantTrain.corr$n_depth <- as.numeric(variantTrain.corr$n_depth)\n",
    "variantTrain.corr$t_ref_plus_ratio<- as.numeric(variantTrain.corr$t_ref_plus_count)  / \n",
    "(as.numeric(variantTrain.corr$t_ref_plus_count) + as.numeric(variantTrain.corr$t_ref_neg_count))\n",
    "\n",
    "variantTrain.corr$SIFT_score<- as.numeric(variantTrain.corr$SIFT_score)\n",
    "variantTrain.corr$Kaviar_AF<- as.numeric(variantTrain.corr$Kaviar_AF)"
   ]
  },
  {
   "cell_type": "code",
   "execution_count": 8,
   "metadata": {},
   "outputs": [],
   "source": [
    "variantTrain.corr$occurence_in_normals <- as.numeric(as.character(gsub(';.*', '', variantTrain.corr$occurence_in_normals)))"
   ]
  },
  {
   "cell_type": "code",
   "execution_count": 9,
   "metadata": {},
   "outputs": [],
   "source": [
    "t <- as.numeric(as.character(gsub(';.*', '', variantTrain.corr$occurence_in_normals)))\n",
    "t[is.na(t)] <- 0\n",
    "variantTrain.corr$occurence_in_normals <- t"
   ]
  },
  {
   "cell_type": "code",
   "execution_count": 10,
   "metadata": {},
   "outputs": [],
   "source": [
    "variantTrain.corr$SIFT_score[is.na(variantTrain.corr$SIFT_score)] <- 1"
   ]
  },
  {
   "cell_type": "code",
   "execution_count": 11,
   "metadata": {},
   "outputs": [],
   "source": [
    "variantTrain.corr$t_ref_plus_ratio[is.na(variantTrain.corr$t_ref_plus_ratio)] <- 0.5"
   ]
  },
  {
   "cell_type": "code",
   "execution_count": 12,
   "metadata": {},
   "outputs": [],
   "source": [
    "variantTrain.corr$Kaviar_AF[is.na(variantTrain.corr$Kaviar_AF)] <- 0"
   ]
  },
  {
   "cell_type": "code",
   "execution_count": 13,
   "metadata": {},
   "outputs": [
    {
     "data": {
      "text/plain": [
       "\n",
       "    Inconclusive   Likely Neutral Likely Oncogenic        Oncogenic \n",
       "             466              248            42378            14558 \n",
       "            null      NotInOncoKb \n",
       "               0           156008 "
      ]
     },
     "metadata": {},
     "output_type": "display_data"
    }
   ],
   "source": [
    "table(variantTrain.corr$Total.onco)"
   ]
  },
  {
   "cell_type": "code",
   "execution_count": 14,
   "metadata": {},
   "outputs": [
    {
     "data": {
      "text/plain": [
       "\n",
       "          Yes \n",
       "149137  58588 "
      ]
     },
     "metadata": {},
     "output_type": "display_data"
    }
   ],
   "source": [
    "table(variantTrain.corr$isOncogene)\n",
    "levels(variantTrain.corr$isOncogene) <- c(levels(variantTrain.corr$isOncogene), 'unclear')\n",
    "variantTrain.corr$isOncogene[is.na(variantTrain.corr$isOncogene)] <- 'unclear'"
   ]
  },
  {
   "cell_type": "code",
   "execution_count": 15,
   "metadata": {},
   "outputs": [
    {
     "data": {
      "text/plain": [
       "\n",
       " Oncogene Recessive   Unknown \n",
       "    58588    149137      5933 "
      ]
     },
     "metadata": {},
     "output_type": "display_data"
    },
    {
     "data": {
      "text/html": [
       "0"
      ],
      "text/latex": [
       "0"
      ],
      "text/markdown": [
       "0"
      ],
      "text/plain": [
       "[1] 0"
      ]
     },
     "metadata": {},
     "output_type": "display_data"
    }
   ],
   "source": [
    "table(variantTrain.corr$cgType)\n",
    "sum(is.na(variantTrain.corr))"
   ]
  },
  {
   "cell_type": "code",
   "execution_count": 59,
   "metadata": {},
   "outputs": [],
   "source": [
    "save(variantTrain.corr, labelTrain.subset, file='../../../data/trainingData.RData')"
   ]
  },
  {
   "cell_type": "code",
   "execution_count": 17,
   "metadata": {},
   "outputs": [
    {
     "data": {
      "text/html": [
       "<ol class=list-inline>\n",
       "\t<li>'AUTO_OK'</li>\n",
       "\t<li>'UNLIKELY'</li>\n",
       "\t<li>'UNLIKELY'</li>\n",
       "\t<li>'UNLIKELY'</li>\n",
       "\t<li>'UNLIKELY'</li>\n",
       "\t<li>'UNLIKELY'</li>\n",
       "</ol>\n"
      ],
      "text/latex": [
       "\\begin{enumerate*}\n",
       "\\item 'AUTO\\_OK'\n",
       "\\item 'UNLIKELY'\n",
       "\\item 'UNLIKELY'\n",
       "\\item 'UNLIKELY'\n",
       "\\item 'UNLIKELY'\n",
       "\\item 'UNLIKELY'\n",
       "\\end{enumerate*}\n"
      ],
      "text/markdown": [
       "1. 'AUTO_OK'\n",
       "2. 'UNLIKELY'\n",
       "3. 'UNLIKELY'\n",
       "4. 'UNLIKELY'\n",
       "5. 'UNLIKELY'\n",
       "6. 'UNLIKELY'\n",
       "\n",
       "\n"
      ],
      "text/plain": [
       "[1] \"AUTO_OK\"  \"UNLIKELY\" \"UNLIKELY\" \"UNLIKELY\" \"UNLIKELY\" \"UNLIKELY\""
      ]
     },
     "metadata": {},
     "output_type": "display_data"
    }
   ],
   "source": [
    "head(impact.ann.subset.df$confidence_class)"
   ]
  },
  {
   "cell_type": "code",
   "execution_count": 18,
   "metadata": {},
   "outputs": [
    {
     "data": {
      "text/html": [
       "<ol class=list-inline>\n",
       "\t<li>TRUE</li>\n",
       "\t<li>FALSE</li>\n",
       "\t<li>FALSE</li>\n",
       "\t<li>FALSE</li>\n",
       "\t<li>FALSE</li>\n",
       "\t<li>FALSE</li>\n",
       "</ol>\n"
      ],
      "text/latex": [
       "\\begin{enumerate*}\n",
       "\\item TRUE\n",
       "\\item FALSE\n",
       "\\item FALSE\n",
       "\\item FALSE\n",
       "\\item FALSE\n",
       "\\item FALSE\n",
       "\\end{enumerate*}\n"
      ],
      "text/markdown": [
       "1. TRUE\n",
       "2. FALSE\n",
       "3. FALSE\n",
       "4. FALSE\n",
       "5. FALSE\n",
       "6. FALSE\n",
       "\n",
       "\n"
      ],
      "text/plain": [
       "[1]  TRUE FALSE FALSE FALSE FALSE FALSE"
      ]
     },
     "metadata": {},
     "output_type": "display_data"
    }
   ],
   "source": [
    "head(labelTrain.subset)"
   ]
  },
  {
   "cell_type": "code",
   "execution_count": null,
   "metadata": {},
   "outputs": [],
   "source": []
  },
  {
   "cell_type": "code",
   "execution_count": 20,
   "metadata": {},
   "outputs": [
    {
     "data": {
      "text/plain": [
       "           labelTrain.subset\n",
       "             FALSE   TRUE\n",
       "  AUTO_OK        0 191228\n",
       "  MANUAL_OK      0   7113\n",
       "  UNLIKELY   15317      0"
      ]
     },
     "metadata": {},
     "output_type": "display_data"
    }
   ],
   "source": [
    "table(impact.ann.subset.df$confidence_class, labelTrain.subset)"
   ]
  },
  {
   "cell_type": "code",
   "execution_count": 60,
   "metadata": {},
   "outputs": [
    {
     "data": {
      "text/plain": [
       "labelTrain.subset\n",
       " FALSE   TRUE \n",
       " 15317 198341 "
      ]
     },
     "metadata": {},
     "output_type": "display_data"
    }
   ],
   "source": [
    "table(labelTrain.subset)"
   ]
  },
  {
   "cell_type": "code",
   "execution_count": 63,
   "metadata": {},
   "outputs": [],
   "source": [
    "# by default, include all false mutations\n",
    "toSubsample <- !labelTrain.subset"
   ]
  },
  {
   "cell_type": "code",
   "execution_count": 66,
   "metadata": {},
   "outputs": [],
   "source": [
    "# downsample real mutations (vast majority)\n",
    "realMutationsSelected <- sample(which(labelTrain.subset==TRUE), sum(labelTrain.subset==FALSE))"
   ]
  },
  {
   "cell_type": "code",
   "execution_count": 68,
   "metadata": {},
   "outputs": [],
   "source": [
    "toSubsample[realMutationsSelected] <- TRUE"
   ]
  },
  {
   "cell_type": "code",
   "execution_count": 69,
   "metadata": {},
   "outputs": [
    {
     "data": {
      "text/html": [
       "30634"
      ],
      "text/latex": [
       "30634"
      ],
      "text/markdown": [
       "30634"
      ],
      "text/plain": [
       "[1] 30634"
      ]
     },
     "metadata": {},
     "output_type": "display_data"
    }
   ],
   "source": [
    "sum(toSubsample)"
   ]
  },
  {
   "cell_type": "code",
   "execution_count": 70,
   "metadata": {},
   "outputs": [
    {
     "data": {
      "text/plain": [
       "\n",
       "FALSE  TRUE \n",
       "15317 15317 "
      ]
     },
     "metadata": {},
     "output_type": "display_data"
    }
   ],
   "source": [
    "table(labelTrain.subset[toSubsample])"
   ]
  },
  {
   "cell_type": "code",
   "execution_count": 71,
   "metadata": {},
   "outputs": [],
   "source": [
    "variantTrain.corr <- variantTrain.corr[toSubsample,]\n",
    "labelTrain.subset <- labelTrain.subset[toSubsample]"
   ]
  },
  {
   "cell_type": "code",
   "execution_count": 76,
   "metadata": {},
   "outputs": [
    {
     "data": {
      "text/html": [
       "<table>\n",
       "<thead><tr><th></th><th scope=col>oncokb.id</th><th scope=col>confidence_class</th></tr></thead>\n",
       "<tbody>\n",
       "\t<tr><th scope=row>2</th><td>ALK.p.V476A   </td><td>UNLIKELY      </td></tr>\n",
       "\t<tr><th scope=row>3</th><td>PDCD1.p.A215V </td><td>UNLIKELY      </td></tr>\n",
       "\t<tr><th scope=row>4</th><td>MAP3K1.p.S939C</td><td>UNLIKELY      </td></tr>\n",
       "\t<tr><th scope=row>5</th><td>FLT4.p.R1324L </td><td>UNLIKELY      </td></tr>\n",
       "\t<tr><th scope=row>6</th><td>FLT4.p.T494A  </td><td>UNLIKELY      </td></tr>\n",
       "\t<tr><th scope=row>7</th><td>NOTCH4.p.G942R</td><td>UNLIKELY      </td></tr>\n",
       "</tbody>\n",
       "</table>\n"
      ],
      "text/latex": [
       "\\begin{tabular}{r|ll}\n",
       "  & oncokb.id & confidence\\_class\\\\\n",
       "\\hline\n",
       "\t2 & ALK.p.V476A    & UNLIKELY      \\\\\n",
       "\t3 & PDCD1.p.A215V  & UNLIKELY      \\\\\n",
       "\t4 & MAP3K1.p.S939C & UNLIKELY      \\\\\n",
       "\t5 & FLT4.p.R1324L  & UNLIKELY      \\\\\n",
       "\t6 & FLT4.p.T494A   & UNLIKELY      \\\\\n",
       "\t7 & NOTCH4.p.G942R & UNLIKELY      \\\\\n",
       "\\end{tabular}\n"
      ],
      "text/markdown": [
       "\n",
       "| <!--/--> | oncokb.id | confidence_class | \n",
       "|---|---|---|---|---|---|\n",
       "| 2 | ALK.p.V476A    | UNLIKELY       | \n",
       "| 3 | PDCD1.p.A215V  | UNLIKELY       | \n",
       "| 4 | MAP3K1.p.S939C | UNLIKELY       | \n",
       "| 5 | FLT4.p.R1324L  | UNLIKELY       | \n",
       "| 6 | FLT4.p.T494A   | UNLIKELY       | \n",
       "| 7 | NOTCH4.p.G942R | UNLIKELY       | \n",
       "\n",
       "\n"
      ],
      "text/plain": [
       "  oncokb.id      confidence_class\n",
       "2 ALK.p.V476A    UNLIKELY        \n",
       "3 PDCD1.p.A215V  UNLIKELY        \n",
       "4 MAP3K1.p.S939C UNLIKELY        \n",
       "5 FLT4.p.R1324L  UNLIKELY        \n",
       "6 FLT4.p.T494A   UNLIKELY        \n",
       "7 NOTCH4.p.G942R UNLIKELY        "
      ]
     },
     "metadata": {},
     "output_type": "display_data"
    }
   ],
   "source": [
    "head(impact.ann.subset.df[toSubsample,c('oncokb.id', 'confidence_class')])"
   ]
  },
  {
   "cell_type": "code",
   "execution_count": 80,
   "metadata": {},
   "outputs": [
    {
     "data": {
      "text/html": [
       "<ol class=list-inline>\n",
       "\t<li>'AUTO_OK'</li>\n",
       "\t<li>'UNLIKELY'</li>\n",
       "\t<li>'UNLIKELY'</li>\n",
       "\t<li>'UNLIKELY'</li>\n",
       "\t<li>'UNLIKELY'</li>\n",
       "\t<li>'UNLIKELY'</li>\n",
       "</ol>\n"
      ],
      "text/latex": [
       "\\begin{enumerate*}\n",
       "\\item 'AUTO\\_OK'\n",
       "\\item 'UNLIKELY'\n",
       "\\item 'UNLIKELY'\n",
       "\\item 'UNLIKELY'\n",
       "\\item 'UNLIKELY'\n",
       "\\item 'UNLIKELY'\n",
       "\\end{enumerate*}\n"
      ],
      "text/markdown": [
       "1. 'AUTO_OK'\n",
       "2. 'UNLIKELY'\n",
       "3. 'UNLIKELY'\n",
       "4. 'UNLIKELY'\n",
       "5. 'UNLIKELY'\n",
       "6. 'UNLIKELY'\n",
       "\n",
       "\n"
      ],
      "text/plain": [
       "[1] \"AUTO_OK\"  \"UNLIKELY\" \"UNLIKELY\" \"UNLIKELY\" \"UNLIKELY\" \"UNLIKELY\""
      ]
     },
     "metadata": {},
     "output_type": "display_data"
    }
   ],
   "source": [
    "head(impact.ann.subset.df$confidence_class)"
   ]
  },
  {
   "cell_type": "code",
   "execution_count": 81,
   "metadata": {},
   "outputs": [
    {
     "data": {
      "text/plain": [
       "\n",
       "  AUTO_OK MANUAL_OK  UNLIKELY \n",
       "   191228      7113     15317 "
      ]
     },
     "metadata": {},
     "output_type": "display_data"
    }
   ],
   "source": [
    "table(impact.ann.subset.df$confidence_class)"
   ]
  },
  {
   "cell_type": "code",
   "execution_count": 77,
   "metadata": {},
   "outputs": [
    {
     "data": {
      "text/html": [
       "<ol class=list-inline>\n",
       "\t<li>FALSE</li>\n",
       "\t<li>TRUE</li>\n",
       "\t<li>TRUE</li>\n",
       "\t<li>TRUE</li>\n",
       "\t<li>TRUE</li>\n",
       "\t<li>TRUE</li>\n",
       "</ol>\n"
      ],
      "text/latex": [
       "\\begin{enumerate*}\n",
       "\\item FALSE\n",
       "\\item TRUE\n",
       "\\item TRUE\n",
       "\\item TRUE\n",
       "\\item TRUE\n",
       "\\item TRUE\n",
       "\\end{enumerate*}\n"
      ],
      "text/markdown": [
       "1. FALSE\n",
       "2. TRUE\n",
       "3. TRUE\n",
       "4. TRUE\n",
       "5. TRUE\n",
       "6. TRUE\n",
       "\n",
       "\n"
      ],
      "text/plain": [
       "[1] FALSE  TRUE  TRUE  TRUE  TRUE  TRUE"
      ]
     },
     "metadata": {},
     "output_type": "display_data"
    }
   ],
   "source": [
    "head(toSubsample)"
   ]
  },
  {
   "cell_type": "code",
   "execution_count": 72,
   "metadata": {},
   "outputs": [],
   "source": [
    "save(variantTrain.corr, labelTrain.subset, file='../../../data/trainingData.Balanced.RData')"
   ]
  },
  {
   "cell_type": "code",
   "execution_count": null,
   "metadata": {},
   "outputs": [],
   "source": []
  }
 ],
 "metadata": {
  "kernelspec": {
   "display_name": "R 3.4.3",
   "language": "R",
   "name": "ir343"
  },
  "language_info": {
   "codemirror_mode": "r",
   "file_extension": ".r",
   "mimetype": "text/x-r-source",
   "name": "R",
   "pygments_lexer": "r",
   "version": "3.4.3"
  }
 },
 "nbformat": 4,
 "nbformat_minor": 2
}
