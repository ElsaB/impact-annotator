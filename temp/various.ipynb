{
 "cells": [
  {
   "cell_type": "markdown",
   "metadata": {
    "heading_collapsed": true
   },
   "source": [
    "# Venn diagramm"
   ]
  },
  {
   "cell_type": "code",
   "execution_count": null,
   "metadata": {
    "hidden": true
   },
   "outputs": [],
   "source": [
    "install.packages('VennDiagram')\n",
    "library(VennDiagram)"
   ]
  },
  {
   "cell_type": "code",
   "execution_count": null,
   "metadata": {
    "hidden": true
   },
   "outputs": [],
   "source": [
    "plot_Venn_diagramm <- function(a, b, name_a, name_b) {\n",
    "    options(repr.plot.res = 100) # set a high-definition resolution for the jupyter notebooks plots (DPI)\n",
    "    notebook_plot_size(2, 2)\n",
    "    \n",
    "    return (draw.pairwise.venn(\n",
    "    length(a),\n",
    "    length(b),\n",
    "    sum(a %in% b),\n",
    "    category = c(name_a, name_b),\n",
    "    fill = c(\"blue\", \"red\"),\n",
    "    alpha = c(0.5, 0.5),\n",
    "    cat.pos = c(0, 0),\n",
    "    scaled = TRUE))\n",
    "}\n",
    "\n",
    "plot_Venn_diagramm(oncokb_genes, candl_genes, \"oncokb\", \"candl\")"
   ]
  },
  {
   "cell_type": "code",
   "execution_count": null,
   "metadata": {
    "hidden": true
   },
   "outputs": [],
   "source": [
    "notebook_plot_size(6, 6)\n",
    "draw.triple.venn(\n",
    "length(oncokb_genes),\n",
    "length(cgi_genes),\n",
    "length(civic_genes),\n",
    "sum(oncokb_genes %in% cgi_genes),\n",
    "sum(cgi_genes %in% civic_genes),\n",
    "sum(civic_genes %in% oncokb_genes),\n",
    "sum(cgi_genes %in% oncokb_genes & cgi_genes %in% civic_genes),\n",
    "category = c(\"oncokb\", \"cgi\", \"civic\"),\n",
    "lty = rep(\"blank\", 3),\n",
    "fill = c(\"light blue\", \"pink\", \"green\"),\n",
    "alpha = rep(0.5, 3),\n",
    "cat.pos = rep(0, 3),\n",
    "cat.dist = rep(0.025, 3),\n",
    "scaled = TRUE)"
   ]
  },
  {
   "cell_type": "markdown",
   "metadata": {
    "heading_collapsed": true
   },
   "source": [
    "# ggballoonplot"
   ]
  },
  {
   "cell_type": "code",
   "execution_count": null,
   "metadata": {
    "hidden": true
   },
   "outputs": [],
   "source": [
    "install.packages(\"ggpubr\")\n",
    "library(ggpubr)\n",
    "theme_set(theme_pubr())\n",
    "\n",
    "impact <- read.table(\"../../../data/cleaned_IMPACT_mutations_180508.txt\", sep = \"\\t\", stringsAsFactors = FALSE, header = TRUE)\n",
    "\n",
    "ggballoonplot(as.data.frame(table(impact$Hugo_Symbol,\n",
    "                                  impact$Variant_Type)),\n",
    "              fill = \"value\") + scale_fill_viridis_c(option = \"C\")"
   ]
  },
  {
   "cell_type": "code",
   "execution_count": null,
   "metadata": {
    "hidden": true
   },
   "outputs": [],
   "source": [
    "# install.packages(\"ggpubr\")\n",
    "# library(ggpubr)\n",
    "# theme_set(theme_pubr())\n",
    "\n",
    "colnames = c(\"is_in_oncokb\", \"is_in_civic\", \"is_in_cgi\", \"is_in_candl\")\n",
    "\n",
    "r <- data.frame()\n",
    "\n",
    "for (col in colnames) {\n",
    "    r <- rbind(r, impact %>% filter(!! sym(col) == \"yes\") %>%\n",
    "                summarise(colnames = substr(col, 7, nchar(col)),\n",
    "                          oncokb = sum(is_in_oncokb == \"yes\"),\n",
    "                          civic  = sum(is_in_civic == \"yes\"),\n",
    "                          cgi    = sum(is_in_cgi == \"yes\"),\n",
    "                          candl  = sum(is_in_candl == \"yes\")))\n",
    "}\n",
    "r\n",
    "ggballoonplot(r[,c(\"oncokb\", \"civic\", \"cgi\", \"candl\")], fill = \"value\") + scale_fill_viridis_c(option = \"C\")"
   ]
  },
  {
   "cell_type": "code",
   "execution_count": 22,
   "metadata": {
    "hidden": true
   },
   "outputs": [],
   "source": [
    "source(\"../src/utils/custom_tools.R\")\n",
    "setup_environment(\"../src/utils\")"
   ]
  },
  {
   "cell_type": "code",
   "execution_count": 3,
   "metadata": {
    "hidden": true
   },
   "outputs": [],
   "source": [
    "impact <- read.table(\"../data/cleaned_IMPACT_mutations_180508.txt\", sep = \"\\t\", stringsAsFactors = FALSE, header = TRUE)\n",
    "#impact <- add_features(\"../data/\", impact, annotations = TRUE)"
   ]
  },
  {
   "cell_type": "markdown",
   "metadata": {},
   "source": [
    "# mutation distances checker"
   ]
  },
  {
   "cell_type": "code",
   "execution_count": null,
   "metadata": {},
   "outputs": [],
   "source": [
    "check_distance <- function(starts, ends, mut_key, result) {\n",
    "    if (length(starts) <= 1)\n",
    "        return (result)\n",
    "    \n",
    "    for (i in 2:length(starts)) {\n",
    "        if (starts[[i]] <= starts[[1]] & ends[[i]] >= starts[[1]] | starts[[i]] >= starts[[1]] & starts[[i]] <= ends[[1]]) {\n",
    "            r1 <- data.frame(paste(starts[[1]], ends[[1]], sep = '_'), mut_key[[1]])\n",
    "            r2 <- data.frame(paste(starts[[i]], ends[[i]], sep = '_'), mut_key[[i]])\n",
    "            colnames(r1) <- c(\"v1\", \"v2\")\n",
    "            colnames(r2) <- c(\"v1\", \"v2\")\n",
    "            \n",
    "            \n",
    "            result <- rbind(result, r1)\n",
    "            result <- rbind(result, r2)\n",
    "            \n",
    "            starts <- starts[-1]\n",
    "            starts <- starts[-i]\n",
    "            \n",
    "            ends <- ends[-1]\n",
    "            ends <- ends[-i]\n",
    "            \n",
    "            mut_key <- mut_key[-1]\n",
    "            mut_key <- mut_key[-i]\n",
    "            \n",
    "            break\n",
    "        }\n",
    "    }\n",
    "    \n",
    "    if (length(starts) <= 1)\n",
    "        return (result)\n",
    "    \n",
    "    return (check_distance(starts[2:length(starts)], ends[2:length(starts)], mut_key[2:length(starts)], result))\n",
    "}\n",
    "\n",
    "get_pos <- function(result) {\n",
    "    if (nrow(result) == 0)\n",
    "        return (\"\")\n",
    "    else\n",
    "        return (toString(result$v1))\n",
    "}\n",
    "\n",
    "get_mut <- function(result) {\n",
    "    if (nrow(result) == 0)\n",
    "        return (\"\")\n",
    "    else\n",
    "        return (toString(result$v2))\n",
    "}\n",
    "\n",
    "\n",
    "\n",
    "\n",
    "dd2 <- dd %>% group_by(Tumor_Sample_Barcode, Hugo_Symbol) %>% summarise(count = n(),\n",
    "                                                                       pos = get_pos(check_distance(Start_Position, End_Position, mut_key, data.frame())),\n",
    "                                                                       mut_key = get_mut(check_distance(Start_Position, End_Position, mut_key, data.frame()))) %>%\n",
    "                                                             filter(pos != \"\")\n",
    "nrow(dd2)\n",
    "head(dd2, 10)"
   ]
  },
  {
   "cell_type": "markdown",
   "metadata": {},
   "source": [
    "# Test cbioportal"
   ]
  },
  {
   "cell_type": "code",
   "execution_count": 32,
   "metadata": {},
   "outputs": [
    {
     "name": "stdout",
     "output_type": "stream",
     "text": [
      "[1] \"🚧​ work in progress 🚧​\"\n"
     ]
    }
   ],
   "source": [
    "utf8::utf8_print('\\U0001f6a7 work in progress \\U0001f6a7')"
   ]
  },
  {
   "cell_type": "markdown",
   "metadata": {},
   "source": [
    "```shell\n",
    "$ curl \"http://www.cbioportal.org/webservice.do?cmd=getClinicalData&case_set_id=msk_impact_2017_all\" --output cbioportal.txt```"
   ]
  },
  {
   "cell_type": "code",
   "execution_count": 21,
   "metadata": {},
   "outputs": [],
   "source": [
    "cbioportal <- read.table(\"../../../data/other_databases/cbioportal.txt\",\n",
    "                         sep = \"\\t\", stringsAsFactors = FALSE, header = TRUE, fill = TRUE)"
   ]
  },
  {
   "cell_type": "code",
   "execution_count": 22,
   "metadata": {
    "scrolled": false
   },
   "outputs": [
    {
     "data": {
      "text/html": [
       "<table>\n",
       "<thead><tr><th scope=col>CASE_ID</th><th scope=col>CANCER_TYPE</th><th scope=col>CANCER_TYPE_DETAILED</th><th scope=col>DNA_INPUT</th><th scope=col>MATCHED_STATUS</th><th scope=col>METASTATIC_SITE</th><th scope=col>ONCOTREE_CODE</th><th scope=col>OS_MONTHS</th><th scope=col>OS_STATUS</th><th scope=col>PRIMARY_SITE</th><th scope=col>SAMPLE_CLASS</th><th scope=col>SAMPLE_COLLECTION_SOURCE</th><th scope=col>SAMPLE_COVERAGE</th><th scope=col>SAMPLE_TYPE</th><th scope=col>SEX</th><th scope=col>SMOKING_HISTORY</th><th scope=col>SPECIMEN_PRESERVATION_TYPE</th><th scope=col>SPECIMEN_TYPE</th><th scope=col>TUMOR_PURITY</th><th scope=col>VITAL_STATUS</th></tr></thead>\n",
       "<tbody>\n",
       "\t<tr><td>P-0005947-T01-IM5                </td><td>Bladder Cancer                   </td><td>Upper Tract Urothelial Carcinoma </td><td>250                              </td><td>Matched                          </td><td>                                 </td><td>UTUC                             </td><td>19.00                            </td><td>LIVING                           </td><td>Upper Tract                      </td><td>Tumor                            </td><td>In-House                         </td><td> 648                             </td><td>Primary                          </td><td>Female                           </td><td>Unknown                          </td><td>DNA                              </td><td>Resection                        </td><td>80                               </td><td>ALIVE                            </td></tr>\n",
       "\t<tr><td>P-0009180-T01-IM5                </td><td>Melanoma                         </td><td>Cutaneous Melanoma               </td><td>250                              </td><td>Matched                          </td><td>Lymph Node, Regional             </td><td>SKCM                             </td><td>   NA                            </td><td>DECEASED                         </td><td>Skin                             </td><td>Tumor                            </td><td>In-House                         </td><td> 750                             </td><td>Metastasis                       </td><td>Female                           </td><td>Never                            </td><td>FFPE                             </td><td>Resection                        </td><td>10                               </td><td>DECEASED                         </td></tr>\n",
       "\t<tr><td>P-0008840-T01-IM5                </td><td>Non-Small Cell Lung Cancer       </td><td>Lung Adenocarcinoma              </td><td>250                              </td><td>Matched                          </td><td>Lymph Node                       </td><td>LUAD                             </td><td> 1.78                            </td><td>LIVING                           </td><td>Lung                             </td><td>Tumor                            </td><td>In-House                         </td><td> 978                             </td><td>Metastasis                       </td><td>Female                           </td><td>Prev/Curr Smoker                 </td><td>FFPE                             </td><td>Resection                        </td><td>30                               </td><td>ALIVE                            </td></tr>\n",
       "\t<tr><td>P-0009304-T01-IM5                </td><td>Glioma                           </td><td>Glioblastoma Multiforme          </td><td>250                              </td><td>Matched                          </td><td>                                 </td><td>GBM                              </td><td> 1.22                            </td><td>LIVING                           </td><td>Brain                            </td><td>Tumor                            </td><td>Outside                          </td><td>1124                             </td><td>Primary                          </td><td>Female                           </td><td>Unknown                          </td><td>FFPE                             </td><td>Biopsy                           </td><td>50                               </td><td>ALIVE                            </td></tr>\n",
       "\t<tr><td>P-0002010-T02-IM5                </td><td>Ovarian Cancer                   </td><td>Clear Cell Ovarian Cancer        </td><td>250                              </td><td>Matched                          </td><td>Liver                            </td><td>CCOV                             </td><td> 6.28                            </td><td>DECEASED                         </td><td>Ovary                            </td><td>Tumor                            </td><td>In-House                         </td><td> 862                             </td><td>Metastasis                       </td><td>Female                           </td><td>Never                            </td><td>FFPE                             </td><td>Resection                        </td><td>70                               </td><td>DECEASED                         </td></tr>\n",
       "\t<tr><td>P-0004434-T01-IM5                </td><td>Breast Cancer                    </td><td>Breast Invasive Lobular Carcinoma</td><td>250                              </td><td>Matched                          </td><td>Ipsilateral Breast               </td><td>ILC                              </td><td>17.85                            </td><td>LIVING                           </td><td>Breast                           </td><td>Tumor                            </td><td>Outside                          </td><td> 718                             </td><td>Metastasis                       </td><td>Female                           </td><td>Prev/Curr Smoker                 </td><td>DNA                              </td><td>Biopsy                           </td><td>50                               </td><td>ALIVE                            </td></tr>\n",
       "</tbody>\n",
       "</table>\n"
      ],
      "text/latex": [
       "\\begin{tabular}{r|llllllllllllllllllll}\n",
       " CASE\\_ID & CANCER\\_TYPE & CANCER\\_TYPE\\_DETAILED & DNA\\_INPUT & MATCHED\\_STATUS & METASTATIC\\_SITE & ONCOTREE\\_CODE & OS\\_MONTHS & OS\\_STATUS & PRIMARY\\_SITE & SAMPLE\\_CLASS & SAMPLE\\_COLLECTION\\_SOURCE & SAMPLE\\_COVERAGE & SAMPLE\\_TYPE & SEX & SMOKING\\_HISTORY & SPECIMEN\\_PRESERVATION\\_TYPE & SPECIMEN\\_TYPE & TUMOR\\_PURITY & VITAL\\_STATUS\\\\\n",
       "\\hline\n",
       "\t P-0005947-T01-IM5                 & Bladder Cancer                    & Upper Tract Urothelial Carcinoma  & 250                               & Matched                           &                                   & UTUC                              & 19.00                             & LIVING                            & Upper Tract                       & Tumor                             & In-House                          &  648                              & Primary                           & Female                            & Unknown                           & DNA                               & Resection                         & 80                                & ALIVE                            \\\\\n",
       "\t P-0009180-T01-IM5                 & Melanoma                          & Cutaneous Melanoma                & 250                               & Matched                           & Lymph Node, Regional              & SKCM                              &    NA                             & DECEASED                          & Skin                              & Tumor                             & In-House                          &  750                              & Metastasis                        & Female                            & Never                             & FFPE                              & Resection                         & 10                                & DECEASED                         \\\\\n",
       "\t P-0008840-T01-IM5                 & Non-Small Cell Lung Cancer        & Lung Adenocarcinoma               & 250                               & Matched                           & Lymph Node                        & LUAD                              &  1.78                             & LIVING                            & Lung                              & Tumor                             & In-House                          &  978                              & Metastasis                        & Female                            & Prev/Curr Smoker                  & FFPE                              & Resection                         & 30                                & ALIVE                            \\\\\n",
       "\t P-0009304-T01-IM5                 & Glioma                            & Glioblastoma Multiforme           & 250                               & Matched                           &                                   & GBM                               &  1.22                             & LIVING                            & Brain                             & Tumor                             & Outside                           & 1124                              & Primary                           & Female                            & Unknown                           & FFPE                              & Biopsy                            & 50                                & ALIVE                            \\\\\n",
       "\t P-0002010-T02-IM5                 & Ovarian Cancer                    & Clear Cell Ovarian Cancer         & 250                               & Matched                           & Liver                             & CCOV                              &  6.28                             & DECEASED                          & Ovary                             & Tumor                             & In-House                          &  862                              & Metastasis                        & Female                            & Never                             & FFPE                              & Resection                         & 70                                & DECEASED                         \\\\\n",
       "\t P-0004434-T01-IM5                 & Breast Cancer                     & Breast Invasive Lobular Carcinoma & 250                               & Matched                           & Ipsilateral Breast                & ILC                               & 17.85                             & LIVING                            & Breast                            & Tumor                             & Outside                           &  718                              & Metastasis                        & Female                            & Prev/Curr Smoker                  & DNA                               & Biopsy                            & 50                                & ALIVE                            \\\\\n",
       "\\end{tabular}\n"
      ],
      "text/markdown": [
       "\n",
       "CASE_ID | CANCER_TYPE | CANCER_TYPE_DETAILED | DNA_INPUT | MATCHED_STATUS | METASTATIC_SITE | ONCOTREE_CODE | OS_MONTHS | OS_STATUS | PRIMARY_SITE | SAMPLE_CLASS | SAMPLE_COLLECTION_SOURCE | SAMPLE_COVERAGE | SAMPLE_TYPE | SEX | SMOKING_HISTORY | SPECIMEN_PRESERVATION_TYPE | SPECIMEN_TYPE | TUMOR_PURITY | VITAL_STATUS | \n",
       "|---|---|---|---|---|---|\n",
       "| P-0005947-T01-IM5                 | Bladder Cancer                    | Upper Tract Urothelial Carcinoma  | 250                               | Matched                           |                                   | UTUC                              | 19.00                             | LIVING                            | Upper Tract                       | Tumor                             | In-House                          |  648                              | Primary                           | Female                            | Unknown                           | DNA                               | Resection                         | 80                                | ALIVE                             | \n",
       "| P-0009180-T01-IM5                 | Melanoma                          | Cutaneous Melanoma                | 250                               | Matched                           | Lymph Node, Regional              | SKCM                              |    NA                             | DECEASED                          | Skin                              | Tumor                             | In-House                          |  750                              | Metastasis                        | Female                            | Never                             | FFPE                              | Resection                         | 10                                | DECEASED                          | \n",
       "| P-0008840-T01-IM5                 | Non-Small Cell Lung Cancer        | Lung Adenocarcinoma               | 250                               | Matched                           | Lymph Node                        | LUAD                              |  1.78                             | LIVING                            | Lung                              | Tumor                             | In-House                          |  978                              | Metastasis                        | Female                            | Prev/Curr Smoker                  | FFPE                              | Resection                         | 30                                | ALIVE                             | \n",
       "| P-0009304-T01-IM5                 | Glioma                            | Glioblastoma Multiforme           | 250                               | Matched                           |                                   | GBM                               |  1.22                             | LIVING                            | Brain                             | Tumor                             | Outside                           | 1124                              | Primary                           | Female                            | Unknown                           | FFPE                              | Biopsy                            | 50                                | ALIVE                             | \n",
       "| P-0002010-T02-IM5                 | Ovarian Cancer                    | Clear Cell Ovarian Cancer         | 250                               | Matched                           | Liver                             | CCOV                              |  6.28                             | DECEASED                          | Ovary                             | Tumor                             | In-House                          |  862                              | Metastasis                        | Female                            | Never                             | FFPE                              | Resection                         | 70                                | DECEASED                          | \n",
       "| P-0004434-T01-IM5                 | Breast Cancer                     | Breast Invasive Lobular Carcinoma | 250                               | Matched                           | Ipsilateral Breast                | ILC                               | 17.85                             | LIVING                            | Breast                            | Tumor                             | Outside                           |  718                              | Metastasis                        | Female                            | Prev/Curr Smoker                  | DNA                               | Biopsy                            | 50                                | ALIVE                             | \n",
       "\n",
       "\n"
      ],
      "text/plain": [
       "  CASE_ID           CANCER_TYPE               \n",
       "1 P-0005947-T01-IM5 Bladder Cancer            \n",
       "2 P-0009180-T01-IM5 Melanoma                  \n",
       "3 P-0008840-T01-IM5 Non-Small Cell Lung Cancer\n",
       "4 P-0009304-T01-IM5 Glioma                    \n",
       "5 P-0002010-T02-IM5 Ovarian Cancer            \n",
       "6 P-0004434-T01-IM5 Breast Cancer             \n",
       "  CANCER_TYPE_DETAILED              DNA_INPUT MATCHED_STATUS\n",
       "1 Upper Tract Urothelial Carcinoma  250       Matched       \n",
       "2 Cutaneous Melanoma                250       Matched       \n",
       "3 Lung Adenocarcinoma               250       Matched       \n",
       "4 Glioblastoma Multiforme           250       Matched       \n",
       "5 Clear Cell Ovarian Cancer         250       Matched       \n",
       "6 Breast Invasive Lobular Carcinoma 250       Matched       \n",
       "  METASTATIC_SITE      ONCOTREE_CODE OS_MONTHS OS_STATUS PRIMARY_SITE\n",
       "1                      UTUC          19.00     LIVING    Upper Tract \n",
       "2 Lymph Node, Regional SKCM             NA     DECEASED  Skin        \n",
       "3 Lymph Node           LUAD           1.78     LIVING    Lung        \n",
       "4                      GBM            1.22     LIVING    Brain       \n",
       "5 Liver                CCOV           6.28     DECEASED  Ovary       \n",
       "6 Ipsilateral Breast   ILC           17.85     LIVING    Breast      \n",
       "  SAMPLE_CLASS SAMPLE_COLLECTION_SOURCE SAMPLE_COVERAGE SAMPLE_TYPE SEX   \n",
       "1 Tumor        In-House                  648            Primary     Female\n",
       "2 Tumor        In-House                  750            Metastasis  Female\n",
       "3 Tumor        In-House                  978            Metastasis  Female\n",
       "4 Tumor        Outside                  1124            Primary     Female\n",
       "5 Tumor        In-House                  862            Metastasis  Female\n",
       "6 Tumor        Outside                   718            Metastasis  Female\n",
       "  SMOKING_HISTORY  SPECIMEN_PRESERVATION_TYPE SPECIMEN_TYPE TUMOR_PURITY\n",
       "1 Unknown          DNA                        Resection     80          \n",
       "2 Never            FFPE                       Resection     10          \n",
       "3 Prev/Curr Smoker FFPE                       Resection     30          \n",
       "4 Unknown          FFPE                       Biopsy        50          \n",
       "5 Never            FFPE                       Resection     70          \n",
       "6 Prev/Curr Smoker DNA                        Biopsy        50          \n",
       "  VITAL_STATUS\n",
       "1 ALIVE       \n",
       "2 DECEASED    \n",
       "3 ALIVE       \n",
       "4 ALIVE       \n",
       "5 DECEASED    \n",
       "6 ALIVE       "
      ]
     },
     "metadata": {},
     "output_type": "display_data"
    }
   ],
   "source": [
    "head(cbioportal)"
   ]
  },
  {
   "cell_type": "code",
   "execution_count": 35,
   "metadata": {
    "scrolled": true
   },
   "outputs": [
    {
     "data": {
      "text/html": [
       "<table>\n",
       "<thead><tr><th scope=col>values</th><th scope=col>count</th><th scope=col>freq</th></tr></thead>\n",
       "<tbody>\n",
       "\t<tr><td>TRUE       </td><td>20040      </td><td>87.2%      </td></tr>\n",
       "\t<tr><td>FALSE      </td><td> 2950      </td><td>12.8%      </td></tr>\n",
       "\t<tr><td>-- total --</td><td>22990      </td><td>100%       </td></tr>\n",
       "</tbody>\n",
       "</table>\n"
      ],
      "text/latex": [
       "\\begin{tabular}{r|lll}\n",
       " values & count & freq\\\\\n",
       "\\hline\n",
       "\t TRUE        & 20040       & 87.2\\%    \\\\\n",
       "\t FALSE       &  2950       & 12.8\\%    \\\\\n",
       "\t -- total -- & 22990       & 100\\%     \\\\\n",
       "\\end{tabular}\n"
      ],
      "text/markdown": [
       "\n",
       "values | count | freq | \n",
       "|---|---|---|\n",
       "| TRUE        | 20040       | 87.2%       | \n",
       "| FALSE       |  2950       | 12.8%       | \n",
       "| -- total -- | 22990       | 100%        | \n",
       "\n",
       "\n"
      ],
      "text/plain": [
       "  values      count freq \n",
       "1 TRUE        20040 87.2%\n",
       "2 FALSE        2950 12.8%\n",
       "3 -- total -- 22990 100% "
      ]
     },
     "metadata": {},
     "output_type": "display_data"
    },
    {
     "data": {
      "text/html": [
       "<table>\n",
       "<thead><tr><th scope=col>values</th><th scope=col>count</th><th scope=col>freq</th></tr></thead>\n",
       "<tbody>\n",
       "\t<tr><td>FALSE      </td><td>16283      </td><td>70.8%      </td></tr>\n",
       "\t<tr><td>TRUE       </td><td> 6707      </td><td>29.2%      </td></tr>\n",
       "\t<tr><td>-- total --</td><td>22990      </td><td>100%       </td></tr>\n",
       "</tbody>\n",
       "</table>\n"
      ],
      "text/latex": [
       "\\begin{tabular}{r|lll}\n",
       " values & count & freq\\\\\n",
       "\\hline\n",
       "\t FALSE       & 16283       & 70.8\\%    \\\\\n",
       "\t TRUE        &  6707       & 29.2\\%    \\\\\n",
       "\t -- total -- & 22990       & 100\\%     \\\\\n",
       "\\end{tabular}\n"
      ],
      "text/markdown": [
       "\n",
       "values | count | freq | \n",
       "|---|---|---|\n",
       "| FALSE       | 16283       | 70.8%       | \n",
       "| TRUE        |  6707       | 29.2%       | \n",
       "| -- total -- | 22990       | 100%        | \n",
       "\n",
       "\n"
      ],
      "text/plain": [
       "  values      count freq \n",
       "1 FALSE       16283 70.8%\n",
       "2 TRUE         6707 29.2%\n",
       "3 -- total -- 22990 100% "
      ]
     },
     "metadata": {},
     "output_type": "display_data"
    },
    {
     "data": {
      "text/html": [
       "<table>\n",
       "<thead><tr><th scope=col>values</th><th scope=col>count</th><th scope=col>freq</th></tr></thead>\n",
       "<tbody>\n",
       "\t<tr><td>FALSE      </td><td>2064       </td><td>70%        </td></tr>\n",
       "\t<tr><td>TRUE       </td><td> 886       </td><td>30%        </td></tr>\n",
       "\t<tr><td>-- total --</td><td>2950       </td><td>100%       </td></tr>\n",
       "</tbody>\n",
       "</table>\n"
      ],
      "text/latex": [
       "\\begin{tabular}{r|lll}\n",
       " values & count & freq\\\\\n",
       "\\hline\n",
       "\t FALSE       & 2064        & 70\\%      \\\\\n",
       "\t TRUE        &  886        & 30\\%      \\\\\n",
       "\t -- total -- & 2950        & 100\\%     \\\\\n",
       "\\end{tabular}\n"
      ],
      "text/markdown": [
       "\n",
       "values | count | freq | \n",
       "|---|---|---|\n",
       "| FALSE       | 2064        | 70%         | \n",
       "| TRUE        |  886        | 30%         | \n",
       "| -- total -- | 2950        | 100%        | \n",
       "\n",
       "\n"
      ],
      "text/plain": [
       "  values      count freq\n",
       "1 FALSE       2064  70% \n",
       "2 TRUE         886  30% \n",
       "3 -- total -- 2950  100%"
      ]
     },
     "metadata": {},
     "output_type": "display_data"
    }
   ],
   "source": [
    "get_table(unique(impact$Tumor_Sample_Barcode) %in% keys$Tumor_Sample_Barcode)\n",
    "get_table(unique(impact$Tumor_Sample_Barcode) %in% cbioportal$CASE_ID)\n",
    "\n",
    "unmatched_keys <- impact[! impact$Tumor_Sample_Barcode %in% keys$Tumor_Sample_Barcode,]\n",
    "unmatched_cbio <- impact[! impact$Tumor_Sample_Barcode %in% cbioportal$CASE_ID,]\n",
    "\n",
    "get_table(unique(unmatched_keys$Tumor_Sample_Barcode) %in% cbioportal$CASE_ID)"
   ]
  }
 ],
 "metadata": {
  "kernelspec": {
   "display_name": "R",
   "language": "R",
   "name": "ir"
  },
  "language_info": {
   "codemirror_mode": "r",
   "file_extension": ".r",
   "mimetype": "text/x-r-source",
   "name": "R",
   "pygments_lexer": "r",
   "version": "3.5.0"
  }
 },
 "nbformat": 4,
 "nbformat_minor": 2
}
