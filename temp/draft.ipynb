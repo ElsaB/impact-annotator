{
 "cells": [
  {
   "cell_type": "code",
   "execution_count": 1,
   "metadata": {},
   "outputs": [],
   "source": [
    "source(\"../src/utils/custom_tools.R\")\n",
    "setup_environment(\"../src/utils\")"
   ]
  },
  {
   "cell_type": "code",
   "execution_count": 2,
   "metadata": {},
   "outputs": [],
   "source": [
    "impact <- read.table(\"../data/final_IMPACT_mutations_180508.txt\",\n",
    "                     sep = \"\\t\", stringsAsFactors = FALSE, header = TRUE)"
   ]
  },
  {
   "cell_type": "markdown",
   "metadata": {},
   "source": [
    "## Compare with the old impact"
   ]
  },
  {
   "cell_type": "markdown",
   "metadata": {},
   "source": [
    "* `impact` and `impact_old` share 193320 mutations in common\n",
    "* 891 mutations in `impact` only\n",
    "* 4595 mutations in `impact_old` only"
   ]
  },
  {
   "cell_type": "code",
   "execution_count": null,
   "metadata": {},
   "outputs": [],
   "source": [
    "impact_old <- read.table(\"../data/cleaned_IMPACT_mutations_180508.txt\", sep = \"\\t\", stringsAsFactors = FALSE, header = TRUE)\n",
    "impact_old <- add_features(\"../data/\", impact_old, annotations = TRUE, oncokb = TRUE, gene_type = TRUE)\n",
    "impact_old <- impact_old[! impact_old$confidence_class %in% c(\"UNKNOWN\", \"OK_NOT_SO\"),]"
   ]
  },
  {
   "cell_type": "code",
   "execution_count": null,
   "metadata": {},
   "outputs": [],
   "source": [
    "get_table(impact$sample_mut_key %in% impact_old$sample_mut_key)"
   ]
  },
  {
   "cell_type": "code",
   "execution_count": null,
   "metadata": {},
   "outputs": [],
   "source": [
    "get_table(impact_old$sample_mut_key %in% impact$sample_mut_key)"
   ]
  },
  {
   "cell_type": "code",
   "execution_count": null,
   "metadata": {},
   "outputs": [],
   "source": [
    "cbind(get_table(impact_old$oncogenic), \" | \", get_table(impact$oncogenic))"
   ]
  },
  {
   "cell_type": "code",
   "execution_count": null,
   "metadata": {},
   "outputs": [],
   "source": [
    "impact_old <- left_join(impact_old, impact[, c(\"sample_mut_key\", \"oncogenic\", \"VEP_Consequence\")],\n",
    "                              by = c(\"sample_mut_key\" = \"sample_mut_key\"))\n",
    "colnames(impact_old)[colnames(impact_old) == \"oncogenic.x\"] <- \"oncogenic\"\n",
    "colnames(impact_old)[colnames(impact_old) == \"oncogenic.y\"] <- \"oncogenic_new\""
   ]
  },
  {
   "cell_type": "code",
   "execution_count": null,
   "metadata": {},
   "outputs": [],
   "source": [
    "plot_contingency_table_as_histograms(impact_old, \"oncogenic\", \"oncogenic_new\")"
   ]
  },
  {
   "cell_type": "code",
   "execution_count": null,
   "metadata": {},
   "outputs": [],
   "source": [
    "get_table(impact_old$Consequence[impact_old$oncogenic == \"Likely Oncogenic\" & impact_old$oncogenic_new == \"Unknown\"])"
   ]
  },
  {
   "cell_type": "code",
   "execution_count": null,
   "metadata": {},
   "outputs": [],
   "source": [
    "get_table(impact_old$VEP_Consequence[impact_old$oncogenic == \"Likely Oncogenic\" & impact_old$oncogenic_new == \"Unknown\"])"
   ]
  },
  {
   "cell_type": "code",
   "execution_count": null,
   "metadata": {},
   "outputs": [],
   "source": [
    "get_table(impact$oncogenic[impact$VEP_Consequence == \"frameshift_variant\"])"
   ]
  },
  {
   "cell_type": "code",
   "execution_count": null,
   "metadata": {},
   "outputs": [],
   "source": [
    "get_table(impact_old$oncogenic[impact_old$Consequence %in% c(\"frameshift_insertion\", \"frameshift_deletion\")])"
   ]
  },
  {
   "cell_type": "code",
   "execution_count": null,
   "metadata": {},
   "outputs": [],
   "source": []
  }
 ],
 "metadata": {
  "kernelspec": {
   "display_name": "R",
   "language": "R",
   "name": "ir"
  },
  "language_info": {
   "codemirror_mode": "r",
   "file_extension": ".r",
   "mimetype": "text/x-r-source",
   "name": "R",
   "pygments_lexer": "r",
   "version": "3.5.1"
  }
 },
 "nbformat": 4,
 "nbformat_minor": 2
}
